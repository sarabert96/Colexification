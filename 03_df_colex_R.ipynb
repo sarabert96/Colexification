{
  "nbformat": 4,
  "nbformat_minor": 0,
  "metadata": {
    "colab": {
      "name": "03_df_colex_R.ipynb",
      "provenance": [],
      "toc_visible": true,
      "authorship_tag": "ABX9TyOkdNzI0GStsEFC1uxgApU4",
      "include_colab_link": true
    },
    "kernelspec": {
      "name": "python3",
      "display_name": "Python 3"
    }
  },
  "cells": [
    {
      "cell_type": "markdown",
      "metadata": {
        "id": "view-in-github",
        "colab_type": "text"
      },
      "source": [
        "<a href=\"https://colab.research.google.com/github/sarabert96/Colexification/blob/main/03_df_colex_R.ipynb\" target=\"_parent\"><img src=\"https://colab.research.google.com/assets/colab-badge.svg\" alt=\"Open In Colab\"/></a>"
      ]
    },
    {
      "cell_type": "markdown",
      "metadata": {
        "id": "M7ri9wcCbFc9"
      },
      "source": [
        "# Colexification Data Frame"
      ]
    },
    {
      "cell_type": "markdown",
      "metadata": {
        "id": "3xhmSmIzJrjz"
      },
      "source": [
        "NOTE: this file is in both python and R.\r\n",
        "\r\n",
        "\r\n",
        "To sun R code on colab execute the following line and in every cell remember to write %%R ath the beginning"
      ]
    },
    {
      "cell_type": "code",
      "metadata": {
        "colab": {
          "base_uri": "https://localhost:8080/"
        },
        "id": "eDs-77FkNoZQ",
        "outputId": "7bebef68-6266-4f98-e37b-e0e13ae4ee25"
      },
      "source": [
        "%load_ext rpy2.ipython"
      ],
      "execution_count": 1,
      "outputs": [
        {
          "output_type": "stream",
          "text": [
            "/usr/local/lib/python3.6/dist-packages/rpy2/robjects/pandas2ri.py:14: FutureWarning: pandas.core.index is deprecated and will be removed in a future version.  The public classes are available in the top-level namespace.\n",
            "  from pandas.core.index import Index as PandasIndex\n",
            "/usr/local/lib/python3.6/dist-packages/rpy2/robjects/pandas2ri.py:34: UserWarning: pandas >= 1.0 is not supported.\n",
            "  warnings.warn('pandas >= 1.0 is not supported.')\n"
          ],
          "name": "stderr"
        }
      ]
    },
    {
      "cell_type": "code",
      "metadata": {
        "id": "U3QxAKi2NprN"
      },
      "source": [
        "import pandas as pd"
      ],
      "execution_count": 2,
      "outputs": []
    },
    {
      "cell_type": "markdown",
      "metadata": {
        "id": "R-jgl23xKGK_"
      },
      "source": [
        "We take the cleaned dataframe from Drive"
      ]
    },
    {
      "cell_type": "code",
      "metadata": {
        "colab": {
          "base_uri": "https://localhost:8080/"
        },
        "id": "9ujQyeHfMGSb",
        "outputId": "bdaa7710-efc0-4f41-8a06-d5ecaf8a3a98"
      },
      "source": [
        "!gdown --id 1_GDl0q3hcE-jIAp3jZ0k7WdZqMBl4Blp #df_all_ok"
      ],
      "execution_count": 3,
      "outputs": [
        {
          "output_type": "stream",
          "text": [
            "Downloading...\n",
            "From: https://drive.google.com/uc?id=1_GDl0q3hcE-jIAp3jZ0k7WdZqMBl4Blp\n",
            "To: /content/df_all_ok.csv\n",
            "252MB [00:04, 55.9MB/s]\n"
          ],
          "name": "stdout"
        }
      ]
    },
    {
      "cell_type": "code",
      "metadata": {
        "colab": {
          "base_uri": "https://localhost:8080/"
        },
        "id": "KnbfSK2-LE15",
        "outputId": "4b0f8eee-b2db-4218-db10-7cddb0da2034"
      },
      "source": [
        "%%R # to run R on colab\r\n",
        "#This script creates a data frame of colexifications \r\n",
        "\r\n",
        "library(dplyr)\r\n",
        "library(readr)\r\n",
        "library(tidyr)\r\n",
        "\r\n",
        "\r\n",
        "if (!file.exists(\"df_colexifications.csv\")){ #if the file doesnt exist: compute it\r\n",
        "  df <- read_csv('df_all_ok.csv') # cleaned CLICS file\r\n",
        "  d_colex <- df %>%\r\n",
        "    select(clics_form,Concepticon_ID,Glottocode,Concepticon_Gloss,Family,variety) %>%\r\n",
        "    drop_na() %>%\r\n",
        "    unique()\r\n",
        "    print('d_colex is now created selecting only relevant columns')\r\n",
        "    print('first line of d_colex:')\r\n",
        "    print(head(d_colex, 1))\r\n",
        "    print(paste('number of rows is: ', nrow(d_colex)))\r\n",
        "\r\n",
        "  dd <- inner_join(d_colex,d_colex,by=c(\"clics_form\",\"Glottocode\",\"Family\",\"variety\")) %>% \r\n",
        "    filter(Concepticon_ID.x != Concepticon_ID.y) %>% # find rows/cases where conditions are true\r\n",
        "    unique() # remove duplicates\r\n",
        "  d_colex <- dd[!duplicated(lapply(as.data.frame(t(dd), stringsAsFactors=FALSE), sort)),]  \r\n",
        "  # remove rows where Concepticon_ID1 and Concepticon_ID2 are permutations of each other \r\n",
        "  print('d_colex is now finalized')\r\n",
        "  print('first line of new d_colex:')\r\n",
        "  print(head(d_colex, 1))\r\n",
        "  print(paste('number of rows is: ', nrow(d_colex)))\r\n",
        "\r\n",
        "  write_csv(d_colex,'df_colexifications.csv')\r\n",
        "} else { #if it exists: load it\r\n",
        " print('Loading pre-processed colexification df')\r\n",
        "  d_colex <- read_csv('df_colexifications.csv')\r\n",
        "}"
      ],
      "execution_count": 4,
      "outputs": [
        {
          "output_type": "stream",
          "text": [
            "R[write to console]: \n",
            "Attaching package: ‘dplyr’\n",
            "\n",
            "\n",
            "R[write to console]: The following objects are masked from ‘package:stats’:\n",
            "\n",
            "    filter, lag\n",
            "\n",
            "\n",
            "R[write to console]: The following objects are masked from ‘package:base’:\n",
            "\n",
            "    intersect, setdiff, setequal, union\n",
            "\n",
            "\n",
            "R[write to console]: \n",
            "── Column specification ────────────────────────────────────────────────────────\n",
            "cols(\n",
            "  .default = col_character(),\n",
            "  X1 = col_double(),\n",
            "  Concepticon_ID = col_double(),\n",
            "  Latitude = col_double(),\n",
            "  Longitude = col_double(),\n",
            "  AGE_OF_ACQUISITION = col_double(),\n",
            "  CONCRETENESS = col_double(),\n",
            "  FAMILIARITY = col_double(),\n",
            "  IMAGABILITY = col_double(),\n",
            "  KUCERA_FRANCIS_FREQUENCY = col_double()\n",
            ")\n",
            "ℹ Use `spec()` for the full column specifications.\n",
            "\n",
            "\n"
          ],
          "name": "stderr"
        },
        {
          "output_type": "stream",
          "text": [
            "[1] \"d_colex is now created selecting only relevant columns\"\n",
            "[1] \"first line of d_colex:\"\n",
            "# A tibble: 1 x 6\n",
            "  clics_form Concepticon_ID Glottocode Concepticon_Gloss Family      variety    \n",
            "  <chr>               <dbl> <chr>      <chr>             <chr>       <chr>      \n",
            "1 san                  1369 bich1234   GOLD              Sino-Tibet… Bugun Bich…\n",
            "[1] \"number of rows is:  1179368\"\n",
            "[1] \"d_colex is now finalized\"\n",
            "[1] \"first line of new d_colex:\"\n",
            "# A tibble: 1 x 8\n",
            "  clics_form Concepticon_ID.x Glottocode Concepticon_Glo… Family variety\n",
            "  <chr>                 <dbl> <chr>      <chr>            <chr>  <chr>  \n",
            "1 s@                     1369 hrus1242   GOLD             Hruso  Hruso …\n",
            "# … with 2 more variables: Concepticon_ID.y <dbl>, Concepticon_Gloss.y <chr>\n",
            "[1] \"number of rows is:  132579\"\n"
          ],
          "name": "stdout"
        }
      ]
    },
    {
      "cell_type": "code",
      "metadata": {
        "id": "E0fZo99NZobK"
      },
      "source": [
        "df_colex = pd.read_csv('df_colexifications.csv')"
      ],
      "execution_count": 5,
      "outputs": []
    },
    {
      "cell_type": "code",
      "metadata": {
        "colab": {
          "base_uri": "https://localhost:8080/",
          "height": 419
        },
        "id": "5m7Mom5tZzaZ",
        "outputId": "f88e2fbc-2143-4e0e-81bd-6bc8d83db308"
      },
      "source": [
        "df_colex"
      ],
      "execution_count": 6,
      "outputs": [
        {
          "output_type": "execute_result",
          "data": {
            "text/html": [
              "<div>\n",
              "<style scoped>\n",
              "    .dataframe tbody tr th:only-of-type {\n",
              "        vertical-align: middle;\n",
              "    }\n",
              "\n",
              "    .dataframe tbody tr th {\n",
              "        vertical-align: top;\n",
              "    }\n",
              "\n",
              "    .dataframe thead th {\n",
              "        text-align: right;\n",
              "    }\n",
              "</style>\n",
              "<table border=\"1\" class=\"dataframe\">\n",
              "  <thead>\n",
              "    <tr style=\"text-align: right;\">\n",
              "      <th></th>\n",
              "      <th>clics_form</th>\n",
              "      <th>Concepticon_ID.x</th>\n",
              "      <th>Glottocode</th>\n",
              "      <th>Concepticon_Gloss.x</th>\n",
              "      <th>Family</th>\n",
              "      <th>variety</th>\n",
              "      <th>Concepticon_ID.y</th>\n",
              "      <th>Concepticon_Gloss.y</th>\n",
              "    </tr>\n",
              "  </thead>\n",
              "  <tbody>\n",
              "    <tr>\n",
              "      <th>0</th>\n",
              "      <td>s@</td>\n",
              "      <td>1369</td>\n",
              "      <td>hrus1242</td>\n",
              "      <td>GOLD</td>\n",
              "      <td>Hruso</td>\n",
              "      <td>Hruso Aka Jamiri</td>\n",
              "      <td>1927</td>\n",
              "      <td>BAMBOO</td>\n",
              "    </tr>\n",
              "    <tr>\n",
              "      <th>1</th>\n",
              "      <td>s@</td>\n",
              "      <td>1369</td>\n",
              "      <td>hrus1242</td>\n",
              "      <td>GOLD</td>\n",
              "      <td>Hruso</td>\n",
              "      <td>Hruso Aka Jamiri</td>\n",
              "      <td>946</td>\n",
              "      <td>BLOOD</td>\n",
              "    </tr>\n",
              "    <tr>\n",
              "      <th>2</th>\n",
              "      <td>avir@</td>\n",
              "      <td>1035</td>\n",
              "      <td>miji1239</td>\n",
              "      <td>GOOD</td>\n",
              "      <td>Sino-Tibetan</td>\n",
              "      <td>Dammai Dibin</td>\n",
              "      <td>923</td>\n",
              "      <td>LOVE</td>\n",
              "    </tr>\n",
              "    <tr>\n",
              "      <th>3</th>\n",
              "      <td>dzju</td>\n",
              "      <td>1425</td>\n",
              "      <td>hrus1242</td>\n",
              "      <td>GREEN</td>\n",
              "      <td>Hruso</td>\n",
              "      <td>Hruso Aka Jamiri</td>\n",
              "      <td>1424</td>\n",
              "      <td>YELLOW</td>\n",
              "    </tr>\n",
              "    <tr>\n",
              "      <th>4</th>\n",
              "      <td>lah</td>\n",
              "      <td>1277</td>\n",
              "      <td>dakp1242</td>\n",
              "      <td>HAND</td>\n",
              "      <td>Sino-Tibetan</td>\n",
              "      <td>Monpa Changprong</td>\n",
              "      <td>639</td>\n",
              "      <td>MOUNTAIN</td>\n",
              "    </tr>\n",
              "    <tr>\n",
              "      <th>...</th>\n",
              "      <td>...</td>\n",
              "      <td>...</td>\n",
              "      <td>...</td>\n",
              "      <td>...</td>\n",
              "      <td>...</td>\n",
              "      <td>...</td>\n",
              "      <td>...</td>\n",
              "      <td>...</td>\n",
              "    </tr>\n",
              "    <tr>\n",
              "      <th>132574</th>\n",
              "      <td>eni</td>\n",
              "      <td>763</td>\n",
              "      <td>gira1247</td>\n",
              "      <td>SKIN</td>\n",
              "      <td>Nuclear Trans New Guinea</td>\n",
              "      <td>girawa</td>\n",
              "      <td>1405</td>\n",
              "      <td>NAME</td>\n",
              "    </tr>\n",
              "    <tr>\n",
              "      <th>132575</th>\n",
              "      <td>wus</td>\n",
              "      <td>763</td>\n",
              "      <td>payn1244</td>\n",
              "      <td>SKIN</td>\n",
              "      <td>Nuclear Trans New Guinea</td>\n",
              "      <td>paynamar</td>\n",
              "      <td>51</td>\n",
              "      <td>SORE</td>\n",
              "    </tr>\n",
              "    <tr>\n",
              "      <th>132576</th>\n",
              "      <td>mping</td>\n",
              "      <td>2458</td>\n",
              "      <td>nend1239</td>\n",
              "      <td>PERSPIRE OR SWEAT</td>\n",
              "      <td>Nuclear Trans New Guinea</td>\n",
              "      <td>nend</td>\n",
              "      <td>1257</td>\n",
              "      <td>WING</td>\n",
              "    </tr>\n",
              "    <tr>\n",
              "      <th>132577</th>\n",
              "      <td>su</td>\n",
              "      <td>51</td>\n",
              "      <td>kein1239</td>\n",
              "      <td>SORE</td>\n",
              "      <td>Nuclear Trans New Guinea</td>\n",
              "      <td>kein</td>\n",
              "      <td>1257</td>\n",
              "      <td>WING</td>\n",
              "    </tr>\n",
              "    <tr>\n",
              "      <th>132578</th>\n",
              "      <td>kuji</td>\n",
              "      <td>1222</td>\n",
              "      <td>jili1241</td>\n",
              "      <td>PENIS</td>\n",
              "      <td>Nuclear Trans New Guinea</td>\n",
              "      <td>jilim</td>\n",
              "      <td>1837</td>\n",
              "      <td>VULVA</td>\n",
              "    </tr>\n",
              "  </tbody>\n",
              "</table>\n",
              "<p>132579 rows × 8 columns</p>\n",
              "</div>"
            ],
            "text/plain": [
              "       clics_form  Concepticon_ID.x  ... Concepticon_ID.y Concepticon_Gloss.y\n",
              "0              s@              1369  ...             1927              BAMBOO\n",
              "1              s@              1369  ...              946               BLOOD\n",
              "2           avir@              1035  ...              923                LOVE\n",
              "3            dzju              1425  ...             1424              YELLOW\n",
              "4             lah              1277  ...              639            MOUNTAIN\n",
              "...           ...               ...  ...              ...                 ...\n",
              "132574        eni               763  ...             1405                NAME\n",
              "132575        wus               763  ...               51                SORE\n",
              "132576      mping              2458  ...             1257                WING\n",
              "132577         su                51  ...             1257                WING\n",
              "132578       kuji              1222  ...             1837               VULVA\n",
              "\n",
              "[132579 rows x 8 columns]"
            ]
          },
          "metadata": {
            "tags": []
          },
          "execution_count": 6
        }
      ]
    },
    {
      "cell_type": "markdown",
      "metadata": {
        "id": "4eNCajNN5Hd7"
      },
      "source": [
        "To save dataframe:"
      ]
    },
    {
      "cell_type": "code",
      "metadata": {
        "colab": {
          "base_uri": "https://localhost:8080/",
          "height": 17
        },
        "id": "uY6rSZC7LqjP",
        "outputId": "eea01bb4-9292-44e9-ac3d-2059c95ddc24"
      },
      "source": [
        "from google.colab import files\r\n",
        "\r\n",
        "files.download('df_colexifications.csv')"
      ],
      "execution_count": 7,
      "outputs": [
        {
          "output_type": "display_data",
          "data": {
            "application/javascript": [
              "\n",
              "    async function download(id, filename, size) {\n",
              "      if (!google.colab.kernel.accessAllowed) {\n",
              "        return;\n",
              "      }\n",
              "      const div = document.createElement('div');\n",
              "      const label = document.createElement('label');\n",
              "      label.textContent = `Downloading \"${filename}\": `;\n",
              "      div.appendChild(label);\n",
              "      const progress = document.createElement('progress');\n",
              "      progress.max = size;\n",
              "      div.appendChild(progress);\n",
              "      document.body.appendChild(div);\n",
              "\n",
              "      const buffers = [];\n",
              "      let downloaded = 0;\n",
              "\n",
              "      const channel = await google.colab.kernel.comms.open(id);\n",
              "      // Send a message to notify the kernel that we're ready.\n",
              "      channel.send({})\n",
              "\n",
              "      for await (const message of channel.messages) {\n",
              "        // Send a message to notify the kernel that we're ready.\n",
              "        channel.send({})\n",
              "        if (message.buffers) {\n",
              "          for (const buffer of message.buffers) {\n",
              "            buffers.push(buffer);\n",
              "            downloaded += buffer.byteLength;\n",
              "            progress.value = downloaded;\n",
              "          }\n",
              "        }\n",
              "      }\n",
              "      const blob = new Blob(buffers, {type: 'application/binary'});\n",
              "      const a = document.createElement('a');\n",
              "      a.href = window.URL.createObjectURL(blob);\n",
              "      a.download = filename;\n",
              "      div.appendChild(a);\n",
              "      a.click();\n",
              "      div.remove();\n",
              "    }\n",
              "  "
            ],
            "text/plain": [
              "<IPython.core.display.Javascript object>"
            ]
          },
          "metadata": {
            "tags": []
          }
        },
        {
          "output_type": "display_data",
          "data": {
            "application/javascript": [
              "download(\"download_d75cc011-7056-4e2d-9fc8-6d8f033601c4\", \"df_colexifications.csv\", 8148917)"
            ],
            "text/plain": [
              "<IPython.core.display.Javascript object>"
            ]
          },
          "metadata": {
            "tags": []
          }
        }
      ]
    }
  ]
}