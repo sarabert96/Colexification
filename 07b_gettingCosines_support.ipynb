{
  "nbformat": 4,
  "nbformat_minor": 0,
  "metadata": {
    "colab": {
      "name": "07b_gettingCosines_support.ipynb",
      "provenance": [],
      "authorship_tag": "ABX9TyMbaO/9cOYeR7s0oTFs5Zoy",
      "include_colab_link": true
    },
    "kernelspec": {
      "name": "python3",
      "display_name": "Python 3"
    }
  },
  "cells": [
    {
      "cell_type": "markdown",
      "metadata": {
        "id": "view-in-github",
        "colab_type": "text"
      },
      "source": [
        "<a href=\"https://colab.research.google.com/github/sarabert96/Colexification/blob/main/07b_gettingCosines_support.ipynb\" target=\"_parent\"><img src=\"https://colab.research.google.com/assets/colab-badge.svg\" alt=\"Open In Colab\"/></a>"
      ]
    },
    {
      "cell_type": "markdown",
      "metadata": {
        "id": "GphjTdOseqgT"
      },
      "source": [
        "The file, following the base of 05_gettingCosines, serves as a support for the Logistic Regression file (07), calculating the cosines values."
      ]
    },
    {
      "cell_type": "code",
      "metadata": {
        "id": "0yyW77B8LySZ",
        "colab": {
          "base_uri": "https://localhost:8080/"
        },
        "outputId": "1c6322d1-20de-4048-b5da-aa58fe1a5fb3"
      },
      "source": [
        "pip install fasttext"
      ],
      "execution_count": null,
      "outputs": [
        {
          "output_type": "stream",
          "text": [
            "Collecting fasttext\n",
            "\u001b[?25l  Downloading https://files.pythonhosted.org/packages/f8/85/e2b368ab6d3528827b147fdb814f8189acc981a4bc2f99ab894650e05c40/fasttext-0.9.2.tar.gz (68kB)\n",
            "\r\u001b[K     |████▊                           | 10kB 11.7MB/s eta 0:00:01\r\u001b[K     |█████████▌                      | 20kB 15.8MB/s eta 0:00:01\r\u001b[K     |██████████████▎                 | 30kB 18.2MB/s eta 0:00:01\r\u001b[K     |███████████████████             | 40kB 20.5MB/s eta 0:00:01\r\u001b[K     |███████████████████████▉        | 51kB 22.0MB/s eta 0:00:01\r\u001b[K     |████████████████████████████▋   | 61kB 14.5MB/s eta 0:00:01\r\u001b[K     |████████████████████████████████| 71kB 3.8MB/s \n",
            "\u001b[?25hRequirement already satisfied: pybind11>=2.2 in /usr/local/lib/python3.7/dist-packages (from fasttext) (2.6.2)\n",
            "Requirement already satisfied: setuptools>=0.7.0 in /usr/local/lib/python3.7/dist-packages (from fasttext) (54.1.2)\n",
            "Requirement already satisfied: numpy in /usr/local/lib/python3.7/dist-packages (from fasttext) (1.19.5)\n",
            "Building wheels for collected packages: fasttext\n",
            "  Building wheel for fasttext (setup.py) ... \u001b[?25l\u001b[?25hdone\n",
            "  Created wheel for fasttext: filename=fasttext-0.9.2-cp37-cp37m-linux_x86_64.whl size=3097866 sha256=7d3638bbab4b9016a129776612dd61e1dced609bc4cd03463238d4256535e5dd\n",
            "  Stored in directory: /root/.cache/pip/wheels/98/ba/7f/b154944a1cf5a8cee91c154b75231136cc3a3321ab0e30f592\n",
            "Successfully built fasttext\n",
            "Installing collected packages: fasttext\n",
            "Successfully installed fasttext-0.9.2\n"
          ],
          "name": "stdout"
        }
      ]
    },
    {
      "cell_type": "code",
      "metadata": {
        "id": "ly3jbzhqL6Mq"
      },
      "source": [
        "import fasttext.util\n",
        "from google.colab import files"
      ],
      "execution_count": null,
      "outputs": []
    },
    {
      "cell_type": "code",
      "metadata": {
        "id": "0Hz-iXpyL_e0",
        "colab": {
          "base_uri": "https://localhost:8080/"
        },
        "outputId": "8399298e-e967-4e6f-cba6-7b026d4f6bd6"
      },
      "source": [
        "fasttext.util.download_model('en', if_exists='ignore')  # English\n",
        "ft = fasttext.load_model('cc.en.300.bin')"
      ],
      "execution_count": null,
      "outputs": [
        {
          "output_type": "stream",
          "text": [
            "Downloading https://dl.fbaipublicfiles.com/fasttext/vectors-crawl/cc.en.300.bin.gz\n",
            "\n"
          ],
          "name": "stdout"
        },
        {
          "output_type": "stream",
          "text": [
            "Warning : `load_model` does not return WordVectorModel or SupervisedModel any more, but a `FastText` object which is very similar.\n"
          ],
          "name": "stderr"
        }
      ]
    },
    {
      "cell_type": "code",
      "metadata": {
        "id": "vvBAlRPwQp0D"
      },
      "source": [
        "import pandas as pd\n",
        "import numpy as np"
      ],
      "execution_count": null,
      "outputs": []
    },
    {
      "cell_type": "code",
      "metadata": {
        "id": "VmZvxsBzNqPv"
      },
      "source": [
        "df = pd.read_csv('df_supp.csv') # change name depending on df"
      ],
      "execution_count": null,
      "outputs": []
    },
    {
      "cell_type": "code",
      "metadata": {
        "id": "NHEfoS72NxNa"
      },
      "source": [
        "import itertools\n",
        "\n",
        "def cos_sim(a, b):\n",
        "\t\"\"\"Takes 2 vectors a, b and returns the cosine similarity according \n",
        "\tto the definition of the dot product\n",
        "\t\"\"\"\n",
        "\tdot_product = np.dot(a, b)\n",
        "\tnorm_a = np.linalg.norm(a)\n",
        "\tnorm_b = np.linalg.norm(b)\n",
        "\treturn dot_product / (norm_a * norm_b)\n",
        "\n",
        "\n",
        "# function to write in file\n",
        "def log(w):\n",
        "  with open('oov_log.txt', 'a+') as file:\n",
        "    file.write(w)\n",
        "\n",
        "\n",
        "# function to handle oov word exception\n",
        "def trySimilarity(w1, w2, default, model):\n",
        "  # calculate cosine similarity between two vectors if those exists in the model, else return default --> makes sense? ft deals with OOV\n",
        "  try:\n",
        "    v1 = model.get_sentence_vector(w1)\n",
        "  except:\n",
        "    log(w1)\n",
        "    return default\n",
        "  try:\n",
        "    v2 = model.get_sentence_vector(w2)\n",
        "  except:\n",
        "    log(w2)\n",
        "    return default\n",
        "  return cos_sim(v1, v2)\n",
        "\n",
        "\n",
        "def add_cosine_sim(df,col1,col2,ft_model):\n",
        "  \"\"\"\n",
        "  Enriches dataframe with cosine similarity\n",
        "  Input: a dataframe, two column names, and a fastText mdodel\n",
        "  Output: The inputted dataframe with a new column with cosine similarities\n",
        "  \"\"\"\n",
        "\n",
        "  #query the model and if there is an oov word write that word to oov_log.txt and move to the next word\n",
        "\n",
        "  #add column with cosine sims row-wise\n",
        "\n",
        "  df['Cosine'] = df.apply(lambda row: trySimilarity(row[col1], row[col2], 0, ft_model), axis=1) \n",
        "\n",
        "  return df"
      ],
      "execution_count": null,
      "outputs": []
    },
    {
      "cell_type": "code",
      "metadata": {
        "colab": {
          "base_uri": "https://localhost:8080/",
          "height": 111
        },
        "id": "Fv4CEzDRRQRX",
        "outputId": "05db1708-30b9-42b1-bd54-a8fec8a0528f"
      },
      "source": [
        "df.head(2)"
      ],
      "execution_count": null,
      "outputs": [
        {
          "output_type": "execute_result",
          "data": {
            "text/html": [
              "<div>\n",
              "<style scoped>\n",
              "    .dataframe tbody tr th:only-of-type {\n",
              "        vertical-align: middle;\n",
              "    }\n",
              "\n",
              "    .dataframe tbody tr th {\n",
              "        vertical-align: top;\n",
              "    }\n",
              "\n",
              "    .dataframe thead th {\n",
              "        text-align: right;\n",
              "    }\n",
              "</style>\n",
              "<table border=\"1\" class=\"dataframe\">\n",
              "  <thead>\n",
              "    <tr style=\"text-align: right;\">\n",
              "      <th></th>\n",
              "      <th>Colex_pair</th>\n",
              "      <th>Prob</th>\n",
              "      <th>Colex1</th>\n",
              "      <th>Colex2</th>\n",
              "      <th>Colex_bool</th>\n",
              "    </tr>\n",
              "  </thead>\n",
              "  <tbody>\n",
              "    <tr>\n",
              "      <th>0</th>\n",
              "      <td>('chew', 'ring')</td>\n",
              "      <td>0.000016</td>\n",
              "      <td>chew</td>\n",
              "      <td>ring</td>\n",
              "      <td>0</td>\n",
              "    </tr>\n",
              "    <tr>\n",
              "      <th>1</th>\n",
              "      <td>('wages', 'chop')</td>\n",
              "      <td>0.000016</td>\n",
              "      <td>wages</td>\n",
              "      <td>chop</td>\n",
              "      <td>0</td>\n",
              "    </tr>\n",
              "  </tbody>\n",
              "</table>\n",
              "</div>"
            ],
            "text/plain": [
              "          Colex_pair      Prob Colex1 Colex2  Colex_bool\n",
              "0   ('chew', 'ring')  0.000016   chew   ring           0\n",
              "1  ('wages', 'chop')  0.000016  wages   chop           0"
            ]
          },
          "metadata": {
            "tags": []
          },
          "execution_count": 18
        }
      ]
    },
    {
      "cell_type": "code",
      "metadata": {
        "id": "1vMxFMDdO4FF",
        "colab": {
          "base_uri": "https://localhost:8080/",
          "height": 419
        },
        "outputId": "9b67ac69-aba0-49eb-99d7-124ad0271248"
      },
      "source": [
        "add_cosine_sim(df,'Concept1','Concept2', ft)"
      ],
      "execution_count": null,
      "outputs": [
        {
          "output_type": "execute_result",
          "data": {
            "text/html": [
              "<div>\n",
              "<style scoped>\n",
              "    .dataframe tbody tr th:only-of-type {\n",
              "        vertical-align: middle;\n",
              "    }\n",
              "\n",
              "    .dataframe tbody tr th {\n",
              "        vertical-align: top;\n",
              "    }\n",
              "\n",
              "    .dataframe thead th {\n",
              "        text-align: right;\n",
              "    }\n",
              "</style>\n",
              "<table border=\"1\" class=\"dataframe\">\n",
              "  <thead>\n",
              "    <tr style=\"text-align: right;\">\n",
              "      <th></th>\n",
              "      <th>Concept1</th>\n",
              "      <th>Concept2</th>\n",
              "      <th>Colex_pair</th>\n",
              "      <th>Colex_bool</th>\n",
              "      <th>Cosine</th>\n",
              "    </tr>\n",
              "  </thead>\n",
              "  <tbody>\n",
              "    <tr>\n",
              "      <th>0</th>\n",
              "      <td>bait</td>\n",
              "      <td>ten</td>\n",
              "      <td>('bait', 'ten')</td>\n",
              "      <td>0</td>\n",
              "      <td>0.050746</td>\n",
              "    </tr>\n",
              "    <tr>\n",
              "      <th>1</th>\n",
              "      <td>thursday</td>\n",
              "      <td>weather</td>\n",
              "      <td>('thursday', 'weather')</td>\n",
              "      <td>0</td>\n",
              "      <td>0.224283</td>\n",
              "    </tr>\n",
              "    <tr>\n",
              "      <th>2</th>\n",
              "      <td>peg</td>\n",
              "      <td>be late</td>\n",
              "      <td>('peg', 'be late')</td>\n",
              "      <td>0</td>\n",
              "      <td>0.108496</td>\n",
              "    </tr>\n",
              "    <tr>\n",
              "      <th>3</th>\n",
              "      <td>collar</td>\n",
              "      <td>flame</td>\n",
              "      <td>('collar', 'flame')</td>\n",
              "      <td>0</td>\n",
              "      <td>0.182421</td>\n",
              "    </tr>\n",
              "    <tr>\n",
              "      <th>4</th>\n",
              "      <td>open</td>\n",
              "      <td>harmattan</td>\n",
              "      <td>('open', 'harmattan')</td>\n",
              "      <td>0</td>\n",
              "      <td>0.082279</td>\n",
              "    </tr>\n",
              "    <tr>\n",
              "      <th>...</th>\n",
              "      <td>...</td>\n",
              "      <td>...</td>\n",
              "      <td>...</td>\n",
              "      <td>...</td>\n",
              "      <td>...</td>\n",
              "    </tr>\n",
              "    <tr>\n",
              "      <th>43306</th>\n",
              "      <td>grape</td>\n",
              "      <td>house</td>\n",
              "      <td>('grape', 'house')</td>\n",
              "      <td>0</td>\n",
              "      <td>0.129280</td>\n",
              "    </tr>\n",
              "    <tr>\n",
              "      <th>43307</th>\n",
              "      <td>pen</td>\n",
              "      <td>soldier</td>\n",
              "      <td>('pen', 'soldier')</td>\n",
              "      <td>0</td>\n",
              "      <td>0.151800</td>\n",
              "    </tr>\n",
              "    <tr>\n",
              "      <th>43308</th>\n",
              "      <td>anger</td>\n",
              "      <td>official</td>\n",
              "      <td>('anger', 'official')</td>\n",
              "      <td>0</td>\n",
              "      <td>0.091551</td>\n",
              "    </tr>\n",
              "    <tr>\n",
              "      <th>43309</th>\n",
              "      <td>wolf-like animal</td>\n",
              "      <td>thousand</td>\n",
              "      <td>('wolf-like animal', 'thousand')</td>\n",
              "      <td>0</td>\n",
              "      <td>0.100913</td>\n",
              "    </tr>\n",
              "    <tr>\n",
              "      <th>43310</th>\n",
              "      <td>shoulder</td>\n",
              "      <td>crayfish</td>\n",
              "      <td>('shoulder', 'crayfish')</td>\n",
              "      <td>0</td>\n",
              "      <td>0.076772</td>\n",
              "    </tr>\n",
              "  </tbody>\n",
              "</table>\n",
              "<p>43311 rows × 5 columns</p>\n",
              "</div>"
            ],
            "text/plain": [
              "               Concept1   Concept2  ... Colex_bool    Cosine\n",
              "0                  bait        ten  ...          0  0.050746\n",
              "1              thursday    weather  ...          0  0.224283\n",
              "2                   peg    be late  ...          0  0.108496\n",
              "3                collar      flame  ...          0  0.182421\n",
              "4                  open  harmattan  ...          0  0.082279\n",
              "...                 ...        ...  ...        ...       ...\n",
              "43306             grape      house  ...          0  0.129280\n",
              "43307               pen    soldier  ...          0  0.151800\n",
              "43308             anger   official  ...          0  0.091551\n",
              "43309  wolf-like animal   thousand  ...          0  0.100913\n",
              "43310          shoulder   crayfish  ...          0  0.076772\n",
              "\n",
              "[43311 rows x 5 columns]"
            ]
          },
          "metadata": {
            "tags": []
          },
          "execution_count": 26
        }
      ]
    },
    {
      "cell_type": "code",
      "metadata": {
        "id": "873cSBKKVEIW"
      },
      "source": [
        "df.to_csv('df_cosines.csv', index = False)"
      ],
      "execution_count": null,
      "outputs": []
    },
    {
      "cell_type": "code",
      "metadata": {
        "id": "wrGuV_ZFVIF8",
        "colab": {
          "base_uri": "https://localhost:8080/",
          "height": 17
        },
        "outputId": "83d32b3c-38db-40af-dea3-4ed333eed441"
      },
      "source": [
        "files.download('df_cosines.csv')"
      ],
      "execution_count": null,
      "outputs": [
        {
          "output_type": "display_data",
          "data": {
            "application/javascript": [
              "\n",
              "    async function download(id, filename, size) {\n",
              "      if (!google.colab.kernel.accessAllowed) {\n",
              "        return;\n",
              "      }\n",
              "      const div = document.createElement('div');\n",
              "      const label = document.createElement('label');\n",
              "      label.textContent = `Downloading \"${filename}\": `;\n",
              "      div.appendChild(label);\n",
              "      const progress = document.createElement('progress');\n",
              "      progress.max = size;\n",
              "      div.appendChild(progress);\n",
              "      document.body.appendChild(div);\n",
              "\n",
              "      const buffers = [];\n",
              "      let downloaded = 0;\n",
              "\n",
              "      const channel = await google.colab.kernel.comms.open(id);\n",
              "      // Send a message to notify the kernel that we're ready.\n",
              "      channel.send({})\n",
              "\n",
              "      for await (const message of channel.messages) {\n",
              "        // Send a message to notify the kernel that we're ready.\n",
              "        channel.send({})\n",
              "        if (message.buffers) {\n",
              "          for (const buffer of message.buffers) {\n",
              "            buffers.push(buffer);\n",
              "            downloaded += buffer.byteLength;\n",
              "            progress.value = downloaded;\n",
              "          }\n",
              "        }\n",
              "      }\n",
              "      const blob = new Blob(buffers, {type: 'application/binary'});\n",
              "      const a = document.createElement('a');\n",
              "      a.href = window.URL.createObjectURL(blob);\n",
              "      a.download = filename;\n",
              "      div.appendChild(a);\n",
              "      a.click();\n",
              "      div.remove();\n",
              "    }\n",
              "  "
            ],
            "text/plain": [
              "<IPython.core.display.Javascript object>"
            ]
          },
          "metadata": {
            "tags": []
          }
        },
        {
          "output_type": "display_data",
          "data": {
            "application/javascript": [
              "download(\"download_ea65cb6b-22a5-4dd0-94b9-2a0969b86ef0\", \"df_cosines.csv\", 2612715)"
            ],
            "text/plain": [
              "<IPython.core.display.Javascript object>"
            ]
          },
          "metadata": {
            "tags": []
          }
        }
      ]
    }
  ]
}