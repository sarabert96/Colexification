{
  "nbformat": 4,
  "nbformat_minor": 0,
  "metadata": {
    "colab": {
      "name": "02_ Cleaning df_all_raw",
      "provenance": [],
      "include_colab_link": true
    },
    "kernelspec": {
      "name": "python3",
      "display_name": "Python 3"
    }
  },
  "cells": [
    {
      "cell_type": "markdown",
      "metadata": {
        "id": "view-in-github",
        "colab_type": "text"
      },
      "source": [
        "<a href=\"https://colab.research.google.com/github/sarabert96/Colexification/blob/main/02__Cleaning_df_all_raw.ipynb\" target=\"_parent\"><img src=\"https://colab.research.google.com/assets/colab-badge.svg\" alt=\"Open In Colab\"/></a>"
      ]
    },
    {
      "cell_type": "markdown",
      "metadata": {
        "id": "kFWURMjiscvq"
      },
      "source": [
        "Import libraries and data"
      ]
    },
    {
      "cell_type": "code",
      "metadata": {
        "colab": {
          "base_uri": "https://localhost:8080/"
        },
        "id": "ZGQtjKGdsknu",
        "outputId": "c1b4280c-04fe-4e7f-8a3b-4926a5a97453"
      },
      "source": [
        "import pandas\r\n",
        "import numpy\r\n",
        "import nltk\r\n",
        "nltk.download('punkt')\r\n",
        "from collections import Counter\r\n",
        "from google.colab import files\r\n",
        "\r\n",
        "!gdown --id 1EySPG8ZDMfMTvhUQaw8w1k6NgywI4N4S #df_all_raw\r\n"
      ],
      "execution_count": 1,
      "outputs": [
        {
          "output_type": "stream",
          "text": [
            "[nltk_data] Downloading package punkt to /root/nltk_data...\n",
            "[nltk_data]   Unzipping tokenizers/punkt.zip.\n",
            "Downloading...\n",
            "From: https://drive.google.com/uc?id=1EySPG8ZDMfMTvhUQaw8w1k6NgywI4N4S\n",
            "To: /content/df_all_raw.csv\n",
            "244MB [00:01, 124MB/s]\n"
          ],
          "name": "stdout"
        }
      ]
    },
    {
      "cell_type": "code",
      "metadata": {
        "colab": {
          "base_uri": "https://localhost:8080/",
          "height": 813
        },
        "id": "aJvT7K0hxeTl",
        "outputId": "1475a748-4840-4568-d0a8-e61a4b6fbb10"
      },
      "source": [
        "df = pandas.read_csv('df_all_raw.csv')\r\n",
        "df"
      ],
      "execution_count": 2,
      "outputs": [
        {
          "output_type": "stream",
          "text": [
            "/usr/local/lib/python3.6/dist-packages/IPython/core/interactiveshell.py:2718: DtypeWarning: Columns (4) have mixed types.Specify dtype option on import or set low_memory=False.\n",
            "  interactivity=interactivity, compiler=compiler, result=result)\n"
          ],
          "name": "stderr"
        },
        {
          "output_type": "execute_result",
          "data": {
            "text/html": [
              "<div>\n",
              "<style scoped>\n",
              "    .dataframe tbody tr th:only-of-type {\n",
              "        vertical-align: middle;\n",
              "    }\n",
              "\n",
              "    .dataframe tbody tr th {\n",
              "        vertical-align: top;\n",
              "    }\n",
              "\n",
              "    .dataframe thead th {\n",
              "        text-align: right;\n",
              "    }\n",
              "</style>\n",
              "<table border=\"1\" class=\"dataframe\">\n",
              "  <thead>\n",
              "    <tr style=\"text-align: right;\">\n",
              "      <th></th>\n",
              "      <th>dataset_ID</th>\n",
              "      <th>Form_ID</th>\n",
              "      <th>Form</th>\n",
              "      <th>clics_form</th>\n",
              "      <th>gloss_in_source</th>\n",
              "      <th>Concepticon_ID</th>\n",
              "      <th>Concepticon_Gloss</th>\n",
              "      <th>Ontological_Category</th>\n",
              "      <th>Semantic_Field</th>\n",
              "      <th>variety</th>\n",
              "      <th>Glottocode</th>\n",
              "      <th>ISO639P3code</th>\n",
              "      <th>Macroarea</th>\n",
              "      <th>Family</th>\n",
              "      <th>Latitude</th>\n",
              "      <th>Longitude</th>\n",
              "      <th>MRC_WORD</th>\n",
              "      <th>AGE_OF_ACQUISITION</th>\n",
              "      <th>CONCRETENESS</th>\n",
              "      <th>FAMILIARITY</th>\n",
              "      <th>IMAGABILITY</th>\n",
              "      <th>KUCERA_FRANCIS_FREQUENCY</th>\n",
              "    </tr>\n",
              "  </thead>\n",
              "  <tbody>\n",
              "    <tr>\n",
              "      <th>0</th>\n",
              "      <td>abrahammonpa</td>\n",
              "      <td>BugunBichom-100_gold-1</td>\n",
              "      <td>san</td>\n",
              "      <td>san</td>\n",
              "      <td>gold</td>\n",
              "      <td>1369</td>\n",
              "      <td>GOLD</td>\n",
              "      <td>Person/Thing</td>\n",
              "      <td>Basic actions and technology</td>\n",
              "      <td>Bugun Bichom</td>\n",
              "      <td>bich1234</td>\n",
              "      <td>NaN</td>\n",
              "      <td>NaN</td>\n",
              "      <td>Sino-Tibetan</td>\n",
              "      <td>NaN</td>\n",
              "      <td>NaN</td>\n",
              "      <td>GOLD</td>\n",
              "      <td>NaN</td>\n",
              "      <td>576.0</td>\n",
              "      <td>550.0</td>\n",
              "      <td>594.0</td>\n",
              "      <td>52.0</td>\n",
              "    </tr>\n",
              "    <tr>\n",
              "      <th>1</th>\n",
              "      <td>abrahammonpa</td>\n",
              "      <td>BugunKaspi-100_gold-1</td>\n",
              "      <td>san</td>\n",
              "      <td>san</td>\n",
              "      <td>gold</td>\n",
              "      <td>1369</td>\n",
              "      <td>GOLD</td>\n",
              "      <td>Person/Thing</td>\n",
              "      <td>Basic actions and technology</td>\n",
              "      <td>Bugun Kaspi</td>\n",
              "      <td>kasp1234</td>\n",
              "      <td>NaN</td>\n",
              "      <td>NaN</td>\n",
              "      <td>Sino-Tibetan</td>\n",
              "      <td>NaN</td>\n",
              "      <td>NaN</td>\n",
              "      <td>GOLD</td>\n",
              "      <td>NaN</td>\n",
              "      <td>576.0</td>\n",
              "      <td>550.0</td>\n",
              "      <td>594.0</td>\n",
              "      <td>52.0</td>\n",
              "    </tr>\n",
              "    <tr>\n",
              "      <th>2</th>\n",
              "      <td>abrahammonpa</td>\n",
              "      <td>BugunNamphri-100_gold-1</td>\n",
              "      <td>san</td>\n",
              "      <td>san</td>\n",
              "      <td>gold</td>\n",
              "      <td>1369</td>\n",
              "      <td>GOLD</td>\n",
              "      <td>Person/Thing</td>\n",
              "      <td>Basic actions and technology</td>\n",
              "      <td>Bugun Namphri</td>\n",
              "      <td>namp1239</td>\n",
              "      <td>NaN</td>\n",
              "      <td>NaN</td>\n",
              "      <td>Sino-Tibetan</td>\n",
              "      <td>NaN</td>\n",
              "      <td>NaN</td>\n",
              "      <td>GOLD</td>\n",
              "      <td>NaN</td>\n",
              "      <td>576.0</td>\n",
              "      <td>550.0</td>\n",
              "      <td>594.0</td>\n",
              "      <td>52.0</td>\n",
              "    </tr>\n",
              "    <tr>\n",
              "      <th>3</th>\n",
              "      <td>abrahammonpa</td>\n",
              "      <td>BugunSingchung-100_gold-1</td>\n",
              "      <td>san</td>\n",
              "      <td>san</td>\n",
              "      <td>gold</td>\n",
              "      <td>1369</td>\n",
              "      <td>GOLD</td>\n",
              "      <td>Person/Thing</td>\n",
              "      <td>Basic actions and technology</td>\n",
              "      <td>Bugun Singchung</td>\n",
              "      <td>sing1271</td>\n",
              "      <td>NaN</td>\n",
              "      <td>NaN</td>\n",
              "      <td>Sino-Tibetan</td>\n",
              "      <td>NaN</td>\n",
              "      <td>NaN</td>\n",
              "      <td>GOLD</td>\n",
              "      <td>NaN</td>\n",
              "      <td>576.0</td>\n",
              "      <td>550.0</td>\n",
              "      <td>594.0</td>\n",
              "      <td>52.0</td>\n",
              "    </tr>\n",
              "    <tr>\n",
              "      <th>4</th>\n",
              "      <td>abrahammonpa</td>\n",
              "      <td>BugunWangho-100_gold-1</td>\n",
              "      <td>san</td>\n",
              "      <td>san</td>\n",
              "      <td>gold</td>\n",
              "      <td>1369</td>\n",
              "      <td>GOLD</td>\n",
              "      <td>Person/Thing</td>\n",
              "      <td>Basic actions and technology</td>\n",
              "      <td>Bugun Wangho</td>\n",
              "      <td>wang1301</td>\n",
              "      <td>NaN</td>\n",
              "      <td>NaN</td>\n",
              "      <td>Sino-Tibetan</td>\n",
              "      <td>NaN</td>\n",
              "      <td>NaN</td>\n",
              "      <td>GOLD</td>\n",
              "      <td>NaN</td>\n",
              "      <td>576.0</td>\n",
              "      <td>550.0</td>\n",
              "      <td>594.0</td>\n",
              "      <td>52.0</td>\n",
              "    </tr>\n",
              "    <tr>\n",
              "      <th>...</th>\n",
              "      <td>...</td>\n",
              "      <td>...</td>\n",
              "      <td>...</td>\n",
              "      <td>...</td>\n",
              "      <td>...</td>\n",
              "      <td>...</td>\n",
              "      <td>...</td>\n",
              "      <td>...</td>\n",
              "      <td>...</td>\n",
              "      <td>...</td>\n",
              "      <td>...</td>\n",
              "      <td>...</td>\n",
              "      <td>...</td>\n",
              "      <td>...</td>\n",
              "      <td>...</td>\n",
              "      <td>...</td>\n",
              "      <td>...</td>\n",
              "      <td>...</td>\n",
              "      <td>...</td>\n",
              "      <td>...</td>\n",
              "      <td>...</td>\n",
              "      <td>...</td>\n",
              "    </tr>\n",
              "    <tr>\n",
              "      <th>1390589</th>\n",
              "      <td>zgraggenmadang</td>\n",
              "      <td>yaben-9_boy-1</td>\n",
              "      <td>waw moya</td>\n",
              "      <td>wawmoya</td>\n",
              "      <td>boy</td>\n",
              "      <td>1366</td>\n",
              "      <td>BOY</td>\n",
              "      <td>Person/Thing</td>\n",
              "      <td>Kinship</td>\n",
              "      <td>yaben</td>\n",
              "      <td>yabe1255</td>\n",
              "      <td>ybm</td>\n",
              "      <td>Papunesia</td>\n",
              "      <td>Nuclear Trans New Guinea</td>\n",
              "      <td>-4.90868</td>\n",
              "      <td>145.361</td>\n",
              "      <td>BOY</td>\n",
              "      <td>NaN</td>\n",
              "      <td>609.0</td>\n",
              "      <td>606.0</td>\n",
              "      <td>618.0</td>\n",
              "      <td>242.0</td>\n",
              "    </tr>\n",
              "    <tr>\n",
              "      <th>1390590</th>\n",
              "      <td>zgraggenmadang</td>\n",
              "      <td>yangulam-9_boy-1</td>\n",
              "      <td>ilaŋgum</td>\n",
              "      <td>ilanggum</td>\n",
              "      <td>boy</td>\n",
              "      <td>1366</td>\n",
              "      <td>BOY</td>\n",
              "      <td>Person/Thing</td>\n",
              "      <td>Kinship</td>\n",
              "      <td>yangulam</td>\n",
              "      <td>yang1298</td>\n",
              "      <td>ynl</td>\n",
              "      <td>Papunesia</td>\n",
              "      <td>Nuclear Trans New Guinea</td>\n",
              "      <td>-5.52697</td>\n",
              "      <td>145.858</td>\n",
              "      <td>BOY</td>\n",
              "      <td>NaN</td>\n",
              "      <td>609.0</td>\n",
              "      <td>606.0</td>\n",
              "      <td>618.0</td>\n",
              "      <td>242.0</td>\n",
              "    </tr>\n",
              "    <tr>\n",
              "      <th>1390591</th>\n",
              "      <td>zgraggenmadang</td>\n",
              "      <td>yangulam-9_boy-2</td>\n",
              "      <td>monaguru</td>\n",
              "      <td>monaguru</td>\n",
              "      <td>boy</td>\n",
              "      <td>1366</td>\n",
              "      <td>BOY</td>\n",
              "      <td>Person/Thing</td>\n",
              "      <td>Kinship</td>\n",
              "      <td>yangulam</td>\n",
              "      <td>yang1298</td>\n",
              "      <td>ynl</td>\n",
              "      <td>Papunesia</td>\n",
              "      <td>Nuclear Trans New Guinea</td>\n",
              "      <td>-5.52697</td>\n",
              "      <td>145.858</td>\n",
              "      <td>BOY</td>\n",
              "      <td>NaN</td>\n",
              "      <td>609.0</td>\n",
              "      <td>606.0</td>\n",
              "      <td>618.0</td>\n",
              "      <td>242.0</td>\n",
              "    </tr>\n",
              "    <tr>\n",
              "      <th>1390592</th>\n",
              "      <td>zgraggenmadang</td>\n",
              "      <td>yarawata-9_boy-1</td>\n",
              "      <td>wa tamana</td>\n",
              "      <td>watamana</td>\n",
              "      <td>boy</td>\n",
              "      <td>1366</td>\n",
              "      <td>BOY</td>\n",
              "      <td>Person/Thing</td>\n",
              "      <td>Kinship</td>\n",
              "      <td>yarawata</td>\n",
              "      <td>yara1250</td>\n",
              "      <td>yrw</td>\n",
              "      <td>Papunesia</td>\n",
              "      <td>Nuclear Trans New Guinea</td>\n",
              "      <td>-4.93943</td>\n",
              "      <td>145.454</td>\n",
              "      <td>BOY</td>\n",
              "      <td>NaN</td>\n",
              "      <td>609.0</td>\n",
              "      <td>606.0</td>\n",
              "      <td>618.0</td>\n",
              "      <td>242.0</td>\n",
              "    </tr>\n",
              "    <tr>\n",
              "      <th>1390593</th>\n",
              "      <td>zgraggenmadang</td>\n",
              "      <td>yoidik-9_boy-1</td>\n",
              "      <td>nahal pusaʔ</td>\n",
              "      <td>nahalpusa</td>\n",
              "      <td>boy</td>\n",
              "      <td>1366</td>\n",
              "      <td>BOY</td>\n",
              "      <td>Person/Thing</td>\n",
              "      <td>Kinship</td>\n",
              "      <td>yoidik</td>\n",
              "      <td>yoid1240</td>\n",
              "      <td>ydk</td>\n",
              "      <td>Papunesia</td>\n",
              "      <td>Nuclear Trans New Guinea</td>\n",
              "      <td>-4.94044</td>\n",
              "      <td>145.758</td>\n",
              "      <td>BOY</td>\n",
              "      <td>NaN</td>\n",
              "      <td>609.0</td>\n",
              "      <td>606.0</td>\n",
              "      <td>618.0</td>\n",
              "      <td>242.0</td>\n",
              "    </tr>\n",
              "  </tbody>\n",
              "</table>\n",
              "<p>1390594 rows × 22 columns</p>\n",
              "</div>"
            ],
            "text/plain": [
              "             dataset_ID  ... KUCERA_FRANCIS_FREQUENCY\n",
              "0          abrahammonpa  ...                     52.0\n",
              "1          abrahammonpa  ...                     52.0\n",
              "2          abrahammonpa  ...                     52.0\n",
              "3          abrahammonpa  ...                     52.0\n",
              "4          abrahammonpa  ...                     52.0\n",
              "...                 ...  ...                      ...\n",
              "1390589  zgraggenmadang  ...                    242.0\n",
              "1390590  zgraggenmadang  ...                    242.0\n",
              "1390591  zgraggenmadang  ...                    242.0\n",
              "1390592  zgraggenmadang  ...                    242.0\n",
              "1390593  zgraggenmadang  ...                    242.0\n",
              "\n",
              "[1390594 rows x 22 columns]"
            ]
          },
          "metadata": {
            "tags": []
          },
          "execution_count": 2
        }
      ]
    },
    {
      "cell_type": "markdown",
      "metadata": {
        "id": "ZceRI4KitH0F"
      },
      "source": [
        "Remove diachronic varieties (middle, old, classic, ancient)"
      ]
    },
    {
      "cell_type": "code",
      "metadata": {
        "id": "0ZFP5bxhes5v"
      },
      "source": [
        "#tokenize variety --> new column\r\n",
        "df['tk_variety']=df['variety'].apply(nltk.tokenize.word_tokenize)"
      ],
      "execution_count": 3,
      "outputs": []
    },
    {
      "cell_type": "code",
      "metadata": {
        "id": "TQFuLaaTfUBc"
      },
      "source": [
        "df['flag']=0 # add flag column"
      ],
      "execution_count": 4,
      "outputs": []
    },
    {
      "cell_type": "code",
      "metadata": {
        "id": "i71IE9QzA9Vr",
        "colab": {
          "base_uri": "https://localhost:8080/"
        },
        "outputId": "4457ed64-7d21-4a3b-e02f-a18124abed21"
      },
      "source": [
        "# flag non wanted varieties\r\n",
        "diachronic_varieties = ['Old', 'Middle', 'Classic', 'Ancient', 'English','Latin']\r\n",
        "for i in range(len(df['tk_variety'])):\r\n",
        "  r = df['tk_variety'].iloc[i]\r\n",
        "  if any((v in diachronic_varieties) for v in r):\r\n",
        "    df['flag'].iloc[i]+=1\r\n"
      ],
      "execution_count": 5,
      "outputs": [
        {
          "output_type": "stream",
          "text": [
            "/usr/local/lib/python3.6/dist-packages/pandas/core/indexing.py:670: SettingWithCopyWarning: \n",
            "A value is trying to be set on a copy of a slice from a DataFrame\n",
            "\n",
            "See the caveats in the documentation: https://pandas.pydata.org/pandas-docs/stable/user_guide/indexing.html#returning-a-view-versus-a-copy\n",
            "  iloc._setitem_with_indexer(indexer, value)\n"
          ],
          "name": "stderr"
        }
      ]
    },
    {
      "cell_type": "code",
      "metadata": {
        "id": "HE7BSgLcaWrf"
      },
      "source": [
        "# delete flagged columns with non wanted categories\r\n",
        "df= df.drop(df[df.flag > 0].index)"
      ],
      "execution_count": 6,
      "outputs": []
    },
    {
      "cell_type": "code",
      "metadata": {
        "colab": {
          "base_uri": "https://localhost:8080/"
        },
        "id": "uLqlRhfZdotJ",
        "outputId": "3c389e2c-fb48-49ac-86d2-098a60d77907"
      },
      "source": [
        "df.shape"
      ],
      "execution_count": 9,
      "outputs": [
        {
          "output_type": "execute_result",
          "data": {
            "text/plain": [
              "(1354795, 24)"
            ]
          },
          "metadata": {
            "tags": []
          },
          "execution_count": 9
        }
      ]
    },
    {
      "cell_type": "markdown",
      "metadata": {
        "id": "_IrJmH3KAjnH"
      },
      "source": [
        "Now we have the original dataframe removed from unwanted varieties"
      ]
    },
    {
      "cell_type": "markdown",
      "metadata": {
        "id": "AJddY-zQNWuV"
      },
      "source": [
        "Remove also multiword concepticon: containing OR and/or parenthesis"
      ]
    },
    {
      "cell_type": "code",
      "metadata": {
        "id": "vaQr5dmIWf-Y"
      },
      "source": [
        "# modify column with word count: flag > 0 if multiword\r\n",
        "df['flag'] = df['Concepticon_Gloss'].str.count(' OR ')\r\n",
        "df['flag'] = df['Concepticon_Gloss'].str.count(\"\\(\") # \\ symbol is for regex problem"
      ],
      "execution_count": 8,
      "outputs": []
    },
    {
      "cell_type": "code",
      "metadata": {
        "id": "m4qjRc7eFckL"
      },
      "source": [
        "# delete flagged columns\r\n",
        "df = df.drop(df[df.flag > 0].index)\r\n",
        "# delete column with word count\r\n",
        "del df['flag']"
      ],
      "execution_count": 10,
      "outputs": []
    },
    {
      "cell_type": "code",
      "metadata": {
        "colab": {
          "base_uri": "https://localhost:8080/"
        },
        "id": "JOvWEVChyhmK",
        "outputId": "f8e3e4bf-a868-4800-bde6-3fc063107f89"
      },
      "source": [
        "df.shape"
      ],
      "execution_count": 11,
      "outputs": [
        {
          "output_type": "execute_result",
          "data": {
            "text/plain": [
              "(1235399, 23)"
            ]
          },
          "metadata": {
            "tags": []
          },
          "execution_count": 11
        }
      ]
    },
    {
      "cell_type": "markdown",
      "metadata": {
        "id": "5WV1WZO3F0ZL"
      },
      "source": [
        "df is now without bad concepts (OR, bracket)"
      ]
    },
    {
      "cell_type": "markdown",
      "metadata": {
        "id": "rEP_1Ycnzhsz"
      },
      "source": [
        "Check for null values"
      ]
    },
    {
      "cell_type": "code",
      "metadata": {
        "colab": {
          "base_uri": "https://localhost:8080/"
        },
        "id": "WW2rtBTUGDYk",
        "outputId": "1260801c-bb8c-4012-dd1d-d53bf35f7f52"
      },
      "source": [
        "df['Concepticon_Gloss'].isna().values.any()"
      ],
      "execution_count": null,
      "outputs": [
        {
          "output_type": "execute_result",
          "data": {
            "text/plain": [
              "False"
            ]
          },
          "metadata": {
            "tags": []
          },
          "execution_count": 14
        }
      ]
    },
    {
      "cell_type": "code",
      "metadata": {
        "id": "jFDF8Ey1JJdw"
      },
      "source": [
        "# reset index\r\n",
        "df = df.reset_index(drop=True)"
      ],
      "execution_count": 12,
      "outputs": []
    },
    {
      "cell_type": "markdown",
      "metadata": {
        "id": "gdbaL6U0IkLO"
      },
      "source": [
        "Save df on csv"
      ]
    },
    {
      "cell_type": "code",
      "metadata": {
        "id": "-DMAa37CI3SK"
      },
      "source": [
        "df.to_csv('df_all_ok.csv')"
      ],
      "execution_count": 13,
      "outputs": []
    },
    {
      "cell_type": "markdown",
      "metadata": {
        "id": "NVkqy6mLI5pk"
      },
      "source": [
        "Remember to download the csv"
      ]
    },
    {
      "cell_type": "code",
      "metadata": {
        "id": "mkBrkA_lJNPz",
        "colab": {
          "base_uri": "https://localhost:8080/",
          "height": 34
        },
        "outputId": "52927af6-8885-4e3d-d2e3-d71c246c0608"
      },
      "source": [
        "files.download('df_all_ok.csv')"
      ],
      "execution_count": null,
      "outputs": [
        {
          "output_type": "display_data",
          "data": {
            "application/javascript": [
              "\n",
              "    async function download(id, filename, size) {\n",
              "      if (!google.colab.kernel.accessAllowed) {\n",
              "        return;\n",
              "      }\n",
              "      const div = document.createElement('div');\n",
              "      const label = document.createElement('label');\n",
              "      label.textContent = `Downloading \"${filename}\": `;\n",
              "      div.appendChild(label);\n",
              "      const progress = document.createElement('progress');\n",
              "      progress.max = size;\n",
              "      div.appendChild(progress);\n",
              "      document.body.appendChild(div);\n",
              "\n",
              "      const buffers = [];\n",
              "      let downloaded = 0;\n",
              "\n",
              "      const channel = await google.colab.kernel.comms.open(id);\n",
              "      // Send a message to notify the kernel that we're ready.\n",
              "      channel.send({})\n",
              "\n",
              "      for await (const message of channel.messages) {\n",
              "        // Send a message to notify the kernel that we're ready.\n",
              "        channel.send({})\n",
              "        if (message.buffers) {\n",
              "          for (const buffer of message.buffers) {\n",
              "            buffers.push(buffer);\n",
              "            downloaded += buffer.byteLength;\n",
              "            progress.value = downloaded;\n",
              "          }\n",
              "        }\n",
              "      }\n",
              "      const blob = new Blob(buffers, {type: 'application/binary'});\n",
              "      const a = document.createElement('a');\n",
              "      a.href = window.URL.createObjectURL(blob);\n",
              "      a.download = filename;\n",
              "      div.appendChild(a);\n",
              "      a.click();\n",
              "      div.remove();\n",
              "    }\n",
              "  "
            ],
            "text/plain": [
              "<IPython.core.display.Javascript object>"
            ]
          },
          "metadata": {
            "tags": []
          }
        },
        {
          "output_type": "display_data",
          "data": {
            "application/javascript": [
              "download(\"download_24900ccc-ff79-4867-87c8-1382b90e67ca\", \"df_all_ok.csv\", 252272179)"
            ],
            "text/plain": [
              "<IPython.core.display.Javascript object>"
            ]
          },
          "metadata": {
            "tags": []
          }
        }
      ]
    }
  ]
}