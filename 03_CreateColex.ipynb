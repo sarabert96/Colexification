{
  "nbformat": 4,
  "nbformat_minor": 0,
  "metadata": {
    "colab": {
      "name": "03_CreateColex.ipynb",
      "provenance": [],
      "toc_visible": true,
      "authorship_tag": "ABX9TyPpG7yMQf0KOrICeodyhGzJ",
      "include_colab_link": true
    },
    "kernelspec": {
      "name": "python3",
      "display_name": "Python 3"
    }
  },
  "cells": [
    {
      "cell_type": "markdown",
      "metadata": {
        "id": "view-in-github",
        "colab_type": "text"
      },
      "source": [
        "<a href=\"https://colab.research.google.com/github/sarabert96/Colexification/blob/main/03_CreateColex.ipynb\" target=\"_parent\"><img src=\"https://colab.research.google.com/assets/colab-badge.svg\" alt=\"Open In Colab\"/></a>"
      ]
    },
    {
      "cell_type": "markdown",
      "metadata": {
        "id": "M7ri9wcCbFc9"
      },
      "source": [
        "# Colexification Data Frame"
      ]
    },
    {
      "cell_type": "markdown",
      "metadata": {
        "id": "3xhmSmIzJrjz"
      },
      "source": [
        "This file creates a dataframe of colexifications.\n",
        "\n",
        "\n",
        "NOTE: this file is in both python and R.\n",
        "\n",
        "\n",
        "To run R code on colab execute the following line and in every cell remember to write %%R at the beginning of the R cell"
      ]
    },
    {
      "cell_type": "code",
      "metadata": {
        "id": "eDs-77FkNoZQ"
      },
      "source": [
        "%load_ext rpy2.ipython"
      ],
      "execution_count": null,
      "outputs": []
    },
    {
      "cell_type": "code",
      "metadata": {
        "id": "U3QxAKi2NprN"
      },
      "source": [
        "import pandas as pd"
      ],
      "execution_count": 1,
      "outputs": []
    },
    {
      "cell_type": "markdown",
      "metadata": {
        "id": "R-jgl23xKGK_"
      },
      "source": [
        "We take the cleaned dataframe from Drive"
      ]
    },
    {
      "cell_type": "code",
      "metadata": {
        "colab": {
          "base_uri": "https://localhost:8080/"
        },
        "id": "9ujQyeHfMGSb",
        "outputId": "1afae4db-b4c3-49f8-c3c6-c6f7f99ae7e2"
      },
      "source": [
        "!gdown --id 19eJ5URTvJEpL0qtdGOQ1XKUzWqX66Pkx #df_all_ok"
      ],
      "execution_count": null,
      "outputs": [
        {
          "output_type": "stream",
          "text": [
            "Downloading...\n",
            "From: https://drive.google.com/uc?id=19eJ5URTvJEpL0qtdGOQ1XKUzWqX66Pkx\n",
            "To: /content/df_all_ok.csv\n",
            "215MB [00:02, 98.1MB/s]\n"
          ],
          "name": "stdout"
        }
      ]
    },
    {
      "cell_type": "code",
      "metadata": {
        "colab": {
          "base_uri": "https://localhost:8080/"
        },
        "id": "QDw1k1oTq3Ad",
        "outputId": "c2646865-28b9-428c-febc-891131a4fdcb"
      },
      "source": [
        "df = pd.read_csv('df_all_ok.csv')"
      ],
      "execution_count": null,
      "outputs": [
        {
          "output_type": "stream",
          "text": [
            "/usr/local/lib/python3.7/dist-packages/IPython/core/interactiveshell.py:2718: DtypeWarning: Columns (5) have mixed types.Specify dtype option on import or set low_memory=False.\n",
            "  interactivity=interactivity, compiler=compiler, result=result)\n"
          ],
          "name": "stderr"
        }
      ]
    },
    {
      "cell_type": "code",
      "metadata": {
        "colab": {
          "base_uri": "https://localhost:8080/"
        },
        "id": "KnbfSK2-LE15",
        "outputId": "fcc26c85-1ef5-4fb7-c21f-25f3b684f739"
      },
      "source": [
        "%%R # to run R on colab\n",
        "#This script creates a data frame of colexifications \n",
        "\n",
        "library(dplyr)\n",
        "library(readr)\n",
        "library(tidyr)\n",
        "\n",
        "\n",
        "if (!file.exists(\"df_colexifications.csv\")){ #if the file doesnt exist: compute it\n",
        "  df <- read_csv('df_all_ok.csv') # cleaned CLICS file\n",
        "  d_colex <- df %>%\n",
        "    select(clics_form,Concepticon_ID,Glottocode,Concepticon_Gloss,Family,variety) %>%\n",
        "    drop_na() %>%\n",
        "    unique()\n",
        "    print('d_colex is now created selecting only relevant columns')\n",
        "    print('first line of d_colex:')\n",
        "    print(head(d_colex, 1))\n",
        "    print(paste('number of rows is: ', nrow(d_colex)))\n",
        "\n",
        "  dd <- inner_join(d_colex,d_colex,by=c(\"clics_form\",\"Glottocode\",\"Family\",\"variety\")) %>% \n",
        "    filter(Concepticon_ID.x != Concepticon_ID.y) %>% # find rows/cases where conditions are true\n",
        "    unique() # remove duplicates\n",
        "  d_colex <- dd[!duplicated(lapply(as.data.frame(t(dd), stringsAsFactors=FALSE), sort)),]  \n",
        "  # remove rows where Concepticon_ID1 and Concepticon_ID2 are permutations of each other \n",
        "  print('d_colex is now finalized')\n",
        "  print('first line of new d_colex:')\n",
        "  print(head(d_colex, 1))\n",
        "  print(paste('number of rows is: ', nrow(d_colex)))\n",
        "\n",
        "  write_csv(d_colex,'df_colexifications.csv')\n",
        "} else { #if it exists: load it\n",
        " print('Loading pre-processed colexification df')\n",
        "  d_colex <- read_csv('df_colexifications.csv')\n",
        "}"
      ],
      "execution_count": null,
      "outputs": [
        {
          "output_type": "stream",
          "text": [
            "R[write to console]: \n",
            "Attaching package: ‘dplyr’\n",
            "\n",
            "\n",
            "R[write to console]: The following objects are masked from ‘package:stats’:\n",
            "\n",
            "    filter, lag\n",
            "\n",
            "\n",
            "R[write to console]: The following objects are masked from ‘package:base’:\n",
            "\n",
            "    intersect, setdiff, setequal, union\n",
            "\n",
            "\n"
          ],
          "name": "stderr"
        },
        {
          "output_type": "stream",
          "text": [
            "\n",
            "── Column specification ────────────────────────────────────────────────────────\n",
            "cols(\n",
            "  X1 = col_double(),\n",
            "  dataset_ID = col_character(),\n",
            "  Form_ID = col_character(),\n",
            "  Form = col_character(),\n",
            "  clics_form = col_character(),\n",
            "  gloss_in_source = col_character(),\n",
            "  Concepticon_ID = col_double(),\n",
            "  Concepticon_Gloss = col_character(),\n",
            "  Ontological_Category = col_character(),\n",
            "  Semantic_Field = col_character(),\n",
            "  variety = col_character(),\n",
            "  Glottocode = col_character(),\n",
            "  ISO639P3code = col_character(),\n",
            "  Macroarea = col_character(),\n",
            "  Family = col_character(),\n",
            "  Latitude = col_double(),\n",
            "  Longitude = col_double(),\n",
            "  tk_variety = col_character()\n",
            ")\n",
            "\n",
            "|==================================================================| 100% 205 MB\n",
            "[1] \"d_colex is now created selecting only relevant columns\"\n",
            "[1] \"first line of d_colex:\"\n",
            "# A tibble: 1 x 6\n",
            "  clics_form Concepticon_ID Glottocode Concepticon_Gloss Family      variety    \n",
            "  <chr>               <dbl> <chr>      <chr>             <chr>       <chr>      \n",
            "1 san                  1369 bich1234   gold              Sino-Tibet… Bugun Bich…\n",
            "[1] \"number of rows is:  1148664\"\n",
            "[1] \"d_colex is now finalized\"\n",
            "[1] \"first line of new d_colex:\"\n",
            "# A tibble: 1 x 8\n",
            "  clics_form Concepticon_ID.x Glottocode Concepticon_Gloss… Family variety      \n",
            "  <chr>                 <dbl> <chr>      <chr>              <chr>  <chr>        \n",
            "1 s@                     1369 hrus1242   gold               Hruso  Hruso Aka Ja…\n",
            "# … with 2 more variables: Concepticon_ID.y <dbl>, Concepticon_Gloss.y <chr>\n",
            "[1] \"number of rows is:  124187\"\n"
          ],
          "name": "stdout"
        }
      ]
    },
    {
      "cell_type": "code",
      "metadata": {
        "id": "E0fZo99NZobK"
      },
      "source": [
        "df_colex = pd.read_csv('df_colexifications.csv')"
      ],
      "execution_count": null,
      "outputs": []
    },
    {
      "cell_type": "code",
      "metadata": {
        "colab": {
          "base_uri": "https://localhost:8080/",
          "height": 309
        },
        "id": "5m7Mom5tZzaZ",
        "outputId": "cde972d1-08a3-4579-b570-ff594cd54514"
      },
      "source": [
        "df_colex.head(5)"
      ],
      "execution_count": 15,
      "outputs": [
        {
          "output_type": "execute_result",
          "data": {
            "text/html": [
              "<div>\n",
              "<style scoped>\n",
              "    .dataframe tbody tr th:only-of-type {\n",
              "        vertical-align: middle;\n",
              "    }\n",
              "\n",
              "    .dataframe tbody tr th {\n",
              "        vertical-align: top;\n",
              "    }\n",
              "\n",
              "    .dataframe thead th {\n",
              "        text-align: right;\n",
              "    }\n",
              "</style>\n",
              "<table border=\"1\" class=\"dataframe\">\n",
              "  <thead>\n",
              "    <tr style=\"text-align: right;\">\n",
              "      <th></th>\n",
              "      <th>clics_form</th>\n",
              "      <th>Concepticon_ID.x</th>\n",
              "      <th>Glottocode</th>\n",
              "      <th>Concepticon_Gloss.x</th>\n",
              "      <th>Family</th>\n",
              "      <th>variety</th>\n",
              "      <th>Concepticon_ID.y</th>\n",
              "      <th>Concepticon_Gloss.y</th>\n",
              "    </tr>\n",
              "  </thead>\n",
              "  <tbody>\n",
              "    <tr>\n",
              "      <th>0</th>\n",
              "      <td>s@</td>\n",
              "      <td>1369</td>\n",
              "      <td>hrus1242</td>\n",
              "      <td>gold</td>\n",
              "      <td>Hruso</td>\n",
              "      <td>Hruso Aka Jamiri</td>\n",
              "      <td>1927</td>\n",
              "      <td>bamboo</td>\n",
              "    </tr>\n",
              "    <tr>\n",
              "      <th>1</th>\n",
              "      <td>s@</td>\n",
              "      <td>1369</td>\n",
              "      <td>hrus1242</td>\n",
              "      <td>gold</td>\n",
              "      <td>Hruso</td>\n",
              "      <td>Hruso Aka Jamiri</td>\n",
              "      <td>946</td>\n",
              "      <td>blood</td>\n",
              "    </tr>\n",
              "    <tr>\n",
              "      <th>2</th>\n",
              "      <td>avir@</td>\n",
              "      <td>1035</td>\n",
              "      <td>miji1239</td>\n",
              "      <td>good</td>\n",
              "      <td>Sino-Tibetan</td>\n",
              "      <td>Dammai Dibin</td>\n",
              "      <td>923</td>\n",
              "      <td>love</td>\n",
              "    </tr>\n",
              "    <tr>\n",
              "      <th>3</th>\n",
              "      <td>dzju</td>\n",
              "      <td>1425</td>\n",
              "      <td>hrus1242</td>\n",
              "      <td>green</td>\n",
              "      <td>Hruso</td>\n",
              "      <td>Hruso Aka Jamiri</td>\n",
              "      <td>1424</td>\n",
              "      <td>yellow</td>\n",
              "    </tr>\n",
              "    <tr>\n",
              "      <th>4</th>\n",
              "      <td>lah</td>\n",
              "      <td>1277</td>\n",
              "      <td>dakp1242</td>\n",
              "      <td>hand</td>\n",
              "      <td>Sino-Tibetan</td>\n",
              "      <td>Monpa Changprong</td>\n",
              "      <td>639</td>\n",
              "      <td>mountain</td>\n",
              "    </tr>\n",
              "  </tbody>\n",
              "</table>\n",
              "</div>"
            ],
            "text/plain": [
              "  clics_form  Concepticon_ID.x  ... Concepticon_ID.y Concepticon_Gloss.y\n",
              "0         s@              1369  ...             1927              bamboo\n",
              "1         s@              1369  ...              946               blood\n",
              "2      avir@              1035  ...              923                love\n",
              "3       dzju              1425  ...             1424              yellow\n",
              "4        lah              1277  ...              639            mountain\n",
              "\n",
              "[5 rows x 8 columns]"
            ]
          },
          "metadata": {
            "tags": []
          },
          "execution_count": 15
        }
      ]
    },
    {
      "cell_type": "markdown",
      "metadata": {
        "id": "4eNCajNN5Hd7"
      },
      "source": [
        "To save dataframe:"
      ]
    },
    {
      "cell_type": "code",
      "metadata": {
        "colab": {
          "base_uri": "https://localhost:8080/",
          "height": 34
        },
        "id": "uY6rSZC7LqjP",
        "outputId": "86033c9b-64ba-46b6-c4fc-55f2433ccccc"
      },
      "source": [
        "from google.colab import files\n",
        "\n",
        "files.download('df_colexifications.csv')"
      ],
      "execution_count": null,
      "outputs": [
        {
          "output_type": "display_data",
          "data": {
            "application/javascript": [
              "\n",
              "    async function download(id, filename, size) {\n",
              "      if (!google.colab.kernel.accessAllowed) {\n",
              "        return;\n",
              "      }\n",
              "      const div = document.createElement('div');\n",
              "      const label = document.createElement('label');\n",
              "      label.textContent = `Downloading \"${filename}\": `;\n",
              "      div.appendChild(label);\n",
              "      const progress = document.createElement('progress');\n",
              "      progress.max = size;\n",
              "      div.appendChild(progress);\n",
              "      document.body.appendChild(div);\n",
              "\n",
              "      const buffers = [];\n",
              "      let downloaded = 0;\n",
              "\n",
              "      const channel = await google.colab.kernel.comms.open(id);\n",
              "      // Send a message to notify the kernel that we're ready.\n",
              "      channel.send({})\n",
              "\n",
              "      for await (const message of channel.messages) {\n",
              "        // Send a message to notify the kernel that we're ready.\n",
              "        channel.send({})\n",
              "        if (message.buffers) {\n",
              "          for (const buffer of message.buffers) {\n",
              "            buffers.push(buffer);\n",
              "            downloaded += buffer.byteLength;\n",
              "            progress.value = downloaded;\n",
              "          }\n",
              "        }\n",
              "      }\n",
              "      const blob = new Blob(buffers, {type: 'application/binary'});\n",
              "      const a = document.createElement('a');\n",
              "      a.href = window.URL.createObjectURL(blob);\n",
              "      a.download = filename;\n",
              "      div.appendChild(a);\n",
              "      a.click();\n",
              "      div.remove();\n",
              "    }\n",
              "  "
            ],
            "text/plain": [
              "<IPython.core.display.Javascript object>"
            ]
          },
          "metadata": {
            "tags": []
          }
        },
        {
          "output_type": "display_data",
          "data": {
            "application/javascript": [
              "download(\"download_e157fd67-8a32-406c-a1fc-ca7982d68daa\", \"df_colexifications.csv\", 7565752)"
            ],
            "text/plain": [
              "<IPython.core.display.Javascript object>"
            ]
          },
          "metadata": {
            "tags": []
          }
        }
      ]
    },
    {
      "cell_type": "code",
      "metadata": {
        "colab": {
          "base_uri": "https://localhost:8080/"
        },
        "id": "SwoXrBK4tvtC",
        "outputId": "598e142d-6a65-4581-a8da-8a1dadb745b4"
      },
      "source": [
        "df_colex.groupby('Family').size().sort_values(ascending=True)"
      ],
      "execution_count": 5,
      "outputs": [
        {
          "output_type": "execute_result",
          "data": {
            "text/plain": [
              "Family\n",
              "Mairasic                 1\n",
              "Namla-Tofanma            1\n",
              "Kapori                   1\n",
              "Elseng                   1\n",
              "Somahai                  1\n",
              "                     ...  \n",
              "Austronesian          9676\n",
              "Indo-European         9811\n",
              "Nakh-Daghestanian    14236\n",
              "Sino-Tibetan         14433\n",
              "Atlantic-Congo       18765\n",
              "Length: 181, dtype: int64"
            ]
          },
          "metadata": {
            "tags": []
          },
          "execution_count": 5
        }
      ]
    },
    {
      "cell_type": "code",
      "metadata": {
        "colab": {
          "base_uri": "https://localhost:8080/"
        },
        "id": "AO_5il3guEGW",
        "outputId": "11a83fad-b6b1-4d77-c818-5d297adf5695"
      },
      "source": [
        "df_colex.groupby('Family').size().describe()"
      ],
      "execution_count": 8,
      "outputs": [
        {
          "output_type": "execute_result",
          "data": {
            "text/plain": [
              "count      181.000000\n",
              "mean       686.116022\n",
              "std       2363.279833\n",
              "min          1.000000\n",
              "25%         12.000000\n",
              "50%         66.000000\n",
              "75%        269.000000\n",
              "max      18765.000000\n",
              "dtype: float64"
            ]
          },
          "metadata": {
            "tags": []
          },
          "execution_count": 8
        }
      ]
    },
    {
      "cell_type": "code",
      "metadata": {
        "id": "_7URQSuQuJmY"
      },
      "source": [
        "colex_in_fam = list(df_colex.groupby('Family').size())"
      ],
      "execution_count": 9,
      "outputs": []
    },
    {
      "cell_type": "code",
      "metadata": {
        "id": "uqpw_fQ8uT5_"
      },
      "source": [
        "import matplotlib.pyplot as plt"
      ],
      "execution_count": 13,
      "outputs": []
    },
    {
      "cell_type": "code",
      "metadata": {
        "colab": {
          "base_uri": "https://localhost:8080/",
          "height": 295
        },
        "id": "nQbX9XqbuOPk",
        "outputId": "f0b7c9bc-8e76-403a-a2fe-89201717e609"
      },
      "source": [
        "plt.plot(sorted(colex_in_fam))\n",
        "plt.title(\"Distribution of colexifications per family\")\n",
        "plt.ylabel('Number of colexifications')\n",
        "plt.xlabel(\"Families' index\")\n",
        "plt.show()"
      ],
      "execution_count": 14,
      "outputs": [
        {
          "output_type": "display_data",
          "data": {
            "image/png": "[encoded data removed]",
            "text/plain": [
              "<Figure size 432x288 with 1 Axes>"
            ]
          },
          "metadata": {
            "tags": [],
            "needs_background": "light"
          }
        }
      ]
    }
  ]
}