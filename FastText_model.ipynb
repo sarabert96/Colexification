{
  "nbformat": 4,
  "nbformat_minor": 0,
  "metadata": {
    "colab": {
      "name": "FastText_model.ipynb",
      "provenance": [],
      "collapsed_sections": [],
      "authorship_tag": "ABX9TyOLG9Ct0LtrxFtrbhF40BIL",
      "include_colab_link": true
    },
    "kernelspec": {
      "name": "python3",
      "display_name": "Python 3"
    }
  },
  "cells": [
    {
      "cell_type": "markdown",
      "metadata": {
        "id": "view-in-github",
        "colab_type": "text"
      },
      "source": [
        "<a href=\"https://colab.research.google.com/github/sarabert96/Colexification/blob/main/FastText_model.ipynb\" target=\"_parent\"><img src=\"https://colab.research.google.com/assets/colab-badge.svg\" alt=\"Open In Colab\"/></a>"
      ]
    },
    {
      "cell_type": "code",
      "metadata": {
        "id": "UEjlMRJ2Q7uL",
        "colab": {
          "base_uri": "https://localhost:8080/"
        },
        "outputId": "5b11c9da-dc1e-404d-e26a-3b8ba6b8679d"
      },
      "source": [
        "pip install fasttext"
      ],
      "execution_count": null,
      "outputs": [
        {
          "output_type": "stream",
          "text": [
            "Requirement already satisfied: fasttext in /usr/local/lib/python3.6/dist-packages (0.9.2)\n",
            "Requirement already satisfied: numpy in /usr/local/lib/python3.6/dist-packages (from fasttext) (1.18.5)\n",
            "Requirement already satisfied: setuptools>=0.7.0 in /usr/local/lib/python3.6/dist-packages (from fasttext) (50.3.2)\n",
            "Requirement already satisfied: pybind11>=2.2 in /usr/local/lib/python3.6/dist-packages (from fasttext) (2.6.1)\n"
          ],
          "name": "stdout"
        }
      ]
    },
    {
      "cell_type": "code",
      "metadata": {
        "id": "GxHVp0ozTSBa"
      },
      "source": [
        "import fasttext.util\n",
        "from gensim.models.wrappers import FastText"
      ],
      "execution_count": null,
      "outputs": []
    },
    {
      "cell_type": "code",
      "metadata": {
        "id": "pA974zgkG4Ib"
      },
      "source": [
        "from gensim.models.keyedvectors import KeyedVectors\n",
        "from gensim.models import Word2Vec"
      ],
      "execution_count": null,
      "outputs": []
    },
    {
      "cell_type": "markdown",
      "metadata": {
        "id": "x4qYorXTTfA4"
      },
      "source": [
        "Load pretrained model: wiki sample"
      ]
    },
    {
      "cell_type": "code",
      "metadata": {
        "id": "KFES9vhpHCMu"
      },
      "source": [
        "model = KeyedVectors.load_word2vec_format('wiki.simple.vec')"
      ],
      "execution_count": null,
      "outputs": []
    },
    {
      "cell_type": "markdown",
      "metadata": {
        "id": "_N24EHUQTjJK"
      },
      "source": [
        "Try to see the vector of few words:"
      ]
    },
    {
      "cell_type": "code",
      "metadata": {
        "colab": {
          "base_uri": "https://localhost:8080/"
        },
        "id": "anqfVpS6c11s",
        "outputId": "d72b1cb3-37b5-4774-bb94-85ed2a533893"
      },
      "source": [
        "# model['word'] --> access keyed vectors\n",
        "model['house']"
      ],
      "execution_count": 77,
      "outputs": [
        {
          "output_type": "execute_result",
          "data": {
            "text/plain": [
              "array([ 2.0695e-01,  7.9656e-02,  4.3752e-01,  1.1519e-01, -4.2894e-02,\n",
              "        5.0550e-01, -1.9424e-02,  2.2890e-01,  2.2018e-01, -1.2672e-01,\n",
              "       -1.1345e-01,  3.3551e-01,  4.6808e-01,  3.7312e-01, -2.5111e-01,\n",
              "       -1.1842e-01,  1.6301e-01,  4.3348e-02, -4.7680e-01,  1.8059e-01,\n",
              "        1.5040e-01,  1.5900e-01, -1.0340e-01, -5.9205e-02, -2.1054e-01,\n",
              "       -1.8093e-01,  1.7380e-01,  3.3910e-02, -2.0083e-01,  3.3837e-01,\n",
              "        4.6986e-01,  1.1231e-01, -3.9199e-03, -3.4872e-02,  2.2115e-01,\n",
              "       -2.8744e-01, -3.9006e-01, -2.4090e-01, -1.6768e-01,  4.4849e-01,\n",
              "        1.3874e-01, -4.9120e-02,  3.4582e-01,  1.5075e-01,  3.7149e-01,\n",
              "        3.7103e-01, -1.4188e-01, -1.3651e-01,  8.6161e-02, -5.4532e-01,\n",
              "        6.1135e-01, -7.0246e-03,  6.2059e-02,  2.5860e-02,  1.1958e-02,\n",
              "       -1.2276e-01,  4.2305e-01, -1.3935e-01,  2.2550e-01,  2.2193e-01,\n",
              "       -1.5392e-01,  3.7199e-01, -2.1911e-01,  6.4260e-04, -9.6433e-02,\n",
              "       -3.8005e-01, -4.6484e-02, -1.9214e-01,  9.3353e-02,  1.1636e-01,\n",
              "       -2.7690e-01,  2.4846e-01, -1.8016e-02,  1.4504e-01,  1.4006e-01,\n",
              "       -3.2261e-01,  2.2526e-01, -5.8048e-02,  3.0635e-01, -6.8258e-02,\n",
              "        9.7545e-02,  6.4799e-02,  2.3240e-01, -2.3348e-01, -2.5608e-01,\n",
              "        3.2869e-01, -8.7144e-02, -5.1446e-01, -3.5672e-02, -3.6300e-01,\n",
              "       -1.4197e-01, -2.0854e-01,  2.7508e-01,  5.0633e-02, -3.7147e-01,\n",
              "        1.3759e-01, -7.4264e-02,  3.5701e-01,  1.9886e-01, -1.8423e-02,\n",
              "       -5.7875e-01, -5.0697e-01,  1.5212e-01,  1.3613e-01,  8.9401e-02,\n",
              "        1.5776e-01,  1.0597e-01, -5.0613e-02, -6.1742e-02,  7.2049e-02,\n",
              "        2.1950e-01,  1.9911e-01,  8.3313e-02, -3.3284e-01, -3.0191e-01,\n",
              "       -3.9518e-01,  1.6763e-01, -4.0073e-01,  7.2144e-02, -1.9595e-01,\n",
              "       -3.6811e-01, -1.8112e-01,  1.9021e-01, -1.0110e-01, -4.1621e-01,\n",
              "       -9.8454e-02,  1.1881e-01,  1.6987e-02,  2.2540e-01,  2.7037e-01,\n",
              "        2.3081e-01, -6.4100e-01, -5.3350e-02,  3.0661e-02, -3.6651e-01,\n",
              "        3.3413e-02, -5.4133e-02,  6.2181e-02,  1.3186e-01, -5.0364e-02,\n",
              "       -3.3144e-01, -3.8418e-03,  2.0953e-02, -3.8985e-01,  4.0173e-01,\n",
              "       -3.1561e-01,  1.2351e-01,  2.8475e-01, -1.9426e-01,  3.9772e-01,\n",
              "        3.2801e-01, -4.4067e-01,  1.1767e-01, -1.1629e-01,  2.9285e-01,\n",
              "       -4.6632e-02, -2.6616e-01, -1.4956e-01, -1.4429e-01, -1.7984e-01,\n",
              "       -1.3687e-01, -1.6314e-01, -3.5379e-01, -3.5784e-01,  6.3253e-02,\n",
              "        1.6855e-01, -3.2112e-01, -2.5030e-01,  5.6804e-02,  3.2958e-01,\n",
              "        8.4668e-02,  2.3099e-01, -2.6470e-02, -4.3809e-01, -3.4258e-02,\n",
              "        2.7838e-01,  3.6419e-01,  6.2828e-02,  2.1235e-01,  1.2642e-01,\n",
              "       -2.1860e-02,  5.3725e-01, -1.5271e-01, -1.2486e-01,  4.7590e-01,\n",
              "       -2.4611e-01,  6.4666e-02, -1.2999e-01, -7.4013e-02,  1.5983e-01,\n",
              "        1.4116e-01,  1.8230e-01, -5.6579e-01,  1.8749e-01, -1.2934e-01,\n",
              "        1.2418e-01, -4.0198e-01, -1.2879e-01,  1.7337e-02, -3.9719e-01,\n",
              "        3.1535e-01,  2.5850e-01,  1.7706e-01, -1.6432e-01,  1.4226e-01,\n",
              "        1.5326e-01,  1.1800e-01, -3.0937e-01,  1.6250e-01, -4.7377e-01,\n",
              "       -1.1873e-01, -1.5098e-01,  1.7326e-01, -3.0797e-01, -1.8408e-01,\n",
              "        2.4023e-01,  1.5580e-01, -1.4752e-01,  2.0626e-01, -2.3785e-01,\n",
              "        1.8083e-01, -1.1722e-01, -1.0354e-01,  5.4482e-01,  2.5415e-01,\n",
              "        7.9554e-02, -3.0583e-01,  6.1929e-03,  3.2530e-02,  3.3176e-01,\n",
              "       -6.9554e-02,  4.8711e-01,  2.0778e-01, -1.4612e-01,  8.1402e-02,\n",
              "       -6.9342e-01, -3.3009e-01,  2.1699e-01, -2.0259e-01, -1.8661e-01,\n",
              "       -6.9594e-02, -1.8184e-01,  1.3852e-01,  4.0302e-01,  2.0330e-01,\n",
              "       -1.6891e-01, -2.8960e-01, -1.1784e-01, -4.5272e-02,  4.7307e-01,\n",
              "       -1.1379e-02,  7.7660e-02, -6.9195e-01, -7.0482e-02,  2.2787e-01,\n",
              "        7.2164e-04, -1.4645e-01,  4.5409e-01, -9.6834e-01, -4.5206e-02,\n",
              "       -8.1129e-02, -5.5593e-02,  4.2570e-01,  1.2054e-01, -1.7607e-01,\n",
              "       -5.5598e-02,  3.7665e-01,  1.1918e-01,  1.1897e-01,  7.9065e-02,\n",
              "       -4.6598e-01, -8.8461e-02,  4.2011e-01, -5.3682e-02,  1.1240e-01,\n",
              "        6.3334e-02, -3.9225e-02, -7.7101e-02,  5.0780e-02, -2.6841e-01,\n",
              "       -5.0341e-01, -9.4531e-03, -1.6651e-01, -1.8866e-01, -5.9081e-02,\n",
              "        1.9090e-01, -2.2041e-02, -1.5838e-02, -1.4081e-01, -5.7644e-02,\n",
              "        2.8737e-01, -3.8684e-02,  5.5018e-01,  6.4666e-02, -1.3903e-01,\n",
              "        1.7716e-01,  2.1361e-01, -7.4128e-02, -1.1229e-01, -4.5042e-02],\n",
              "      dtype=float32)"
            ]
          },
          "metadata": {
            "tags": []
          },
          "execution_count": 77
        }
      ]
    },
    {
      "cell_type": "code",
      "metadata": {
        "colab": {
          "base_uri": "https://localhost:8080/",
          "height": 306
        },
        "id": "ne_NndGYeylN",
        "outputId": "670a5a90-c794-4278-bea4-86f9441ffdf0"
      },
      "source": [
        "model['HOUSE']"
      ],
      "execution_count": 76,
      "outputs": [
        {
          "output_type": "error",
          "ename": "KeyError",
          "evalue": "ignored",
          "traceback": [
            "\u001b[0;31m---------------------------------------------------------------------------\u001b[0m",
            "\u001b[0;31mKeyError\u001b[0m                                  Traceback (most recent call last)",
            "\u001b[0;32m<ipython-input-76-27d45641e18e>\u001b[0m in \u001b[0;36m<module>\u001b[0;34m()\u001b[0m\n\u001b[0;32m----> 1\u001b[0;31m \u001b[0mmodel\u001b[0m\u001b[0;34m[\u001b[0m\u001b[0;34m'HOUSE'\u001b[0m\u001b[0;34m]\u001b[0m\u001b[0;34m\u001b[0m\u001b[0;34m\u001b[0m\u001b[0m\n\u001b[0m",
            "\u001b[0;32m/usr/local/lib/python3.6/dist-packages/gensim/models/keyedvectors.py\u001b[0m in \u001b[0;36m__getitem__\u001b[0;34m(self, entities)\u001b[0m\n\u001b[1;32m    335\u001b[0m         \u001b[0;32mif\u001b[0m \u001b[0misinstance\u001b[0m\u001b[0;34m(\u001b[0m\u001b[0mentities\u001b[0m\u001b[0;34m,\u001b[0m \u001b[0mstring_types\u001b[0m\u001b[0;34m)\u001b[0m\u001b[0;34m:\u001b[0m\u001b[0;34m\u001b[0m\u001b[0;34m\u001b[0m\u001b[0m\n\u001b[1;32m    336\u001b[0m             \u001b[0;31m# allow calls like trained_model['office'], as a shorthand for trained_model[['office']]\u001b[0m\u001b[0;34m\u001b[0m\u001b[0;34m\u001b[0m\u001b[0;34m\u001b[0m\u001b[0m\n\u001b[0;32m--> 337\u001b[0;31m             \u001b[0;32mreturn\u001b[0m \u001b[0mself\u001b[0m\u001b[0;34m.\u001b[0m\u001b[0mget_vector\u001b[0m\u001b[0;34m(\u001b[0m\u001b[0mentities\u001b[0m\u001b[0;34m)\u001b[0m\u001b[0;34m\u001b[0m\u001b[0;34m\u001b[0m\u001b[0m\n\u001b[0m\u001b[1;32m    338\u001b[0m \u001b[0;34m\u001b[0m\u001b[0m\n\u001b[1;32m    339\u001b[0m         \u001b[0;32mreturn\u001b[0m \u001b[0mvstack\u001b[0m\u001b[0;34m(\u001b[0m\u001b[0;34m[\u001b[0m\u001b[0mself\u001b[0m\u001b[0;34m.\u001b[0m\u001b[0mget_vector\u001b[0m\u001b[0;34m(\u001b[0m\u001b[0mentity\u001b[0m\u001b[0;34m)\u001b[0m \u001b[0;32mfor\u001b[0m \u001b[0mentity\u001b[0m \u001b[0;32min\u001b[0m \u001b[0mentities\u001b[0m\u001b[0;34m]\u001b[0m\u001b[0;34m)\u001b[0m\u001b[0;34m\u001b[0m\u001b[0;34m\u001b[0m\u001b[0m\n",
            "\u001b[0;32m/usr/local/lib/python3.6/dist-packages/gensim/models/keyedvectors.py\u001b[0m in \u001b[0;36mget_vector\u001b[0;34m(self, word)\u001b[0m\n\u001b[1;32m    453\u001b[0m \u001b[0;34m\u001b[0m\u001b[0m\n\u001b[1;32m    454\u001b[0m     \u001b[0;32mdef\u001b[0m \u001b[0mget_vector\u001b[0m\u001b[0;34m(\u001b[0m\u001b[0mself\u001b[0m\u001b[0;34m,\u001b[0m \u001b[0mword\u001b[0m\u001b[0;34m)\u001b[0m\u001b[0;34m:\u001b[0m\u001b[0;34m\u001b[0m\u001b[0;34m\u001b[0m\u001b[0m\n\u001b[0;32m--> 455\u001b[0;31m         \u001b[0;32mreturn\u001b[0m \u001b[0mself\u001b[0m\u001b[0;34m.\u001b[0m\u001b[0mword_vec\u001b[0m\u001b[0;34m(\u001b[0m\u001b[0mword\u001b[0m\u001b[0;34m)\u001b[0m\u001b[0;34m\u001b[0m\u001b[0;34m\u001b[0m\u001b[0m\n\u001b[0m\u001b[1;32m    456\u001b[0m \u001b[0;34m\u001b[0m\u001b[0m\n\u001b[1;32m    457\u001b[0m     \u001b[0;32mdef\u001b[0m \u001b[0mwords_closer_than\u001b[0m\u001b[0;34m(\u001b[0m\u001b[0mself\u001b[0m\u001b[0;34m,\u001b[0m \u001b[0mw1\u001b[0m\u001b[0;34m,\u001b[0m \u001b[0mw2\u001b[0m\u001b[0;34m)\u001b[0m\u001b[0;34m:\u001b[0m\u001b[0;34m\u001b[0m\u001b[0;34m\u001b[0m\u001b[0m\n",
            "\u001b[0;32m/usr/local/lib/python3.6/dist-packages/gensim/models/keyedvectors.py\u001b[0m in \u001b[0;36mword_vec\u001b[0;34m(self, word, use_norm)\u001b[0m\n\u001b[1;32m    450\u001b[0m             \u001b[0;32mreturn\u001b[0m \u001b[0mresult\u001b[0m\u001b[0;34m\u001b[0m\u001b[0;34m\u001b[0m\u001b[0m\n\u001b[1;32m    451\u001b[0m         \u001b[0;32melse\u001b[0m\u001b[0;34m:\u001b[0m\u001b[0;34m\u001b[0m\u001b[0;34m\u001b[0m\u001b[0m\n\u001b[0;32m--> 452\u001b[0;31m             \u001b[0;32mraise\u001b[0m \u001b[0mKeyError\u001b[0m\u001b[0;34m(\u001b[0m\u001b[0;34m\"word '%s' not in vocabulary\"\u001b[0m \u001b[0;34m%\u001b[0m \u001b[0mword\u001b[0m\u001b[0;34m)\u001b[0m\u001b[0;34m\u001b[0m\u001b[0;34m\u001b[0m\u001b[0m\n\u001b[0m\u001b[1;32m    453\u001b[0m \u001b[0;34m\u001b[0m\u001b[0m\n\u001b[1;32m    454\u001b[0m     \u001b[0;32mdef\u001b[0m \u001b[0mget_vector\u001b[0m\u001b[0;34m(\u001b[0m\u001b[0mself\u001b[0m\u001b[0;34m,\u001b[0m \u001b[0mword\u001b[0m\u001b[0;34m)\u001b[0m\u001b[0;34m:\u001b[0m\u001b[0;34m\u001b[0m\u001b[0;34m\u001b[0m\u001b[0m\n",
            "\u001b[0;31mKeyError\u001b[0m: \"word 'HOUSE' not in vocabulary\""
          ]
        }
      ]
    },
    {
      "cell_type": "markdown",
      "metadata": {
        "id": "Aw44NofcfJ8z"
      },
      "source": [
        "Handle exception: word not in vocabulary"
      ]
    },
    {
      "cell_type": "code",
      "metadata": {
        "colab": {
          "base_uri": "https://localhost:8080/"
        },
        "id": "F7J6f0cydCHS",
        "outputId": "7c3d1464-2f6e-4f3e-8c82-0e5272622039"
      },
      "source": [
        "try:\n",
        "  model.wv['HOUSE']\n",
        "except:\n",
        "  print (\"word not in vocabulary\")"
      ],
      "execution_count": null,
      "outputs": [
        {
          "output_type": "stream",
          "text": [
            "word not in vocabulary\n"
          ],
          "name": "stdout"
        },
        {
          "output_type": "stream",
          "text": [
            "/usr/local/lib/python3.6/dist-packages/ipykernel_launcher.py:2: DeprecationWarning: Call to deprecated `wv` (Attribute will be removed in 4.0.0, use self instead).\n",
            "  \n"
          ],
          "name": "stderr"
        }
      ]
    },
    {
      "cell_type": "markdown",
      "metadata": {
        "id": "1PoZe4TATnc3"
      },
      "source": [
        "Try to calculate cosine similarity:"
      ]
    },
    {
      "cell_type": "code",
      "metadata": {
        "id": "Tw8KXO3_TsZN"
      },
      "source": [
        "from scipy import spatial"
      ],
      "execution_count": null,
      "outputs": []
    },
    {
      "cell_type": "code",
      "metadata": {
        "colab": {
          "base_uri": "https://localhost:8080/"
        },
        "id": "eCSMjb3hi0lC",
        "outputId": "ae0e3bb5-557c-4190-cf52-956a07ced1d2"
      },
      "source": [
        "word1 = model.wv['house']\n",
        "word2 = model.wv['home']\n",
        "\n",
        "cosine_similarity = 1 - spatial.distance.cosine(word1, word2)\n",
        "print(cosine_similarity)"
      ],
      "execution_count": 45,
      "outputs": [
        {
          "output_type": "stream",
          "text": [
            "0.3566957712173462\n"
          ],
          "name": "stdout"
        },
        {
          "output_type": "stream",
          "text": [
            "/usr/local/lib/python3.6/dist-packages/ipykernel_launcher.py:1: DeprecationWarning: Call to deprecated `wv` (Attribute will be removed in 4.0.0, use self instead).\n",
            "  \"\"\"Entry point for launching an IPython kernel.\n",
            "/usr/local/lib/python3.6/dist-packages/ipykernel_launcher.py:2: DeprecationWarning: Call to deprecated `wv` (Attribute will be removed in 4.0.0, use self instead).\n",
            "  \n"
          ],
          "name": "stderr"
        }
      ]
    },
    {
      "cell_type": "markdown",
      "metadata": {
        "id": "uTg-yXNFLJt2"
      },
      "source": [
        "Let's work with the dataframe"
      ]
    },
    {
      "cell_type": "code",
      "metadata": {
        "id": "itTzKn4KqTJN"
      },
      "source": [
        "import numpy as np\n",
        "import pandas as pd"
      ],
      "execution_count": 46,
      "outputs": []
    },
    {
      "cell_type": "markdown",
      "metadata": {
        "id": "iioywQp6TudS"
      },
      "source": [
        "Load the dataframe from csv"
      ]
    },
    {
      "cell_type": "code",
      "metadata": {
        "id": "Ctgf0xCoLFtb"
      },
      "source": [
        "df = pd.read_csv('df_combinations.csv')"
      ],
      "execution_count": 83,
      "outputs": []
    },
    {
      "cell_type": "code",
      "metadata": {
        "colab": {
          "base_uri": "https://localhost:8080/",
          "height": 204
        },
        "id": "viMDvTqcLI48",
        "outputId": "1aa7ad50-12ad-4313-81db-ad1635fd44fe"
      },
      "source": [
        "df.head()"
      ],
      "execution_count": 84,
      "outputs": [
        {
          "output_type": "execute_result",
          "data": {
            "text/html": [
              "<div>\n",
              "<style scoped>\n",
              "    .dataframe tbody tr th:only-of-type {\n",
              "        vertical-align: middle;\n",
              "    }\n",
              "\n",
              "    .dataframe tbody tr th {\n",
              "        vertical-align: top;\n",
              "    }\n",
              "\n",
              "    .dataframe thead th {\n",
              "        text-align: right;\n",
              "    }\n",
              "</style>\n",
              "<table border=\"1\" class=\"dataframe\">\n",
              "  <thead>\n",
              "    <tr style=\"text-align: right;\">\n",
              "      <th></th>\n",
              "      <th>Concepticon_Gloss_1</th>\n",
              "      <th>Concepticon_Gloss_2</th>\n",
              "      <th>Concepticon_ID_1</th>\n",
              "      <th>Concepticon_ID_2</th>\n",
              "    </tr>\n",
              "  </thead>\n",
              "  <tbody>\n",
              "    <tr>\n",
              "      <th>0</th>\n",
              "      <td>gold</td>\n",
              "      <td>good</td>\n",
              "      <td>1369</td>\n",
              "      <td>1035</td>\n",
              "    </tr>\n",
              "    <tr>\n",
              "      <th>1</th>\n",
              "      <td>gold</td>\n",
              "      <td>green</td>\n",
              "      <td>1369</td>\n",
              "      <td>1425</td>\n",
              "    </tr>\n",
              "    <tr>\n",
              "      <th>2</th>\n",
              "      <td>gold</td>\n",
              "      <td>hammer</td>\n",
              "      <td>1369</td>\n",
              "      <td>1481</td>\n",
              "    </tr>\n",
              "    <tr>\n",
              "      <th>3</th>\n",
              "      <td>gold</td>\n",
              "      <td>hand</td>\n",
              "      <td>1369</td>\n",
              "      <td>1277</td>\n",
              "    </tr>\n",
              "    <tr>\n",
              "      <th>4</th>\n",
              "      <td>gold</td>\n",
              "      <td>head</td>\n",
              "      <td>1369</td>\n",
              "      <td>1256</td>\n",
              "    </tr>\n",
              "  </tbody>\n",
              "</table>\n",
              "</div>"
            ],
            "text/plain": [
              "  Concepticon_Gloss_1 Concepticon_Gloss_2  Concepticon_ID_1  Concepticon_ID_2\n",
              "0                gold                good              1369              1035\n",
              "1                gold               green              1369              1425\n",
              "2                gold              hammer              1369              1481\n",
              "3                gold                hand              1369              1277\n",
              "4                gold                head              1369              1256"
            ]
          },
          "metadata": {
            "tags": []
          },
          "execution_count": 84
        }
      ]
    },
    {
      "cell_type": "code",
      "metadata": {
        "colab": {
          "base_uri": "https://localhost:8080/"
        },
        "id": "mPNRfZPtSYM4",
        "outputId": "8672530d-7e9e-40e6-bd05-94aa182dc9d5"
      },
      "source": [
        "# inserted error to handle not in vocabulary exception\n",
        "df['Concepticon_Gloss_1'].loc[0]='gooold'"
      ],
      "execution_count": 78,
      "outputs": [
        {
          "output_type": "stream",
          "text": [
            "/usr/local/lib/python3.6/dist-packages/pandas/core/indexing.py:670: SettingWithCopyWarning: \n",
            "A value is trying to be set on a copy of a slice from a DataFrame\n",
            "\n",
            "See the caveats in the documentation: https://pandas.pydata.org/pandas-docs/stable/user_guide/indexing.html#returning-a-view-versus-a-copy\n",
            "  iloc._setitem_with_indexer(indexer, value)\n"
          ],
          "name": "stderr"
        }
      ]
    },
    {
      "cell_type": "markdown",
      "metadata": {
        "id": "wFH6BM6lR_q8"
      },
      "source": [
        "Let's add the column with cosine similarity"
      ]
    },
    {
      "cell_type": "code",
      "metadata": {
        "colab": {
          "base_uri": "https://localhost:8080/"
        },
        "id": "3XVAly1yMSU9",
        "outputId": "e70529c4-f691-46bf-9255-0a53b9572ecd"
      },
      "source": [
        "# add new column with default 0\n",
        "df['cosine_similarity']=0\n",
        "\n",
        "# for every word in column1 and column2, calculate cosine similarity\n",
        "for i in range(len(df['Concepticon_Gloss_1'])):\n",
        "  try:\n",
        "    w1 = df['Concepticon_Gloss_1'].loc[i]\n",
        "    vec1 = model[w1]\n",
        "    w2 = df['Concepticon_Gloss_2'].loc[i]\n",
        "    vec2 = model[w2]\n",
        "    cosine_similarity = 1 - spatial.distance.cosine(vec1, vec2)\n",
        "  except:\n",
        "    # if the word is not in vocab, cosine similarity is 0\n",
        "    cosine_similarity=0\n",
        "  df['cosine_similarity'].loc[i]=cosine_similarity\n"
      ],
      "execution_count": 81,
      "outputs": [
        {
          "output_type": "stream",
          "text": [
            "/usr/local/lib/python3.6/dist-packages/pandas/core/indexing.py:670: SettingWithCopyWarning: \n",
            "A value is trying to be set on a copy of a slice from a DataFrame\n",
            "\n",
            "See the caveats in the documentation: https://pandas.pydata.org/pandas-docs/stable/user_guide/indexing.html#returning-a-view-versus-a-copy\n",
            "  iloc._setitem_with_indexer(indexer, value)\n"
          ],
          "name": "stderr"
        }
      ]
    },
    {
      "cell_type": "code",
      "metadata": {
        "colab": {
          "base_uri": "https://localhost:8080/",
          "height": 204
        },
        "id": "GXQhpaKiNZki",
        "outputId": "75a7ecc1-1e23-4c64-80fd-2413cb2e6bce"
      },
      "source": [
        "df.head()"
      ],
      "execution_count": 82,
      "outputs": [
        {
          "output_type": "execute_result",
          "data": {
            "text/html": [
              "<div>\n",
              "<style scoped>\n",
              "    .dataframe tbody tr th:only-of-type {\n",
              "        vertical-align: middle;\n",
              "    }\n",
              "\n",
              "    .dataframe tbody tr th {\n",
              "        vertical-align: top;\n",
              "    }\n",
              "\n",
              "    .dataframe thead th {\n",
              "        text-align: right;\n",
              "    }\n",
              "</style>\n",
              "<table border=\"1\" class=\"dataframe\">\n",
              "  <thead>\n",
              "    <tr style=\"text-align: right;\">\n",
              "      <th></th>\n",
              "      <th>Concepticon_Gloss_1</th>\n",
              "      <th>Concepticon_Gloss_2</th>\n",
              "      <th>Concepticon_ID_1</th>\n",
              "      <th>Concepticon_ID_2</th>\n",
              "      <th>cosine_similarity</th>\n",
              "    </tr>\n",
              "  </thead>\n",
              "  <tbody>\n",
              "    <tr>\n",
              "      <th>0</th>\n",
              "      <td>gooold</td>\n",
              "      <td>good</td>\n",
              "      <td>1369</td>\n",
              "      <td>1035</td>\n",
              "      <td>0.000000</td>\n",
              "    </tr>\n",
              "    <tr>\n",
              "      <th>1</th>\n",
              "      <td>gold</td>\n",
              "      <td>green</td>\n",
              "      <td>1369</td>\n",
              "      <td>1425</td>\n",
              "      <td>0.185446</td>\n",
              "    </tr>\n",
              "    <tr>\n",
              "      <th>2</th>\n",
              "      <td>gold</td>\n",
              "      <td>hammer</td>\n",
              "      <td>1369</td>\n",
              "      <td>1481</td>\n",
              "      <td>0.228490</td>\n",
              "    </tr>\n",
              "    <tr>\n",
              "      <th>3</th>\n",
              "      <td>gold</td>\n",
              "      <td>hand</td>\n",
              "      <td>1369</td>\n",
              "      <td>1277</td>\n",
              "      <td>0.112822</td>\n",
              "    </tr>\n",
              "    <tr>\n",
              "      <th>4</th>\n",
              "      <td>gold</td>\n",
              "      <td>head</td>\n",
              "      <td>1369</td>\n",
              "      <td>1256</td>\n",
              "      <td>0.105320</td>\n",
              "    </tr>\n",
              "  </tbody>\n",
              "</table>\n",
              "</div>"
            ],
            "text/plain": [
              "  Concepticon_Gloss_1 Concepticon_Gloss_2  ...  Concepticon_ID_2  cosine_similarity\n",
              "0              gooold                good  ...              1035           0.000000\n",
              "1                gold               green  ...              1425           0.185446\n",
              "2                gold              hammer  ...              1481           0.228490\n",
              "3                gold                hand  ...              1277           0.112822\n",
              "4                gold                head  ...              1256           0.105320\n",
              "\n",
              "[5 rows x 5 columns]"
            ]
          },
          "metadata": {
            "tags": []
          },
          "execution_count": 82
        }
      ]
    }
  ]
}