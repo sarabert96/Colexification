{
  "nbformat": 4,
  "nbformat_minor": 0,
  "metadata": {
    "colab": {
      "name": "09_AnalysisLRpT.ipynb",
      "provenance": [],
      "authorship_tag": "ABX9TyNhnBSjYnirVpL2b5txCxKy",
      "include_colab_link": true
    },
    "kernelspec": {
      "name": "python3",
      "display_name": "Python 3"
    },
    "language_info": {
      "name": "python"
    }
  },
  "cells": [
    {
      "cell_type": "markdown",
      "metadata": {
        "id": "view-in-github",
        "colab_type": "text"
      },
      "source": [
        "<a href=\"https://colab.research.google.com/github/sarabert96/Colexification/blob/main/09_AnalysisLRpT.ipynb\" target=\"_parent\"><img src=\"https://colab.research.google.com/assets/colab-badge.svg\" alt=\"Open In Colab\"/></a>"
      ]
    },
    {
      "cell_type": "markdown",
      "metadata": {
        "id": "qWO4kaEuqU1f"
      },
      "source": [
        "This file load the tables created by the Logistic Regression and look at their values"
      ]
    },
    {
      "cell_type": "code",
      "metadata": {
        "id": "lv6vFcDKmfRV"
      },
      "source": [
        "import pandas as pd"
      ],
      "execution_count": 1,
      "outputs": []
    },
    {
      "cell_type": "code",
      "metadata": {
        "id": "iq2QEx2tnYQi"
      },
      "source": [
        "df_bal = pd.read_csv('df_logreg_bal.csv')\n",
        "df_un = pd.read_csv('df_logreg_un.csv')"
      ],
      "execution_count": 2,
      "outputs": []
    },
    {
      "cell_type": "code",
      "metadata": {
        "colab": {
          "base_uri": "https://localhost:8080/",
          "height": 111
        },
        "id": "HGwXvPeMoHhg",
        "outputId": "f1152f97-e254-4cf6-ed20-7d20c69dda21"
      },
      "source": [
        "df_bal.head(2)"
      ],
      "execution_count": 13,
      "outputs": [
        {
          "output_type": "execute_result",
          "data": {
            "text/html": [
              "<div>\n",
              "<style scoped>\n",
              "    .dataframe tbody tr th:only-of-type {\n",
              "        vertical-align: middle;\n",
              "    }\n",
              "\n",
              "    .dataframe tbody tr th {\n",
              "        vertical-align: top;\n",
              "    }\n",
              "\n",
              "    .dataframe thead th {\n",
              "        text-align: right;\n",
              "    }\n",
              "</style>\n",
              "<table border=\"1\" class=\"dataframe\">\n",
              "  <thead>\n",
              "    <tr style=\"text-align: right;\">\n",
              "      <th></th>\n",
              "      <th>boot_df</th>\n",
              "      <th>random_state</th>\n",
              "      <th>f1_score</th>\n",
              "    </tr>\n",
              "  </thead>\n",
              "  <tbody>\n",
              "    <tr>\n",
              "      <th>0</th>\n",
              "      <td>0</td>\n",
              "      <td>0</td>\n",
              "      <td>0.82</td>\n",
              "    </tr>\n",
              "    <tr>\n",
              "      <th>1</th>\n",
              "      <td>0</td>\n",
              "      <td>1</td>\n",
              "      <td>0.78</td>\n",
              "    </tr>\n",
              "  </tbody>\n",
              "</table>\n",
              "</div>"
            ],
            "text/plain": [
              "   boot_df  random_state  f1_score\n",
              "0        0             0      0.82\n",
              "1        0             1      0.78"
            ]
          },
          "metadata": {
            "tags": []
          },
          "execution_count": 13
        }
      ]
    },
    {
      "cell_type": "code",
      "metadata": {
        "colab": {
          "base_uri": "https://localhost:8080/"
        },
        "id": "e6mR2SgHn5sY",
        "outputId": "7339a465-7d16-4be0-dd02-10991be1a923"
      },
      "source": [
        "df_bal['f1_score'].describe() # we see how much it varies"
      ],
      "execution_count": 5,
      "outputs": [
        {
          "output_type": "execute_result",
          "data": {
            "text/plain": [
              "count    1000.000000\n",
              "mean        0.800510\n",
              "std         0.021724\n",
              "min         0.730000\n",
              "25%         0.790000\n",
              "50%         0.800000\n",
              "75%         0.820000\n",
              "max         0.880000\n",
              "Name: f1_score, dtype: float64"
            ]
          },
          "metadata": {
            "tags": []
          },
          "execution_count": 5
        }
      ]
    },
    {
      "cell_type": "code",
      "metadata": {
        "colab": {
          "base_uri": "https://localhost:8080/",
          "height": 450
        },
        "id": "wNW4nuUQoVs1",
        "outputId": "9c2a5d78-29b2-48c1-e2c4-d7850a960a46"
      },
      "source": [
        "df_bal.groupby('boot_df').describe().f1_score"
      ],
      "execution_count": 10,
      "outputs": [
        {
          "output_type": "execute_result",
          "data": {
            "text/html": [
              "<div>\n",
              "<style scoped>\n",
              "    .dataframe tbody tr th:only-of-type {\n",
              "        vertical-align: middle;\n",
              "    }\n",
              "\n",
              "    .dataframe tbody tr th {\n",
              "        vertical-align: top;\n",
              "    }\n",
              "\n",
              "    .dataframe thead th {\n",
              "        text-align: right;\n",
              "    }\n",
              "</style>\n",
              "<table border=\"1\" class=\"dataframe\">\n",
              "  <thead>\n",
              "    <tr style=\"text-align: right;\">\n",
              "      <th></th>\n",
              "      <th>count</th>\n",
              "      <th>mean</th>\n",
              "      <th>std</th>\n",
              "      <th>min</th>\n",
              "      <th>25%</th>\n",
              "      <th>50%</th>\n",
              "      <th>75%</th>\n",
              "      <th>max</th>\n",
              "    </tr>\n",
              "    <tr>\n",
              "      <th>boot_df</th>\n",
              "      <th></th>\n",
              "      <th></th>\n",
              "      <th></th>\n",
              "      <th></th>\n",
              "      <th></th>\n",
              "      <th></th>\n",
              "      <th></th>\n",
              "      <th></th>\n",
              "    </tr>\n",
              "  </thead>\n",
              "  <tbody>\n",
              "    <tr>\n",
              "      <th>0</th>\n",
              "      <td>10.0</td>\n",
              "      <td>0.805</td>\n",
              "      <td>0.019579</td>\n",
              "      <td>0.77</td>\n",
              "      <td>0.8000</td>\n",
              "      <td>0.805</td>\n",
              "      <td>0.8175</td>\n",
              "      <td>0.83</td>\n",
              "    </tr>\n",
              "    <tr>\n",
              "      <th>1</th>\n",
              "      <td>10.0</td>\n",
              "      <td>0.791</td>\n",
              "      <td>0.021318</td>\n",
              "      <td>0.77</td>\n",
              "      <td>0.7725</td>\n",
              "      <td>0.785</td>\n",
              "      <td>0.8000</td>\n",
              "      <td>0.83</td>\n",
              "    </tr>\n",
              "    <tr>\n",
              "      <th>2</th>\n",
              "      <td>10.0</td>\n",
              "      <td>0.819</td>\n",
              "      <td>0.017288</td>\n",
              "      <td>0.79</td>\n",
              "      <td>0.8100</td>\n",
              "      <td>0.820</td>\n",
              "      <td>0.8300</td>\n",
              "      <td>0.85</td>\n",
              "    </tr>\n",
              "    <tr>\n",
              "      <th>3</th>\n",
              "      <td>10.0</td>\n",
              "      <td>0.820</td>\n",
              "      <td>0.025820</td>\n",
              "      <td>0.78</td>\n",
              "      <td>0.8025</td>\n",
              "      <td>0.820</td>\n",
              "      <td>0.8275</td>\n",
              "      <td>0.87</td>\n",
              "    </tr>\n",
              "    <tr>\n",
              "      <th>4</th>\n",
              "      <td>10.0</td>\n",
              "      <td>0.797</td>\n",
              "      <td>0.018288</td>\n",
              "      <td>0.77</td>\n",
              "      <td>0.7900</td>\n",
              "      <td>0.790</td>\n",
              "      <td>0.8075</td>\n",
              "      <td>0.83</td>\n",
              "    </tr>\n",
              "    <tr>\n",
              "      <th>...</th>\n",
              "      <td>...</td>\n",
              "      <td>...</td>\n",
              "      <td>...</td>\n",
              "      <td>...</td>\n",
              "      <td>...</td>\n",
              "      <td>...</td>\n",
              "      <td>...</td>\n",
              "      <td>...</td>\n",
              "    </tr>\n",
              "    <tr>\n",
              "      <th>95</th>\n",
              "      <td>10.0</td>\n",
              "      <td>0.793</td>\n",
              "      <td>0.019465</td>\n",
              "      <td>0.76</td>\n",
              "      <td>0.7825</td>\n",
              "      <td>0.790</td>\n",
              "      <td>0.8100</td>\n",
              "      <td>0.82</td>\n",
              "    </tr>\n",
              "    <tr>\n",
              "      <th>96</th>\n",
              "      <td>10.0</td>\n",
              "      <td>0.803</td>\n",
              "      <td>0.011595</td>\n",
              "      <td>0.78</td>\n",
              "      <td>0.8000</td>\n",
              "      <td>0.805</td>\n",
              "      <td>0.8100</td>\n",
              "      <td>0.82</td>\n",
              "    </tr>\n",
              "    <tr>\n",
              "      <th>97</th>\n",
              "      <td>10.0</td>\n",
              "      <td>0.794</td>\n",
              "      <td>0.024129</td>\n",
              "      <td>0.75</td>\n",
              "      <td>0.7800</td>\n",
              "      <td>0.800</td>\n",
              "      <td>0.8075</td>\n",
              "      <td>0.83</td>\n",
              "    </tr>\n",
              "    <tr>\n",
              "      <th>98</th>\n",
              "      <td>10.0</td>\n",
              "      <td>0.787</td>\n",
              "      <td>0.020028</td>\n",
              "      <td>0.76</td>\n",
              "      <td>0.7725</td>\n",
              "      <td>0.785</td>\n",
              "      <td>0.7975</td>\n",
              "      <td>0.83</td>\n",
              "    </tr>\n",
              "    <tr>\n",
              "      <th>99</th>\n",
              "      <td>10.0</td>\n",
              "      <td>0.787</td>\n",
              "      <td>0.028304</td>\n",
              "      <td>0.73</td>\n",
              "      <td>0.7900</td>\n",
              "      <td>0.790</td>\n",
              "      <td>0.7975</td>\n",
              "      <td>0.83</td>\n",
              "    </tr>\n",
              "  </tbody>\n",
              "</table>\n",
              "<p>100 rows × 8 columns</p>\n",
              "</div>"
            ],
            "text/plain": [
              "         count   mean       std   min     25%    50%     75%   max\n",
              "boot_df                                                           \n",
              "0         10.0  0.805  0.019579  0.77  0.8000  0.805  0.8175  0.83\n",
              "1         10.0  0.791  0.021318  0.77  0.7725  0.785  0.8000  0.83\n",
              "2         10.0  0.819  0.017288  0.79  0.8100  0.820  0.8300  0.85\n",
              "3         10.0  0.820  0.025820  0.78  0.8025  0.820  0.8275  0.87\n",
              "4         10.0  0.797  0.018288  0.77  0.7900  0.790  0.8075  0.83\n",
              "...        ...    ...       ...   ...     ...    ...     ...   ...\n",
              "95        10.0  0.793  0.019465  0.76  0.7825  0.790  0.8100  0.82\n",
              "96        10.0  0.803  0.011595  0.78  0.8000  0.805  0.8100  0.82\n",
              "97        10.0  0.794  0.024129  0.75  0.7800  0.800  0.8075  0.83\n",
              "98        10.0  0.787  0.020028  0.76  0.7725  0.785  0.7975  0.83\n",
              "99        10.0  0.787  0.028304  0.73  0.7900  0.790  0.7975  0.83\n",
              "\n",
              "[100 rows x 8 columns]"
            ]
          },
          "metadata": {
            "tags": []
          },
          "execution_count": 10
        }
      ]
    },
    {
      "cell_type": "code",
      "metadata": {
        "colab": {
          "base_uri": "https://localhost:8080/",
          "height": 111
        },
        "id": "K1UhvXPdpjkJ",
        "outputId": "6a0a1c2b-fc2f-47f8-bc99-39470065e08b"
      },
      "source": [
        "df_un.head(2)"
      ],
      "execution_count": 12,
      "outputs": [
        {
          "output_type": "execute_result",
          "data": {
            "text/html": [
              "<div>\n",
              "<style scoped>\n",
              "    .dataframe tbody tr th:only-of-type {\n",
              "        vertical-align: middle;\n",
              "    }\n",
              "\n",
              "    .dataframe tbody tr th {\n",
              "        vertical-align: top;\n",
              "    }\n",
              "\n",
              "    .dataframe thead th {\n",
              "        text-align: right;\n",
              "    }\n",
              "</style>\n",
              "<table border=\"1\" class=\"dataframe\">\n",
              "  <thead>\n",
              "    <tr style=\"text-align: right;\">\n",
              "      <th></th>\n",
              "      <th>boot_df</th>\n",
              "      <th>random_state</th>\n",
              "      <th>f1_score</th>\n",
              "    </tr>\n",
              "  </thead>\n",
              "  <tbody>\n",
              "    <tr>\n",
              "      <th>0</th>\n",
              "      <td>0</td>\n",
              "      <td>0</td>\n",
              "      <td>0.63</td>\n",
              "    </tr>\n",
              "    <tr>\n",
              "      <th>1</th>\n",
              "      <td>0</td>\n",
              "      <td>1</td>\n",
              "      <td>0.63</td>\n",
              "    </tr>\n",
              "  </tbody>\n",
              "</table>\n",
              "</div>"
            ],
            "text/plain": [
              "   boot_df  random_state  f1_score\n",
              "0        0             0      0.63\n",
              "1        0             1      0.63"
            ]
          },
          "metadata": {
            "tags": []
          },
          "execution_count": 12
        }
      ]
    },
    {
      "cell_type": "code",
      "metadata": {
        "colab": {
          "base_uri": "https://localhost:8080/"
        },
        "id": "3iP1gpR3pe4r",
        "outputId": "c9e667bb-6e12-4e20-a8fb-f66917930df9"
      },
      "source": [
        "df_un['f1_score'].describe()"
      ],
      "execution_count": 11,
      "outputs": [
        {
          "output_type": "execute_result",
          "data": {
            "text/plain": [
              "count    1000.000000\n",
              "mean        0.628190\n",
              "std         0.005819\n",
              "min         0.610000\n",
              "25%         0.630000\n",
              "50%         0.630000\n",
              "75%         0.630000\n",
              "max         0.640000\n",
              "Name: f1_score, dtype: float64"
            ]
          },
          "metadata": {
            "tags": []
          },
          "execution_count": 11
        }
      ]
    }
  ]
}