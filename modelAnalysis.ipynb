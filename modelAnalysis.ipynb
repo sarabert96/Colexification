{
  "nbformat": 4,
  "nbformat_minor": 0,
  "metadata": {
    "colab": {
      "name": "modelAnalysis.ipynb",
      "provenance": [],
      "authorship_tag": "ABX9TyPrKv0mndLXev7f68J8qUtJ",
      "include_colab_link": true
    },
    "kernelspec": {
      "name": "python3",
      "display_name": "Python 3"
    }
  },
  "cells": [
    {
      "cell_type": "markdown",
      "metadata": {
        "id": "view-in-github",
        "colab_type": "text"
      },
      "source": [
        "<a href=\"https://colab.research.google.com/github/sarabert96/Colexification/blob/main/modelAnalysis.ipynb\" target=\"_parent\"><img src=\"https://colab.research.google.com/assets/colab-badge.svg\" alt=\"Open In Colab\"/></a>"
      ]
    },
    {
      "cell_type": "code",
      "metadata": {
        "colab": {
          "base_uri": "https://localhost:8080/"
        },
        "id": "D9hFn6bnXgUB",
        "outputId": "9216911b-22d8-4417-bab6-84412098c8a7"
      },
      "source": [
        "pip install fasttext"
      ],
      "execution_count": 2,
      "outputs": [
        {
          "output_type": "stream",
          "text": [
            "Collecting fasttext\n",
            "\u001b[?25l  Downloading https://files.pythonhosted.org/packages/f8/85/e2b368ab6d3528827b147fdb814f8189acc981a4bc2f99ab894650e05c40/fasttext-0.9.2.tar.gz (68kB)\n",
            "\r\u001b[K     |████▊                           | 10kB 15.4MB/s eta 0:00:01\r\u001b[K     |█████████▌                      | 20kB 14.8MB/s eta 0:00:01\r\u001b[K     |██████████████▎                 | 30kB 8.4MB/s eta 0:00:01\r\u001b[K     |███████████████████             | 40kB 6.9MB/s eta 0:00:01\r\u001b[K     |███████████████████████▉        | 51kB 4.4MB/s eta 0:00:01\r\u001b[K     |████████████████████████████▋   | 61kB 4.8MB/s eta 0:00:01\r\u001b[K     |████████████████████████████████| 71kB 3.2MB/s \n",
            "\u001b[?25hRequirement already satisfied: pybind11>=2.2 in /usr/local/lib/python3.6/dist-packages (from fasttext) (2.6.2)\n",
            "Requirement already satisfied: setuptools>=0.7.0 in /usr/local/lib/python3.6/dist-packages (from fasttext) (53.0.0)\n",
            "Requirement already satisfied: numpy in /usr/local/lib/python3.6/dist-packages (from fasttext) (1.19.5)\n",
            "Building wheels for collected packages: fasttext\n",
            "  Building wheel for fasttext (setup.py) ... \u001b[?25l\u001b[?25hdone\n",
            "  Created wheel for fasttext: filename=fasttext-0.9.2-cp36-cp36m-linux_x86_64.whl size=3097393 sha256=82507a7dcb02e03b2532c8d91cd05bb4b7c9a4ce1ac62dc8811de1fc92c3e14e\n",
            "  Stored in directory: /root/.cache/pip/wheels/98/ba/7f/b154944a1cf5a8cee91c154b75231136cc3a3321ab0e30f592\n",
            "Successfully built fasttext\n",
            "Installing collected packages: fasttext\n",
            "Successfully installed fasttext-0.9.2\n"
          ],
          "name": "stdout"
        }
      ]
    },
    {
      "cell_type": "code",
      "metadata": {
        "colab": {
          "base_uri": "https://localhost:8080/"
        },
        "id": "kXPs7uDLXOFq",
        "outputId": "713a5fb7-c6d1-4319-d50e-94d2b710a063"
      },
      "source": [
        "import fasttext.util\r\n",
        "fasttext.util.download_model('en', if_exists='ignore')  # English\r\n",
        "ft = fasttext.load_model('cc.en.300.bin')"
      ],
      "execution_count": 3,
      "outputs": [
        {
          "output_type": "stream",
          "text": [
            "Downloading https://dl.fbaipublicfiles.com/fasttext/vectors-crawl/cc.en.300.bin.gz\n"
          ],
          "name": "stdout"
        },
        {
          "output_type": "stream",
          "text": [
            "Warning : `load_model` does not return WordVectorModel or SupervisedModel any more, but a `FastText` object which is very similar.\n"
          ],
          "name": "stderr"
        }
      ]
    },
    {
      "cell_type": "markdown",
      "metadata": {
        "id": "toKe_WBgCeXi"
      },
      "source": [
        "ft.words contains the vocabulary of the training"
      ]
    },
    {
      "cell_type": "code",
      "metadata": {
        "colab": {
          "base_uri": "https://localhost:8080/"
        },
        "id": "e4E_H1tSfKuQ",
        "outputId": "d7ea647b-300d-442e-d988-290b3bf8a0cf"
      },
      "source": [
        "len(ft.words)"
      ],
      "execution_count": 10,
      "outputs": [
        {
          "output_type": "execute_result",
          "data": {
            "text/plain": [
              "2000000"
            ]
          },
          "metadata": {
            "tags": []
          },
          "execution_count": 10
        }
      ]
    },
    {
      "cell_type": "code",
      "metadata": {
        "colab": {
          "base_uri": "https://localhost:8080/"
        },
        "id": "cydxnmW-gcrn",
        "outputId": "69e9fe32-97d3-489b-b032-deb47017c2dc"
      },
      "source": [
        "i = 0\r\n",
        "for w in ft.words:\r\n",
        "  if len(w) > 2:\r\n",
        "    if not w.islower():\r\n",
        "      print(w)\r\n",
        "      i+=1\r\n",
        "    if i > 20:\r\n",
        "      break"
      ],
      "execution_count": 15,
      "outputs": [
        {
          "output_type": "stream",
          "text": [
            "The\n",
            "...\n",
            "This\n",
            "You\n",
            "And\n",
            "But\n",
            "May\n",
            "New\n",
            "There\n",
            "They\n",
            "UTC\n",
            "2017\n",
            "For\n",
            "2012\n",
            "2013\n",
            "What\n",
            "2016\n",
            "She\n",
            "That\n",
            "2011\n",
            "When\n"
          ],
          "name": "stdout"
        }
      ]
    },
    {
      "cell_type": "code",
      "metadata": {
        "colab": {
          "base_uri": "https://localhost:8080/"
        },
        "id": "xJYDzr5HiWDc",
        "outputId": "7147e6a9-9bf8-419f-a4c8-9310fb03d99d"
      },
      "source": [
        "i = 0\r\n",
        "for w in ft.words:\r\n",
        "  if len(w) > 5:\r\n",
        "    if w.isupper():\r\n",
        "      print(w)\r\n",
        "      i+=1\r\n",
        "    if i > 20:\r\n",
        "      break"
      ],
      "execution_count": 17,
      "outputs": [
        {
          "output_type": "stream",
          "text": [
            "REALLY\n",
            "LINEAR\n",
            "NASCAR\n",
            "U.S.A.\n",
            "PLEASE\n",
            "U.S.C.\n",
            "UPDATE\n",
            "UNESCO\n",
            "NASDAQ\n",
            "REPORT\n",
            "WASHINGTON\n",
            "AMAZING\n",
            "RELATED\n",
            "SOUNDBITE\n",
            "HIDDEN\n",
            "ALWAYS\n",
            "REVIEW\n",
            "BEFORE\n",
            "PUBLISHED\n",
            "LIMITED\n",
            "AWESOME\n"
          ],
          "name": "stdout"
        }
      ]
    },
    {
      "cell_type": "markdown",
      "metadata": {
        "id": "aWh4Uc09ClR-"
      },
      "source": [
        "The vocabulary contains both upper cased words and lower cased words"
      ]
    },
    {
      "cell_type": "code",
      "metadata": {
        "colab": {
          "base_uri": "https://localhost:8080/"
        },
        "id": "cUncyx4eigfN",
        "outputId": "4ec9a4d5-0078-490e-fab5-31d63b2b1ff6"
      },
      "source": [
        "if \"HOME\" in ft.words:\r\n",
        "  print(\"yes\")"
      ],
      "execution_count": 18,
      "outputs": [
        {
          "output_type": "stream",
          "text": [
            "yes\n"
          ],
          "name": "stdout"
        }
      ]
    },
    {
      "cell_type": "code",
      "metadata": {
        "colab": {
          "base_uri": "https://localhost:8080/"
        },
        "id": "GfgsGnhYisjT",
        "outputId": "9983b7fe-22ec-45b2-ea64-ddab2d48fa9b"
      },
      "source": [
        "i = 0\r\n",
        "for w in ft.words:\r\n",
        "  if not w.islower():\r\n",
        "    i+=1\r\n",
        "print(i)"
      ],
      "execution_count": 21,
      "outputs": [
        {
          "output_type": "stream",
          "text": [
            "1401752\n"
          ],
          "name": "stdout"
        }
      ]
    },
    {
      "cell_type": "code",
      "metadata": {
        "colab": {
          "base_uri": "https://localhost:8080/"
        },
        "id": "BpDzUbdMi0h6",
        "outputId": "35ae59bb-dfa3-4889-93f3-828dd9b4f3d0"
      },
      "source": [
        "i = 0\r\n",
        "for w in ft.words:\r\n",
        "  if w.islower():\r\n",
        "    i+=1\r\n",
        "print(i)"
      ],
      "execution_count": 20,
      "outputs": [
        {
          "output_type": "stream",
          "text": [
            "598248\n"
          ],
          "name": "stdout"
        }
      ]
    },
    {
      "cell_type": "code",
      "metadata": {
        "id": "rlQdd_tKjUgO"
      },
      "source": [
        "for w in ft.words:\r\n",
        "  if \" \" in w:\r\n",
        "    print (w)"
      ],
      "execution_count": 24,
      "outputs": []
    },
    {
      "cell_type": "markdown",
      "metadata": {
        "id": "QLlHiP3VjrlY"
      },
      "source": [
        "The model does not contain multiwords!"
      ]
    },
    {
      "cell_type": "code",
      "metadata": {
        "colab": {
          "base_uri": "https://localhost:8080/"
        },
        "id": "F-zgctLDkWtV",
        "outputId": "450a4c0e-438c-405e-c7ef-b11d5447b95d"
      },
      "source": [
        "for w in ft.words:\r\n",
        "  if \"getup\" in w:\r\n",
        "    print (w)"
      ],
      "execution_count": 27,
      "outputs": [
        {
          "output_type": "stream",
          "text": [
            "getup\n",
            "getups\n"
          ],
          "name": "stdout"
        }
      ]
    },
    {
      "cell_type": "code",
      "metadata": {
        "colab": {
          "base_uri": "https://localhost:8080/"
        },
        "id": "k1XTSrY6kiUk",
        "outputId": "b932317e-556c-45dc-9158-fb500548873a"
      },
      "source": [
        "ft['get up']"
      ],
      "execution_count": 29,
      "outputs": [
        {
          "output_type": "execute_result",
          "data": {
            "text/plain": [
              "array([ 0.01125088, -0.00126413,  0.01894519, -0.07633367, -0.02273032,\n",
              "        0.06411128, -0.01896905, -0.01548549, -0.0453443 ,  0.01067886,\n",
              "        0.05659634,  0.01176114, -0.03230068,  0.06334971,  0.05747681,\n",
              "       -0.03920516,  0.02645547,  0.01334887,  0.00176243,  0.00639842,\n",
              "        0.02632519, -0.0350817 , -0.04645174, -0.02009312,  0.09412307,\n",
              "        0.04028532, -0.00450444, -0.01286397,  0.03865978,  0.03235072,\n",
              "        0.00661368,  0.02958472,  0.01146471, -0.01632274,  0.02630389,\n",
              "       -0.03354609, -0.0378925 ,  0.10300389, -0.00492663,  0.06250076,\n",
              "       -0.0330561 ,  0.03261541,  0.0325776 , -0.01556089,  0.11640613,\n",
              "       -0.03524346,  0.07379061,  0.06232751, -0.00614173,  0.01357307,\n",
              "       -0.01607403, -0.05497786,  0.10620415, -0.05655862,  0.03360844,\n",
              "        0.02747282,  0.04762714, -0.02605972,  0.04215156,  0.02890902,\n",
              "        0.00455724,  0.0559033 , -0.03580372,  0.05979654,  0.04418487,\n",
              "       -0.0489204 ,  0.015003  ,  0.10365976, -0.02907562, -0.04112002,\n",
              "        0.04108606,  0.00943612, -0.06713822,  0.01404339, -0.06157778,\n",
              "       -0.03280574,  0.11839654,  0.03148511,  0.02160364, -0.00739719,\n",
              "       -0.06092346,  0.00508576, -0.01833212, -0.02582999,  0.05510627,\n",
              "       -0.06037524, -0.02268571, -0.02476217,  0.0164252 ,  0.06016687,\n",
              "       -0.02873805, -0.05794592, -0.07266544, -0.05190735,  0.08091819,\n",
              "        0.03662778,  0.01765526,  0.01044162, -0.02389486,  0.05028436,\n",
              "        0.01585461,  0.00893175, -0.03089982,  0.02240317, -0.02053501,\n",
              "        0.04524114, -0.03107822,  0.00059926, -0.01099684,  0.11544009,\n",
              "       -0.00901889,  0.00244844,  0.02068447, -0.0313081 , -0.02701292,\n",
              "        0.04125751,  0.0452507 ,  0.04832144,  0.02266122,  0.06264646,\n",
              "        0.02718379,  0.03566121,  0.06607882,  0.02726678,  0.03237475,\n",
              "        0.0054876 , -0.01305451,  0.02700939, -0.0410697 , -0.03714277,\n",
              "        0.013497  , -0.02302594,  0.01254207,  0.0184162 , -0.01361534,\n",
              "       -0.05292853,  0.0741232 , -0.01666567, -0.02620419, -0.03754598,\n",
              "        0.05174667, -0.04924839, -0.01576721,  0.02163221, -0.07983133,\n",
              "       -0.01993081, -0.08489006,  0.01791794, -0.00619027, -0.09838377,\n",
              "        0.0027778 ,  0.04552396, -0.06239255, -0.01244368, -0.07911032,\n",
              "        0.02225966,  0.01285959, -0.00830292, -0.0162643 , -0.03722049,\n",
              "        0.04126709,  0.06352876, -0.03858959, -0.05502335, -0.01586429,\n",
              "       -0.02069985,  0.04765302, -0.00394829, -0.01896774,  0.00355699,\n",
              "        0.02937338, -0.03343271, -0.01049692,  0.09987913, -0.00876029,\n",
              "        0.00272908, -0.0355533 , -0.04975384,  0.05258323, -0.0445728 ,\n",
              "        0.01755572,  0.02704006,  0.0123976 , -0.11045515, -0.00710396,\n",
              "        0.02243477,  0.04760118, -0.04314347,  0.01197137, -0.05945806,\n",
              "        0.01199885, -0.03467851,  0.02303454,  0.03136803,  0.03937076,\n",
              "       -0.0848402 ,  0.00447938,  0.00126505, -0.04340898,  0.04495236,\n",
              "       -0.04499452, -0.05155665, -0.02758006, -0.00846295,  0.00886097,\n",
              "       -0.03002212,  0.09880586,  0.05088931, -0.01161086,  0.03424291,\n",
              "       -0.04325479, -0.04631127,  0.06768148, -0.00580458,  0.02449243,\n",
              "        0.01462375,  0.05297881,  0.0373983 ,  0.02609747, -0.03066895,\n",
              "       -0.06136977, -0.0638108 ,  0.04545937,  0.04399983, -0.02263705,\n",
              "       -0.0119058 ,  0.02309886,  0.07477093,  0.04397007,  0.02888348,\n",
              "        0.01921837,  0.08628143, -0.01489209,  0.05976711,  0.08906262,\n",
              "       -0.06996016, -0.02174739, -0.00690827, -0.02353194, -0.05422785,\n",
              "        0.04155117, -0.05864552, -0.00531838,  0.02549903,  0.00786994,\n",
              "       -0.00824555,  0.02027682,  0.02104108, -0.01364977, -0.03112789,\n",
              "       -0.02585744, -0.12414134,  0.00670108, -0.02406868,  0.0161969 ,\n",
              "       -0.05275661, -0.00029822,  0.02677818,  0.03997273,  0.01802426,\n",
              "        0.01204847, -0.06811178, -0.08304286, -0.06453568, -0.01335861,\n",
              "       -0.03859474,  0.02293991, -0.0401019 , -0.02835415,  0.01110675,\n",
              "       -0.03571893,  0.00646972, -0.08217447, -0.00909634, -0.00851023,\n",
              "       -0.04011958, -0.06557436,  0.05808166,  0.00947621,  0.01499769,\n",
              "        0.02117316, -0.0254907 , -0.04912397,  0.01871447,  0.01901414,\n",
              "        0.05448741,  0.01143647, -0.01132803,  0.0412027 ,  0.08685332,\n",
              "        0.06885142, -0.02389293,  0.00961668,  0.03261387,  0.06062703,\n",
              "       -0.03420792,  0.01315304,  0.06483649, -0.03056685, -0.00328512],\n",
              "      dtype=float32)"
            ]
          },
          "metadata": {
            "tags": []
          },
          "execution_count": 29
        }
      ]
    },
    {
      "cell_type": "code",
      "metadata": {
        "colab": {
          "base_uri": "https://localhost:8080/"
        },
        "id": "MhaRcIj9kqQS",
        "outputId": "56811b9f-df61-4b59-ae5d-383681a72288"
      },
      "source": [
        "ft.get_nearest_neighbors('home')"
      ],
      "execution_count": 32,
      "outputs": [
        {
          "output_type": "execute_result",
          "data": {
            "text/plain": [
              "[(0.6497685313224792, 'house'),\n",
              " (0.6378368139266968, 'home.The'),\n",
              " (0.6096574068069458, 'home-'),\n",
              " (0.6070505380630493, 'home.When'),\n",
              " (0.6065410375595093, 'home.This'),\n",
              " (0.6049942970275879, 'homee'),\n",
              " (0.597357451915741, 'home.So'),\n",
              " (0.5968023538589478, 'home.It'),\n",
              " (0.5953357815742493, 'home.While'),\n",
              " (0.5911316871643066, 'home.')]"
            ]
          },
          "metadata": {
            "tags": []
          },
          "execution_count": 32
        }
      ]
    },
    {
      "cell_type": "code",
      "metadata": {
        "colab": {
          "base_uri": "https://localhost:8080/"
        },
        "id": "4cjj7FSuADzs",
        "outputId": "e82f73cb-2ce0-496a-bba4-3354e272c8da"
      },
      "source": [
        "ft['get up']"
      ],
      "execution_count": 37,
      "outputs": [
        {
          "output_type": "execute_result",
          "data": {
            "text/plain": [
              "array([ 0.01125088, -0.00126413,  0.01894519, -0.07633367, -0.02273032,\n",
              "        0.06411128, -0.01896905, -0.01548549, -0.0453443 ,  0.01067886,\n",
              "        0.05659634,  0.01176114, -0.03230068,  0.06334971,  0.05747681,\n",
              "       -0.03920516,  0.02645547,  0.01334887,  0.00176243,  0.00639842,\n",
              "        0.02632519, -0.0350817 , -0.04645174, -0.02009312,  0.09412307,\n",
              "        0.04028532, -0.00450444, -0.01286397,  0.03865978,  0.03235072,\n",
              "        0.00661368,  0.02958472,  0.01146471, -0.01632274,  0.02630389,\n",
              "       -0.03354609, -0.0378925 ,  0.10300389, -0.00492663,  0.06250076,\n",
              "       -0.0330561 ,  0.03261541,  0.0325776 , -0.01556089,  0.11640613,\n",
              "       -0.03524346,  0.07379061,  0.06232751, -0.00614173,  0.01357307,\n",
              "       -0.01607403, -0.05497786,  0.10620415, -0.05655862,  0.03360844,\n",
              "        0.02747282,  0.04762714, -0.02605972,  0.04215156,  0.02890902,\n",
              "        0.00455724,  0.0559033 , -0.03580372,  0.05979654,  0.04418487,\n",
              "       -0.0489204 ,  0.015003  ,  0.10365976, -0.02907562, -0.04112002,\n",
              "        0.04108606,  0.00943612, -0.06713822,  0.01404339, -0.06157778,\n",
              "       -0.03280574,  0.11839654,  0.03148511,  0.02160364, -0.00739719,\n",
              "       -0.06092346,  0.00508576, -0.01833212, -0.02582999,  0.05510627,\n",
              "       -0.06037524, -0.02268571, -0.02476217,  0.0164252 ,  0.06016687,\n",
              "       -0.02873805, -0.05794592, -0.07266544, -0.05190735,  0.08091819,\n",
              "        0.03662778,  0.01765526,  0.01044162, -0.02389486,  0.05028436,\n",
              "        0.01585461,  0.00893175, -0.03089982,  0.02240317, -0.02053501,\n",
              "        0.04524114, -0.03107822,  0.00059926, -0.01099684,  0.11544009,\n",
              "       -0.00901889,  0.00244844,  0.02068447, -0.0313081 , -0.02701292,\n",
              "        0.04125751,  0.0452507 ,  0.04832144,  0.02266122,  0.06264646,\n",
              "        0.02718379,  0.03566121,  0.06607882,  0.02726678,  0.03237475,\n",
              "        0.0054876 , -0.01305451,  0.02700939, -0.0410697 , -0.03714277,\n",
              "        0.013497  , -0.02302594,  0.01254207,  0.0184162 , -0.01361534,\n",
              "       -0.05292853,  0.0741232 , -0.01666567, -0.02620419, -0.03754598,\n",
              "        0.05174667, -0.04924839, -0.01576721,  0.02163221, -0.07983133,\n",
              "       -0.01993081, -0.08489006,  0.01791794, -0.00619027, -0.09838377,\n",
              "        0.0027778 ,  0.04552396, -0.06239255, -0.01244368, -0.07911032,\n",
              "        0.02225966,  0.01285959, -0.00830292, -0.0162643 , -0.03722049,\n",
              "        0.04126709,  0.06352876, -0.03858959, -0.05502335, -0.01586429,\n",
              "       -0.02069985,  0.04765302, -0.00394829, -0.01896774,  0.00355699,\n",
              "        0.02937338, -0.03343271, -0.01049692,  0.09987913, -0.00876029,\n",
              "        0.00272908, -0.0355533 , -0.04975384,  0.05258323, -0.0445728 ,\n",
              "        0.01755572,  0.02704006,  0.0123976 , -0.11045515, -0.00710396,\n",
              "        0.02243477,  0.04760118, -0.04314347,  0.01197137, -0.05945806,\n",
              "        0.01199885, -0.03467851,  0.02303454,  0.03136803,  0.03937076,\n",
              "       -0.0848402 ,  0.00447938,  0.00126505, -0.04340898,  0.04495236,\n",
              "       -0.04499452, -0.05155665, -0.02758006, -0.00846295,  0.00886097,\n",
              "       -0.03002212,  0.09880586,  0.05088931, -0.01161086,  0.03424291,\n",
              "       -0.04325479, -0.04631127,  0.06768148, -0.00580458,  0.02449243,\n",
              "        0.01462375,  0.05297881,  0.0373983 ,  0.02609747, -0.03066895,\n",
              "       -0.06136977, -0.0638108 ,  0.04545937,  0.04399983, -0.02263705,\n",
              "       -0.0119058 ,  0.02309886,  0.07477093,  0.04397007,  0.02888348,\n",
              "        0.01921837,  0.08628143, -0.01489209,  0.05976711,  0.08906262,\n",
              "       -0.06996016, -0.02174739, -0.00690827, -0.02353194, -0.05422785,\n",
              "        0.04155117, -0.05864552, -0.00531838,  0.02549903,  0.00786994,\n",
              "       -0.00824555,  0.02027682,  0.02104108, -0.01364977, -0.03112789,\n",
              "       -0.02585744, -0.12414134,  0.00670108, -0.02406868,  0.0161969 ,\n",
              "       -0.05275661, -0.00029822,  0.02677818,  0.03997273,  0.01802426,\n",
              "        0.01204847, -0.06811178, -0.08304286, -0.06453568, -0.01335861,\n",
              "       -0.03859474,  0.02293991, -0.0401019 , -0.02835415,  0.01110675,\n",
              "       -0.03571893,  0.00646972, -0.08217447, -0.00909634, -0.00851023,\n",
              "       -0.04011958, -0.06557436,  0.05808166,  0.00947621,  0.01499769,\n",
              "        0.02117316, -0.0254907 , -0.04912397,  0.01871447,  0.01901414,\n",
              "        0.05448741,  0.01143647, -0.01132803,  0.0412027 ,  0.08685332,\n",
              "        0.06885142, -0.02389293,  0.00961668,  0.03261387,  0.06062703,\n",
              "       -0.03420792,  0.01315304,  0.06483649, -0.03056685, -0.00328512],\n",
              "      dtype=float32)"
            ]
          },
          "metadata": {
            "tags": []
          },
          "execution_count": 37
        }
      ]
    },
    {
      "cell_type": "code",
      "metadata": {
        "colab": {
          "base_uri": "https://localhost:8080/"
        },
        "id": "6zxKcZxSIYhF",
        "outputId": "e8067047-bd50-47df-95ec-01379ffbba45"
      },
      "source": [
        "ft['home'] == ft['HOME']"
      ],
      "execution_count": 38,
      "outputs": [
        {
          "output_type": "execute_result",
          "data": {
            "text/plain": [
              "array([False, False, False, False, False, False, False, False, False,\n",
              "       False, False, False, False, False, False, False, False, False,\n",
              "       False, False, False, False, False, False, False, False, False,\n",
              "       False, False, False, False, False, False, False, False, False,\n",
              "       False, False, False, False, False, False, False, False, False,\n",
              "       False, False, False, False, False, False, False, False, False,\n",
              "       False, False, False, False, False, False, False, False, False,\n",
              "       False, False, False, False, False, False, False, False, False,\n",
              "       False, False, False, False, False, False, False, False, False,\n",
              "       False, False, False, False, False, False, False, False, False,\n",
              "       False, False, False, False, False, False, False, False, False,\n",
              "       False, False, False, False, False, False, False, False, False,\n",
              "       False, False, False, False, False, False, False, False, False,\n",
              "       False, False, False, False, False, False, False, False, False,\n",
              "       False, False, False, False, False, False, False, False, False,\n",
              "       False, False, False, False, False, False, False, False, False,\n",
              "       False, False, False, False, False, False, False, False, False,\n",
              "       False, False, False, False, False, False, False, False, False,\n",
              "       False, False, False, False, False, False, False, False, False,\n",
              "       False, False, False, False, False, False, False, False, False,\n",
              "       False, False, False, False, False, False, False, False, False,\n",
              "       False, False, False, False, False, False, False, False, False,\n",
              "       False, False, False, False, False, False, False, False, False,\n",
              "       False, False, False, False, False, False, False, False, False,\n",
              "       False, False, False, False, False, False, False, False, False,\n",
              "       False, False, False, False, False, False, False, False, False,\n",
              "       False, False, False, False, False, False, False, False, False,\n",
              "       False, False, False, False, False, False, False, False, False,\n",
              "       False, False, False, False, False, False, False, False, False,\n",
              "       False, False, False, False, False, False, False, False, False,\n",
              "       False, False, False, False, False, False, False, False, False,\n",
              "       False, False, False, False, False, False, False, False, False,\n",
              "       False, False, False, False, False, False, False, False, False,\n",
              "       False, False, False])"
            ]
          },
          "metadata": {
            "tags": []
          },
          "execution_count": 38
        }
      ]
    }
  ]
}