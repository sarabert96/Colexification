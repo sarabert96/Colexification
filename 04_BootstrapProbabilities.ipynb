{
  "nbformat": 4,
  "nbformat_minor": 0,
  "metadata": {
    "colab": {
      "name": "04_BootstrapProbabilities.ipynb",
      "provenance": [],
      "include_colab_link": true
    },
    "kernelspec": {
      "name": "python3",
      "display_name": "Python 3"
    }
  },
  "cells": [
    {
      "cell_type": "markdown",
      "metadata": {
        "id": "view-in-github",
        "colab_type": "text"
      },
      "source": [
        "<a href=\"https://colab.research.google.com/github/sarabert96/Colexification/blob/main/04_BootstrapProbabilities.ipynb\" target=\"_parent\"><img src=\"https://colab.research.google.com/assets/colab-badge.svg\" alt=\"Open In Colab\"/></a>"
      ]
    },
    {
      "cell_type": "markdown",
      "metadata": {
        "id": "mGbkW_fk3vLh"
      },
      "source": [
        "# Bootstrap and calculating of probabilities\n",
        "The file does a bootstrapping and for every cicle it calculates the probability of finding a specific colexification in any of the families. \n",
        "\n",
        "These probabilies are saved in a list and subsequently in a file."
      ]
    },
    {
      "cell_type": "code",
      "metadata": {
        "id": "vDsky5weNdWc"
      },
      "source": [
        "import pandas as pd\n",
        "import numpy as np\n",
        "from collections import Counter\n",
        "import random"
      ],
      "execution_count": null,
      "outputs": []
    },
    {
      "cell_type": "markdown",
      "metadata": {
        "id": "98ftwWluMeKe"
      },
      "source": [
        "Import cleaned version of colexification dataframe from Drive"
      ]
    },
    {
      "cell_type": "code",
      "metadata": {
        "colab": {
          "base_uri": "https://localhost:8080/"
        },
        "id": "fdAcOv2z1xXz",
        "outputId": "82996599-4a00-4b20-cb26-00c5096c717d"
      },
      "source": [
        "!gdown --id 1YmX2hOvKM5vVRiT7UlCnDKezbYTRZ-kG #df_colexifications"
      ],
      "execution_count": null,
      "outputs": [
        {
          "output_type": "stream",
          "text": [
            "Downloading...\n",
            "From: https://drive.google.com/uc?id=1YmX2hOvKM5vVRiT7UlCnDKezbYTRZ-kG\n",
            "To: /content/df_colexifications.csv\n",
            "7.57MB [00:00, 45.7MB/s]\n"
          ],
          "name": "stdout"
        }
      ]
    },
    {
      "cell_type": "code",
      "metadata": {
        "id": "WqzY7bVkd0ad"
      },
      "source": [
        "df_colex = pd.read_csv('df_colexifications.csv')"
      ],
      "execution_count": null,
      "outputs": []
    },
    {
      "cell_type": "code",
      "metadata": {
        "colab": {
          "base_uri": "https://localhost:8080/"
        },
        "id": "_Wx2t5AQN_-P",
        "outputId": "f449e9f5-ba3c-4062-c490-3029ff4c747f"
      },
      "source": [
        "df_colex.groupby('Family').size()"
      ],
      "execution_count": null,
      "outputs": [
        {
          "output_type": "execute_result",
          "data": {
            "text/plain": [
              "Family\n",
              "Abkhaz-Adyge     302\n",
              "Abun               3\n",
              "Afro-Asiatic    2653\n",
              "Aikanã            21\n",
              "Ainu              70\n",
              "                ... \n",
              "Yuat               6\n",
              "Yukaghir         168\n",
              "Yámana           129\n",
              "Zamucoan         175\n",
              "Zuni             145\n",
              "Length: 181, dtype: int64"
            ]
          },
          "metadata": {
            "tags": []
          },
          "execution_count": 4
        }
      ]
    },
    {
      "cell_type": "markdown",
      "metadata": {
        "id": "USxZjKBuhjgt"
      },
      "source": [
        "Take the number of families"
      ]
    },
    {
      "cell_type": "code",
      "metadata": {
        "id": "k-vpQvI1hbcF"
      },
      "source": [
        "nFam = len(df_colex.groupby('Family').size())"
      ],
      "execution_count": null,
      "outputs": []
    },
    {
      "cell_type": "markdown",
      "metadata": {
        "id": "xKxI42YbCbA8"
      },
      "source": [
        "Add concepticon_pair column"
      ]
    },
    {
      "cell_type": "code",
      "metadata": {
        "id": "n6n0VNd0CaQi"
      },
      "source": [
        "df_colex['Concepticon_pair']=list(zip(df_colex['Concepticon_Gloss.x'],df_colex['Concepticon_Gloss.y']))"
      ],
      "execution_count": null,
      "outputs": []
    },
    {
      "cell_type": "code",
      "metadata": {
        "colab": {
          "base_uri": "https://localhost:8080/",
          "height": 111
        },
        "id": "WpdnLuj1CoTP",
        "outputId": "74293a22-6cb6-4cfe-df88-3bfa44e08ca0"
      },
      "source": [
        "df_colex.head(2)"
      ],
      "execution_count": null,
      "outputs": [
        {
          "output_type": "execute_result",
          "data": {
            "text/html": [
              "<div>\n",
              "<style scoped>\n",
              "    .dataframe tbody tr th:only-of-type {\n",
              "        vertical-align: middle;\n",
              "    }\n",
              "\n",
              "    .dataframe tbody tr th {\n",
              "        vertical-align: top;\n",
              "    }\n",
              "\n",
              "    .dataframe thead th {\n",
              "        text-align: right;\n",
              "    }\n",
              "</style>\n",
              "<table border=\"1\" class=\"dataframe\">\n",
              "  <thead>\n",
              "    <tr style=\"text-align: right;\">\n",
              "      <th></th>\n",
              "      <th>clics_form</th>\n",
              "      <th>Concepticon_ID.x</th>\n",
              "      <th>Glottocode</th>\n",
              "      <th>Concepticon_Gloss.x</th>\n",
              "      <th>Family</th>\n",
              "      <th>variety</th>\n",
              "      <th>Concepticon_ID.y</th>\n",
              "      <th>Concepticon_Gloss.y</th>\n",
              "      <th>Concepticon_pair</th>\n",
              "    </tr>\n",
              "  </thead>\n",
              "  <tbody>\n",
              "    <tr>\n",
              "      <th>0</th>\n",
              "      <td>s@</td>\n",
              "      <td>1369</td>\n",
              "      <td>hrus1242</td>\n",
              "      <td>gold</td>\n",
              "      <td>Hruso</td>\n",
              "      <td>Hruso Aka Jamiri</td>\n",
              "      <td>1927</td>\n",
              "      <td>bamboo</td>\n",
              "      <td>(gold, bamboo)</td>\n",
              "    </tr>\n",
              "    <tr>\n",
              "      <th>1</th>\n",
              "      <td>s@</td>\n",
              "      <td>1369</td>\n",
              "      <td>hrus1242</td>\n",
              "      <td>gold</td>\n",
              "      <td>Hruso</td>\n",
              "      <td>Hruso Aka Jamiri</td>\n",
              "      <td>946</td>\n",
              "      <td>blood</td>\n",
              "      <td>(gold, blood)</td>\n",
              "    </tr>\n",
              "  </tbody>\n",
              "</table>\n",
              "</div>"
            ],
            "text/plain": [
              "  clics_form  Concepticon_ID.x  ... Concepticon_Gloss.y Concepticon_pair\n",
              "0         s@              1369  ...              bamboo   (gold, bamboo)\n",
              "1         s@              1369  ...               blood    (gold, blood)\n",
              "\n",
              "[2 rows x 9 columns]"
            ]
          },
          "metadata": {
            "tags": []
          },
          "execution_count": 7
        }
      ]
    },
    {
      "cell_type": "code",
      "metadata": {
        "id": "GoboIrrZOvvN"
      },
      "source": [
        "# df_fam --> df with families and varieties\n",
        "df_fam = df_colex[['Family','Glottocode']].copy()"
      ],
      "execution_count": null,
      "outputs": []
    },
    {
      "cell_type": "code",
      "metadata": {
        "id": "K6UIXfBcOxku"
      },
      "source": [
        "df_fam=df_fam.drop_duplicates()\n"
      ],
      "execution_count": null,
      "outputs": []
    },
    {
      "cell_type": "code",
      "metadata": {
        "id": "DaxRcOzCkdZo"
      },
      "source": [
        "dicFam = df_fam.groupby(['Family']).size().to_dict() # dictionary with number of variety"
      ],
      "execution_count": null,
      "outputs": []
    },
    {
      "cell_type": "markdown",
      "metadata": {
        "id": "9dcrjRtd1JHw"
      },
      "source": [
        "### BOOTSTRAP function"
      ]
    },
    {
      "cell_type": "code",
      "metadata": {
        "id": "6-HPMjzd1Unj"
      },
      "source": [
        "from statistics import mean\n",
        "import time\n",
        "times = []\n",
        "\n",
        "def timer(start,end):\n",
        "  hours, rem = divmod(end-start, 3600)\n",
        "  minutes, seconds = divmod(rem, 60)\n",
        "  print('TIME: ',\"{:0>2}:{:0>2}:{:05.2f}\".format(int(hours),int(minutes),seconds))\n",
        "  if not times: # if empty\n",
        "     times.append(end-start)\n",
        "  else:\n",
        "     times.append(end-start-times[-1])\n",
        "\n",
        "\n",
        "def colex_prob_any(x, suppDf):\n",
        "  # x = df of only one colex_pair\n",
        "  sumProb = sum(x['Prob_colex_fam'])\n",
        "  prob = sumProb / nFam # prob of finding colex in any fam, ex. if 1 always found\n",
        "  newEl = [x['Colex_pair'].iloc[0], prob]\n",
        "  suppDf.append(newEl)\n",
        "\n",
        "\n",
        "def concept_glot_rep(x, suppDf):\n",
        "  # x = df divided by concepticon inside only one family\n",
        "  totGlot = len(x['Glottocode']) # how many languages have that colexification faking to have different families from bootstrap --> NO SET\n",
        "  # NB we don't have repetitions of Concepticon_pair in a variety, if we have it, it's just because we did the bootstrap with replacement\n",
        "  newEl = [x['Family'].iloc[0], x['Concepticon_pair'].iloc[0], totGlot]\n",
        "  suppDf.append(newEl)\n",
        "\n",
        "\n",
        "def colex_fam(x, suppDf):\n",
        "  # x = df divided by family\n",
        "  x.groupby('Concepticon_pair').apply(lambda y: concept_glot_rep(y, suppDf))\n",
        "\n",
        "\n",
        "def bootstrapping(cicle):\n",
        "  # cicle = number of repetitions\n",
        "  print (\"Running bootstrapping function\")\n",
        "  start_time = time.time()\n",
        "\n",
        "  listBoot = []\n",
        "  \n",
        "  for k in range (cicle):\n",
        "    # create new df with random varieties\n",
        "    new_df_fam = df_fam.groupby(['Family']).apply(lambda x: x.sample(n=(len(x['Glottocode'])), replace=True)).reset_index(drop = True)\n",
        "    # create list with varieties chosen\n",
        "    listVar=new_df_fam.Glottocode.tolist()\n",
        "    print(\"List of linguistic varieties chosen\")\n",
        "    # new df\n",
        "    boot_df = pd.DataFrame()\n",
        "\n",
        "    for v in listVar:\n",
        "      # for every variety, take all colexification and put them into boot_df\n",
        "      boot_df=boot_df.append(df_colex.loc[df_colex['Glottocode'] == v], ignore_index = True)\n",
        "\n",
        "    suppDf = [] # new empty list\n",
        "\n",
        "    print(\"Taking families grouped by concepticon pair and counting number of varieties with the same colexification\")\n",
        "\n",
        "    boot_df.groupby(['Family']).apply(lambda x: colex_fam(x, suppDf))\n",
        "    print(\"Created dataframe with colexification from chosen varieties\")\n",
        "    # new df from list obtained by functions\n",
        "    df_sum = pd.DataFrame(suppDf, columns=['Family', 'Colex_pair', 'Glot_sum'])\n",
        "\n",
        "    df_sum['Prob_colex_fam']='' # new empty column\n",
        "\n",
        "    for i in range(len(df_sum['Colex_pair'])):\n",
        "      fam = df_sum['Family'].iloc[i] # take the family for the row\n",
        "      rep = df_sum['Glot_sum'].iloc[i] # take glottocode repetition\n",
        "      div = rep / dicFam[fam]\n",
        "      df_sum['Prob_colex_fam'].iloc[i] = div # rate of colex within a fam --> prob of finiding that colex inside fam\n",
        "\n",
        "    suppDf = [] # empty the list\n",
        "\n",
        "    print(\"Counting colex frequency among all families\")\n",
        "    df_sum.groupby(['Colex_pair']).apply(lambda x: colex_prob_any(x, suppDf))\n",
        "\n",
        "    listBoot.append(suppDf) # add list to list of bootstrap\n",
        "    # df_colex_prob = pd.DataFrame(suppDf, columns=['Colex_pair', 'Prob']) # to save in df\n",
        "    print(\"Finished cicle number\", k)\n",
        "    timer(start_time, time.time())\n",
        "    print('\\n')\n",
        "\n",
        "  return listBoot\n",
        "\n"
      ],
      "execution_count": null,
      "outputs": []
    },
    {
      "cell_type": "code",
      "metadata": {
        "colab": {
          "base_uri": "https://localhost:8080/"
        },
        "id": "Mdo3DQ9j9tk2",
        "outputId": "a4d68fae-5429-400c-9772-2e6af7e97803"
      },
      "source": [
        "random.seed(70) # random number \n",
        "lBoot = bootstrapping(3) # number is how many cicles\n",
        "\n",
        "hours, rem = divmod(mean(times), 3600)\n",
        "minutes, seconds = divmod(rem, 60)\n",
        "print('Average time of each cicle: : ',\"{:0>2}:{:0>2}:{:05.2f}\".format(int(hours),int(minutes),seconds))"
      ],
      "execution_count": null,
      "outputs": [
        {
          "output_type": "stream",
          "text": [
            "Running bootstrapping function\n",
            "List of linguistic varieties chosen\n",
            "Taking families grouped by concepticon pair and counting number of varieties with the same colexification\n",
            "Created dataframe with colexification from chosen varieties\n"
          ],
          "name": "stdout"
        },
        {
          "output_type": "stream",
          "text": [
            "/usr/local/lib/python3.7/dist-packages/pandas/core/indexing.py:670: SettingWithCopyWarning: \n",
            "A value is trying to be set on a copy of a slice from a DataFrame\n",
            "\n",
            "See the caveats in the documentation: https://pandas.pydata.org/pandas-docs/stable/user_guide/indexing.html#returning-a-view-versus-a-copy\n",
            "  iloc._setitem_with_indexer(indexer, value)\n"
          ],
          "name": "stderr"
        },
        {
          "output_type": "stream",
          "text": [
            "Counting colex frequency among all families\n",
            "Finished cicle number 0\n",
            "TIME:  00:01:25.95\n",
            "\n",
            "\n",
            "List of linguistic varieties chosen\n",
            "Taking families grouped by concepticon pair and counting number of varieties with the same colexification\n",
            "Created dataframe with colexification from chosen varieties\n",
            "Counting colex frequency among all families\n",
            "Finished cicle number 1\n",
            "TIME:  00:03:07.72\n",
            "\n",
            "\n",
            "List of linguistic varieties chosen\n",
            "Taking families grouped by concepticon pair and counting number of varieties with the same colexification\n",
            "Created dataframe with colexification from chosen varieties\n",
            "Counting colex frequency among all families\n",
            "Finished cicle number 2\n",
            "TIME:  00:05:06.79\n",
            "\n",
            "\n",
            "Average time of each cicle: :  00:02:10.91\n"
          ],
          "name": "stdout"
        }
      ]
    },
    {
      "cell_type": "code",
      "metadata": {
        "id": "q0KkF0cx9ouJ"
      },
      "source": [
        "import pickle\n",
        "with open(\"listBoot.txt\", \"wb\") as fp:   #Pickling\n",
        "  pickle.dump(lBoot, fp)"
      ],
      "execution_count": null,
      "outputs": []
    },
    {
      "cell_type": "code",
      "metadata": {
        "colab": {
          "base_uri": "https://localhost:8080/",
          "height": 17
        },
        "id": "QOM41e3SAhXR",
        "outputId": "8943ba31-b9d8-4547-d46f-edc64afe5360"
      },
      "source": [
        "from google.colab import files\n",
        "files.download('listBoot.txt')"
      ],
      "execution_count": null,
      "outputs": [
        {
          "output_type": "display_data",
          "data": {
            "application/javascript": [
              "\n",
              "    async function download(id, filename, size) {\n",
              "      if (!google.colab.kernel.accessAllowed) {\n",
              "        return;\n",
              "      }\n",
              "      const div = document.createElement('div');\n",
              "      const label = document.createElement('label');\n",
              "      label.textContent = `Downloading \"${filename}\": `;\n",
              "      div.appendChild(label);\n",
              "      const progress = document.createElement('progress');\n",
              "      progress.max = size;\n",
              "      div.appendChild(progress);\n",
              "      document.body.appendChild(div);\n",
              "\n",
              "      const buffers = [];\n",
              "      let downloaded = 0;\n",
              "\n",
              "      const channel = await google.colab.kernel.comms.open(id);\n",
              "      // Send a message to notify the kernel that we're ready.\n",
              "      channel.send({})\n",
              "\n",
              "      for await (const message of channel.messages) {\n",
              "        // Send a message to notify the kernel that we're ready.\n",
              "        channel.send({})\n",
              "        if (message.buffers) {\n",
              "          for (const buffer of message.buffers) {\n",
              "            buffers.push(buffer);\n",
              "            downloaded += buffer.byteLength;\n",
              "            progress.value = downloaded;\n",
              "          }\n",
              "        }\n",
              "      }\n",
              "      const blob = new Blob(buffers, {type: 'application/binary'});\n",
              "      const a = document.createElement('a');\n",
              "      a.href = window.URL.createObjectURL(blob);\n",
              "      a.download = filename;\n",
              "      div.appendChild(a);\n",
              "      a.click();\n",
              "      div.remove();\n",
              "    }\n",
              "  "
            ],
            "text/plain": [
              "<IPython.core.display.Javascript object>"
            ]
          },
          "metadata": {
            "tags": []
          }
        },
        {
          "output_type": "display_data",
          "data": {
            "application/javascript": [
              "download(\"download_295d8a06-ccce-496d-a16a-c52ebef7949d\", \"listBoot.txt\", 6357809)"
            ],
            "text/plain": [
              "<IPython.core.display.Javascript object>"
            ]
          },
          "metadata": {
            "tags": []
          }
        }
      ]
    }
  ]
}