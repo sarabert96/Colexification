{
  "nbformat": 4,
  "nbformat_minor": 0,
  "metadata": {
    "colab": {
      "name": "07_LogisticRegression_3ver.ipynb",
      "provenance": [],
      "authorship_tag": "ABX9TyPxXn3XYqq99HavPEvC92rk",
      "include_colab_link": true
    },
    "kernelspec": {
      "name": "python3",
      "display_name": "Python 3"
    },
    "language_info": {
      "name": "python"
    }
  },
  "cells": [
    {
      "cell_type": "markdown",
      "metadata": {
        "id": "view-in-github",
        "colab_type": "text"
      },
      "source": [
        "<a href=\"https://colab.research.google.com/github/sarabert96/Colexification/blob/main/07_LogisticRegression_3ver.ipynb\" target=\"_parent\"><img src=\"https://colab.research.google.com/assets/colab-badge.svg\" alt=\"Open In Colab\"/></a>"
      ]
    },
    {
      "cell_type": "markdown",
      "metadata": {
        "id": "PJPJUPpKbPaV"
      },
      "source": [
        "# Logistic Regression\n",
        "\n",
        "The file contains 3 version of computation:\n",
        "\n",
        "1.   Having the real data, consider a part as 1 and another as 0\n",
        "2.   Having the real data, consider a part as 1 and another as 0 of the same size\n",
        "3.   Consider the real data as 1 and create unattested colexifications considered 0\n",
        "\n",
        "In the cases 1 and 2, the Regression model tries to predict the most probable colexifications; in the case 3 it tries to predict whether a pair is at all a colexification.\n",
        "\n",
        "The computation are executed only on one dataframe and not on every cycle of the bootstrap. This is a testing!"
      ]
    },
    {
      "cell_type": "markdown",
      "metadata": {
        "id": "e1sB2Exe10yG"
      },
      "source": [
        "### Version 1\n",
        "Use a model to predict binary value on real data"
      ]
    },
    {
      "cell_type": "code",
      "metadata": {
        "id": "U4vtYXTN0JEa"
      },
      "source": [
        "from google.colab import files\n",
        "import pickle\n",
        "import pandas as pd"
      ],
      "execution_count": null,
      "outputs": []
    },
    {
      "cell_type": "code",
      "metadata": {
        "colab": {
          "base_uri": "https://localhost:8080/"
        },
        "id": "n_tSs6KUuiVh",
        "outputId": "e9ac3528-140c-4b18-f59b-4eebc071fa60"
      },
      "source": [
        "!gdown --id 1tu36NAL3MyHMkajE7wEDffbF0OI5fidY #listBoot\n",
        "# bootstrappping with 3 as number of cicle"
      ],
      "execution_count": null,
      "outputs": [
        {
          "output_type": "stream",
          "text": [
            "Downloading...\n",
            "From: https://drive.google.com/uc?id=1tu36NAL3MyHMkajE7wEDffbF0OI5fidY\n",
            "To: /content/listBoot.txt\n",
            "6.36MB [00:00, 20.2MB/s]\n"
          ],
          "name": "stdout"
        }
      ]
    },
    {
      "cell_type": "code",
      "metadata": {
        "id": "bTk9-PMTuluS"
      },
      "source": [
        "with open(\"listBoot.txt\", \"rb\") as fp:   # Unpickling\n",
        "  lBoot = pickle.load(fp)"
      ],
      "execution_count": null,
      "outputs": []
    },
    {
      "cell_type": "code",
      "metadata": {
        "id": "wSgdaaqx23AR"
      },
      "source": [
        "lChoosen = lBoot[1] # to avoid problems when changing number\n",
        "C1 = [i[0][0] for i in lChoosen]\n",
        "C2 = [i[0][1] for i in lChoosen]\n",
        "df = pd.DataFrame(lChoosen, columns=['Colex_pair', 'Prob']) # to save in df\n",
        "df ['Concept1'] = C1\n",
        "df['Concept2'] = C2"
      ],
      "execution_count": null,
      "outputs": []
    },
    {
      "cell_type": "code",
      "metadata": {
        "colab": {
          "base_uri": "https://localhost:8080/",
          "height": 111
        },
        "id": "hpTVjLaU0qCA",
        "outputId": "a517fde5-f1fa-44f2-efc4-1624d3b17ddc"
      },
      "source": [
        "df.head(2)"
      ],
      "execution_count": null,
      "outputs": [
        {
          "output_type": "execute_result",
          "data": {
            "text/html": [
              "<div>\n",
              "<style scoped>\n",
              "    .dataframe tbody tr th:only-of-type {\n",
              "        vertical-align: middle;\n",
              "    }\n",
              "\n",
              "    .dataframe tbody tr th {\n",
              "        vertical-align: top;\n",
              "    }\n",
              "\n",
              "    .dataframe thead th {\n",
              "        text-align: right;\n",
              "    }\n",
              "</style>\n",
              "<table border=\"1\" class=\"dataframe\">\n",
              "  <thead>\n",
              "    <tr style=\"text-align: right;\">\n",
              "      <th></th>\n",
              "      <th>Colex_pair</th>\n",
              "      <th>Prob</th>\n",
              "      <th>Concept1</th>\n",
              "      <th>Concept2</th>\n",
              "    </tr>\n",
              "  </thead>\n",
              "  <tbody>\n",
              "    <tr>\n",
              "      <th>0</th>\n",
              "      <td>(a little, what)</td>\n",
              "      <td>0.000044</td>\n",
              "      <td>a little</td>\n",
              "      <td>what</td>\n",
              "    </tr>\n",
              "    <tr>\n",
              "      <th>1</th>\n",
              "      <td>(above, black)</td>\n",
              "      <td>0.000153</td>\n",
              "      <td>above</td>\n",
              "      <td>black</td>\n",
              "    </tr>\n",
              "  </tbody>\n",
              "</table>\n",
              "</div>"
            ],
            "text/plain": [
              "         Colex_pair      Prob  Concept1 Concept2\n",
              "0  (a little, what)  0.000044  a little     what\n",
              "1    (above, black)  0.000153     above    black"
            ]
          },
          "metadata": {
            "tags": []
          },
          "execution_count": 5
        }
      ]
    },
    {
      "cell_type": "code",
      "metadata": {
        "id": "tErmOa5w01DI"
      },
      "source": [
        "df = df.sort_values(by=['Prob'])\n",
        "df = df.reset_index(drop = True)"
      ],
      "execution_count": null,
      "outputs": []
    },
    {
      "cell_type": "markdown",
      "metadata": {
        "id": "T4uiWFwgrbL4"
      },
      "source": [
        "Set boolean column using histogram value: the top 2% is considered 1, the remaining, 0\n",
        "\n"
      ]
    },
    {
      "cell_type": "code",
      "metadata": {
        "id": "CAyjyh9f057f"
      },
      "source": [
        "totN = df.shape[0]\n",
        "selected = round(totN * 0.02)\n",
        "df ['Colex_bool'] = 0\n",
        "df.loc[( totN - selected) : ,'Colex_bool'] = 1"
      ],
      "execution_count": null,
      "outputs": []
    },
    {
      "cell_type": "code",
      "metadata": {
        "colab": {
          "base_uri": "https://localhost:8080/"
        },
        "id": "TyN-YY321DfP",
        "outputId": "6dc54390-4c89-428b-f725-4a5ccb7cfa92"
      },
      "source": [
        "df.groupby('Colex_bool').size()"
      ],
      "execution_count": null,
      "outputs": [
        {
          "output_type": "execute_result",
          "data": {
            "text/plain": [
              "Colex_bool\n",
              "0    42871\n",
              "1      875\n",
              "dtype: int64"
            ]
          },
          "metadata": {
            "tags": []
          },
          "execution_count": 8
        }
      ]
    },
    {
      "cell_type": "code",
      "metadata": {
        "colab": {
          "base_uri": "https://localhost:8080/",
          "height": 111
        },
        "id": "lGqCaEjUy_Tn",
        "outputId": "59dd5c05-f70f-4487-8776-512bf2edbbba"
      },
      "source": [
        "df.head(2)"
      ],
      "execution_count": null,
      "outputs": [
        {
          "output_type": "execute_result",
          "data": {
            "text/html": [
              "<div>\n",
              "<style scoped>\n",
              "    .dataframe tbody tr th:only-of-type {\n",
              "        vertical-align: middle;\n",
              "    }\n",
              "\n",
              "    .dataframe tbody tr th {\n",
              "        vertical-align: top;\n",
              "    }\n",
              "\n",
              "    .dataframe thead th {\n",
              "        text-align: right;\n",
              "    }\n",
              "</style>\n",
              "<table border=\"1\" class=\"dataframe\">\n",
              "  <thead>\n",
              "    <tr style=\"text-align: right;\">\n",
              "      <th></th>\n",
              "      <th>Colex_pair</th>\n",
              "      <th>Prob</th>\n",
              "      <th>Concept1</th>\n",
              "      <th>Concept2</th>\n",
              "      <th>Colex_bool</th>\n",
              "    </tr>\n",
              "  </thead>\n",
              "  <tbody>\n",
              "    <tr>\n",
              "      <th>0</th>\n",
              "      <td>(chew, ring)</td>\n",
              "      <td>0.000016</td>\n",
              "      <td>chew</td>\n",
              "      <td>ring</td>\n",
              "      <td>0</td>\n",
              "    </tr>\n",
              "    <tr>\n",
              "      <th>1</th>\n",
              "      <td>(wages, chop)</td>\n",
              "      <td>0.000016</td>\n",
              "      <td>wages</td>\n",
              "      <td>chop</td>\n",
              "      <td>0</td>\n",
              "    </tr>\n",
              "  </tbody>\n",
              "</table>\n",
              "</div>"
            ],
            "text/plain": [
              "      Colex_pair      Prob Concept1 Concept2  Colex_bool\n",
              "0   (chew, ring)  0.000016     chew     ring           0\n",
              "1  (wages, chop)  0.000016    wages     chop           0"
            ]
          },
          "metadata": {
            "tags": []
          },
          "execution_count": 9
        }
      ]
    },
    {
      "cell_type": "markdown",
      "metadata": {
        "id": "abWe_1b-3_d6"
      },
      "source": [
        "## Obtain Cosine values from other file!!\n",
        "\n",
        "The current file doesn't contain the FastText model to calculate cosines. It is necessary to obtain these values from another file."
      ]
    },
    {
      "cell_type": "code",
      "metadata": {
        "id": "NuO3_bL-3_OA"
      },
      "source": [
        "df.to_csv('df_supp.csv', index = False)"
      ],
      "execution_count": null,
      "outputs": []
    },
    {
      "cell_type": "code",
      "metadata": {
        "id": "P2H4n7LF4S-u"
      },
      "source": [
        "df = pd.read_csv('df_cosines.csv')"
      ],
      "execution_count": null,
      "outputs": []
    },
    {
      "cell_type": "code",
      "metadata": {
        "colab": {
          "base_uri": "https://localhost:8080/",
          "height": 111
        },
        "id": "HbFHkvxXntg7",
        "outputId": "4599f3e6-911a-4290-bc94-a84fe83032c4"
      },
      "source": [
        "df.head(2)"
      ],
      "execution_count": null,
      "outputs": [
        {
          "output_type": "execute_result",
          "data": {
            "text/html": [
              "<div>\n",
              "<style scoped>\n",
              "    .dataframe tbody tr th:only-of-type {\n",
              "        vertical-align: middle;\n",
              "    }\n",
              "\n",
              "    .dataframe tbody tr th {\n",
              "        vertical-align: top;\n",
              "    }\n",
              "\n",
              "    .dataframe thead th {\n",
              "        text-align: right;\n",
              "    }\n",
              "</style>\n",
              "<table border=\"1\" class=\"dataframe\">\n",
              "  <thead>\n",
              "    <tr style=\"text-align: right;\">\n",
              "      <th></th>\n",
              "      <th>Colex_pair</th>\n",
              "      <th>Prob</th>\n",
              "      <th>Concept1</th>\n",
              "      <th>Concept2</th>\n",
              "      <th>Colex_bool</th>\n",
              "      <th>Cosine</th>\n",
              "    </tr>\n",
              "  </thead>\n",
              "  <tbody>\n",
              "    <tr>\n",
              "      <th>0</th>\n",
              "      <td>('chew', 'ring')</td>\n",
              "      <td>0.000016</td>\n",
              "      <td>chew</td>\n",
              "      <td>ring</td>\n",
              "      <td>0</td>\n",
              "      <td>0.131701</td>\n",
              "    </tr>\n",
              "    <tr>\n",
              "      <th>1</th>\n",
              "      <td>('wages', 'chop')</td>\n",
              "      <td>0.000016</td>\n",
              "      <td>wages</td>\n",
              "      <td>chop</td>\n",
              "      <td>0</td>\n",
              "      <td>0.136339</td>\n",
              "    </tr>\n",
              "  </tbody>\n",
              "</table>\n",
              "</div>"
            ],
            "text/plain": [
              "          Colex_pair      Prob Concept1 Concept2  Colex_bool    Cosine\n",
              "0   ('chew', 'ring')  0.000016     chew     ring           0  0.131701\n",
              "1  ('wages', 'chop')  0.000016    wages     chop           0  0.136339"
            ]
          },
          "metadata": {
            "tags": []
          },
          "execution_count": 18
        }
      ]
    },
    {
      "cell_type": "markdown",
      "metadata": {
        "id": "PREGugzCrXDQ"
      },
      "source": [
        "Try sklearn Logistic Regression"
      ]
    },
    {
      "cell_type": "code",
      "metadata": {
        "id": "V4wouHkXdhbt"
      },
      "source": [
        "from sklearn.linear_model import LogisticRegression\n",
        "from sklearn import metrics\n",
        "from sklearn.model_selection import train_test_split"
      ],
      "execution_count": null,
      "outputs": []
    },
    {
      "cell_type": "code",
      "metadata": {
        "id": "i8gBW6XD1Plz"
      },
      "source": [
        "cols = ['Cosine']\n",
        "X = df[cols]\n",
        "y = df['Colex_bool']"
      ],
      "execution_count": null,
      "outputs": []
    },
    {
      "cell_type": "code",
      "metadata": {
        "colab": {
          "base_uri": "https://localhost:8080/"
        },
        "id": "ZSZpvOAa1Rtl",
        "outputId": "da220534-4fb0-466f-827b-741461d08468"
      },
      "source": [
        "X_train, X_test, y_train, y_test = train_test_split(X, y, test_size=0.2, random_state=0)\n",
        "logreg = LogisticRegression()\n",
        "logreg.fit(X_train, y_train)"
      ],
      "execution_count": null,
      "outputs": [
        {
          "output_type": "execute_result",
          "data": {
            "text/plain": [
              "LogisticRegression(C=1.0, class_weight=None, dual=False, fit_intercept=True,\n",
              "                   intercept_scaling=1, l1_ratio=None, max_iter=100,\n",
              "                   multi_class='auto', n_jobs=None, penalty='l2',\n",
              "                   random_state=None, solver='lbfgs', tol=0.0001, verbose=0,\n",
              "                   warm_start=False)"
            ]
          },
          "metadata": {
            "tags": []
          },
          "execution_count": 21
        }
      ]
    },
    {
      "cell_type": "code",
      "metadata": {
        "id": "-hv4VtAXf0ex",
        "colab": {
          "base_uri": "https://localhost:8080/"
        },
        "outputId": "7e6ff24d-bc10-40dd-8c12-87cee5272282"
      },
      "source": [
        "y_pred = logreg.predict(X_test)\n",
        "print('Accuracy of logistic regression classifier on test set: {:.2f}'.format(logreg.score(X_test, y_test)))"
      ],
      "execution_count": null,
      "outputs": [
        {
          "output_type": "stream",
          "text": [
            "Accuracy of logistic regression classifier on test set: 0.98\n"
          ],
          "name": "stdout"
        }
      ]
    },
    {
      "cell_type": "code",
      "metadata": {
        "colab": {
          "base_uri": "https://localhost:8080/"
        },
        "id": "DAeBP8uS1Vu4",
        "outputId": "4741342b-a705-4f90-a118-5661c6858cf0"
      },
      "source": [
        "from sklearn.metrics import classification_report\n",
        "print(classification_report(y_test, y_pred))"
      ],
      "execution_count": null,
      "outputs": [
        {
          "output_type": "stream",
          "text": [
            "              precision    recall  f1-score   support\n",
            "\n",
            "           0       0.98      1.00      0.99      8567\n",
            "           1       0.00      0.00      0.00       183\n",
            "\n",
            "    accuracy                           0.98      8750\n",
            "   macro avg       0.49      0.50      0.49      8750\n",
            "weighted avg       0.96      0.98      0.97      8750\n",
            "\n"
          ],
          "name": "stdout"
        }
      ]
    },
    {
      "cell_type": "markdown",
      "metadata": {
        "id": "B1_UkDoHsxfo"
      },
      "source": [
        "The model assign 0 to all the element, obtaining a high accuracy just because we have an highly unbalanced dataset!"
      ]
    },
    {
      "cell_type": "markdown",
      "metadata": {
        "id": "1j3ChbbfuHhC"
      },
      "source": [
        "### Version 2\n",
        "Try to select the same amount of value of 1 for 0: balance with real data."
      ]
    },
    {
      "cell_type": "code",
      "metadata": {
        "id": "KHEKzANC1ZYl"
      },
      "source": [
        "g = df.groupby('Colex_bool')\n",
        "g = pd.DataFrame(g.apply(lambda x: x.sample(g.size().min()).reset_index(drop=True)))"
      ],
      "execution_count": null,
      "outputs": []
    },
    {
      "cell_type": "code",
      "metadata": {
        "colab": {
          "base_uri": "https://localhost:8080/"
        },
        "id": "Ff5yyT3m1kNu",
        "outputId": "34e23f4f-5d50-48c6-9f3d-80db8eb0de16"
      },
      "source": [
        "cols = ['Cosine']\n",
        "X = g[cols]\n",
        "y = g['Colex_bool']\n",
        "\n",
        "for i in range(10):\n",
        "\n",
        "  X_train, X_test, y_train, y_test = train_test_split(X, y, test_size=0.2, random_state=i)\n",
        "  logreg = LogisticRegression()\n",
        "  logreg.fit(X_train, y_train)\n",
        "  y_pred = logreg.predict(X_test)\n",
        "  print('Accuracy of logistic regression classifier on test set: {:.2f}'.format(logreg.score(X_test, y_test)))\n"
      ],
      "execution_count": null,
      "outputs": [
        {
          "output_type": "stream",
          "text": [
            "Accuracy of logistic regression classifier on test set: 0.79\n",
            "Accuracy of logistic regression classifier on test set: 0.78\n",
            "Accuracy of logistic regression classifier on test set: 0.82\n",
            "Accuracy of logistic regression classifier on test set: 0.81\n",
            "Accuracy of logistic regression classifier on test set: 0.82\n",
            "Accuracy of logistic regression classifier on test set: 0.79\n",
            "Accuracy of logistic regression classifier on test set: 0.82\n",
            "Accuracy of logistic regression classifier on test set: 0.81\n",
            "Accuracy of logistic regression classifier on test set: 0.80\n",
            "Accuracy of logistic regression classifier on test set: 0.80\n"
          ],
          "name": "stdout"
        }
      ]
    },
    {
      "cell_type": "code",
      "metadata": {
        "colab": {
          "base_uri": "https://localhost:8080/"
        },
        "id": "wRpagqyI1nsq",
        "outputId": "b872ff4b-fc37-4c67-8a0e-42d854dce008"
      },
      "source": [
        "from sklearn.metrics import classification_report\n",
        "print(classification_report(y_test, y_pred))"
      ],
      "execution_count": null,
      "outputs": [
        {
          "output_type": "stream",
          "text": [
            "              precision    recall  f1-score   support\n",
            "\n",
            "           0       0.79      0.78      0.78       179\n",
            "           1       0.77      0.78      0.77       171\n",
            "\n",
            "    accuracy                           0.78       350\n",
            "   macro avg       0.78      0.78      0.78       350\n",
            "weighted avg       0.78      0.78      0.78       350\n",
            "\n"
          ],
          "name": "stdout"
        }
      ]
    },
    {
      "cell_type": "markdown",
      "metadata": {
        "id": "9VknYwZOcFiF"
      },
      "source": [
        "This time the value is realible, and higher than random (0.5)"
      ]
    },
    {
      "cell_type": "markdown",
      "metadata": {
        "id": "cTaEeSrr1xI3"
      },
      "source": [
        "### Version 3\n",
        "Create unattested colexifications (\"fake colexifications\")"
      ]
    },
    {
      "cell_type": "code",
      "metadata": {
        "id": "UvjQjUrC1p8p"
      },
      "source": [
        "df_fake = df.copy()"
      ],
      "execution_count": null,
      "outputs": []
    },
    {
      "cell_type": "code",
      "metadata": {
        "id": "uNl5FRX32LoJ"
      },
      "source": [
        "df_fake['Colex_bool'] = 1 # all the existing colexifications are real"
      ],
      "execution_count": null,
      "outputs": []
    },
    {
      "cell_type": "code",
      "metadata": {
        "colab": {
          "base_uri": "https://localhost:8080/"
        },
        "id": "Vm89fQ402M7M",
        "outputId": "b6acee34-5b57-47dd-cb94-951825356097"
      },
      "source": [
        "df_fake.groupby('Colex_bool').size()"
      ],
      "execution_count": null,
      "outputs": [
        {
          "output_type": "execute_result",
          "data": {
            "text/plain": [
              "Colex_bool\n",
              "1    43746\n",
              "dtype: int64"
            ]
          },
          "metadata": {
            "tags": []
          },
          "execution_count": 24
        }
      ]
    },
    {
      "cell_type": "code",
      "metadata": {
        "id": "zq1XMThu2UH6"
      },
      "source": [
        "real_col = list(df_fake['Colex_pair'])"
      ],
      "execution_count": null,
      "outputs": []
    },
    {
      "cell_type": "code",
      "metadata": {
        "id": "4YOPdmwF2UfF"
      },
      "source": [
        "real_col = [eval(t) for t in real_col] # convert string to tuple"
      ],
      "execution_count": null,
      "outputs": []
    },
    {
      "cell_type": "code",
      "metadata": {
        "id": "8EvFmOqX2V6d"
      },
      "source": [
        "# create list with single items\n",
        "real_col_l = [item for t in real_col for item in t]\n",
        "real_col_l = list(set(real_col_l)) # delete duplicates"
      ],
      "execution_count": null,
      "outputs": []
    },
    {
      "cell_type": "code",
      "metadata": {
        "colab": {
          "base_uri": "https://localhost:8080/"
        },
        "id": "Voa37vhC2h_M",
        "outputId": "776b2465-7455-4515-a6d1-1a2321c3b909"
      },
      "source": [
        "len(real_col_l)"
      ],
      "execution_count": null,
      "outputs": [
        {
          "output_type": "execute_result",
          "data": {
            "text/plain": [
              "2159"
            ]
          },
          "metadata": {
            "tags": []
          },
          "execution_count": 28
        }
      ]
    },
    {
      "cell_type": "code",
      "metadata": {
        "id": "uW8qGBbI2keP"
      },
      "source": [
        "import random"
      ],
      "execution_count": null,
      "outputs": []
    },
    {
      "cell_type": "markdown",
      "metadata": {
        "id": "LIhOlt5D3bar"
      },
      "source": [
        "We create unattested colexifications randomly picking elements from the list, and keeping only those that are not in the original dataframe."
      ]
    },
    {
      "cell_type": "code",
      "metadata": {
        "id": "mQx5HPBN2nNq"
      },
      "source": [
        "fake_col = []\n",
        "for i in range(totN):\n",
        "  el1 = random.choice(real_col_l)\n",
        "  el2 = random.choice(real_col_l)\n",
        "  while el1 == el2:\n",
        "    el2 = random.choice(real_col_l)\n",
        "  supp_t = (el1, el2)\n",
        "  if supp_t not in set(real_col): # take only tuple that is not in real ones --> size not the same but almost\n",
        "    fake_col.append(supp_t)\n",
        "    # fix difference in number i--"
      ],
      "execution_count": null,
      "outputs": []
    },
    {
      "cell_type": "code",
      "metadata": {
        "colab": {
          "base_uri": "https://localhost:8080/"
        },
        "id": "6FWnYMcs2tBJ",
        "outputId": "7c93a995-0636-4252-8fbf-a52f995f4b0f"
      },
      "source": [
        "len(fake_col)"
      ],
      "execution_count": null,
      "outputs": [
        {
          "output_type": "execute_result",
          "data": {
            "text/plain": [
              "43311"
            ]
          },
          "metadata": {
            "tags": []
          },
          "execution_count": 31
        }
      ]
    },
    {
      "cell_type": "code",
      "metadata": {
        "colab": {
          "base_uri": "https://localhost:8080/"
        },
        "id": "2XiUERCr3pv8",
        "outputId": "69bd1d2c-3146-4812-f99d-548ada7b6380"
      },
      "source": [
        "totN"
      ],
      "execution_count": null,
      "outputs": [
        {
          "output_type": "execute_result",
          "data": {
            "text/plain": [
              "43746"
            ]
          },
          "metadata": {
            "tags": []
          },
          "execution_count": 32
        }
      ]
    },
    {
      "cell_type": "markdown",
      "metadata": {
        "id": "Dc1mVWhV3SEG"
      },
      "source": [
        "The number of unattested colexifications is less than the attested ones, but still, the resulting dataframe is almost balanced."
      ]
    },
    {
      "cell_type": "code",
      "metadata": {
        "id": "UnUT4IL0ohW1"
      },
      "source": [
        "df_fake_supp = pd.DataFrame(fake_col, columns =['Concept1', 'Concept2'])\n",
        "df_fake_supp['Colex_pair'] = fake_col\n",
        "df_fake_supp['Colex_bool'] = 0"
      ],
      "execution_count": null,
      "outputs": []
    },
    {
      "cell_type": "code",
      "metadata": {
        "colab": {
          "base_uri": "https://localhost:8080/",
          "height": 111
        },
        "id": "cmMma7xGowD7",
        "outputId": "463dd762-39ee-41e8-e05c-72196d79bc06"
      },
      "source": [
        "df_fake_supp.head(2)"
      ],
      "execution_count": null,
      "outputs": [
        {
          "output_type": "execute_result",
          "data": {
            "text/html": [
              "<div>\n",
              "<style scoped>\n",
              "    .dataframe tbody tr th:only-of-type {\n",
              "        vertical-align: middle;\n",
              "    }\n",
              "\n",
              "    .dataframe tbody tr th {\n",
              "        vertical-align: top;\n",
              "    }\n",
              "\n",
              "    .dataframe thead th {\n",
              "        text-align: right;\n",
              "    }\n",
              "</style>\n",
              "<table border=\"1\" class=\"dataframe\">\n",
              "  <thead>\n",
              "    <tr style=\"text-align: right;\">\n",
              "      <th></th>\n",
              "      <th>Concept1</th>\n",
              "      <th>Concept2</th>\n",
              "      <th>Colex_pair</th>\n",
              "      <th>Colex_bool</th>\n",
              "    </tr>\n",
              "  </thead>\n",
              "  <tbody>\n",
              "    <tr>\n",
              "      <th>0</th>\n",
              "      <td>bait</td>\n",
              "      <td>ten</td>\n",
              "      <td>(bait, ten)</td>\n",
              "      <td>0</td>\n",
              "    </tr>\n",
              "    <tr>\n",
              "      <th>1</th>\n",
              "      <td>thursday</td>\n",
              "      <td>weather</td>\n",
              "      <td>(thursday, weather)</td>\n",
              "      <td>0</td>\n",
              "    </tr>\n",
              "  </tbody>\n",
              "</table>\n",
              "</div>"
            ],
            "text/plain": [
              "   Concept1 Concept2           Colex_pair  Colex_bool\n",
              "0      bait      ten          (bait, ten)           0\n",
              "1  thursday  weather  (thursday, weather)           0"
            ]
          },
          "metadata": {
            "tags": []
          },
          "execution_count": 34
        }
      ]
    },
    {
      "cell_type": "code",
      "metadata": {
        "id": "9AQxvRz6nu1a"
      },
      "source": [
        "df_fake_supp.to_csv('df_supp.csv', index = False)"
      ],
      "execution_count": null,
      "outputs": []
    },
    {
      "cell_type": "code",
      "metadata": {
        "colab": {
          "base_uri": "https://localhost:8080/",
          "height": 17
        },
        "id": "jgkD8u5f6io-",
        "outputId": "6d165918-9b8f-4469-9823-473930c6ba30"
      },
      "source": [
        "files.download('df_supp.csv')"
      ],
      "execution_count": null,
      "outputs": [
        {
          "output_type": "display_data",
          "data": {
            "application/javascript": [
              "\n",
              "    async function download(id, filename, size) {\n",
              "      if (!google.colab.kernel.accessAllowed) {\n",
              "        return;\n",
              "      }\n",
              "      const div = document.createElement('div');\n",
              "      const label = document.createElement('label');\n",
              "      label.textContent = `Downloading \"${filename}\": `;\n",
              "      div.appendChild(label);\n",
              "      const progress = document.createElement('progress');\n",
              "      progress.max = size;\n",
              "      div.appendChild(progress);\n",
              "      document.body.appendChild(div);\n",
              "\n",
              "      const buffers = [];\n",
              "      let downloaded = 0;\n",
              "\n",
              "      const channel = await google.colab.kernel.comms.open(id);\n",
              "      // Send a message to notify the kernel that we're ready.\n",
              "      channel.send({})\n",
              "\n",
              "      for await (const message of channel.messages) {\n",
              "        // Send a message to notify the kernel that we're ready.\n",
              "        channel.send({})\n",
              "        if (message.buffers) {\n",
              "          for (const buffer of message.buffers) {\n",
              "            buffers.push(buffer);\n",
              "            downloaded += buffer.byteLength;\n",
              "            progress.value = downloaded;\n",
              "          }\n",
              "        }\n",
              "      }\n",
              "      const blob = new Blob(buffers, {type: 'application/binary'});\n",
              "      const a = document.createElement('a');\n",
              "      a.href = window.URL.createObjectURL(blob);\n",
              "      a.download = filename;\n",
              "      div.appendChild(a);\n",
              "      a.click();\n",
              "      div.remove();\n",
              "    }\n",
              "  "
            ],
            "text/plain": [
              "<IPython.core.display.Javascript object>"
            ]
          },
          "metadata": {
            "tags": []
          }
        },
        {
          "output_type": "display_data",
          "data": {
            "application/javascript": [
              "download(\"download_b770771a-1a28-4488-a26c-9d924e0891d2\", \"df_supp.csv\", 1750741)"
            ],
            "text/plain": [
              "<IPython.core.display.Javascript object>"
            ]
          },
          "metadata": {
            "tags": []
          }
        }
      ]
    },
    {
      "cell_type": "markdown",
      "metadata": {
        "id": "TIMHNGuFqU78"
      },
      "source": [
        "Import the dataframe with cosine values"
      ]
    },
    {
      "cell_type": "code",
      "metadata": {
        "id": "j3nY9mI2qXRI"
      },
      "source": [
        "df_fake_cosine = pd.read_csv('df_cosines.csv')"
      ],
      "execution_count": null,
      "outputs": []
    },
    {
      "cell_type": "code",
      "metadata": {
        "colab": {
          "base_uri": "https://localhost:8080/",
          "height": 111
        },
        "id": "TowEe0VUqsuv",
        "outputId": "f7c26ddf-baa7-4706-bec1-aff2897cc71d"
      },
      "source": [
        "df_fake_cosine.head(2)"
      ],
      "execution_count": null,
      "outputs": [
        {
          "output_type": "execute_result",
          "data": {
            "text/html": [
              "<div>\n",
              "<style scoped>\n",
              "    .dataframe tbody tr th:only-of-type {\n",
              "        vertical-align: middle;\n",
              "    }\n",
              "\n",
              "    .dataframe tbody tr th {\n",
              "        vertical-align: top;\n",
              "    }\n",
              "\n",
              "    .dataframe thead th {\n",
              "        text-align: right;\n",
              "    }\n",
              "</style>\n",
              "<table border=\"1\" class=\"dataframe\">\n",
              "  <thead>\n",
              "    <tr style=\"text-align: right;\">\n",
              "      <th></th>\n",
              "      <th>Concept1</th>\n",
              "      <th>Concept2</th>\n",
              "      <th>Colex_pair</th>\n",
              "      <th>Colex_bool</th>\n",
              "      <th>Cosine</th>\n",
              "    </tr>\n",
              "  </thead>\n",
              "  <tbody>\n",
              "    <tr>\n",
              "      <th>0</th>\n",
              "      <td>bait</td>\n",
              "      <td>ten</td>\n",
              "      <td>('bait', 'ten')</td>\n",
              "      <td>0</td>\n",
              "      <td>0.050746</td>\n",
              "    </tr>\n",
              "    <tr>\n",
              "      <th>1</th>\n",
              "      <td>thursday</td>\n",
              "      <td>weather</td>\n",
              "      <td>('thursday', 'weather')</td>\n",
              "      <td>0</td>\n",
              "      <td>0.224283</td>\n",
              "    </tr>\n",
              "  </tbody>\n",
              "</table>\n",
              "</div>"
            ],
            "text/plain": [
              "   Concept1 Concept2               Colex_pair  Colex_bool    Cosine\n",
              "0      bait      ten          ('bait', 'ten')           0  0.050746\n",
              "1  thursday  weather  ('thursday', 'weather')           0  0.224283"
            ]
          },
          "metadata": {
            "tags": []
          },
          "execution_count": 40
        }
      ]
    },
    {
      "cell_type": "code",
      "metadata": {
        "colab": {
          "base_uri": "https://localhost:8080/",
          "height": 111
        },
        "id": "JfyvZXvkrTWZ",
        "outputId": "1639a0bc-1b19-4725-ec75-46edd662dad4"
      },
      "source": [
        "df_fake.head(2)"
      ],
      "execution_count": null,
      "outputs": [
        {
          "output_type": "execute_result",
          "data": {
            "text/html": [
              "<div>\n",
              "<style scoped>\n",
              "    .dataframe tbody tr th:only-of-type {\n",
              "        vertical-align: middle;\n",
              "    }\n",
              "\n",
              "    .dataframe tbody tr th {\n",
              "        vertical-align: top;\n",
              "    }\n",
              "\n",
              "    .dataframe thead th {\n",
              "        text-align: right;\n",
              "    }\n",
              "</style>\n",
              "<table border=\"1\" class=\"dataframe\">\n",
              "  <thead>\n",
              "    <tr style=\"text-align: right;\">\n",
              "      <th></th>\n",
              "      <th>Colex_pair</th>\n",
              "      <th>Prob</th>\n",
              "      <th>Concept1</th>\n",
              "      <th>Concept2</th>\n",
              "      <th>Colex_bool</th>\n",
              "      <th>Cosine</th>\n",
              "    </tr>\n",
              "  </thead>\n",
              "  <tbody>\n",
              "    <tr>\n",
              "      <th>0</th>\n",
              "      <td>('chew', 'ring')</td>\n",
              "      <td>0.000016</td>\n",
              "      <td>chew</td>\n",
              "      <td>ring</td>\n",
              "      <td>1</td>\n",
              "      <td>0.131701</td>\n",
              "    </tr>\n",
              "    <tr>\n",
              "      <th>1</th>\n",
              "      <td>('wages', 'chop')</td>\n",
              "      <td>0.000016</td>\n",
              "      <td>wages</td>\n",
              "      <td>chop</td>\n",
              "      <td>1</td>\n",
              "      <td>0.136339</td>\n",
              "    </tr>\n",
              "  </tbody>\n",
              "</table>\n",
              "</div>"
            ],
            "text/plain": [
              "          Colex_pair      Prob Concept1 Concept2  Colex_bool    Cosine\n",
              "0   ('chew', 'ring')  0.000016     chew     ring           1  0.131701\n",
              "1  ('wages', 'chop')  0.000016    wages     chop           1  0.136339"
            ]
          },
          "metadata": {
            "tags": []
          },
          "execution_count": 41
        }
      ]
    },
    {
      "cell_type": "code",
      "metadata": {
        "id": "0B9pBTYRr67f"
      },
      "source": [
        "df_fake_cosine = df_fake_cosine.rename(columns={\"cosine_sim\": \"Cosine\"})"
      ],
      "execution_count": null,
      "outputs": []
    },
    {
      "cell_type": "code",
      "metadata": {
        "id": "wsZOOoVYsC2r"
      },
      "source": [
        "df_fake = df_fake.append(df_fake_cosine)"
      ],
      "execution_count": null,
      "outputs": []
    },
    {
      "cell_type": "markdown",
      "metadata": {
        "id": "7QVoG1dhtOjf"
      },
      "source": [
        "Data is now ready"
      ]
    },
    {
      "cell_type": "code",
      "metadata": {
        "colab": {
          "base_uri": "https://localhost:8080/"
        },
        "id": "Std3GNKns_Fg",
        "outputId": "5d0c4cfe-fe4c-42a5-d412-20e4918cf476"
      },
      "source": [
        "cols = ['Cosine']\n",
        "X = df_fake[cols]\n",
        "y = df_fake['Colex_bool']\n",
        "\n",
        "X_train, X_test, y_train, y_test = train_test_split(X, y, test_size=0.2, random_state=0)\n",
        "logreg = LogisticRegression()\n",
        "logreg.fit(X_train, y_train)"
      ],
      "execution_count": null,
      "outputs": [
        {
          "output_type": "execute_result",
          "data": {
            "text/plain": [
              "LogisticRegression(C=1.0, class_weight=None, dual=False, fit_intercept=True,\n",
              "                   intercept_scaling=1, l1_ratio=None, max_iter=100,\n",
              "                   multi_class='auto', n_jobs=None, penalty='l2',\n",
              "                   random_state=None, solver='lbfgs', tol=0.0001, verbose=0,\n",
              "                   warm_start=False)"
            ]
          },
          "metadata": {
            "tags": []
          },
          "execution_count": 44
        }
      ]
    },
    {
      "cell_type": "code",
      "metadata": {
        "colab": {
          "base_uri": "https://localhost:8080/"
        },
        "id": "b-LkTEVrtZR5",
        "outputId": "d1716f46-67f0-4b69-96da-5d55dfdc8f02"
      },
      "source": [
        "y_pred = logreg.predict(X_test)\n",
        "print('Accuracy of logistic regression classifier on test set: {:.2f}'.format(logreg.score(X_test, y_test)))"
      ],
      "execution_count": null,
      "outputs": [
        {
          "output_type": "stream",
          "text": [
            "Accuracy of logistic regression classifier on test set: 0.64\n"
          ],
          "name": "stdout"
        }
      ]
    },
    {
      "cell_type": "code",
      "metadata": {
        "colab": {
          "base_uri": "https://localhost:8080/"
        },
        "id": "sfhPJPXmtlJL",
        "outputId": "294e639f-c204-4194-bf84-d44324edfab0"
      },
      "source": [
        "from sklearn.metrics import classification_report\n",
        "print(classification_report(y_test, y_pred))"
      ],
      "execution_count": null,
      "outputs": [
        {
          "output_type": "stream",
          "text": [
            "              precision    recall  f1-score   support\n",
            "\n",
            "           0       0.62      0.70      0.66      8734\n",
            "           1       0.66      0.57      0.61      8678\n",
            "\n",
            "    accuracy                           0.64     17412\n",
            "   macro avg       0.64      0.64      0.64     17412\n",
            "weighted avg       0.64      0.64      0.64     17412\n",
            "\n"
          ],
          "name": "stdout"
        }
      ]
    },
    {
      "cell_type": "markdown",
      "metadata": {
        "id": "BELQK70DcUTN"
      },
      "source": [
        "Also this time, the result is higher than random."
      ]
    }
  ]
}