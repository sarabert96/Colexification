{
  "nbformat": 4,
  "nbformat_minor": 0,
  "metadata": {
    "colab": {
      "name": "04_Bootstrap.ipynb",
      "provenance": [],
      "include_colab_link": true
    },
    "kernelspec": {
      "name": "python3",
      "display_name": "Python 3"
    }
  },
  "cells": [
    {
      "cell_type": "markdown",
      "metadata": {
        "id": "view-in-github",
        "colab_type": "text"
      },
      "source": [
        "<a href=\"https://colab.research.google.com/github/sarabert96/Colexification/blob/main/04_Bootstrap.ipynb\" target=\"_parent\"><img src=\"https://colab.research.google.com/assets/colab-badge.svg\" alt=\"Open In Colab\"/></a>"
      ]
    },
    {
      "cell_type": "markdown",
      "metadata": {
        "id": "mGbkW_fk3vLh"
      },
      "source": [
        "# Bootstrap"
      ]
    },
    {
      "cell_type": "code",
      "metadata": {
        "id": "vDsky5weNdWc"
      },
      "source": [
        "import pandas as pd\r\n",
        "import numpy as np\r\n",
        "from collections import Counter\r\n",
        "import random"
      ],
      "execution_count": 9,
      "outputs": []
    },
    {
      "cell_type": "markdown",
      "metadata": {
        "id": "98ftwWluMeKe"
      },
      "source": [
        "Import cleaned version of colexification dataframe from github"
      ]
    },
    {
      "cell_type": "code",
      "metadata": {
        "id": "WqzY7bVkd0ad"
      },
      "source": [
        "url = 'https://raw.githubusercontent.com/sarabert96/Colexification/main/data/df_colexifications.csv'\r\n",
        "df_colex = pd.read_csv(url)"
      ],
      "execution_count": 2,
      "outputs": []
    },
    {
      "cell_type": "code",
      "metadata": {
        "colab": {
          "base_uri": "https://localhost:8080/"
        },
        "id": "_Wx2t5AQN_-P",
        "outputId": "f2cee088-8097-4dc8-8015-78faf0267ca8"
      },
      "source": [
        "df_colex.groupby('Family').size()"
      ],
      "execution_count": 3,
      "outputs": [
        {
          "output_type": "execute_result",
          "data": {
            "text/plain": [
              "Family\n",
              "Abkhaz-Adyge     321\n",
              "Abun               3\n",
              "Afro-Asiatic    2736\n",
              "Aikanã            21\n",
              "Ainu              74\n",
              "                ... \n",
              "Yuat               7\n",
              "Yukaghir         177\n",
              "Yámana           142\n",
              "Zamucoan         191\n",
              "Zuni             153\n",
              "Length: 183, dtype: int64"
            ]
          },
          "metadata": {
            "tags": []
          },
          "execution_count": 3
        }
      ]
    },
    {
      "cell_type": "markdown",
      "metadata": {
        "id": "O2Y-6AUCO5Bg"
      },
      "source": [
        "**knowing the data**: 183 linguistic fam"
      ]
    },
    {
      "cell_type": "markdown",
      "metadata": {
        "id": "xKxI42YbCbA8"
      },
      "source": [
        "Add concepticon_pair column for future purposes"
      ]
    },
    {
      "cell_type": "code",
      "metadata": {
        "id": "n6n0VNd0CaQi"
      },
      "source": [
        "df_colex['Concepticon_pair']=list(zip(df_colex['Concepticon_Gloss.x'],df_colex['Concepticon_Gloss.y']))"
      ],
      "execution_count": 4,
      "outputs": []
    },
    {
      "cell_type": "code",
      "metadata": {
        "colab": {
          "base_uri": "https://localhost:8080/",
          "height": 419
        },
        "id": "WpdnLuj1CoTP",
        "outputId": "dd176908-143e-4a31-aeb4-f793af557818"
      },
      "source": [
        "df_colex"
      ],
      "execution_count": 5,
      "outputs": [
        {
          "output_type": "execute_result",
          "data": {
            "text/html": [
              "<div>\n",
              "<style scoped>\n",
              "    .dataframe tbody tr th:only-of-type {\n",
              "        vertical-align: middle;\n",
              "    }\n",
              "\n",
              "    .dataframe tbody tr th {\n",
              "        vertical-align: top;\n",
              "    }\n",
              "\n",
              "    .dataframe thead th {\n",
              "        text-align: right;\n",
              "    }\n",
              "</style>\n",
              "<table border=\"1\" class=\"dataframe\">\n",
              "  <thead>\n",
              "    <tr style=\"text-align: right;\">\n",
              "      <th></th>\n",
              "      <th>clics_form</th>\n",
              "      <th>Concepticon_ID.x</th>\n",
              "      <th>Glottocode</th>\n",
              "      <th>Concepticon_Gloss.x</th>\n",
              "      <th>Family</th>\n",
              "      <th>variety</th>\n",
              "      <th>Concepticon_ID.y</th>\n",
              "      <th>Concepticon_Gloss.y</th>\n",
              "      <th>Concepticon_pair</th>\n",
              "    </tr>\n",
              "  </thead>\n",
              "  <tbody>\n",
              "    <tr>\n",
              "      <th>0</th>\n",
              "      <td>s@</td>\n",
              "      <td>1369</td>\n",
              "      <td>hrus1242</td>\n",
              "      <td>GOLD</td>\n",
              "      <td>Hruso</td>\n",
              "      <td>Hruso Aka Jamiri</td>\n",
              "      <td>1927</td>\n",
              "      <td>BAMBOO</td>\n",
              "      <td>(GOLD, BAMBOO)</td>\n",
              "    </tr>\n",
              "    <tr>\n",
              "      <th>1</th>\n",
              "      <td>s@</td>\n",
              "      <td>1369</td>\n",
              "      <td>hrus1242</td>\n",
              "      <td>GOLD</td>\n",
              "      <td>Hruso</td>\n",
              "      <td>Hruso Aka Jamiri</td>\n",
              "      <td>946</td>\n",
              "      <td>BLOOD</td>\n",
              "      <td>(GOLD, BLOOD)</td>\n",
              "    </tr>\n",
              "    <tr>\n",
              "      <th>2</th>\n",
              "      <td>avir@</td>\n",
              "      <td>1035</td>\n",
              "      <td>miji1239</td>\n",
              "      <td>GOOD</td>\n",
              "      <td>Sino-Tibetan</td>\n",
              "      <td>Dammai Dibin</td>\n",
              "      <td>923</td>\n",
              "      <td>LOVE</td>\n",
              "      <td>(GOOD, LOVE)</td>\n",
              "    </tr>\n",
              "    <tr>\n",
              "      <th>3</th>\n",
              "      <td>dzju</td>\n",
              "      <td>1425</td>\n",
              "      <td>hrus1242</td>\n",
              "      <td>GREEN</td>\n",
              "      <td>Hruso</td>\n",
              "      <td>Hruso Aka Jamiri</td>\n",
              "      <td>1424</td>\n",
              "      <td>YELLOW</td>\n",
              "      <td>(GREEN, YELLOW)</td>\n",
              "    </tr>\n",
              "    <tr>\n",
              "      <th>4</th>\n",
              "      <td>lah</td>\n",
              "      <td>1277</td>\n",
              "      <td>dakp1242</td>\n",
              "      <td>HAND</td>\n",
              "      <td>Sino-Tibetan</td>\n",
              "      <td>Monpa Changprong</td>\n",
              "      <td>639</td>\n",
              "      <td>MOUNTAIN</td>\n",
              "      <td>(HAND, MOUNTAIN)</td>\n",
              "    </tr>\n",
              "    <tr>\n",
              "      <th>...</th>\n",
              "      <td>...</td>\n",
              "      <td>...</td>\n",
              "      <td>...</td>\n",
              "      <td>...</td>\n",
              "      <td>...</td>\n",
              "      <td>...</td>\n",
              "      <td>...</td>\n",
              "      <td>...</td>\n",
              "      <td>...</td>\n",
              "    </tr>\n",
              "    <tr>\n",
              "      <th>132574</th>\n",
              "      <td>eni</td>\n",
              "      <td>763</td>\n",
              "      <td>gira1247</td>\n",
              "      <td>SKIN</td>\n",
              "      <td>Nuclear Trans New Guinea</td>\n",
              "      <td>girawa</td>\n",
              "      <td>1405</td>\n",
              "      <td>NAME</td>\n",
              "      <td>(SKIN, NAME)</td>\n",
              "    </tr>\n",
              "    <tr>\n",
              "      <th>132575</th>\n",
              "      <td>wus</td>\n",
              "      <td>763</td>\n",
              "      <td>payn1244</td>\n",
              "      <td>SKIN</td>\n",
              "      <td>Nuclear Trans New Guinea</td>\n",
              "      <td>paynamar</td>\n",
              "      <td>51</td>\n",
              "      <td>SORE</td>\n",
              "      <td>(SKIN, SORE)</td>\n",
              "    </tr>\n",
              "    <tr>\n",
              "      <th>132576</th>\n",
              "      <td>mping</td>\n",
              "      <td>2458</td>\n",
              "      <td>nend1239</td>\n",
              "      <td>PERSPIRE OR SWEAT</td>\n",
              "      <td>Nuclear Trans New Guinea</td>\n",
              "      <td>nend</td>\n",
              "      <td>1257</td>\n",
              "      <td>WING</td>\n",
              "      <td>(PERSPIRE OR SWEAT, WING)</td>\n",
              "    </tr>\n",
              "    <tr>\n",
              "      <th>132577</th>\n",
              "      <td>su</td>\n",
              "      <td>51</td>\n",
              "      <td>kein1239</td>\n",
              "      <td>SORE</td>\n",
              "      <td>Nuclear Trans New Guinea</td>\n",
              "      <td>kein</td>\n",
              "      <td>1257</td>\n",
              "      <td>WING</td>\n",
              "      <td>(SORE, WING)</td>\n",
              "    </tr>\n",
              "    <tr>\n",
              "      <th>132578</th>\n",
              "      <td>kuji</td>\n",
              "      <td>1222</td>\n",
              "      <td>jili1241</td>\n",
              "      <td>PENIS</td>\n",
              "      <td>Nuclear Trans New Guinea</td>\n",
              "      <td>jilim</td>\n",
              "      <td>1837</td>\n",
              "      <td>VULVA</td>\n",
              "      <td>(PENIS, VULVA)</td>\n",
              "    </tr>\n",
              "  </tbody>\n",
              "</table>\n",
              "<p>132579 rows × 9 columns</p>\n",
              "</div>"
            ],
            "text/plain": [
              "       clics_form  ...           Concepticon_pair\n",
              "0              s@  ...             (GOLD, BAMBOO)\n",
              "1              s@  ...              (GOLD, BLOOD)\n",
              "2           avir@  ...               (GOOD, LOVE)\n",
              "3            dzju  ...            (GREEN, YELLOW)\n",
              "4             lah  ...           (HAND, MOUNTAIN)\n",
              "...           ...  ...                        ...\n",
              "132574        eni  ...               (SKIN, NAME)\n",
              "132575        wus  ...               (SKIN, SORE)\n",
              "132576      mping  ...  (PERSPIRE OR SWEAT, WING)\n",
              "132577         su  ...               (SORE, WING)\n",
              "132578       kuji  ...             (PENIS, VULVA)\n",
              "\n",
              "[132579 rows x 9 columns]"
            ]
          },
          "metadata": {
            "tags": []
          },
          "execution_count": 5
        }
      ]
    },
    {
      "cell_type": "code",
      "metadata": {
        "id": "GoboIrrZOvvN"
      },
      "source": [
        "# df_fam --> df with families and varieties\r\n",
        "df_fam = df_colex[['Family','Glottocode']].copy()"
      ],
      "execution_count": 6,
      "outputs": []
    },
    {
      "cell_type": "code",
      "metadata": {
        "id": "K6UIXfBcOxku"
      },
      "source": [
        "df_fam=df_fam.drop_duplicates()\r\n"
      ],
      "execution_count": 7,
      "outputs": []
    },
    {
      "cell_type": "code",
      "metadata": {
        "id": "DaxRcOzCkdZo"
      },
      "source": [
        "dicFam = df_fam.groupby(['Family']).size().to_dict() # dictionary with number of variety for future purposes"
      ],
      "execution_count": 8,
      "outputs": []
    },
    {
      "cell_type": "markdown",
      "metadata": {
        "id": "9dcrjRtd1JHw"
      },
      "source": [
        "### BOOTSTRAP function"
      ]
    },
    {
      "cell_type": "code",
      "metadata": {
        "id": "6-HPMjzd1Unj"
      },
      "source": [
        "import time\r\n",
        "\r\n",
        "def colex_freq(x, suppDf):\r\n",
        "  # x = df of only one colex_pair\r\n",
        "  sumNumVar = sum(x['Num_var'])\r\n",
        "  div = sumNumVar / 183\r\n",
        "  newEl = [x['Colex_pair'].iloc[0], div]\r\n",
        "  suppDf.append(newEl)\r\n",
        "\r\n",
        "\r\n",
        "def concept_sum(x, suppDf):\r\n",
        "  # x = df divided by concepticon inside only one family\r\n",
        "  totLang = len(x['Glottocode']) # how many languages have that colexification faking to have different families from bootstrap --> NO SET\r\n",
        "  # NB we don't have repetitions of Concepticon_pair in a variety, if we have it, it's just because we did the bootstrap with replacement\r\n",
        "  newEl = [x['Family'].iloc[0], x['Concepticon_pair'].iloc[0], totLang]\r\n",
        "  suppDf.append(newEl)\r\n",
        "\r\n",
        "\r\n",
        "def colex_rep(x, suppDf):\r\n",
        "  # x = df divided by family\r\n",
        "  x.groupby('Concepticon_pair').apply(lambda y: concept_sum(y, suppDf))\r\n",
        "\r\n",
        "\r\n",
        "def bootstrapping(cicle):\r\n",
        "  # cicle = number of repetitions\r\n",
        "  print (\"Running bootstrapping function\")\r\n",
        "  start_time = time.time()\r\n",
        "\r\n",
        "  listBoot = []\r\n",
        "  \r\n",
        "  for k in range (cicle):\r\n",
        "    # create new df with random varieties\r\n",
        "    new_df_fam = df_fam.groupby(['Family']).apply(lambda x: x.sample(n=(len(x['Glottocode'])), replace=True)).reset_index(drop = True)\r\n",
        "    # create list with varieties chosen\r\n",
        "    listVar=new_df_fam.Glottocode.tolist()\r\n",
        "    print(\"List of linguistic varieties chosen\")\r\n",
        "    # new df\r\n",
        "    boot_df = pd.DataFrame()\r\n",
        "\r\n",
        "    for v in listVar:\r\n",
        "      # for every variety, take all colexification and put them into boot_df\r\n",
        "      boot_df=boot_df.append(df_colex.loc[df_colex['Glottocode'] == v], ignore_index = True)\r\n",
        "\r\n",
        "    suppDf = [] # new empty list\r\n",
        "\r\n",
        "    print(\"Taking families grouped by concepticon pair and counting number of varieties with the same colexification\")\r\n",
        "\r\n",
        "    boot_df.groupby(['Family']).apply(lambda x: colex_rep(x, suppDf))\r\n",
        "    print(\"Created dataframe with colexification from chosen varieties\")\r\n",
        "    # new df from list obtained by functions\r\n",
        "    df_sum = pd.DataFrame(suppDf, columns=['Family', 'Colex_pair', 'Var_rep'])\r\n",
        "\r\n",
        "    df_sum['Num_var']='' # new empty column\r\n",
        "\r\n",
        "    for i in range(len(df_sum['Colex_pair'])):\r\n",
        "      fam = df_sum['Family'].iloc[i] # take the family for the row\r\n",
        "      rep = df_sum['Var_rep'].iloc[i] # take var rep\r\n",
        "      div = rep / dicFam[fam]\r\n",
        "      df_sum['Num_var'].iloc[i] = div\r\n",
        "\r\n",
        "    suppDf = [] # empty the list\r\n",
        "\r\n",
        "    print(\"Counting colex frequency among all families\")\r\n",
        "    df_sum.groupby(['Colex_pair']).apply(lambda x: colex_freq(x, suppDf))\r\n",
        "\r\n",
        "    listBoot.append(suppDf) # add list to list of bootstrap\r\n",
        "    # df_colex_freq = pd.DataFrame(suppDf, columns=['Colex_pair', 'Freq']) # to save in df\r\n",
        "    print(\"Finished cicle number\", k)\r\n",
        "  print(\"--- %s seconds ---\" % (time.time() - start_time))\r\n",
        "  return listBoot\r\n"
      ],
      "execution_count": 11,
      "outputs": []
    },
    {
      "cell_type": "code",
      "metadata": {
        "colab": {
          "base_uri": "https://localhost:8080/"
        },
        "id": "Mdo3DQ9j9tk2",
        "outputId": "462e0d90-0827-4086-ca75-bc20792d9e1c"
      },
      "source": [
        "random.seed(70) # random number \r\n",
        "lBoot = bootstrapping(3) # number is how many cicles"
      ],
      "execution_count": 12,
      "outputs": [
        {
          "output_type": "stream",
          "text": [
            "Running bootstrapping function\n",
            "List of linguistic varieties chosen\n",
            "Taking families grouped by concepticon pair and counting number of varieties with the same colexification\n",
            "Created dataframe with colexification from chosen varieties\n"
          ],
          "name": "stdout"
        },
        {
          "output_type": "stream",
          "text": [
            "/usr/local/lib/python3.6/dist-packages/pandas/core/indexing.py:670: SettingWithCopyWarning: \n",
            "A value is trying to be set on a copy of a slice from a DataFrame\n",
            "\n",
            "See the caveats in the documentation: https://pandas.pydata.org/pandas-docs/stable/user_guide/indexing.html#returning-a-view-versus-a-copy\n",
            "  iloc._setitem_with_indexer(indexer, value)\n"
          ],
          "name": "stderr"
        },
        {
          "output_type": "stream",
          "text": [
            "Counting colex frequency among all families\n",
            "Finished cicle number 0\n",
            "List of linguistic varieties chosen\n",
            "Taking families grouped by concepticon pair and counting number of varieties with the same colexification\n",
            "Created dataframe with colexification from chosen varieties\n",
            "Counting colex frequency among all families\n",
            "Finished cicle number 1\n",
            "List of linguistic varieties chosen\n",
            "Taking families grouped by concepticon pair and counting number of varieties with the same colexification\n",
            "Created dataframe with colexification from chosen varieties\n",
            "Counting colex frequency among all families\n",
            "Finished cicle number 2\n",
            "--- 306.3253479003906 seconds ---\n"
          ],
          "name": "stdout"
        }
      ]
    },
    {
      "cell_type": "code",
      "metadata": {
        "id": "Jl3Wh0VJAQo7",
        "colab": {
          "base_uri": "https://localhost:8080/"
        },
        "outputId": "4c6b4284-c0ef-4333-f833-bd882eb8ffc2"
      },
      "source": [
        "len(lBoot)"
      ],
      "execution_count": 13,
      "outputs": [
        {
          "output_type": "execute_result",
          "data": {
            "text/plain": [
              "3"
            ]
          },
          "metadata": {
            "tags": []
          },
          "execution_count": 13
        }
      ]
    },
    {
      "cell_type": "code",
      "metadata": {
        "id": "91mZIf9pBpqN"
      },
      "source": [
        "df_colex_freq = pd.DataFrame(lBoot[2], columns=['Colex_pair', 'Freq']) # to save in df\r\n"
      ],
      "execution_count": 14,
      "outputs": []
    },
    {
      "cell_type": "code",
      "metadata": {
        "id": "yNN_7PxyBxFK",
        "colab": {
          "base_uri": "https://localhost:8080/",
          "height": 419
        },
        "outputId": "752fdddd-d705-416e-af6d-cabe7ee1746a"
      },
      "source": [
        "df_colex_freq"
      ],
      "execution_count": 15,
      "outputs": [
        {
          "output_type": "execute_result",
          "data": {
            "text/html": [
              "<div>\n",
              "<style scoped>\n",
              "    .dataframe tbody tr th:only-of-type {\n",
              "        vertical-align: middle;\n",
              "    }\n",
              "\n",
              "    .dataframe tbody tr th {\n",
              "        vertical-align: top;\n",
              "    }\n",
              "\n",
              "    .dataframe thead th {\n",
              "        text-align: right;\n",
              "    }\n",
              "</style>\n",
              "<table border=\"1\" class=\"dataframe\">\n",
              "  <thead>\n",
              "    <tr style=\"text-align: right;\">\n",
              "      <th></th>\n",
              "      <th>Colex_pair</th>\n",
              "      <th>Freq</th>\n",
              "    </tr>\n",
              "  </thead>\n",
              "  <tbody>\n",
              "    <tr>\n",
              "      <th>0</th>\n",
              "      <td>(A LITTLE, WHAT)</td>\n",
              "      <td>0.000043</td>\n",
              "    </tr>\n",
              "    <tr>\n",
              "      <th>1</th>\n",
              "      <td>(ABOVE, BELOW OR UNDER)</td>\n",
              "      <td>0.003643</td>\n",
              "    </tr>\n",
              "    <tr>\n",
              "      <th>2</th>\n",
              "      <td>(ABOVE, BLACK)</td>\n",
              "      <td>0.000019</td>\n",
              "    </tr>\n",
              "    <tr>\n",
              "      <th>3</th>\n",
              "      <td>(ABOVE, CART)</td>\n",
              "      <td>0.005464</td>\n",
              "    </tr>\n",
              "    <tr>\n",
              "      <th>4</th>\n",
              "      <td>(ABOVE, CIRCLE)</td>\n",
              "      <td>0.005464</td>\n",
              "    </tr>\n",
              "    <tr>\n",
              "      <th>...</th>\n",
              "      <td>...</td>\n",
              "      <td>...</td>\n",
              "    </tr>\n",
              "    <tr>\n",
              "      <th>37314</th>\n",
              "      <td>(YOUNGER SISTER, SIBLING)</td>\n",
              "      <td>0.002791</td>\n",
              "    </tr>\n",
              "    <tr>\n",
              "      <th>37315</th>\n",
              "      <td>(YOUNGER SISTER, SISTER)</td>\n",
              "      <td>0.000032</td>\n",
              "    </tr>\n",
              "    <tr>\n",
              "      <th>37316</th>\n",
              "      <td>(YOUNGER SISTER, SON)</td>\n",
              "      <td>0.000031</td>\n",
              "    </tr>\n",
              "    <tr>\n",
              "      <th>37317</th>\n",
              "      <td>(YOUNGER SISTER, YOUNGER BROTHER)</td>\n",
              "      <td>0.010976</td>\n",
              "    </tr>\n",
              "    <tr>\n",
              "      <th>37318</th>\n",
              "      <td>(YOUNGER SISTER, YOUNGER SIBLING)</td>\n",
              "      <td>0.005590</td>\n",
              "    </tr>\n",
              "  </tbody>\n",
              "</table>\n",
              "<p>37319 rows × 2 columns</p>\n",
              "</div>"
            ],
            "text/plain": [
              "                              Colex_pair      Freq\n",
              "0                       (A LITTLE, WHAT)  0.000043\n",
              "1                (ABOVE, BELOW OR UNDER)  0.003643\n",
              "2                         (ABOVE, BLACK)  0.000019\n",
              "3                          (ABOVE, CART)  0.005464\n",
              "4                        (ABOVE, CIRCLE)  0.005464\n",
              "...                                  ...       ...\n",
              "37314          (YOUNGER SISTER, SIBLING)  0.002791\n",
              "37315           (YOUNGER SISTER, SISTER)  0.000032\n",
              "37316              (YOUNGER SISTER, SON)  0.000031\n",
              "37317  (YOUNGER SISTER, YOUNGER BROTHER)  0.010976\n",
              "37318  (YOUNGER SISTER, YOUNGER SIBLING)  0.005590\n",
              "\n",
              "[37319 rows x 2 columns]"
            ]
          },
          "metadata": {
            "tags": []
          },
          "execution_count": 15
        }
      ]
    }
  ]
}