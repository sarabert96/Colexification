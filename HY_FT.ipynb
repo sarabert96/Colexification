{
  "nbformat": 4,
  "nbformat_minor": 0,
  "metadata": {
    "colab": {
      "name": "HY_FT.ipynb",
      "provenance": [],
      "authorship_tag": "ABX9TyNCC4khslP4DHopFt2o22zu",
      "include_colab_link": true
    },
    "kernelspec": {
      "name": "python3",
      "display_name": "Python 3"
    },
    "language_info": {
      "name": "python"
    }
  },
  "cells": [
    {
      "cell_type": "markdown",
      "metadata": {
        "id": "view-in-github",
        "colab_type": "text"
      },
      "source": [
        "<a href=\"https://colab.research.google.com/github/sarabert96/Colexification/blob/main/HY_FT.ipynb\" target=\"_parent\"><img src=\"https://colab.research.google.com/assets/colab-badge.svg\" alt=\"Open In Colab\"/></a>"
      ]
    },
    {
      "cell_type": "markdown",
      "metadata": {
        "id": "AAdVgg1pTFfy"
      },
      "source": [
        "The notebook inspect the pre-trained model, printing its hyper-parameters"
      ]
    },
    {
      "cell_type": "code",
      "metadata": {
        "colab": {
          "base_uri": "https://localhost:8080/"
        },
        "id": "0t3MiRBGW7mH",
        "outputId": "8f10151b-4f66-4a6b-8bb6-2927fd950ea0"
      },
      "source": [
        "pip install fasttext"
      ],
      "execution_count": 1,
      "outputs": [
        {
          "output_type": "stream",
          "text": [
            "Collecting fasttext\n",
            "\u001b[?25l  Downloading https://files.pythonhosted.org/packages/f8/85/e2b368ab6d3528827b147fdb814f8189acc981a4bc2f99ab894650e05c40/fasttext-0.9.2.tar.gz (68kB)\n",
            "\r\u001b[K     |████▊                           | 10kB 8.2MB/s eta 0:00:01\r\u001b[K     |█████████▌                      | 20kB 10.8MB/s eta 0:00:01\r\u001b[K     |██████████████▎                 | 30kB 12.8MB/s eta 0:00:01\r\u001b[K     |███████████████████             | 40kB 7.2MB/s eta 0:00:01\r\u001b[K     |███████████████████████▉        | 51kB 6.1MB/s eta 0:00:01\r\u001b[K     |████████████████████████████▋   | 61kB 6.6MB/s eta 0:00:01\r\u001b[K     |████████████████████████████████| 71kB 3.8MB/s \n",
            "\u001b[?25hRequirement already satisfied: pybind11>=2.2 in /usr/local/lib/python3.7/dist-packages (from fasttext) (2.6.2)\n",
            "Requirement already satisfied: setuptools>=0.7.0 in /usr/local/lib/python3.7/dist-packages (from fasttext) (57.0.0)\n",
            "Requirement already satisfied: numpy in /usr/local/lib/python3.7/dist-packages (from fasttext) (1.19.5)\n",
            "Building wheels for collected packages: fasttext\n",
            "  Building wheel for fasttext (setup.py) ... \u001b[?25l\u001b[?25hdone\n",
            "  Created wheel for fasttext: filename=fasttext-0.9.2-cp37-cp37m-linux_x86_64.whl size=3093251 sha256=00e588be3c03e4976421dc537eaa81a1e45897dfe0aa490ed0aebfc69245194c\n",
            "  Stored in directory: /root/.cache/pip/wheels/98/ba/7f/b154944a1cf5a8cee91c154b75231136cc3a3321ab0e30f592\n",
            "Successfully built fasttext\n",
            "Installing collected packages: fasttext\n",
            "Successfully installed fasttext-0.9.2\n"
          ],
          "name": "stdout"
        }
      ]
    },
    {
      "cell_type": "code",
      "metadata": {
        "id": "DTnuAHA6W2Xv"
      },
      "source": [
        "import fasttext.util"
      ],
      "execution_count": 2,
      "outputs": []
    },
    {
      "cell_type": "code",
      "metadata": {
        "colab": {
          "base_uri": "https://localhost:8080/"
        },
        "id": "kOpzv4BDW5db",
        "outputId": "9ff569bf-eb95-4783-d525-e2afb95270fb"
      },
      "source": [
        "fasttext.util.download_model('en', if_exists='ignore')  # English\n",
        "ft = fasttext.load_model('cc.en.300.bin')"
      ],
      "execution_count": 3,
      "outputs": [
        {
          "output_type": "stream",
          "text": [
            "Downloading https://dl.fbaipublicfiles.com/fasttext/vectors-crawl/cc.en.300.bin.gz\n",
            "\n"
          ],
          "name": "stdout"
        },
        {
          "output_type": "stream",
          "text": [
            "Warning : `load_model` does not return WordVectorModel or SupervisedModel any more, but a `FastText` object which is very similar.\n"
          ],
          "name": "stderr"
        }
      ]
    },
    {
      "cell_type": "code",
      "metadata": {
        "colab": {
          "base_uri": "https://localhost:8080/"
        },
        "id": "mF5-HwaMZ-W8",
        "outputId": "363882ae-25e7-4d58-bdbf-ee355a81a91e"
      },
      "source": [
        "# code from https://github.com/facebookresearch/fastText/issues/887#issuecomment-649018188\n",
        "args_obj = ft.f.getArgs()\n",
        "for hparam in dir(args_obj):\n",
        "    if not hparam.startswith('__'):\n",
        "        print(f\"{hparam} -> {getattr(args_obj, hparam)}\")"
      ],
      "execution_count": 24,
      "outputs": [
        {
          "output_type": "stream",
          "text": [
            "autotuneDuration -> 300\n",
            "autotuneMetric -> f1\n",
            "autotuneModelSize -> \n",
            "autotunePredictions -> 1\n",
            "autotuneValidationFile -> \n",
            "bucket -> 2000000\n",
            "cutoff -> 0\n",
            "dim -> 300\n",
            "dsub -> 2\n",
            "epoch -> 1\n",
            "input -> \n",
            "label -> __label__\n",
            "loss -> loss_name.ns\n",
            "lr -> 0.05\n",
            "lrUpdateRate -> 100\n",
            "maxn -> 5\n",
            "minCount -> 5\n",
            "minCountLabel -> 0\n",
            "minn -> 5\n",
            "model -> model_name.cbow\n",
            "neg -> 10\n",
            "output -> \n",
            "pretrainedVectors -> \n",
            "qnorm -> False\n",
            "qout -> False\n",
            "retrain -> False\n",
            "saveOutput -> False\n",
            "seed -> 0\n",
            "setManual -> <bound method PyCapsule.setManual of <fasttext_pybind.args object at 0x7f7006129db0>>\n",
            "t -> 9.999999747378752e-06\n",
            "thread -> 12\n",
            "verbose -> 2\n",
            "wordNgrams -> 1\n",
            "ws -> 5\n"
          ],
          "name": "stdout"
        }
      ]
    }
  ]
}