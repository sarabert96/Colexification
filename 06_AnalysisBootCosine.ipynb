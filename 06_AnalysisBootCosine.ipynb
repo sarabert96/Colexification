{
  "nbformat": 4,
  "nbformat_minor": 0,
  "metadata": {
    "colab": {
      "name": "06_AnalysisBootCosine.ipynb",
      "provenance": [],
      "collapsed_sections": [],
      "authorship_tag": "ABX9TyNRRBNDh/4yS6NqlVC/6zgv",
      "include_colab_link": true
    },
    "kernelspec": {
      "name": "python3",
      "display_name": "Python 3"
    }
  },
  "cells": [
    {
      "cell_type": "markdown",
      "metadata": {
        "id": "view-in-github",
        "colab_type": "text"
      },
      "source": [
        "<a href=\"https://colab.research.google.com/github/sarabert96/Colexification/blob/main/06_AnalysisBootCosine.ipynb\" target=\"_parent\"><img src=\"https://colab.research.google.com/assets/colab-badge.svg\" alt=\"Open In Colab\"/></a>"
      ]
    },
    {
      "cell_type": "markdown",
      "metadata": {
        "id": "YY9tzJrd_tTs"
      },
      "source": [
        "# Analysis Bootstrapped\n",
        "The file does an analysis on the output of the bootstrap and calculating of probabilities."
      ]
    },
    {
      "cell_type": "code",
      "metadata": {
        "id": "NHOmLRKcArMk"
      },
      "source": [
        "from google.colab import files\n",
        "import pickle\n",
        "import pandas as pd"
      ],
      "execution_count": null,
      "outputs": []
    },
    {
      "cell_type": "markdown",
      "metadata": {
        "id": "-1Ygr6hH_46B"
      },
      "source": [
        "Getting the file from drive"
      ]
    },
    {
      "cell_type": "code",
      "metadata": {
        "colab": {
          "base_uri": "https://localhost:8080/"
        },
        "id": "WFhvCvsKAo2g",
        "outputId": "d96392c1-3844-4022-fd94-600adf2a970b"
      },
      "source": [
        "!gdown --id 1tu36NAL3MyHMkajE7wEDffbF0OI5fidY #listBoot\n",
        "# bootstrappping with 100 as number of cicle"
      ],
      "execution_count": null,
      "outputs": [
        {
          "output_type": "stream",
          "text": [
            "Downloading...\n",
            "From: https://drive.google.com/uc?id=1tu36NAL3MyHMkajE7wEDffbF0OI5fidY\n",
            "To: /content/listBoot.txt\n",
            "222MB [00:04, 48.9MB/s]\n"
          ],
          "name": "stdout"
        }
      ]
    },
    {
      "cell_type": "code",
      "metadata": {
        "id": "-s3De5E697HO"
      },
      "source": [
        "with open(\"listBoot.txt\", \"rb\") as fp:   # Unpickling\n",
        "  lBoot = pickle.load(fp)"
      ],
      "execution_count": null,
      "outputs": []
    },
    {
      "cell_type": "markdown",
      "metadata": {
        "id": "Rppdb68N_8Hh"
      },
      "source": [
        "Creating a dataframe (change the value in square brackets to change the cycle output)"
      ]
    },
    {
      "cell_type": "code",
      "metadata": {
        "id": "91mZIf9pBpqN"
      },
      "source": [
        "df_colex_prob = pd.DataFrame(lBoot[0], columns=['Colex_pair','Concept1', 'Concept2', 'Prob']) # to save in df\n"
      ],
      "execution_count": null,
      "outputs": []
    },
    {
      "cell_type": "code",
      "metadata": {
        "colab": {
          "base_uri": "https://localhost:8080/"
        },
        "id": "Tj9NBD0qt2VH",
        "outputId": "4fa29925-04ae-4eb3-a68b-df1fde9daa58"
      },
      "source": [
        "df_colex_prob['Prob'].describe()"
      ],
      "execution_count": null,
      "outputs": [
        {
          "output_type": "execute_result",
          "data": {
            "text/plain": [
              "count    42549.000000\n",
              "mean         0.001820\n",
              "std          0.006200\n",
              "min          0.000016\n",
              "25%          0.000042\n",
              "50%          0.000100\n",
              "75%          0.000718\n",
              "max          0.196057\n",
              "Name: Prob, dtype: float64"
            ]
          },
          "metadata": {
            "tags": []
          },
          "execution_count": 5
        }
      ]
    },
    {
      "cell_type": "markdown",
      "metadata": {
        "id": "uG8nBWB_xT98"
      },
      "source": [
        "Since the values are very low, we modify them to improve performances on computation (only for this phase)."
      ]
    },
    {
      "cell_type": "code",
      "metadata": {
        "id": "SLJk1oWgxgiH"
      },
      "source": [
        "df_colex_prob['Prob']=df_colex_prob['Prob']*100"
      ],
      "execution_count": null,
      "outputs": []
    },
    {
      "cell_type": "code",
      "metadata": {
        "id": "WxpoNHz2ygVT"
      },
      "source": [
        "df_colex_prob['Prob'] = round(df_colex_prob['Prob'], 3)"
      ],
      "execution_count": null,
      "outputs": []
    },
    {
      "cell_type": "code",
      "metadata": {
        "colab": {
          "base_uri": "https://localhost:8080/"
        },
        "id": "wI1TnCk8xm9f",
        "outputId": "e12a95d9-1f73-4e8a-def1-fc9e89bc168f"
      },
      "source": [
        "df_colex_prob['Prob'].describe()"
      ],
      "execution_count": null,
      "outputs": [
        {
          "output_type": "execute_result",
          "data": {
            "text/plain": [
              "count    42549.000000\n",
              "mean         0.181823\n",
              "std          0.620015\n",
              "min          0.002000\n",
              "25%          0.004000\n",
              "50%          0.010000\n",
              "75%          0.072000\n",
              "max         19.606000\n",
              "Name: Prob, dtype: float64"
            ]
          },
          "metadata": {
            "tags": []
          },
          "execution_count": 8
        }
      ]
    },
    {
      "cell_type": "markdown",
      "metadata": {
        "id": "dwrxPfQqAI_f"
      },
      "source": [
        "Plotting the distribution (red line at 1)"
      ]
    },
    {
      "cell_type": "code",
      "metadata": {
        "colab": {
          "base_uri": "https://localhost:8080/",
          "height": 295
        },
        "id": "B9iSemXBOVph",
        "outputId": "5a38b0fa-616b-4d36-ef85-abbcc904d351"
      },
      "source": [
        "import matplotlib.pyplot as plt\n",
        "plt.plot(sorted(list(df_colex_prob['Prob'])))\n",
        "plt.title(\"Distribution of probabilities\")\n",
        "plt.ylabel('Probabilities (value*100)')\n",
        "plt.xlabel(\"Colexifications' index\")\n",
        "plt.axhline(y = 1, color = 'r', linestyle = '-')\n",
        "plt.show()"
      ],
      "execution_count": null,
      "outputs": [
        {
          "output_type": "display_data",
          "data": {
            "image/png": "[encoded data removed]",
            "text/plain": [
              "<Figure size 432x288 with 1 Axes>"
            ]
          },
          "metadata": {
            "tags": [],
            "needs_background": "light"
          }
        }
      ]
    },
    {
      "cell_type": "markdown",
      "metadata": {
        "id": "YsrR2DtbAMq7"
      },
      "source": [
        "Box plot to see outliers."
      ]
    },
    {
      "cell_type": "code",
      "metadata": {
        "colab": {
          "base_uri": "https://localhost:8080/",
          "height": 265
        },
        "id": "25ME874VQtBQ",
        "outputId": "16587d8f-4163-414a-f0b8-82c6610d6daa"
      },
      "source": [
        "ax = df_colex_prob.plot.box()"
      ],
      "execution_count": null,
      "outputs": [
        {
          "output_type": "display_data",
          "data": {
            "image/png": "[encoded data removed]",
            "text/plain": [
              "<Figure size 432x288 with 1 Axes>"
            ]
          },
          "metadata": {
            "tags": [],
            "needs_background": "light"
          }
        }
      ]
    },
    {
      "cell_type": "code",
      "metadata": {
        "id": "IXEmEy7JA9aD"
      },
      "source": [
        "import matplotlib.pyplot as plt"
      ],
      "execution_count": null,
      "outputs": []
    },
    {
      "cell_type": "code",
      "metadata": {
        "id": "v8d7vve4so7w"
      },
      "source": [
        "data = df_colex_prob['Prob']"
      ],
      "execution_count": null,
      "outputs": []
    },
    {
      "cell_type": "markdown",
      "metadata": {
        "id": "CXMMBk1HAS77"
      },
      "source": [
        "Log-scale histogram"
      ]
    },
    {
      "cell_type": "code",
      "metadata": {
        "colab": {
          "base_uri": "https://localhost:8080/",
          "height": 367
        },
        "id": "XLGtHGtMZd2N",
        "outputId": "7f3b9f84-23a4-4cab-98dc-bcc778fa40df"
      },
      "source": [
        "plt.hist(data, log = True)"
      ],
      "execution_count": null,
      "outputs": [
        {
          "output_type": "execute_result",
          "data": {
            "text/plain": [
              "(array([4.1999e+04, 3.3300e+02, 1.2400e+02, 3.8000e+01, 2.3000e+01,\n",
              "        1.5000e+01, 8.0000e+00, 4.0000e+00, 3.0000e+00, 2.0000e+00]),\n",
              " array([2.00000e-03, 1.96240e+00, 3.92280e+00, 5.88320e+00, 7.84360e+00,\n",
              "        9.80400e+00, 1.17644e+01, 1.37248e+01, 1.56852e+01, 1.76456e+01,\n",
              "        1.96060e+01]),\n",
              " <a list of 10 Patch objects>)"
            ]
          },
          "metadata": {
            "tags": []
          },
          "execution_count": 17
        },
        {
          "output_type": "display_data",
          "data": {
            "image/png": "[encoded data removed]",
            "text/plain": [
              "<Figure size 432x288 with 1 Axes>"
            ]
          },
          "metadata": {
            "tags": [],
            "needs_background": "light"
          }
        }
      ]
    },
    {
      "cell_type": "markdown",
      "metadata": {
        "id": "nPZQiCwoAeHM"
      },
      "source": [
        "Function to plot a fancy histogram"
      ]
    },
    {
      "cell_type": "code",
      "metadata": {
        "id": "wm7UcWHibA9K"
      },
      "source": [
        "# code by https://towardsdatascience.com/advanced-histogram-using-python-bceae288e715\n",
        "\n",
        "def smartHist (data):\n",
        "  import matplotlib.pyplot as plt\n",
        "  from matplotlib.patches import Rectangle\n",
        "  import numpy as np\n",
        "\n",
        "  # Take data\n",
        "  #data = df_colex_prob['Prob']\n",
        "\n",
        "  # Plot the Histogram from the data\n",
        "  fig, ax = plt.subplots(figsize=(8, 8))\n",
        "\n",
        "  '''\n",
        "  counts  = numpy.ndarray of count of data ponts for each bin/column in the histogram\n",
        "  bins    = numpy.ndarray of bin edge/range values\n",
        "  patches = a list of Patch objects.\n",
        "          each Patch object contains a Rectnagle object. \n",
        "          e.g. Rectangle(xy=(-2.51953, 0), width=0.501013, height=3, angle=0)\n",
        "  '''\n",
        "  counts, bins, patches = ax.hist(data, edgecolor='gray', log = True)\n",
        "\n",
        "\n",
        "  # Set the ticks to be at the edges of the bins.\n",
        "  ax.set_xticks(bins.round(2))\n",
        "  plt.xticks(rotation=70)\n",
        "\n",
        "  # Set the graph title and axes titles\n",
        "  plt.title('Distribution of probabilities', fontsize=20)\n",
        "  plt.ylabel('Count', fontsize=15)\n",
        "  plt.xlabel('Probabilities', fontsize=15)\n",
        "          \n",
        "  # Calculate bar centre to display the count of data points and %\n",
        "  #bin_x_centers = 0.5 * np.diff(bins) + bins[:-1]\n",
        "  #bin_y_centers = ax.get_yticks()[1] * 0.25\n",
        "  bin_x_centers = 0.75 * np.diff(bins) + bins[:-1]\n",
        "  bin_y_centers = ax.get_yticks()[1] * 5\n",
        "\n",
        "  # Display the the count of data points and % for each bar in histogram\n",
        "  for i in range(len(bins)-1):\n",
        "      bin_label = \"{0:,}\".format(counts[i]) + \"  ({0:,.2f}%)\".format((counts[i]/counts.sum())*100)\n",
        "      plt.text(bin_x_centers[i], bin_y_centers, bin_label, rotation=90, rotation_mode='anchor')\n",
        "\n",
        "  # Display the graph\n",
        "  plt.show()"
      ],
      "execution_count": null,
      "outputs": []
    },
    {
      "cell_type": "code",
      "metadata": {
        "colab": {
          "base_uri": "https://localhost:8080/",
          "height": 543
        },
        "id": "-WIvbVs2rG71",
        "outputId": "7351621f-53cc-4eb6-aa34-7257b33c50c3"
      },
      "source": [
        "smartHist (df_colex_prob['Prob'])"
      ],
      "execution_count": null,
      "outputs": [
        {
          "output_type": "display_data",
          "data": {
            "image/png": "[encoded data removed]",
            "text/plain": [
              "<Figure size 576x576 with 1 Axes>"
            ]
          },
          "metadata": {
            "tags": [],
            "needs_background": "light"
          }
        }
      ]
    },
    {
      "cell_type": "code",
      "metadata": {
        "colab": {
          "base_uri": "https://localhost:8080/"
        },
        "id": "Khw1Htf1vOwt",
        "outputId": "1547a1a4-cebb-43d2-bc4d-49c5e9e94dfe"
      },
      "source": [
        "# getting the percentage of rows with probability value higher than 1\n",
        "(len(df_colex_prob[df_colex_prob['Prob']>1])*100)/(len(df_colex_prob))"
      ],
      "execution_count": null,
      "outputs": [
        {
          "output_type": "execute_result",
          "data": {
            "text/plain": [
              "3.1634115960422102"
            ]
          },
          "metadata": {
            "tags": []
          },
          "execution_count": 30
        }
      ]
    },
    {
      "cell_type": "markdown",
      "metadata": {
        "id": "KETYY8KTr0dw"
      },
      "source": [
        "Check visually whether to take 5 or 2%"
      ]
    },
    {
      "cell_type": "code",
      "metadata": {
        "id": "j9XqC9igrOrs"
      },
      "source": [
        "df_colex_prob1 = pd.DataFrame(lBoot[1], columns=['Colex_pair', 'Concept1', 'Concept2', 'Prob']) # to save in df\n",
        "df_colex_prob1['Prob']=df_colex_prob1['Prob']*100\n",
        "df_colex_prob1['Prob'] = round(df_colex_prob1['Prob'], 3)\n",
        "\n",
        "df_colex_prob2 = pd.DataFrame(lBoot[2], columns=['Colex_pair', 'Concept1', 'Concept2', 'Prob']) # to save in df\n",
        "df_colex_prob2['Prob']=df_colex_prob2['Prob']*100\n",
        "df_colex_prob2['Prob'] = round(df_colex_prob2['Prob'], 3)"
      ],
      "execution_count": null,
      "outputs": []
    },
    {
      "cell_type": "code",
      "metadata": {
        "colab": {
          "base_uri": "https://localhost:8080/",
          "height": 543
        },
        "id": "0wVThEpmrqhU",
        "outputId": "b4eb40b7-9738-4e60-f209-8700558fe563"
      },
      "source": [
        "smartHist (df_colex_prob1['Prob'])"
      ],
      "execution_count": null,
      "outputs": [
        {
          "output_type": "display_data",
          "data": {
            "image/png": "[encoded data removed]",
            "text/plain": [
              "<Figure size 576x576 with 1 Axes>"
            ]
          },
          "metadata": {
            "tags": [],
            "needs_background": "light"
          }
        }
      ]
    },
    {
      "cell_type": "code",
      "metadata": {
        "colab": {
          "base_uri": "https://localhost:8080/",
          "height": 543
        },
        "id": "yoLmbQnEruqe",
        "outputId": "92f1dfe6-417d-459f-e1fb-da731e6ec759"
      },
      "source": [
        "smartHist (df_colex_prob2['Prob'])"
      ],
      "execution_count": null,
      "outputs": [
        {
          "output_type": "display_data",
          "data": {
            "image/png": "[encoded data removed]",
            "text/plain": [
              "<Figure size 576x576 with 1 Axes>"
            ]
          },
          "metadata": {
            "tags": [],
            "needs_background": "light"
          }
        }
      ]
    },
    {
      "cell_type": "markdown",
      "metadata": {
        "id": "tQ5k9-7MAtwI"
      },
      "source": [
        "## Adding analysis of cosines values"
      ]
    },
    {
      "cell_type": "markdown",
      "metadata": {
        "id": "p91Qa73dteso"
      },
      "source": [
        "Downloading the dataframe with the cosine values obtained from the original colexifications dataframe"
      ]
    },
    {
      "cell_type": "code",
      "metadata": {
        "id": "lzOy3Wduy3Nk",
        "colab": {
          "base_uri": "https://localhost:8080/"
        },
        "outputId": "871b1f16-0ccd-4a3a-9bde-548e16788242"
      },
      "source": [
        "!gdown --id 1vTgCbYTHUpEmKPfB8asRYCe-olek65i0 #df_colex_cosines"
      ],
      "execution_count": null,
      "outputs": [
        {
          "output_type": "stream",
          "text": [
            "Downloading...\n",
            "From: https://drive.google.com/uc?id=1vTgCbYTHUpEmKPfB8asRYCe-olek65i0\n",
            "To: /content/df_colex_cosines.csv\n",
            "13.4MB [00:00, 51.0MB/s]\n"
          ],
          "name": "stdout"
        }
      ]
    },
    {
      "cell_type": "code",
      "metadata": {
        "id": "ibr7F3oeW6KG"
      },
      "source": [
        "df_cosine = pd.read_csv('df_colex_cosines.csv')"
      ],
      "execution_count": null,
      "outputs": []
    },
    {
      "cell_type": "code",
      "metadata": {
        "colab": {
          "base_uri": "https://localhost:8080/",
          "height": 196
        },
        "id": "mKSkOYDVtppa",
        "outputId": "759d9a98-d3d2-452c-fc23-f3e9245df264"
      },
      "source": [
        "df_cosine.head(2)"
      ],
      "execution_count": null,
      "outputs": [
        {
          "output_type": "execute_result",
          "data": {
            "text/html": [
              "<div>\n",
              "<style scoped>\n",
              "    .dataframe tbody tr th:only-of-type {\n",
              "        vertical-align: middle;\n",
              "    }\n",
              "\n",
              "    .dataframe tbody tr th {\n",
              "        vertical-align: top;\n",
              "    }\n",
              "\n",
              "    .dataframe thead th {\n",
              "        text-align: right;\n",
              "    }\n",
              "</style>\n",
              "<table border=\"1\" class=\"dataframe\">\n",
              "  <thead>\n",
              "    <tr style=\"text-align: right;\">\n",
              "      <th></th>\n",
              "      <th>Unnamed: 0</th>\n",
              "      <th>clics_form</th>\n",
              "      <th>Concepticon_ID.x</th>\n",
              "      <th>Glottocode</th>\n",
              "      <th>Concepticon_Gloss.x</th>\n",
              "      <th>Family</th>\n",
              "      <th>variety</th>\n",
              "      <th>Concepticon_ID.y</th>\n",
              "      <th>Concepticon_Gloss.y</th>\n",
              "      <th>cosine_sim</th>\n",
              "      <th>Concepticon_pair</th>\n",
              "    </tr>\n",
              "  </thead>\n",
              "  <tbody>\n",
              "    <tr>\n",
              "      <th>0</th>\n",
              "      <td>0</td>\n",
              "      <td>s@</td>\n",
              "      <td>1369</td>\n",
              "      <td>hrus1242</td>\n",
              "      <td>gold</td>\n",
              "      <td>Hruso</td>\n",
              "      <td>Hruso Aka Jamiri</td>\n",
              "      <td>1927</td>\n",
              "      <td>bamboo</td>\n",
              "      <td>0.250825</td>\n",
              "      <td>('gold', 'bamboo')</td>\n",
              "    </tr>\n",
              "    <tr>\n",
              "      <th>1</th>\n",
              "      <td>1</td>\n",
              "      <td>s@</td>\n",
              "      <td>1369</td>\n",
              "      <td>hrus1242</td>\n",
              "      <td>gold</td>\n",
              "      <td>Hruso</td>\n",
              "      <td>Hruso Aka Jamiri</td>\n",
              "      <td>946</td>\n",
              "      <td>blood</td>\n",
              "      <td>0.244084</td>\n",
              "      <td>('gold', 'blood')</td>\n",
              "    </tr>\n",
              "  </tbody>\n",
              "</table>\n",
              "</div>"
            ],
            "text/plain": [
              "   Unnamed: 0 clics_form  ...  cosine_sim    Concepticon_pair\n",
              "0           0         s@  ...    0.250825  ('gold', 'bamboo')\n",
              "1           1         s@  ...    0.244084   ('gold', 'blood')\n",
              "\n",
              "[2 rows x 11 columns]"
            ]
          },
          "metadata": {
            "tags": []
          },
          "execution_count": 53
        }
      ]
    },
    {
      "cell_type": "code",
      "metadata": {
        "id": "-3ddBwPFtr7c"
      },
      "source": [
        "df_cosine = df_cosine.iloc[: , 1:] # remove the first column"
      ],
      "execution_count": null,
      "outputs": []
    },
    {
      "cell_type": "code",
      "metadata": {
        "colab": {
          "base_uri": "https://localhost:8080/",
          "height": 255
        },
        "id": "X_zH_awPMv3R",
        "outputId": "2c1ceef0-307e-4e47-ee06-9f359407ade6"
      },
      "source": [
        "df_cosine[df_cosine['Concepticon_pair']==\"('green', 'yellow')\"].head(5)\n",
        "# we see we have more than one row for a single pair"
      ],
      "execution_count": null,
      "outputs": [
        {
          "output_type": "execute_result",
          "data": {
            "text/html": [
              "<div>\n",
              "<style scoped>\n",
              "    .dataframe tbody tr th:only-of-type {\n",
              "        vertical-align: middle;\n",
              "    }\n",
              "\n",
              "    .dataframe tbody tr th {\n",
              "        vertical-align: top;\n",
              "    }\n",
              "\n",
              "    .dataframe thead th {\n",
              "        text-align: right;\n",
              "    }\n",
              "</style>\n",
              "<table border=\"1\" class=\"dataframe\">\n",
              "  <thead>\n",
              "    <tr style=\"text-align: right;\">\n",
              "      <th></th>\n",
              "      <th>clics_form</th>\n",
              "      <th>Concepticon_ID.x</th>\n",
              "      <th>Glottocode</th>\n",
              "      <th>Concepticon_Gloss.x</th>\n",
              "      <th>Family</th>\n",
              "      <th>variety</th>\n",
              "      <th>Concepticon_ID.y</th>\n",
              "      <th>Concepticon_Gloss.y</th>\n",
              "      <th>cosine_sim</th>\n",
              "      <th>Concepticon_pair</th>\n",
              "    </tr>\n",
              "  </thead>\n",
              "  <tbody>\n",
              "    <tr>\n",
              "      <th>3</th>\n",
              "      <td>dzju</td>\n",
              "      <td>1425</td>\n",
              "      <td>hrus1242</td>\n",
              "      <td>green</td>\n",
              "      <td>Hruso</td>\n",
              "      <td>Hruso Aka Jamiri</td>\n",
              "      <td>1424</td>\n",
              "      <td>yellow</td>\n",
              "      <td>0.682016</td>\n",
              "      <td>('green', 'yellow')</td>\n",
              "    </tr>\n",
              "    <tr>\n",
              "      <th>9079</th>\n",
              "      <td>madulaw</td>\n",
              "      <td>1425</td>\n",
              "      <td>cala1258</td>\n",
              "      <td>green</td>\n",
              "      <td>Austronesian</td>\n",
              "      <td>Kalamian</td>\n",
              "      <td>1424</td>\n",
              "      <td>yellow</td>\n",
              "      <td>0.682016</td>\n",
              "      <td>('green', 'yellow')</td>\n",
              "    </tr>\n",
              "    <tr>\n",
              "      <th>9080</th>\n",
              "      <td>mkach</td>\n",
              "      <td>1425</td>\n",
              "      <td>babu1240</td>\n",
              "      <td>green</td>\n",
              "      <td>Austronesian</td>\n",
              "      <td>Favorlang</td>\n",
              "      <td>1424</td>\n",
              "      <td>yellow</td>\n",
              "      <td>0.682016</td>\n",
              "      <td>('green', 'yellow')</td>\n",
              "    </tr>\n",
              "    <tr>\n",
              "      <th>9081</th>\n",
              "      <td>ghelh3</td>\n",
              "      <td>1425</td>\n",
              "      <td>indo1319</td>\n",
              "      <td>green</td>\n",
              "      <td>Indo-European</td>\n",
              "      <td>Proto-Indo-European</td>\n",
              "      <td>1424</td>\n",
              "      <td>yellow</td>\n",
              "      <td>0.682016</td>\n",
              "      <td>('green', 'yellow')</td>\n",
              "    </tr>\n",
              "    <tr>\n",
              "      <th>9082</th>\n",
              "      <td>gheltos</td>\n",
              "      <td>1425</td>\n",
              "      <td>indo1319</td>\n",
              "      <td>green</td>\n",
              "      <td>Indo-European</td>\n",
              "      <td>Proto-Indo-European</td>\n",
              "      <td>1424</td>\n",
              "      <td>yellow</td>\n",
              "      <td>0.682016</td>\n",
              "      <td>('green', 'yellow')</td>\n",
              "    </tr>\n",
              "  </tbody>\n",
              "</table>\n",
              "</div>"
            ],
            "text/plain": [
              "     clics_form  Concepticon_ID.x  ... cosine_sim     Concepticon_pair\n",
              "3          dzju              1425  ...   0.682016  ('green', 'yellow')\n",
              "9079    madulaw              1425  ...   0.682016  ('green', 'yellow')\n",
              "9080      mkach              1425  ...   0.682016  ('green', 'yellow')\n",
              "9081     ghelh3              1425  ...   0.682016  ('green', 'yellow')\n",
              "9082    gheltos              1425  ...   0.682016  ('green', 'yellow')\n",
              "\n",
              "[5 rows x 10 columns]"
            ]
          },
          "metadata": {
            "tags": []
          },
          "execution_count": 55
        }
      ]
    },
    {
      "cell_type": "markdown",
      "metadata": {
        "id": "gh9dFUY4A2HT"
      },
      "source": [
        "We see that to a pair, correspond more than one row. In the following code we select [0] for this reason."
      ]
    },
    {
      "cell_type": "code",
      "metadata": {
        "id": "UGnJBBdhL1_l"
      },
      "source": [
        "# getting the cosines values from the df, for every pair of the bootstrapped df\n",
        "cosines = []\n",
        "for c in df_colex_prob['Colex_pair']:\n",
        "  cosines.append(df_cosine[df_cosine['Concepticon_pair']==str(c)].cosine_sim.iloc[0])"
      ],
      "execution_count": null,
      "outputs": []
    },
    {
      "cell_type": "code",
      "metadata": {
        "id": "2nj59-2fNkuD",
        "colab": {
          "base_uri": "https://localhost:8080/"
        },
        "outputId": "41f41eb5-afb7-452f-a30b-0ce8eb6808ac"
      },
      "source": [
        "len(cosines)"
      ],
      "execution_count": null,
      "outputs": [
        {
          "output_type": "execute_result",
          "data": {
            "text/plain": [
              "42549"
            ]
          },
          "metadata": {
            "tags": []
          },
          "execution_count": 57
        }
      ]
    },
    {
      "cell_type": "code",
      "metadata": {
        "id": "8v6vO8sVP6mV"
      },
      "source": [
        "df_colex_prob['Cosine']=cosines # add the cosines to the df"
      ],
      "execution_count": null,
      "outputs": []
    },
    {
      "cell_type": "markdown",
      "metadata": {
        "id": "u872ymfHy-5H"
      },
      "source": [
        "Print the top ten rows depending on the probability"
      ]
    },
    {
      "cell_type": "code",
      "metadata": {
        "id": "FN9S8-jbE71u"
      },
      "source": [
        "topTenProb = sorted(list(df_colex_prob['Prob']))[-10]"
      ],
      "execution_count": null,
      "outputs": []
    },
    {
      "cell_type": "code",
      "metadata": {
        "id": "0DlSyfV8TA9C",
        "colab": {
          "base_uri": "https://localhost:8080/",
          "height": 328
        },
        "outputId": "d16a3579-9535-4924-e7f9-4511091807a1"
      },
      "source": [
        "df_colex_prob[df_colex_prob['Prob']>topTenProb]"
      ],
      "execution_count": null,
      "outputs": [
        {
          "output_type": "execute_result",
          "data": {
            "text/html": [
              "<div>\n",
              "<style scoped>\n",
              "    .dataframe tbody tr th:only-of-type {\n",
              "        vertical-align: middle;\n",
              "    }\n",
              "\n",
              "    .dataframe tbody tr th {\n",
              "        vertical-align: top;\n",
              "    }\n",
              "\n",
              "    .dataframe thead th {\n",
              "        text-align: right;\n",
              "    }\n",
              "</style>\n",
              "<table border=\"1\" class=\"dataframe\">\n",
              "  <thead>\n",
              "    <tr style=\"text-align: right;\">\n",
              "      <th></th>\n",
              "      <th>Colex_pair</th>\n",
              "      <th>Concept1</th>\n",
              "      <th>Concept2</th>\n",
              "      <th>Prob</th>\n",
              "      <th>Cosine</th>\n",
              "    </tr>\n",
              "  </thead>\n",
              "  <tbody>\n",
              "    <tr>\n",
              "      <th>8949</th>\n",
              "      <td>(dish, plate)</td>\n",
              "      <td>dish</td>\n",
              "      <td>plate</td>\n",
              "      <td>16.060</td>\n",
              "      <td>0.489088</td>\n",
              "    </tr>\n",
              "    <tr>\n",
              "      <th>12227</th>\n",
              "      <td>(fingernail, claw)</td>\n",
              "      <td>fingernail</td>\n",
              "      <td>claw</td>\n",
              "      <td>14.833</td>\n",
              "      <td>0.430682</td>\n",
              "    </tr>\n",
              "    <tr>\n",
              "      <th>12812</th>\n",
              "      <td>(flesh, meat)</td>\n",
              "      <td>flesh</td>\n",
              "      <td>meat</td>\n",
              "      <td>17.126</td>\n",
              "      <td>0.501161</td>\n",
              "    </tr>\n",
              "    <tr>\n",
              "      <th>15185</th>\n",
              "      <td>(grandson, granddaughter)</td>\n",
              "      <td>grandson</td>\n",
              "      <td>granddaughter</td>\n",
              "      <td>16.299</td>\n",
              "      <td>0.858003</td>\n",
              "    </tr>\n",
              "    <tr>\n",
              "      <th>16271</th>\n",
              "      <td>(hear, listen)</td>\n",
              "      <td>hear</td>\n",
              "      <td>listen</td>\n",
              "      <td>15.574</td>\n",
              "      <td>0.689995</td>\n",
              "    </tr>\n",
              "    <tr>\n",
              "      <th>19185</th>\n",
              "      <td>(language, word)</td>\n",
              "      <td>language</td>\n",
              "      <td>word</td>\n",
              "      <td>15.400</td>\n",
              "      <td>0.437374</td>\n",
              "    </tr>\n",
              "    <tr>\n",
              "      <th>21782</th>\n",
              "      <td>(moon, month)</td>\n",
              "      <td>moon</td>\n",
              "      <td>month</td>\n",
              "      <td>19.606</td>\n",
              "      <td>0.221915</td>\n",
              "    </tr>\n",
              "    <tr>\n",
              "      <th>30029</th>\n",
              "      <td>(sea, ocean)</td>\n",
              "      <td>sea</td>\n",
              "      <td>ocean</td>\n",
              "      <td>14.337</td>\n",
              "      <td>0.775731</td>\n",
              "    </tr>\n",
              "    <tr>\n",
              "      <th>38968</th>\n",
              "      <td>(tree, wood)</td>\n",
              "      <td>tree</td>\n",
              "      <td>wood</td>\n",
              "      <td>18.699</td>\n",
              "      <td>0.400885</td>\n",
              "    </tr>\n",
              "  </tbody>\n",
              "</table>\n",
              "</div>"
            ],
            "text/plain": [
              "                      Colex_pair    Concept1       Concept2    Prob    Cosine\n",
              "8949               (dish, plate)        dish          plate  16.060  0.489088\n",
              "12227         (fingernail, claw)  fingernail           claw  14.833  0.430682\n",
              "12812              (flesh, meat)       flesh           meat  17.126  0.501161\n",
              "15185  (grandson, granddaughter)    grandson  granddaughter  16.299  0.858003\n",
              "16271             (hear, listen)        hear         listen  15.574  0.689995\n",
              "19185           (language, word)    language           word  15.400  0.437374\n",
              "21782              (moon, month)        moon          month  19.606  0.221915\n",
              "30029               (sea, ocean)         sea          ocean  14.337  0.775731\n",
              "38968               (tree, wood)        tree           wood  18.699  0.400885"
            ]
          },
          "metadata": {
            "tags": []
          },
          "execution_count": 34
        }
      ]
    },
    {
      "cell_type": "markdown",
      "metadata": {
        "id": "tpr9vRQBzDOD"
      },
      "source": [
        "Print the top ten rows depending on the cosine similarity"
      ]
    },
    {
      "cell_type": "code",
      "metadata": {
        "id": "H3susj5ZTNZ3"
      },
      "source": [
        "topTenCos = sorted(list(df_colex_prob['Cosine']))[-10]"
      ],
      "execution_count": null,
      "outputs": []
    },
    {
      "cell_type": "code",
      "metadata": {
        "id": "uYoxcTNfTcVu",
        "colab": {
          "base_uri": "https://localhost:8080/",
          "height": 328
        },
        "outputId": "9175d409-8aae-4cd7-8975-bd1446647a77"
      },
      "source": [
        "df_colex_prob[df_colex_prob['Cosine']>topTenCos]"
      ],
      "execution_count": null,
      "outputs": [
        {
          "output_type": "execute_result",
          "data": {
            "text/html": [
              "<div>\n",
              "<style scoped>\n",
              "    .dataframe tbody tr th:only-of-type {\n",
              "        vertical-align: middle;\n",
              "    }\n",
              "\n",
              "    .dataframe tbody tr th {\n",
              "        vertical-align: top;\n",
              "    }\n",
              "\n",
              "    .dataframe thead th {\n",
              "        text-align: right;\n",
              "    }\n",
              "</style>\n",
              "<table border=\"1\" class=\"dataframe\">\n",
              "  <thead>\n",
              "    <tr style=\"text-align: right;\">\n",
              "      <th></th>\n",
              "      <th>Colex_pair</th>\n",
              "      <th>Concept1</th>\n",
              "      <th>Concept2</th>\n",
              "      <th>Prob</th>\n",
              "      <th>Cosine</th>\n",
              "    </tr>\n",
              "  </thead>\n",
              "  <tbody>\n",
              "    <tr>\n",
              "      <th>10235</th>\n",
              "      <td>(east, west)</td>\n",
              "      <td>east</td>\n",
              "      <td>west</td>\n",
              "      <td>0.009</td>\n",
              "      <td>0.965797</td>\n",
              "    </tr>\n",
              "    <tr>\n",
              "      <th>12629</th>\n",
              "      <td>(five, six)</td>\n",
              "      <td>five</td>\n",
              "      <td>six</td>\n",
              "      <td>0.839</td>\n",
              "      <td>0.963688</td>\n",
              "    </tr>\n",
              "    <tr>\n",
              "      <th>13481</th>\n",
              "      <td>(four, three)</td>\n",
              "      <td>four</td>\n",
              "      <td>three</td>\n",
              "      <td>0.572</td>\n",
              "      <td>0.977453</td>\n",
              "    </tr>\n",
              "    <tr>\n",
              "      <th>22010</th>\n",
              "      <td>(mother's brother, father's brother)</td>\n",
              "      <td>mother's brother</td>\n",
              "      <td>father's brother</td>\n",
              "      <td>6.994</td>\n",
              "      <td>0.989379</td>\n",
              "    </tr>\n",
              "    <tr>\n",
              "      <th>22030</th>\n",
              "      <td>(mother's sister, father's sister)</td>\n",
              "      <td>mother's sister</td>\n",
              "      <td>father's sister</td>\n",
              "      <td>5.227</td>\n",
              "      <td>0.989390</td>\n",
              "    </tr>\n",
              "    <tr>\n",
              "      <th>23062</th>\n",
              "      <td>(north, south)</td>\n",
              "      <td>north</td>\n",
              "      <td>south</td>\n",
              "      <td>1.565</td>\n",
              "      <td>0.978717</td>\n",
              "    </tr>\n",
              "    <tr>\n",
              "      <th>38224</th>\n",
              "      <td>(three, four)</td>\n",
              "      <td>three</td>\n",
              "      <td>four</td>\n",
              "      <td>0.868</td>\n",
              "      <td>0.977453</td>\n",
              "    </tr>\n",
              "    <tr>\n",
              "      <th>38244</th>\n",
              "      <td>(three days before now, four days before now)</td>\n",
              "      <td>three days before now</td>\n",
              "      <td>four days before now</td>\n",
              "      <td>0.003</td>\n",
              "      <td>0.997379</td>\n",
              "    </tr>\n",
              "    <tr>\n",
              "      <th>39307</th>\n",
              "      <td>(twenty four, twenty five)</td>\n",
              "      <td>twenty four</td>\n",
              "      <td>twenty five</td>\n",
              "      <td>0.009</td>\n",
              "      <td>0.986251</td>\n",
              "    </tr>\n",
              "  </tbody>\n",
              "</table>\n",
              "</div>"
            ],
            "text/plain": [
              "                                          Colex_pair  ...    Cosine\n",
              "10235                                   (east, west)  ...  0.965797\n",
              "12629                                    (five, six)  ...  0.963688\n",
              "13481                                  (four, three)  ...  0.977453\n",
              "22010           (mother's brother, father's brother)  ...  0.989379\n",
              "22030             (mother's sister, father's sister)  ...  0.989390\n",
              "23062                                 (north, south)  ...  0.978717\n",
              "38224                                  (three, four)  ...  0.977453\n",
              "38244  (three days before now, four days before now)  ...  0.997379\n",
              "39307                     (twenty four, twenty five)  ...  0.986251\n",
              "\n",
              "[9 rows x 5 columns]"
            ]
          },
          "metadata": {
            "tags": []
          },
          "execution_count": 36
        }
      ]
    },
    {
      "cell_type": "markdown",
      "metadata": {
        "id": "LGMvTjiszL6O"
      },
      "source": [
        "We see that the pairs don't coincide"
      ]
    },
    {
      "cell_type": "markdown",
      "metadata": {
        "id": "MRYqWS6dBNI1"
      },
      "source": [
        "Plot distribution of cosines"
      ]
    },
    {
      "cell_type": "code",
      "metadata": {
        "colab": {
          "base_uri": "https://localhost:8080/",
          "height": 295
        },
        "id": "HKSErgyHBi0N",
        "outputId": "3672ae42-1ee7-41bd-a95a-5781dc789604"
      },
      "source": [
        "plt.plot(sorted(list(df_colex_prob['Cosine'])))\n",
        "plt.title(\"Distribution of cosine\")\n",
        "plt.ylabel('Cosine similarity values')\n",
        "plt.xlabel(\"Colexifications' index\")\n",
        "#plt.axhline(y = 0.5, color = 'r', linestyle = '-')\n",
        "plt.show()"
      ],
      "execution_count": null,
      "outputs": [
        {
          "output_type": "display_data",
          "data": {
            "image/png": "[encoded data removed]",
            "text/plain": [
              "<Figure size 432x288 with 1 Axes>"
            ]
          },
          "metadata": {
            "tags": [],
            "needs_background": "light"
          }
        }
      ]
    },
    {
      "cell_type": "code",
      "metadata": {
        "colab": {
          "base_uri": "https://localhost:8080/",
          "height": 282
        },
        "id": "iplDDjM5B9R9",
        "outputId": "9570c19d-6de2-461c-e82e-f8acbbcc132f"
      },
      "source": [
        "plt.scatter(df_colex_prob['Prob'], df_colex_prob['Cosine'], marker='.')"
      ],
      "execution_count": null,
      "outputs": [
        {
          "output_type": "execute_result",
          "data": {
            "text/plain": [
              "<matplotlib.collections.PathCollection at 0x7f858eb9e7d0>"
            ]
          },
          "metadata": {
            "tags": []
          },
          "execution_count": 64
        },
        {
          "output_type": "display_data",
          "data": {
            "image/png": "[encoded data removed]",
            "text/plain": [
              "<Figure size 432x288 with 1 Axes>"
            ]
          },
          "metadata": {
            "tags": [],
            "needs_background": "light"
          }
        }
      ]
    },
    {
      "cell_type": "code",
      "metadata": {
        "id": "j5E_lrMXDnsM"
      },
      "source": [
        "df_plot = df_colex_prob[df_colex_prob.Prob>5] # create a new df with only high prob for plotting reasons"
      ],
      "execution_count": null,
      "outputs": []
    },
    {
      "cell_type": "code",
      "metadata": {
        "colab": {
          "base_uri": "https://localhost:8080/",
          "height": 282
        },
        "id": "cPr_ZL4ZDtQA",
        "outputId": "2d03f314-f339-46b0-a402-01ed06bc513d"
      },
      "source": [
        "plt.scatter(df_plot['Prob'], df_plot['Cosine'], marker='.')"
      ],
      "execution_count": null,
      "outputs": [
        {
          "output_type": "execute_result",
          "data": {
            "text/plain": [
              "<matplotlib.collections.PathCollection at 0x7f858ecac150>"
            ]
          },
          "metadata": {
            "tags": []
          },
          "execution_count": 69
        },
        {
          "output_type": "display_data",
          "data": {
            "image/png": "[encoded data removed]",
            "text/plain": [
              "<Figure size 432x288 with 1 Axes>"
            ]
          },
          "metadata": {
            "tags": [],
            "needs_background": "light"
          }
        }
      ]
    }
  ]
}