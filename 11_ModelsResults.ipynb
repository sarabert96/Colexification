{
  "nbformat": 4,
  "nbformat_minor": 0,
  "metadata": {
    "colab": {
      "name": "11_ModelsResults.ipynb",
      "provenance": [],
      "authorship_tag": "ABX9TyNUJk0jQuWKIs5QgkOtGeNq",
      "include_colab_link": true
    },
    "kernelspec": {
      "name": "python3",
      "display_name": "Python 3"
    },
    "language_info": {
      "name": "python"
    }
  },
  "cells": [
    {
      "cell_type": "markdown",
      "metadata": {
        "id": "view-in-github",
        "colab_type": "text"
      },
      "source": [
        "<a href=\"https://colab.research.google.com/github/sarabert96/Colexification/blob/main/11_ModelsResults.ipynb\" target=\"_parent\"><img src=\"https://colab.research.google.com/assets/colab-badge.svg\" alt=\"Open In Colab\"/></a>"
      ]
    },
    {
      "cell_type": "markdown",
      "metadata": {
        "id": "Dh-G1AuQnHw-"
      },
      "source": [
        "The file analyze the results obtained from the Logistic Regression on 8 different models."
      ]
    },
    {
      "cell_type": "code",
      "metadata": {
        "id": "xUiedhmO5Z7G"
      },
      "source": [
        "import pandas as pd"
      ],
      "execution_count": null,
      "outputs": []
    },
    {
      "cell_type": "code",
      "metadata": {
        "id": "hkdpPvr-4sju"
      },
      "source": [
        "df_bal_wiki1_1 = pd.read_csv('df_bal_wiki1_1.csv')\n",
        "df_bal_wiki1_2 = pd.read_csv('df_bal_wiki1_2.csv')\n",
        "df_bal_wiki1_3 = pd.read_csv('df_bal_wiki1_3.csv')\n",
        "df_bal_wiki1_5 = pd.read_csv('df_bal_wiki1_5.csv')\n",
        "df_bal_wiki1_7 = pd.read_csv('df_bal_wiki1_7.csv')\n",
        "df_bal_wiki1_10 = pd.read_csv('df_bal_wiki1_10.csv')\n",
        "df_bal_wiki1_20 = pd.read_csv('df_bal_wiki1_20.csv')\n",
        "df_bal_wiki1_50 = pd.read_csv('df_bal_wiki1_50.csv')\n",
        "\n",
        "\n",
        "df_un_wiki1_1 = pd.read_csv('df_un_wiki1_1.csv')\n",
        "df_un_wiki1_2 = pd.read_csv('df_un_wiki1_2.csv')\n",
        "df_un_wiki1_3 = pd.read_csv('df_un_wiki1_3.csv')\n",
        "df_un_wiki1_5 = pd.read_csv('df_un_wiki1_5.csv')\n",
        "df_un_wiki1_7 = pd.read_csv('df_un_wiki1_7.csv')\n",
        "df_un_wiki1_10 = pd.read_csv('df_un_wiki1_10.csv')\n",
        "df_un_wiki1_20 = pd.read_csv('df_un_wiki1_20.csv')\n",
        "df_un_wiki1_50 = pd.read_csv('df_un_wiki1_50.csv')"
      ],
      "execution_count": null,
      "outputs": []
    },
    {
      "cell_type": "code",
      "metadata": {
        "id": "P3LFvbdD5b1Q"
      },
      "source": [
        "df_bal=pd.DataFrame()\n",
        "df_bal[1] = df_bal_wiki1_1['f1_score']\n",
        "df_bal[2] = df_bal_wiki1_2['f1_score']\n",
        "df_bal[3] = df_bal_wiki1_3['f1_score']\n",
        "df_bal[5] = df_bal_wiki1_5['f1_score']\n",
        "df_bal[7] = df_bal_wiki1_7['f1_score']\n",
        "df_bal[10] = df_bal_wiki1_10['f1_score']\n",
        "df_bal[20] = df_bal_wiki1_20['f1_score']\n",
        "df_bal[50] = df_bal_wiki1_50['f1_score']"
      ],
      "execution_count": null,
      "outputs": []
    },
    {
      "cell_type": "code",
      "metadata": {
        "colab": {
          "base_uri": "https://localhost:8080/",
          "height": 419
        },
        "id": "akmkrucK6I_t",
        "outputId": "28c4e6e9-dffd-4630-a9fb-afc18164959b"
      },
      "source": [
        "df_bal"
      ],
      "execution_count": null,
      "outputs": [
        {
          "output_type": "execute_result",
          "data": {
            "text/html": [
              "<div>\n",
              "<style scoped>\n",
              "    .dataframe tbody tr th:only-of-type {\n",
              "        vertical-align: middle;\n",
              "    }\n",
              "\n",
              "    .dataframe tbody tr th {\n",
              "        vertical-align: top;\n",
              "    }\n",
              "\n",
              "    .dataframe thead th {\n",
              "        text-align: right;\n",
              "    }\n",
              "</style>\n",
              "<table border=\"1\" class=\"dataframe\">\n",
              "  <thead>\n",
              "    <tr style=\"text-align: right;\">\n",
              "      <th></th>\n",
              "      <th>1</th>\n",
              "      <th>2</th>\n",
              "      <th>3</th>\n",
              "      <th>5</th>\n",
              "      <th>7</th>\n",
              "      <th>10</th>\n",
              "      <th>20</th>\n",
              "      <th>50</th>\n",
              "    </tr>\n",
              "  </thead>\n",
              "  <tbody>\n",
              "    <tr>\n",
              "      <th>0</th>\n",
              "      <td>0.76</td>\n",
              "      <td>0.79</td>\n",
              "      <td>0.79</td>\n",
              "      <td>0.77</td>\n",
              "      <td>0.75</td>\n",
              "      <td>0.70</td>\n",
              "      <td>0.71</td>\n",
              "      <td>0.70</td>\n",
              "    </tr>\n",
              "    <tr>\n",
              "      <th>1</th>\n",
              "      <td>0.76</td>\n",
              "      <td>0.77</td>\n",
              "      <td>0.74</td>\n",
              "      <td>0.76</td>\n",
              "      <td>0.74</td>\n",
              "      <td>0.75</td>\n",
              "      <td>0.74</td>\n",
              "      <td>0.72</td>\n",
              "    </tr>\n",
              "    <tr>\n",
              "      <th>2</th>\n",
              "      <td>0.74</td>\n",
              "      <td>0.75</td>\n",
              "      <td>0.78</td>\n",
              "      <td>0.77</td>\n",
              "      <td>0.78</td>\n",
              "      <td>0.74</td>\n",
              "      <td>0.72</td>\n",
              "      <td>0.72</td>\n",
              "    </tr>\n",
              "    <tr>\n",
              "      <th>3</th>\n",
              "      <td>0.68</td>\n",
              "      <td>0.79</td>\n",
              "      <td>0.74</td>\n",
              "      <td>0.75</td>\n",
              "      <td>0.75</td>\n",
              "      <td>0.73</td>\n",
              "      <td>0.74</td>\n",
              "      <td>0.73</td>\n",
              "    </tr>\n",
              "    <tr>\n",
              "      <th>4</th>\n",
              "      <td>0.73</td>\n",
              "      <td>0.74</td>\n",
              "      <td>0.76</td>\n",
              "      <td>0.72</td>\n",
              "      <td>0.74</td>\n",
              "      <td>0.74</td>\n",
              "      <td>0.72</td>\n",
              "      <td>0.73</td>\n",
              "    </tr>\n",
              "    <tr>\n",
              "      <th>...</th>\n",
              "      <td>...</td>\n",
              "      <td>...</td>\n",
              "      <td>...</td>\n",
              "      <td>...</td>\n",
              "      <td>...</td>\n",
              "      <td>...</td>\n",
              "      <td>...</td>\n",
              "      <td>...</td>\n",
              "    </tr>\n",
              "    <tr>\n",
              "      <th>995</th>\n",
              "      <td>0.73</td>\n",
              "      <td>0.73</td>\n",
              "      <td>0.74</td>\n",
              "      <td>0.77</td>\n",
              "      <td>0.71</td>\n",
              "      <td>0.71</td>\n",
              "      <td>0.70</td>\n",
              "      <td>0.75</td>\n",
              "    </tr>\n",
              "    <tr>\n",
              "      <th>996</th>\n",
              "      <td>0.74</td>\n",
              "      <td>0.77</td>\n",
              "      <td>0.75</td>\n",
              "      <td>0.77</td>\n",
              "      <td>0.74</td>\n",
              "      <td>0.74</td>\n",
              "      <td>0.72</td>\n",
              "      <td>0.72</td>\n",
              "    </tr>\n",
              "    <tr>\n",
              "      <th>997</th>\n",
              "      <td>0.75</td>\n",
              "      <td>0.79</td>\n",
              "      <td>0.76</td>\n",
              "      <td>0.78</td>\n",
              "      <td>0.75</td>\n",
              "      <td>0.74</td>\n",
              "      <td>0.72</td>\n",
              "      <td>0.70</td>\n",
              "    </tr>\n",
              "    <tr>\n",
              "      <th>998</th>\n",
              "      <td>0.75</td>\n",
              "      <td>0.75</td>\n",
              "      <td>0.76</td>\n",
              "      <td>0.81</td>\n",
              "      <td>0.73</td>\n",
              "      <td>0.73</td>\n",
              "      <td>0.68</td>\n",
              "      <td>0.73</td>\n",
              "    </tr>\n",
              "    <tr>\n",
              "      <th>999</th>\n",
              "      <td>0.74</td>\n",
              "      <td>0.74</td>\n",
              "      <td>0.79</td>\n",
              "      <td>0.76</td>\n",
              "      <td>0.74</td>\n",
              "      <td>0.75</td>\n",
              "      <td>0.73</td>\n",
              "      <td>0.74</td>\n",
              "    </tr>\n",
              "  </tbody>\n",
              "</table>\n",
              "<p>1000 rows × 8 columns</p>\n",
              "</div>"
            ],
            "text/plain": [
              "       1     2     3     5     7     10    20    50\n",
              "0    0.76  0.79  0.79  0.77  0.75  0.70  0.71  0.70\n",
              "1    0.76  0.77  0.74  0.76  0.74  0.75  0.74  0.72\n",
              "2    0.74  0.75  0.78  0.77  0.78  0.74  0.72  0.72\n",
              "3    0.68  0.79  0.74  0.75  0.75  0.73  0.74  0.73\n",
              "4    0.73  0.74  0.76  0.72  0.74  0.74  0.72  0.73\n",
              "..    ...   ...   ...   ...   ...   ...   ...   ...\n",
              "995  0.73  0.73  0.74  0.77  0.71  0.71  0.70  0.75\n",
              "996  0.74  0.77  0.75  0.77  0.74  0.74  0.72  0.72\n",
              "997  0.75  0.79  0.76  0.78  0.75  0.74  0.72  0.70\n",
              "998  0.75  0.75  0.76  0.81  0.73  0.73  0.68  0.73\n",
              "999  0.74  0.74  0.79  0.76  0.74  0.75  0.73  0.74\n",
              "\n",
              "[1000 rows x 8 columns]"
            ]
          },
          "metadata": {
            "tags": []
          },
          "execution_count": 19
        }
      ]
    },
    {
      "cell_type": "code",
      "metadata": {
        "colab": {
          "base_uri": "https://localhost:8080/",
          "height": 265
        },
        "id": "dVQfgj_85xMx",
        "outputId": "768317fa-617f-465f-bdde-aacfa3413908"
      },
      "source": [
        "boxplot = df_bal.boxplot(column=[1,2,3,5,7,10,20,50])"
      ],
      "execution_count": null,
      "outputs": [
        {
          "output_type": "display_data",
          "data": {
            "image/png": "[encoded data removed]",
            "text/plain": [
              "<Figure size 432x288 with 1 Axes>"
            ]
          },
          "metadata": {
            "tags": [],
            "needs_background": "light"
          }
        }
      ]
    },
    {
      "cell_type": "code",
      "metadata": {
        "id": "4zuHTZ5T95iC"
      },
      "source": [
        "df_un=pd.DataFrame()\n",
        "df_un[1] = df_un_wiki1_1['f1_score']\n",
        "df_un[2] = df_un_wiki1_2['f1_score']\n",
        "df_un[3] = df_un_wiki1_3['f1_score']\n",
        "df_un[5] = df_un_wiki1_5['f1_score']\n",
        "df_un[7] = df_un_wiki1_7['f1_score']\n",
        "df_un[10] = df_un_wiki1_10['f1_score']\n",
        "df_un[20] = df_un_wiki1_20['f1_score']\n",
        "df_un[50] = df_un_wiki1_50['f1_score']"
      ],
      "execution_count": null,
      "outputs": []
    },
    {
      "cell_type": "code",
      "metadata": {
        "colab": {
          "base_uri": "https://localhost:8080/",
          "height": 419
        },
        "id": "MWSuzmcl-DRJ",
        "outputId": "813e1b4d-3da5-431b-8a18-7f957e7f9d7c"
      },
      "source": [
        "df_un"
      ],
      "execution_count": null,
      "outputs": [
        {
          "output_type": "execute_result",
          "data": {
            "text/html": [
              "<div>\n",
              "<style scoped>\n",
              "    .dataframe tbody tr th:only-of-type {\n",
              "        vertical-align: middle;\n",
              "    }\n",
              "\n",
              "    .dataframe tbody tr th {\n",
              "        vertical-align: top;\n",
              "    }\n",
              "\n",
              "    .dataframe thead th {\n",
              "        text-align: right;\n",
              "    }\n",
              "</style>\n",
              "<table border=\"1\" class=\"dataframe\">\n",
              "  <thead>\n",
              "    <tr style=\"text-align: right;\">\n",
              "      <th></th>\n",
              "      <th>1</th>\n",
              "      <th>2</th>\n",
              "      <th>3</th>\n",
              "      <th>5</th>\n",
              "      <th>7</th>\n",
              "      <th>10</th>\n",
              "      <th>20</th>\n",
              "      <th>50</th>\n",
              "    </tr>\n",
              "  </thead>\n",
              "  <tbody>\n",
              "    <tr>\n",
              "      <th>0</th>\n",
              "      <td>0.59</td>\n",
              "      <td>0.61</td>\n",
              "      <td>0.60</td>\n",
              "      <td>0.6</td>\n",
              "      <td>0.60</td>\n",
              "      <td>0.59</td>\n",
              "      <td>0.59</td>\n",
              "      <td>0.60</td>\n",
              "    </tr>\n",
              "    <tr>\n",
              "      <th>1</th>\n",
              "      <td>0.59</td>\n",
              "      <td>0.60</td>\n",
              "      <td>0.60</td>\n",
              "      <td>0.6</td>\n",
              "      <td>0.60</td>\n",
              "      <td>0.59</td>\n",
              "      <td>0.59</td>\n",
              "      <td>0.59</td>\n",
              "    </tr>\n",
              "    <tr>\n",
              "      <th>2</th>\n",
              "      <td>0.59</td>\n",
              "      <td>0.60</td>\n",
              "      <td>0.61</td>\n",
              "      <td>0.6</td>\n",
              "      <td>0.59</td>\n",
              "      <td>0.59</td>\n",
              "      <td>0.59</td>\n",
              "      <td>0.60</td>\n",
              "    </tr>\n",
              "    <tr>\n",
              "      <th>3</th>\n",
              "      <td>0.59</td>\n",
              "      <td>0.60</td>\n",
              "      <td>0.60</td>\n",
              "      <td>0.6</td>\n",
              "      <td>0.60</td>\n",
              "      <td>0.59</td>\n",
              "      <td>0.59</td>\n",
              "      <td>0.59</td>\n",
              "    </tr>\n",
              "    <tr>\n",
              "      <th>4</th>\n",
              "      <td>0.60</td>\n",
              "      <td>0.60</td>\n",
              "      <td>0.60</td>\n",
              "      <td>0.6</td>\n",
              "      <td>0.60</td>\n",
              "      <td>0.59</td>\n",
              "      <td>0.59</td>\n",
              "      <td>0.59</td>\n",
              "    </tr>\n",
              "    <tr>\n",
              "      <th>...</th>\n",
              "      <td>...</td>\n",
              "      <td>...</td>\n",
              "      <td>...</td>\n",
              "      <td>...</td>\n",
              "      <td>...</td>\n",
              "      <td>...</td>\n",
              "      <td>...</td>\n",
              "      <td>...</td>\n",
              "    </tr>\n",
              "    <tr>\n",
              "      <th>995</th>\n",
              "      <td>0.59</td>\n",
              "      <td>0.59</td>\n",
              "      <td>0.60</td>\n",
              "      <td>0.6</td>\n",
              "      <td>0.59</td>\n",
              "      <td>0.59</td>\n",
              "      <td>0.59</td>\n",
              "      <td>0.59</td>\n",
              "    </tr>\n",
              "    <tr>\n",
              "      <th>996</th>\n",
              "      <td>0.59</td>\n",
              "      <td>0.60</td>\n",
              "      <td>0.60</td>\n",
              "      <td>0.6</td>\n",
              "      <td>0.60</td>\n",
              "      <td>0.59</td>\n",
              "      <td>0.59</td>\n",
              "      <td>0.59</td>\n",
              "    </tr>\n",
              "    <tr>\n",
              "      <th>997</th>\n",
              "      <td>0.59</td>\n",
              "      <td>0.59</td>\n",
              "      <td>0.60</td>\n",
              "      <td>0.6</td>\n",
              "      <td>0.59</td>\n",
              "      <td>0.59</td>\n",
              "      <td>0.59</td>\n",
              "      <td>0.59</td>\n",
              "    </tr>\n",
              "    <tr>\n",
              "      <th>998</th>\n",
              "      <td>0.59</td>\n",
              "      <td>0.59</td>\n",
              "      <td>0.59</td>\n",
              "      <td>0.6</td>\n",
              "      <td>0.59</td>\n",
              "      <td>0.59</td>\n",
              "      <td>0.59</td>\n",
              "      <td>0.59</td>\n",
              "    </tr>\n",
              "    <tr>\n",
              "      <th>999</th>\n",
              "      <td>0.59</td>\n",
              "      <td>0.59</td>\n",
              "      <td>0.60</td>\n",
              "      <td>0.6</td>\n",
              "      <td>0.59</td>\n",
              "      <td>0.59</td>\n",
              "      <td>0.59</td>\n",
              "      <td>0.59</td>\n",
              "    </tr>\n",
              "  </tbody>\n",
              "</table>\n",
              "<p>1000 rows × 8 columns</p>\n",
              "</div>"
            ],
            "text/plain": [
              "       1     2     3    5     7     10    20    50\n",
              "0    0.59  0.61  0.60  0.6  0.60  0.59  0.59  0.60\n",
              "1    0.59  0.60  0.60  0.6  0.60  0.59  0.59  0.59\n",
              "2    0.59  0.60  0.61  0.6  0.59  0.59  0.59  0.60\n",
              "3    0.59  0.60  0.60  0.6  0.60  0.59  0.59  0.59\n",
              "4    0.60  0.60  0.60  0.6  0.60  0.59  0.59  0.59\n",
              "..    ...   ...   ...  ...   ...   ...   ...   ...\n",
              "995  0.59  0.59  0.60  0.6  0.59  0.59  0.59  0.59\n",
              "996  0.59  0.60  0.60  0.6  0.60  0.59  0.59  0.59\n",
              "997  0.59  0.59  0.60  0.6  0.59  0.59  0.59  0.59\n",
              "998  0.59  0.59  0.59  0.6  0.59  0.59  0.59  0.59\n",
              "999  0.59  0.59  0.60  0.6  0.59  0.59  0.59  0.59\n",
              "\n",
              "[1000 rows x 8 columns]"
            ]
          },
          "metadata": {
            "tags": []
          },
          "execution_count": 24
        }
      ]
    },
    {
      "cell_type": "code",
      "metadata": {
        "colab": {
          "base_uri": "https://localhost:8080/",
          "height": 265
        },
        "id": "mU31BzxZ-EOZ",
        "outputId": "ba32a6ab-35d2-4926-e4dc-5a418bc61eae"
      },
      "source": [
        "boxplot = df_un.boxplot(column=[1,2,3,5,7,10,20,50])"
      ],
      "execution_count": null,
      "outputs": [
        {
          "output_type": "display_data",
          "data": {
            "image/png": "[encoded data removed]",
            "text/plain": [
              "<Figure size 432x288 with 1 Axes>"
            ]
          },
          "metadata": {
            "tags": [],
            "needs_background": "light"
          }
        }
      ]
    }
  ]
}