{
  "nbformat": 4,
  "nbformat_minor": 0,
  "metadata": {
    "colab": {
      "name": "bootstrap.ipynb",
      "provenance": [],
      "include_colab_link": true
    },
    "kernelspec": {
      "name": "python3",
      "display_name": "Python 3"
    }
  },
  "cells": [
    {
      "cell_type": "markdown",
      "metadata": {
        "id": "view-in-github",
        "colab_type": "text"
      },
      "source": [
        "<a href=\"https://colab.research.google.com/github/sarabert96/Colexification/blob/main/check/bootstrap.ipynb\" target=\"_parent\"><img src=\"https://colab.research.google.com/assets/colab-badge.svg\" alt=\"Open In Colab\"/></a>"
      ]
    },
    {
      "cell_type": "code",
      "metadata": {
        "id": "vDsky5weNdWc"
      },
      "source": [
        "import pandas as pd\r\n",
        "import numpy as np\r\n",
        "from collections import Counter"
      ],
      "execution_count": 1,
      "outputs": []
    },
    {
      "cell_type": "code",
      "metadata": {
        "colab": {
          "base_uri": "https://localhost:8080/"
        },
        "id": "CioJyGVUNpuF",
        "outputId": "956065e3-d53d-4e6a-ba70-b0680910dc7c"
      },
      "source": [
        "!gdown --id 1a-Bnhiwo3TArMAKKABETdie4flLTF5C1\r\n",
        "df_colex = pd.read_csv('df_colexifications.csv')"
      ],
      "execution_count": 2,
      "outputs": [
        {
          "output_type": "stream",
          "text": [
            "Downloading...\n",
            "From: https://drive.google.com/uc?id=1a-Bnhiwo3TArMAKKABETdie4flLTF5C1\n",
            "To: /content/df_colexifications.csv\n",
            "\r0.00B [00:00, ?B/s]\r7.64MB [00:00, 66.9MB/s]\n"
          ],
          "name": "stdout"
        }
      ]
    },
    {
      "cell_type": "markdown",
      "metadata": {
        "id": "bsqzNmTWA8FB"
      },
      "source": [
        "apply multi-word and remove old/middle... varieties"
      ]
    },
    {
      "cell_type": "code",
      "metadata": {
        "colab": {
          "base_uri": "https://localhost:8080/"
        },
        "id": "0FDDXoidNr_H",
        "outputId": "fce73156-3a2c-4c74-9526-37598f5654d6"
      },
      "source": [
        "!gdown --id 1EySPG8ZDMfMTvhUQaw8w1k6NgywI4N4S #df_all_raw\r\n",
        "df_all = pd.read_csv('df_all_raw.csv')"
      ],
      "execution_count": 3,
      "outputs": [
        {
          "output_type": "stream",
          "text": [
            "Downloading...\n",
            "From: https://drive.google.com/uc?id=1EySPG8ZDMfMTvhUQaw8w1k6NgywI4N4S\n",
            "To: /content/df_all_raw.csv\n",
            "244MB [00:01, 184MB/s]\n"
          ],
          "name": "stdout"
        },
        {
          "output_type": "stream",
          "text": [
            "/usr/local/lib/python3.6/dist-packages/IPython/core/interactiveshell.py:2718: DtypeWarning: Columns (4) have mixed types.Specify dtype option on import or set low_memory=False.\n",
            "  interactivity=interactivity, compiler=compiler, result=result)\n"
          ],
          "name": "stderr"
        }
      ]
    },
    {
      "cell_type": "code",
      "metadata": {
        "colab": {
          "base_uri": "https://localhost:8080/"
        },
        "id": "HvNtwt_FM2-R",
        "outputId": "fed5c4da-6eb8-464f-b5b8-348340a9feba"
      },
      "source": [
        "df_all.groupby('Glottocode').size()"
      ],
      "execution_count": 40,
      "outputs": [
        {
          "output_type": "execute_result",
          "data": {
            "text/plain": [
              "Glottocode\n",
              "abag1245     108\n",
              "abam1239      95\n",
              "abau1245      90\n",
              "abaz1241      77\n",
              "abkh1244    1354\n",
              "            ... \n",
              "zima1244     460\n",
              "zinz1238     896\n",
              "zizi1238     419\n",
              "zuni1245     981\n",
              "zuoj1238    1690\n",
              "Length: 2279, dtype: int64"
            ]
          },
          "metadata": {
            "tags": []
          },
          "execution_count": 40
        }
      ]
    },
    {
      "cell_type": "code",
      "metadata": {
        "colab": {
          "base_uri": "https://localhost:8080/"
        },
        "id": "JiEziZJSNQb3",
        "outputId": "bcbd2333-a673-477d-e273-3d478a3bdc8e"
      },
      "source": [
        "df_all.groupby('variety').size()"
      ],
      "execution_count": 41,
      "outputs": [
        {
          "output_type": "execute_result",
          "data": {
            "text/plain": [
              "variety\n",
              "'Are'are (1)    327\n",
              "'Are'are (2)    327\n",
              "A'jië            88\n",
              "Abaga           108\n",
              "Abau             90\n",
              "               ... \n",
              "yabong          327\n",
              "yangulam        274\n",
              "yarawata        343\n",
              "yoidik          323\n",
              "Ömie            145\n",
              "Length: 3050, dtype: int64"
            ]
          },
          "metadata": {
            "tags": []
          },
          "execution_count": 41
        }
      ]
    },
    {
      "cell_type": "markdown",
      "metadata": {
        "id": "QjVG7JlyOQYW"
      },
      "source": [
        "we saw that the number of glottocode is different from the number of variety! problem when merge? problem when inner join on R?"
      ]
    },
    {
      "cell_type": "markdown",
      "metadata": {
        "id": "nEKjt7o9OoeM"
      },
      "source": [
        "create new df with family, glottocode and variety info to be joined into colexification df.\r\n",
        "\r\n",
        "\r\n",
        "PS: this part can be avoided if / when we modify the R code"
      ]
    },
    {
      "cell_type": "code",
      "metadata": {
        "id": "Qo6Huu_sNzAT"
      },
      "source": [
        "df_support = df_all[['Family','variety','Glottocode']].copy()"
      ],
      "execution_count": 4,
      "outputs": []
    },
    {
      "cell_type": "code",
      "metadata": {
        "colab": {
          "base_uri": "https://localhost:8080/",
          "height": 419
        },
        "id": "PjVnV5hEN1Q2",
        "outputId": "8705233a-2a4c-4be1-e854-81696d74db25"
      },
      "source": [
        "df_support=df_support.drop_duplicates()\r\n",
        "df_support"
      ],
      "execution_count": 5,
      "outputs": [
        {
          "output_type": "execute_result",
          "data": {
            "text/html": [
              "<div>\n",
              "<style scoped>\n",
              "    .dataframe tbody tr th:only-of-type {\n",
              "        vertical-align: middle;\n",
              "    }\n",
              "\n",
              "    .dataframe tbody tr th {\n",
              "        vertical-align: top;\n",
              "    }\n",
              "\n",
              "    .dataframe thead th {\n",
              "        text-align: right;\n",
              "    }\n",
              "</style>\n",
              "<table border=\"1\" class=\"dataframe\">\n",
              "  <thead>\n",
              "    <tr style=\"text-align: right;\">\n",
              "      <th></th>\n",
              "      <th>Family</th>\n",
              "      <th>variety</th>\n",
              "      <th>Glottocode</th>\n",
              "    </tr>\n",
              "  </thead>\n",
              "  <tbody>\n",
              "    <tr>\n",
              "      <th>0</th>\n",
              "      <td>Sino-Tibetan</td>\n",
              "      <td>Bugun Bichom</td>\n",
              "      <td>bich1234</td>\n",
              "    </tr>\n",
              "    <tr>\n",
              "      <th>1</th>\n",
              "      <td>Sino-Tibetan</td>\n",
              "      <td>Bugun Kaspi</td>\n",
              "      <td>kasp1234</td>\n",
              "    </tr>\n",
              "    <tr>\n",
              "      <th>2</th>\n",
              "      <td>Sino-Tibetan</td>\n",
              "      <td>Bugun Namphri</td>\n",
              "      <td>namp1239</td>\n",
              "    </tr>\n",
              "    <tr>\n",
              "      <th>3</th>\n",
              "      <td>Sino-Tibetan</td>\n",
              "      <td>Bugun Singchung</td>\n",
              "      <td>sing1271</td>\n",
              "    </tr>\n",
              "    <tr>\n",
              "      <th>4</th>\n",
              "      <td>Sino-Tibetan</td>\n",
              "      <td>Bugun Wangho</td>\n",
              "      <td>wang1301</td>\n",
              "    </tr>\n",
              "    <tr>\n",
              "      <th>...</th>\n",
              "      <td>...</td>\n",
              "      <td>...</td>\n",
              "      <td>...</td>\n",
              "    </tr>\n",
              "    <tr>\n",
              "      <th>1358018</th>\n",
              "      <td>Nuclear Trans New Guinea</td>\n",
              "      <td>yaben</td>\n",
              "      <td>yabe1255</td>\n",
              "    </tr>\n",
              "    <tr>\n",
              "      <th>1358019</th>\n",
              "      <td>Nuclear Trans New Guinea</td>\n",
              "      <td>yabong</td>\n",
              "      <td>yabo1240</td>\n",
              "    </tr>\n",
              "    <tr>\n",
              "      <th>1358020</th>\n",
              "      <td>Nuclear Trans New Guinea</td>\n",
              "      <td>yangulam</td>\n",
              "      <td>yang1298</td>\n",
              "    </tr>\n",
              "    <tr>\n",
              "      <th>1358021</th>\n",
              "      <td>Nuclear Trans New Guinea</td>\n",
              "      <td>yarawata</td>\n",
              "      <td>yara1250</td>\n",
              "    </tr>\n",
              "    <tr>\n",
              "      <th>1358022</th>\n",
              "      <td>Nuclear Trans New Guinea</td>\n",
              "      <td>yoidik</td>\n",
              "      <td>yoid1240</td>\n",
              "    </tr>\n",
              "  </tbody>\n",
              "</table>\n",
              "<p>3065 rows × 3 columns</p>\n",
              "</div>"
            ],
            "text/plain": [
              "                           Family          variety Glottocode\n",
              "0                    Sino-Tibetan     Bugun Bichom   bich1234\n",
              "1                    Sino-Tibetan      Bugun Kaspi   kasp1234\n",
              "2                    Sino-Tibetan    Bugun Namphri   namp1239\n",
              "3                    Sino-Tibetan  Bugun Singchung   sing1271\n",
              "4                    Sino-Tibetan     Bugun Wangho   wang1301\n",
              "...                           ...              ...        ...\n",
              "1358018  Nuclear Trans New Guinea            yaben   yabe1255\n",
              "1358019  Nuclear Trans New Guinea           yabong   yabo1240\n",
              "1358020  Nuclear Trans New Guinea         yangulam   yang1298\n",
              "1358021  Nuclear Trans New Guinea         yarawata   yara1250\n",
              "1358022  Nuclear Trans New Guinea           yoidik   yoid1240\n",
              "\n",
              "[3065 rows x 3 columns]"
            ]
          },
          "metadata": {
            "tags": []
          },
          "execution_count": 5
        }
      ]
    },
    {
      "cell_type": "code",
      "metadata": {
        "id": "ifft6-6bN4pG"
      },
      "source": [
        "# join df_colex with family and variety info\r\n",
        "df_colex_ok = pd.merge(df_colex, df_support, on=\"Glottocode\")"
      ],
      "execution_count": 6,
      "outputs": []
    },
    {
      "cell_type": "markdown",
      "metadata": {
        "id": "O2Y-6AUCO5Bg"
      },
      "source": [
        "**knowing the data**: 185 linguistic fam, fam with most lang and with least"
      ]
    },
    {
      "cell_type": "code",
      "metadata": {
        "colab": {
          "base_uri": "https://localhost:8080/"
        },
        "id": "_Wx2t5AQN_-P",
        "outputId": "1e47aa40-209d-459c-dc4e-a89a9e7a4f39"
      },
      "source": [
        "df_colex_ok.groupby('Family').size()"
      ],
      "execution_count": 7,
      "outputs": [
        {
          "output_type": "execute_result",
          "data": {
            "text/plain": [
              "Family\n",
              "Abkhaz-Adyge     508\n",
              "Abun              13\n",
              "Afro-Asiatic    5021\n",
              "Aikanã            22\n",
              "Ainu             123\n",
              "                ... \n",
              "Yuat              10\n",
              "Yukaghir         254\n",
              "Yámana           203\n",
              "Zamucoan         250\n",
              "Zuni             189\n",
              "Length: 185, dtype: int64"
            ]
          },
          "metadata": {
            "tags": []
          },
          "execution_count": 7
        }
      ]
    },
    {
      "cell_type": "code",
      "metadata": {
        "id": "NhNfw3IuOA4V",
        "colab": {
          "base_uri": "https://localhost:8080/"
        },
        "outputId": "c6d2f6d3-b037-41de-af0a-a0b373f5f7dd"
      },
      "source": [
        "# df_fam --> df with families and varieties\r\n",
        "df_fam = df_colex_ok[['Family','variety']].copy()\r\n",
        "dic_fam=Counter(df_fam['Family'])\r\n",
        "# print the family with most languages\r\n",
        "print('family with max variety ', dic_fam.most_common(1))\r\n",
        "# print family with least languages\r\n",
        "print('family with min variety ',dic_fam.most_common()[-1])\r\n",
        "df_fam = df_fam.reset_index(drop=True)\r\n"
      ],
      "execution_count": 8,
      "outputs": [
        {
          "output_type": "stream",
          "text": [
            "family with max variety  [('Nakh-Daghestanian', 51736)]\n",
            "family with min variety  (\"West Bird's Head\", 1)\n"
          ],
          "name": "stdout"
        }
      ]
    },
    {
      "cell_type": "markdown",
      "metadata": {
        "id": "xKxI42YbCbA8"
      },
      "source": [
        "Add concepticon_pair column for future purposes"
      ]
    },
    {
      "cell_type": "code",
      "metadata": {
        "id": "n6n0VNd0CaQi"
      },
      "source": [
        "df_colex_ok['Concepticon_pair']=list(zip(df_colex_ok['Concepticon_Gloss.x'],df_colex_ok['Concepticon_Gloss.y']))"
      ],
      "execution_count": 9,
      "outputs": []
    },
    {
      "cell_type": "code",
      "metadata": {
        "colab": {
          "base_uri": "https://localhost:8080/",
          "height": 674
        },
        "id": "WpdnLuj1CoTP",
        "outputId": "27fcf787-8c54-4a5c-d6d5-229f51908843"
      },
      "source": [
        "df_colex_ok"
      ],
      "execution_count": 10,
      "outputs": [
        {
          "output_type": "execute_result",
          "data": {
            "text/html": [
              "<div>\n",
              "<style scoped>\n",
              "    .dataframe tbody tr th:only-of-type {\n",
              "        vertical-align: middle;\n",
              "    }\n",
              "\n",
              "    .dataframe tbody tr th {\n",
              "        vertical-align: top;\n",
              "    }\n",
              "\n",
              "    .dataframe thead th {\n",
              "        text-align: right;\n",
              "    }\n",
              "</style>\n",
              "<table border=\"1\" class=\"dataframe\">\n",
              "  <thead>\n",
              "    <tr style=\"text-align: right;\">\n",
              "      <th></th>\n",
              "      <th>clics_form</th>\n",
              "      <th>Concepticon_ID.x</th>\n",
              "      <th>Glottocode</th>\n",
              "      <th>Concepticon_Gloss.x</th>\n",
              "      <th>Concepticon_ID.y</th>\n",
              "      <th>Concepticon_Gloss.y</th>\n",
              "      <th>colex</th>\n",
              "      <th>Family</th>\n",
              "      <th>variety</th>\n",
              "      <th>Concepticon_pair</th>\n",
              "    </tr>\n",
              "  </thead>\n",
              "  <tbody>\n",
              "    <tr>\n",
              "      <th>0</th>\n",
              "      <td>s@</td>\n",
              "      <td>1369</td>\n",
              "      <td>hrus1242</td>\n",
              "      <td>GOLD</td>\n",
              "      <td>1927</td>\n",
              "      <td>BAMBOO</td>\n",
              "      <td>1</td>\n",
              "      <td>Hruso</td>\n",
              "      <td>Hruso Aka Jamiri</td>\n",
              "      <td>(GOLD, BAMBOO)</td>\n",
              "    </tr>\n",
              "    <tr>\n",
              "      <th>1</th>\n",
              "      <td>s@</td>\n",
              "      <td>1369</td>\n",
              "      <td>hrus1242</td>\n",
              "      <td>GOLD</td>\n",
              "      <td>946</td>\n",
              "      <td>BLOOD</td>\n",
              "      <td>1</td>\n",
              "      <td>Hruso</td>\n",
              "      <td>Hruso Aka Jamiri</td>\n",
              "      <td>(GOLD, BLOOD)</td>\n",
              "    </tr>\n",
              "    <tr>\n",
              "      <th>2</th>\n",
              "      <td>dzju</td>\n",
              "      <td>1425</td>\n",
              "      <td>hrus1242</td>\n",
              "      <td>GREEN</td>\n",
              "      <td>1424</td>\n",
              "      <td>YELLOW</td>\n",
              "      <td>1</td>\n",
              "      <td>Hruso</td>\n",
              "      <td>Hruso Aka Jamiri</td>\n",
              "      <td>(GREEN, YELLOW)</td>\n",
              "    </tr>\n",
              "    <tr>\n",
              "      <th>3</th>\n",
              "      <td>fu</td>\n",
              "      <td>634</td>\n",
              "      <td>hrus1242</td>\n",
              "      <td>MEAT</td>\n",
              "      <td>1174</td>\n",
              "      <td>YESTERDAY</td>\n",
              "      <td>1</td>\n",
              "      <td>Hruso</td>\n",
              "      <td>Hruso Aka Jamiri</td>\n",
              "      <td>(MEAT, YESTERDAY)</td>\n",
              "    </tr>\n",
              "    <tr>\n",
              "      <th>4</th>\n",
              "      <td>phu</td>\n",
              "      <td>639</td>\n",
              "      <td>hrus1242</td>\n",
              "      <td>MOUNTAIN</td>\n",
              "      <td>1077</td>\n",
              "      <td>WHEAT</td>\n",
              "      <td>1</td>\n",
              "      <td>Hruso</td>\n",
              "      <td>Hruso Aka Jamiri</td>\n",
              "      <td>(MOUNTAIN, WHEAT)</td>\n",
              "    </tr>\n",
              "    <tr>\n",
              "      <th>...</th>\n",
              "      <td>...</td>\n",
              "      <td>...</td>\n",
              "      <td>...</td>\n",
              "      <td>...</td>\n",
              "      <td>...</td>\n",
              "      <td>...</td>\n",
              "      <td>...</td>\n",
              "      <td>...</td>\n",
              "      <td>...</td>\n",
              "      <td>...</td>\n",
              "    </tr>\n",
              "    <tr>\n",
              "      <th>312563</th>\n",
              "      <td>sopos</td>\n",
              "      <td>1455</td>\n",
              "      <td>pila1246</td>\n",
              "      <td>PULL</td>\n",
              "      <td>1917</td>\n",
              "      <td>TIE</td>\n",
              "      <td>1</td>\n",
              "      <td>Nuclear Trans New Guinea</td>\n",
              "      <td>maia-pila</td>\n",
              "      <td>(PULL, TIE)</td>\n",
              "    </tr>\n",
              "    <tr>\n",
              "      <th>312564</th>\n",
              "      <td>no</td>\n",
              "      <td>1215</td>\n",
              "      <td>pila1246</td>\n",
              "      <td>THOU</td>\n",
              "      <td>732</td>\n",
              "      <td>YOUR (SINGULAR)</td>\n",
              "      <td>1</td>\n",
              "      <td>Nuclear Trans New Guinea</td>\n",
              "      <td>maia-pila</td>\n",
              "      <td>(THOU, YOUR (SINGULAR))</td>\n",
              "    </tr>\n",
              "    <tr>\n",
              "      <th>312565</th>\n",
              "      <td>nvkv</td>\n",
              "      <td>1213</td>\n",
              "      <td>pila1246</td>\n",
              "      <td>YOU</td>\n",
              "      <td>2274</td>\n",
              "      <td>YOUR (PLURAL)</td>\n",
              "      <td>1</td>\n",
              "      <td>Nuclear Trans New Guinea</td>\n",
              "      <td>maia-pila</td>\n",
              "      <td>(YOU, YOUR (PLURAL))</td>\n",
              "    </tr>\n",
              "    <tr>\n",
              "      <th>312566</th>\n",
              "      <td>o</td>\n",
              "      <td>2642</td>\n",
              "      <td>pila1246</td>\n",
              "      <td>HE OR SHE</td>\n",
              "      <td>2473</td>\n",
              "      <td>HIS (GENITIVE OF HE)</td>\n",
              "      <td>1</td>\n",
              "      <td>Nuclear Trans New Guinea</td>\n",
              "      <td>maia-pila</td>\n",
              "      <td>(HE OR SHE, HIS (GENITIVE OF HE))</td>\n",
              "    </tr>\n",
              "    <tr>\n",
              "      <th>312567</th>\n",
              "      <td>0</td>\n",
              "      <td>2473</td>\n",
              "      <td>pila1246</td>\n",
              "      <td>HIS (GENITIVE OF HE)</td>\n",
              "      <td>2400</td>\n",
              "      <td>THEIR</td>\n",
              "      <td>1</td>\n",
              "      <td>Nuclear Trans New Guinea</td>\n",
              "      <td>maia-pila</td>\n",
              "      <td>(HIS (GENITIVE OF HE), THEIR)</td>\n",
              "    </tr>\n",
              "  </tbody>\n",
              "</table>\n",
              "<p>312568 rows × 10 columns</p>\n",
              "</div>"
            ],
            "text/plain": [
              "       clics_form  ...                   Concepticon_pair\n",
              "0              s@  ...                     (GOLD, BAMBOO)\n",
              "1              s@  ...                      (GOLD, BLOOD)\n",
              "2            dzju  ...                    (GREEN, YELLOW)\n",
              "3              fu  ...                  (MEAT, YESTERDAY)\n",
              "4             phu  ...                  (MOUNTAIN, WHEAT)\n",
              "...           ...  ...                                ...\n",
              "312563      sopos  ...                        (PULL, TIE)\n",
              "312564         no  ...            (THOU, YOUR (SINGULAR))\n",
              "312565       nvkv  ...               (YOU, YOUR (PLURAL))\n",
              "312566          o  ...  (HE OR SHE, HIS (GENITIVE OF HE))\n",
              "312567          0  ...      (HIS (GENITIVE OF HE), THEIR)\n",
              "\n",
              "[312568 rows x 10 columns]"
            ]
          },
          "metadata": {
            "tags": []
          },
          "execution_count": 10
        }
      ]
    },
    {
      "cell_type": "markdown",
      "metadata": {
        "id": "ClxMSHnMPAvG"
      },
      "source": [
        "**BOOTSTRAP**"
      ]
    },
    {
      "cell_type": "markdown",
      "metadata": {
        "id": "AyyZ71LVPEgr"
      },
      "source": [
        "use the df_fam as support to choose the varieties"
      ]
    },
    {
      "cell_type": "code",
      "metadata": {
        "colab": {
          "base_uri": "https://localhost:8080/"
        },
        "id": "nUnYZjQM-27K",
        "outputId": "8a14057e-7fa8-4bfa-e039-bc2255b1cb3b"
      },
      "source": [
        "new_df_fam = df_fam.groupby(['Family']).apply(lambda x: x.sample(n=2, replace=True)).reset_index(drop = True)\r\n",
        "# take n=2 rows for every family\r\n",
        "new_df_fam.Family.value_counts() # check"
      ],
      "execution_count": 11,
      "outputs": [
        {
          "output_type": "execute_result",
          "data": {
            "text/plain": [
              "Guahiboan                   2\n",
              "Turama-Kikori               2\n",
              "Matacoan                    2\n",
              "Itonama                     2\n",
              "Abun                        2\n",
              "                           ..\n",
              "Sentanic                    2\n",
              "Otomanguean                 2\n",
              "Quechuan                    2\n",
              "Nuclear Trans New Guinea    2\n",
              "Dibiyaso                    2\n",
              "Name: Family, Length: 185, dtype: int64"
            ]
          },
          "metadata": {
            "tags": []
          },
          "execution_count": 11
        }
      ]
    },
    {
      "cell_type": "code",
      "metadata": {
        "id": "YcxIXUPc_NbP"
      },
      "source": [
        "# create list with varieties chosen\r\n",
        "listVar=new_df_fam.variety.tolist()"
      ],
      "execution_count": 12,
      "outputs": []
    },
    {
      "cell_type": "code",
      "metadata": {
        "id": "va8nngbk_RlV"
      },
      "source": [
        "boot_df = pd.DataFrame()\r\n",
        "\r\n",
        "for v in listVar:\r\n",
        "  # for every variety, take all colexification and put them into boot_df\r\n",
        "  boot_df=boot_df.append(df_colex_ok.loc[df_colex_ok['variety'] == v], ignore_index = True)\r\n"
      ],
      "execution_count": 13,
      "outputs": []
    },
    {
      "cell_type": "code",
      "metadata": {
        "colab": {
          "base_uri": "https://localhost:8080/",
          "height": 521
        },
        "id": "dhmpQmQY_aag",
        "outputId": "9a550bdd-7f0f-439a-ef1a-8152357a115e"
      },
      "source": [
        "boot_df"
      ],
      "execution_count": 14,
      "outputs": [
        {
          "output_type": "execute_result",
          "data": {
            "text/html": [
              "<div>\n",
              "<style scoped>\n",
              "    .dataframe tbody tr th:only-of-type {\n",
              "        vertical-align: middle;\n",
              "    }\n",
              "\n",
              "    .dataframe tbody tr th {\n",
              "        vertical-align: top;\n",
              "    }\n",
              "\n",
              "    .dataframe thead th {\n",
              "        text-align: right;\n",
              "    }\n",
              "</style>\n",
              "<table border=\"1\" class=\"dataframe\">\n",
              "  <thead>\n",
              "    <tr style=\"text-align: right;\">\n",
              "      <th></th>\n",
              "      <th>clics_form</th>\n",
              "      <th>Concepticon_ID.x</th>\n",
              "      <th>Glottocode</th>\n",
              "      <th>Concepticon_Gloss.x</th>\n",
              "      <th>Concepticon_ID.y</th>\n",
              "      <th>Concepticon_Gloss.y</th>\n",
              "      <th>colex</th>\n",
              "      <th>Family</th>\n",
              "      <th>variety</th>\n",
              "      <th>Concepticon_pair</th>\n",
              "    </tr>\n",
              "  </thead>\n",
              "  <tbody>\n",
              "    <tr>\n",
              "      <th>0</th>\n",
              "      <td>akwac</td>\n",
              "      <td>2615</td>\n",
              "      <td>abkh1244</td>\n",
              "      <td>FLESH OR MEAT</td>\n",
              "      <td>634</td>\n",
              "      <td>MEAT</td>\n",
              "      <td>1</td>\n",
              "      <td>Abkhaz-Adyge</td>\n",
              "      <td>Abkhaz</td>\n",
              "      <td>(FLESH OR MEAT, MEAT)</td>\n",
              "    </tr>\n",
              "    <tr>\n",
              "      <th>1</th>\n",
              "      <td>az@</td>\n",
              "      <td>2615</td>\n",
              "      <td>abkh1244</td>\n",
              "      <td>FLESH OR MEAT</td>\n",
              "      <td>948</td>\n",
              "      <td>WATER</td>\n",
              "      <td>1</td>\n",
              "      <td>Abkhaz-Adyge</td>\n",
              "      <td>Abkhaz</td>\n",
              "      <td>(FLESH OR MEAT, WATER)</td>\n",
              "    </tr>\n",
              "    <tr>\n",
              "      <th>2</th>\n",
              "      <td>az@</td>\n",
              "      <td>2615</td>\n",
              "      <td>abkh1244</td>\n",
              "      <td>FLESH OR MEAT</td>\n",
              "      <td>634</td>\n",
              "      <td>MEAT</td>\n",
              "      <td>1</td>\n",
              "      <td>Abkhaz-Adyge</td>\n",
              "      <td>Abkhaz</td>\n",
              "      <td>(FLESH OR MEAT, MEAT)</td>\n",
              "    </tr>\n",
              "    <tr>\n",
              "      <th>3</th>\n",
              "      <td>az@</td>\n",
              "      <td>2615</td>\n",
              "      <td>abkh1244</td>\n",
              "      <td>FLESH OR MEAT</td>\n",
              "      <td>1007</td>\n",
              "      <td>COW</td>\n",
              "      <td>1</td>\n",
              "      <td>Abkhaz-Adyge</td>\n",
              "      <td>Abkhaz</td>\n",
              "      <td>(FLESH OR MEAT, COW)</td>\n",
              "    </tr>\n",
              "    <tr>\n",
              "      <th>4</th>\n",
              "      <td>az@</td>\n",
              "      <td>2615</td>\n",
              "      <td>abkh1244</td>\n",
              "      <td>FLESH OR MEAT</td>\n",
              "      <td>1229</td>\n",
              "      <td>OLD</td>\n",
              "      <td>1</td>\n",
              "      <td>Abkhaz-Adyge</td>\n",
              "      <td>Abkhaz</td>\n",
              "      <td>(FLESH OR MEAT, OLD)</td>\n",
              "    </tr>\n",
              "    <tr>\n",
              "      <th>...</th>\n",
              "      <td>...</td>\n",
              "      <td>...</td>\n",
              "      <td>...</td>\n",
              "      <td>...</td>\n",
              "      <td>...</td>\n",
              "      <td>...</td>\n",
              "      <td>...</td>\n",
              "      <td>...</td>\n",
              "      <td>...</td>\n",
              "      <td>...</td>\n",
              "    </tr>\n",
              "    <tr>\n",
              "      <th>67756</th>\n",
              "      <td>koyaci</td>\n",
              "      <td>337</td>\n",
              "      <td>zuni1245</td>\n",
              "      <td>PITCHFORK</td>\n",
              "      <td>409</td>\n",
              "      <td>FORKED BRANCH</td>\n",
              "      <td>1</td>\n",
              "      <td>Zuni</td>\n",
              "      <td>Zuni</td>\n",
              "      <td>(PITCHFORK, FORKED BRANCH)</td>\n",
              "    </tr>\n",
              "    <tr>\n",
              "      <th>67757</th>\n",
              "      <td>asa</td>\n",
              "      <td>2575</td>\n",
              "      <td>zuni1245</td>\n",
              "      <td>DO OR MAKE</td>\n",
              "      <td>1840</td>\n",
              "      <td>BUILD</td>\n",
              "      <td>1</td>\n",
              "      <td>Zuni</td>\n",
              "      <td>Zuni</td>\n",
              "      <td>(DO OR MAKE, BUILD)</td>\n",
              "    </tr>\n",
              "    <tr>\n",
              "      <th>67758</th>\n",
              "      <td>ciya</td>\n",
              "      <td>1432</td>\n",
              "      <td>zuni1245</td>\n",
              "      <td>CUT</td>\n",
              "      <td>1735</td>\n",
              "      <td>TEAR (SHRED)</td>\n",
              "      <td>1</td>\n",
              "      <td>Zuni</td>\n",
              "      <td>Zuni</td>\n",
              "      <td>(CUT, TEAR (SHRED))</td>\n",
              "    </tr>\n",
              "    <tr>\n",
              "      <th>67759</th>\n",
              "      <td>hecu</td>\n",
              "      <td>1913</td>\n",
              "      <td>zuni1245</td>\n",
              "      <td>PRESS</td>\n",
              "      <td>1414</td>\n",
              "      <td>SQUEEZE</td>\n",
              "      <td>1</td>\n",
              "      <td>Zuni</td>\n",
              "      <td>Zuni</td>\n",
              "      <td>(PRESS, SQUEEZE)</td>\n",
              "    </tr>\n",
              "    <tr>\n",
              "      <th>67760</th>\n",
              "      <td>heli</td>\n",
              "      <td>1399</td>\n",
              "      <td>zuni1245</td>\n",
              "      <td>CLAY</td>\n",
              "      <td>647</td>\n",
              "      <td>PAINT (PIGMENTS)</td>\n",
              "      <td>1</td>\n",
              "      <td>Zuni</td>\n",
              "      <td>Zuni</td>\n",
              "      <td>(CLAY, PAINT (PIGMENTS))</td>\n",
              "    </tr>\n",
              "  </tbody>\n",
              "</table>\n",
              "<p>67761 rows × 10 columns</p>\n",
              "</div>"
            ],
            "text/plain": [
              "      clics_form  Concepticon_ID.x  ... variety            Concepticon_pair\n",
              "0          akwac              2615  ...  Abkhaz       (FLESH OR MEAT, MEAT)\n",
              "1            az@              2615  ...  Abkhaz      (FLESH OR MEAT, WATER)\n",
              "2            az@              2615  ...  Abkhaz       (FLESH OR MEAT, MEAT)\n",
              "3            az@              2615  ...  Abkhaz        (FLESH OR MEAT, COW)\n",
              "4            az@              2615  ...  Abkhaz        (FLESH OR MEAT, OLD)\n",
              "...          ...               ...  ...     ...                         ...\n",
              "67756     koyaci               337  ...    Zuni  (PITCHFORK, FORKED BRANCH)\n",
              "67757        asa              2575  ...    Zuni         (DO OR MAKE, BUILD)\n",
              "67758       ciya              1432  ...    Zuni         (CUT, TEAR (SHRED))\n",
              "67759       hecu              1913  ...    Zuni            (PRESS, SQUEEZE)\n",
              "67760       heli              1399  ...    Zuni    (CLAY, PAINT (PIGMENTS))\n",
              "\n",
              "[67761 rows x 10 columns]"
            ]
          },
          "metadata": {
            "tags": []
          },
          "execution_count": 14
        }
      ]
    },
    {
      "cell_type": "code",
      "metadata": {
        "colab": {
          "base_uri": "https://localhost:8080/"
        },
        "id": "0ULH-PCo_hIU",
        "outputId": "e29ab15d-a6dd-40a2-f438-120313ba9955"
      },
      "source": [
        "# check\r\n",
        "boot_df.groupby(['Family','variety']).size()"
      ],
      "execution_count": 15,
      "outputs": [
        {
          "output_type": "execute_result",
          "data": {
            "text/plain": [
              "Family        variety              \n",
              "Abkhaz-Adyge  Abkhaz                   580\n",
              "Abun          Abun                       4\n",
              "              Abun (Senopi Dialect)      4\n",
              "Afro-Asiatic  Dera                      18\n",
              "              Mandara                   20\n",
              "                                      ... \n",
              "Yukaghir      Northern Yukaghir        122\n",
              "              Southern Yukaghir        132\n",
              "Yámana        Yagán                    406\n",
              "Zamucoan      Ayoreo                   500\n",
              "Zuni          Zuni                     378\n",
              "Length: 269, dtype: int64"
            ]
          },
          "metadata": {
            "tags": []
          },
          "execution_count": 15
        }
      ]
    },
    {
      "cell_type": "code",
      "metadata": {
        "colab": {
          "base_uri": "https://localhost:8080/"
        },
        "id": "jlyUuYX6_lVo",
        "outputId": "1b06fa98-561b-42f8-ac10-1a20596fb1e5"
      },
      "source": [
        "# check vs df_colex_ok\r\n",
        "df_colex_ok.groupby(['Family','variety']).size()"
      ],
      "execution_count": 16,
      "outputs": [
        {
          "output_type": "execute_result",
          "data": {
            "text/plain": [
              "Family        variety          \n",
              "Abkhaz-Adyge  Abaza                  6\n",
              "              Abkhaz               290\n",
              "              Adyghe               201\n",
              "              Kabardian              7\n",
              "              Ubykh                  4\n",
              "                                  ... \n",
              "Yukaghir      Northern Yukaghir    122\n",
              "              Southern Yukaghir    132\n",
              "Yámana        Yagán                203\n",
              "Zamucoan      Ayoreo               250\n",
              "Zuni          Zuni                 189\n",
              "Length: 2787, dtype: int64"
            ]
          },
          "metadata": {
            "tags": []
          },
          "execution_count": 16
        }
      ]
    },
    {
      "cell_type": "code",
      "metadata": {
        "id": "ZUCYJZMqBiLA"
      },
      "source": [
        "#df_mean = pd.DataFrame() # dataframe with family and mean per family\r\n",
        "#df_sum = pd.DataFrame(columns=['fam', 'col', 'rep'])\r\n",
        "suppDf = []\r\n",
        "\r\n",
        "def concept_sum(x):\r\n",
        "  # x = df divided by concepticon inside only one family\r\n",
        "\r\n",
        "  #totLang = len(set(x['variety'])) # how many languages have that colexification --> SET\r\n",
        "  totLang = len(x['variety']) # how many languages have that colexification faking to have different families from bootstrap --> NO SET\r\n",
        "  \r\n",
        "  newEl = [x['Family'].iloc[0], x['Concepticon_pair'].iloc[0], totLang]\r\n",
        "  suppDf.append(newEl)\r\n",
        "\r\n",
        "def colex_mean(x):\r\n",
        "  # x = df divided by family\r\n",
        "  x.groupby('Concepticon_pair').apply(lambda y: concept_sum(y))"
      ],
      "execution_count": 17,
      "outputs": []
    },
    {
      "cell_type": "code",
      "metadata": {
        "id": "x_Kxn9ra0qaz"
      },
      "source": [
        "# 1: how many times COL1 repetes in FAM1, FAM2...\r\n",
        "# 2: sum of all the times for COL1\r\n",
        "# 3: divide the sum by the tot FAMs"
      ],
      "execution_count": 18,
      "outputs": []
    },
    {
      "cell_type": "code",
      "metadata": {
        "id": "8XUnG9ylA3uc"
      },
      "source": [
        "# not very clear: \r\n",
        "# n of languages that shows that colexification divided by total number of languages --> percentage\r\n",
        "# mean per family: sum of number of languages that shows that colexification divided by total number of colexifications --> x languages per colexification"
      ],
      "execution_count": 19,
      "outputs": []
    },
    {
      "cell_type": "code",
      "metadata": {
        "colab": {
          "base_uri": "https://localhost:8080/",
          "height": 32
        },
        "id": "LMDI71zs_riV",
        "outputId": "60935495-d1f6-4a94-ce23-6f611a740fdf"
      },
      "source": [
        "boot_df.groupby(['Family']).apply(lambda x: colex_mean(x))"
      ],
      "execution_count": 20,
      "outputs": [
        {
          "output_type": "execute_result",
          "data": {
            "text/html": [
              "<div>\n",
              "<style scoped>\n",
              "    .dataframe tbody tr th:only-of-type {\n",
              "        vertical-align: middle;\n",
              "    }\n",
              "\n",
              "    .dataframe tbody tr th {\n",
              "        vertical-align: top;\n",
              "    }\n",
              "\n",
              "    .dataframe thead th {\n",
              "        text-align: right;\n",
              "    }\n",
              "</style>\n",
              "<table border=\"1\" class=\"dataframe\">\n",
              "  <thead>\n",
              "    <tr style=\"text-align: right;\">\n",
              "      <th></th>\n",
              "    </tr>\n",
              "  </thead>\n",
              "  <tbody>\n",
              "  </tbody>\n",
              "</table>\n",
              "</div>"
            ],
            "text/plain": [
              "Empty DataFrame\n",
              "Columns: []\n",
              "Index: []"
            ]
          },
          "metadata": {
            "tags": []
          },
          "execution_count": 20
        }
      ]
    },
    {
      "cell_type": "code",
      "metadata": {
        "id": "occiBUrl_Y86"
      },
      "source": [
        "\r\n",
        "df_sum = pd.DataFrame(suppDf, columns=['fam', 'col', 'rep'])"
      ],
      "execution_count": 21,
      "outputs": []
    },
    {
      "cell_type": "code",
      "metadata": {
        "colab": {
          "base_uri": "https://localhost:8080/",
          "height": 419
        },
        "id": "QpVnVhHK-DCt",
        "outputId": "fa1aa03d-0e71-4b50-db3c-5d75afc6b067"
      },
      "source": [
        "df_sum"
      ],
      "execution_count": 22,
      "outputs": [
        {
          "output_type": "execute_result",
          "data": {
            "text/html": [
              "<div>\n",
              "<style scoped>\n",
              "    .dataframe tbody tr th:only-of-type {\n",
              "        vertical-align: middle;\n",
              "    }\n",
              "\n",
              "    .dataframe tbody tr th {\n",
              "        vertical-align: top;\n",
              "    }\n",
              "\n",
              "    .dataframe thead th {\n",
              "        text-align: right;\n",
              "    }\n",
              "</style>\n",
              "<table border=\"1\" class=\"dataframe\">\n",
              "  <thead>\n",
              "    <tr style=\"text-align: right;\">\n",
              "      <th></th>\n",
              "      <th>fam</th>\n",
              "      <th>col</th>\n",
              "      <th>rep</th>\n",
              "    </tr>\n",
              "  </thead>\n",
              "  <tbody>\n",
              "    <tr>\n",
              "      <th>0</th>\n",
              "      <td>Abkhaz-Adyge</td>\n",
              "      <td>(ALL, FULL)</td>\n",
              "      <td>2</td>\n",
              "    </tr>\n",
              "    <tr>\n",
              "      <th>1</th>\n",
              "      <td>Abkhaz-Adyge</td>\n",
              "      <td>(APPLE, BARK)</td>\n",
              "      <td>2</td>\n",
              "    </tr>\n",
              "    <tr>\n",
              "      <th>2</th>\n",
              "      <td>Abkhaz-Adyge</td>\n",
              "      <td>(APPLE, BEESWAX)</td>\n",
              "      <td>2</td>\n",
              "    </tr>\n",
              "    <tr>\n",
              "      <th>3</th>\n",
              "      <td>Abkhaz-Adyge</td>\n",
              "      <td>(APPLE, LEATHER)</td>\n",
              "      <td>2</td>\n",
              "    </tr>\n",
              "    <tr>\n",
              "      <th>4</th>\n",
              "      <td>Abkhaz-Adyge</td>\n",
              "      <td>(AREA, PLACE (POSITION))</td>\n",
              "      <td>2</td>\n",
              "    </tr>\n",
              "    <tr>\n",
              "      <th>...</th>\n",
              "      <td>...</td>\n",
              "      <td>...</td>\n",
              "      <td>...</td>\n",
              "    </tr>\n",
              "    <tr>\n",
              "      <th>48523</th>\n",
              "      <td>Zuni</td>\n",
              "      <td>(WIND, BREATH OR BREATHE)</td>\n",
              "      <td>2</td>\n",
              "    </tr>\n",
              "    <tr>\n",
              "      <th>48524</th>\n",
              "      <td>Zuni</td>\n",
              "      <td>(WING, SILVER)</td>\n",
              "      <td>2</td>\n",
              "    </tr>\n",
              "    <tr>\n",
              "      <th>48525</th>\n",
              "      <td>Zuni</td>\n",
              "      <td>(WOOD, FIREWOOD)</td>\n",
              "      <td>2</td>\n",
              "    </tr>\n",
              "    <tr>\n",
              "      <th>48526</th>\n",
              "      <td>Zuni</td>\n",
              "      <td>(YES, YOUNG WOMAN)</td>\n",
              "      <td>2</td>\n",
              "    </tr>\n",
              "    <tr>\n",
              "      <th>48527</th>\n",
              "      <td>Zuni</td>\n",
              "      <td>(YOUNGER BROTHER, YOUNGER SISTER)</td>\n",
              "      <td>2</td>\n",
              "    </tr>\n",
              "  </tbody>\n",
              "</table>\n",
              "<p>48528 rows × 3 columns</p>\n",
              "</div>"
            ],
            "text/plain": [
              "                fam                                col  rep\n",
              "0      Abkhaz-Adyge                        (ALL, FULL)    2\n",
              "1      Abkhaz-Adyge                      (APPLE, BARK)    2\n",
              "2      Abkhaz-Adyge                   (APPLE, BEESWAX)    2\n",
              "3      Abkhaz-Adyge                   (APPLE, LEATHER)    2\n",
              "4      Abkhaz-Adyge           (AREA, PLACE (POSITION))    2\n",
              "...             ...                                ...  ...\n",
              "48523          Zuni          (WIND, BREATH OR BREATHE)    2\n",
              "48524          Zuni                     (WING, SILVER)    2\n",
              "48525          Zuni                   (WOOD, FIREWOOD)    2\n",
              "48526          Zuni                 (YES, YOUNG WOMAN)    2\n",
              "48527          Zuni  (YOUNGER BROTHER, YOUNGER SISTER)    2\n",
              "\n",
              "[48528 rows x 3 columns]"
            ]
          },
          "metadata": {
            "tags": []
          },
          "execution_count": 22
        }
      ]
    },
    {
      "cell_type": "markdown",
      "metadata": {
        "id": "DJLhwlN6-Bir"
      },
      "source": [
        "segunda version: colexification frequency within each family"
      ]
    },
    {
      "cell_type": "code",
      "metadata": {
        "id": "GL40RDoL-HlN"
      },
      "source": [
        "df_sum['mean']=df_sum['rep'].apply(lambda x: x/2) # divided by 2 because we took only 2 varieties --> change if necessary"
      ],
      "execution_count": 29,
      "outputs": []
    },
    {
      "cell_type": "code",
      "metadata": {
        "colab": {
          "base_uri": "https://localhost:8080/",
          "height": 419
        },
        "id": "klIs_G2o-XL2",
        "outputId": "d0011269-b944-465d-b063-8184e44eff1b"
      },
      "source": [
        "df_sum"
      ],
      "execution_count": 30,
      "outputs": [
        {
          "output_type": "execute_result",
          "data": {
            "text/html": [
              "<div>\n",
              "<style scoped>\n",
              "    .dataframe tbody tr th:only-of-type {\n",
              "        vertical-align: middle;\n",
              "    }\n",
              "\n",
              "    .dataframe tbody tr th {\n",
              "        vertical-align: top;\n",
              "    }\n",
              "\n",
              "    .dataframe thead th {\n",
              "        text-align: right;\n",
              "    }\n",
              "</style>\n",
              "<table border=\"1\" class=\"dataframe\">\n",
              "  <thead>\n",
              "    <tr style=\"text-align: right;\">\n",
              "      <th></th>\n",
              "      <th>fam</th>\n",
              "      <th>col</th>\n",
              "      <th>rep</th>\n",
              "      <th>mean</th>\n",
              "    </tr>\n",
              "  </thead>\n",
              "  <tbody>\n",
              "    <tr>\n",
              "      <th>0</th>\n",
              "      <td>Abkhaz-Adyge</td>\n",
              "      <td>(ALL, FULL)</td>\n",
              "      <td>2</td>\n",
              "      <td>1.0</td>\n",
              "    </tr>\n",
              "    <tr>\n",
              "      <th>1</th>\n",
              "      <td>Abkhaz-Adyge</td>\n",
              "      <td>(APPLE, BARK)</td>\n",
              "      <td>2</td>\n",
              "      <td>1.0</td>\n",
              "    </tr>\n",
              "    <tr>\n",
              "      <th>2</th>\n",
              "      <td>Abkhaz-Adyge</td>\n",
              "      <td>(APPLE, BEESWAX)</td>\n",
              "      <td>2</td>\n",
              "      <td>1.0</td>\n",
              "    </tr>\n",
              "    <tr>\n",
              "      <th>3</th>\n",
              "      <td>Abkhaz-Adyge</td>\n",
              "      <td>(APPLE, LEATHER)</td>\n",
              "      <td>2</td>\n",
              "      <td>1.0</td>\n",
              "    </tr>\n",
              "    <tr>\n",
              "      <th>4</th>\n",
              "      <td>Abkhaz-Adyge</td>\n",
              "      <td>(AREA, PLACE (POSITION))</td>\n",
              "      <td>2</td>\n",
              "      <td>1.0</td>\n",
              "    </tr>\n",
              "    <tr>\n",
              "      <th>...</th>\n",
              "      <td>...</td>\n",
              "      <td>...</td>\n",
              "      <td>...</td>\n",
              "      <td>...</td>\n",
              "    </tr>\n",
              "    <tr>\n",
              "      <th>48523</th>\n",
              "      <td>Zuni</td>\n",
              "      <td>(WIND, BREATH OR BREATHE)</td>\n",
              "      <td>2</td>\n",
              "      <td>1.0</td>\n",
              "    </tr>\n",
              "    <tr>\n",
              "      <th>48524</th>\n",
              "      <td>Zuni</td>\n",
              "      <td>(WING, SILVER)</td>\n",
              "      <td>2</td>\n",
              "      <td>1.0</td>\n",
              "    </tr>\n",
              "    <tr>\n",
              "      <th>48525</th>\n",
              "      <td>Zuni</td>\n",
              "      <td>(WOOD, FIREWOOD)</td>\n",
              "      <td>2</td>\n",
              "      <td>1.0</td>\n",
              "    </tr>\n",
              "    <tr>\n",
              "      <th>48526</th>\n",
              "      <td>Zuni</td>\n",
              "      <td>(YES, YOUNG WOMAN)</td>\n",
              "      <td>2</td>\n",
              "      <td>1.0</td>\n",
              "    </tr>\n",
              "    <tr>\n",
              "      <th>48527</th>\n",
              "      <td>Zuni</td>\n",
              "      <td>(YOUNGER BROTHER, YOUNGER SISTER)</td>\n",
              "      <td>2</td>\n",
              "      <td>1.0</td>\n",
              "    </tr>\n",
              "  </tbody>\n",
              "</table>\n",
              "<p>48528 rows × 4 columns</p>\n",
              "</div>"
            ],
            "text/plain": [
              "                fam                                col  rep  mean\n",
              "0      Abkhaz-Adyge                        (ALL, FULL)    2   1.0\n",
              "1      Abkhaz-Adyge                      (APPLE, BARK)    2   1.0\n",
              "2      Abkhaz-Adyge                   (APPLE, BEESWAX)    2   1.0\n",
              "3      Abkhaz-Adyge                   (APPLE, LEATHER)    2   1.0\n",
              "4      Abkhaz-Adyge           (AREA, PLACE (POSITION))    2   1.0\n",
              "...             ...                                ...  ...   ...\n",
              "48523          Zuni          (WIND, BREATH OR BREATHE)    2   1.0\n",
              "48524          Zuni                     (WING, SILVER)    2   1.0\n",
              "48525          Zuni                   (WOOD, FIREWOOD)    2   1.0\n",
              "48526          Zuni                 (YES, YOUNG WOMAN)    2   1.0\n",
              "48527          Zuni  (YOUNGER BROTHER, YOUNGER SISTER)    2   1.0\n",
              "\n",
              "[48528 rows x 4 columns]"
            ]
          },
          "metadata": {
            "tags": []
          },
          "execution_count": 30
        }
      ]
    },
    {
      "cell_type": "code",
      "metadata": {
        "colab": {
          "base_uri": "https://localhost:8080/",
          "height": 419
        },
        "id": "3iBNxND--ich",
        "outputId": "1480566d-7925-4769-96f7-25c73db45f52"
      },
      "source": [
        "df_sum[df_sum['fam']=='Afro-Asiatic']"
      ],
      "execution_count": 34,
      "outputs": [
        {
          "output_type": "execute_result",
          "data": {
            "text/html": [
              "<div>\n",
              "<style scoped>\n",
              "    .dataframe tbody tr th:only-of-type {\n",
              "        vertical-align: middle;\n",
              "    }\n",
              "\n",
              "    .dataframe tbody tr th {\n",
              "        vertical-align: top;\n",
              "    }\n",
              "\n",
              "    .dataframe thead th {\n",
              "        text-align: right;\n",
              "    }\n",
              "</style>\n",
              "<table border=\"1\" class=\"dataframe\">\n",
              "  <thead>\n",
              "    <tr style=\"text-align: right;\">\n",
              "      <th></th>\n",
              "      <th>fam</th>\n",
              "      <th>col</th>\n",
              "      <th>rep</th>\n",
              "      <th>mean</th>\n",
              "    </tr>\n",
              "  </thead>\n",
              "  <tbody>\n",
              "    <tr>\n",
              "      <th>286</th>\n",
              "      <td>Afro-Asiatic</td>\n",
              "      <td>(ARM, FRIEND)</td>\n",
              "      <td>1</td>\n",
              "      <td>0.5</td>\n",
              "    </tr>\n",
              "    <tr>\n",
              "      <th>287</th>\n",
              "      <td>Afro-Asiatic</td>\n",
              "      <td>(ATOP, SEIZE)</td>\n",
              "      <td>1</td>\n",
              "      <td>0.5</td>\n",
              "    </tr>\n",
              "    <tr>\n",
              "      <th>288</th>\n",
              "      <td>Afro-Asiatic</td>\n",
              "      <td>(AXE, SICKLE)</td>\n",
              "      <td>1</td>\n",
              "      <td>0.5</td>\n",
              "    </tr>\n",
              "    <tr>\n",
              "      <th>289</th>\n",
              "      <td>Afro-Asiatic</td>\n",
              "      <td>(BAOBAB TREE, CHAMELEON)</td>\n",
              "      <td>1</td>\n",
              "      <td>0.5</td>\n",
              "    </tr>\n",
              "    <tr>\n",
              "      <th>290</th>\n",
              "      <td>Afro-Asiatic</td>\n",
              "      <td>(BITE, SHOOT)</td>\n",
              "      <td>1</td>\n",
              "      <td>0.5</td>\n",
              "    </tr>\n",
              "    <tr>\n",
              "      <th>...</th>\n",
              "      <td>...</td>\n",
              "      <td>...</td>\n",
              "      <td>...</td>\n",
              "      <td>...</td>\n",
              "    </tr>\n",
              "    <tr>\n",
              "      <th>372</th>\n",
              "      <td>Afro-Asiatic</td>\n",
              "      <td>(WHEN, MAN)</td>\n",
              "      <td>1</td>\n",
              "      <td>0.5</td>\n",
              "    </tr>\n",
              "    <tr>\n",
              "      <th>373</th>\n",
              "      <td>Afro-Asiatic</td>\n",
              "      <td>(WILD ANIMAL, FLESH)</td>\n",
              "      <td>1</td>\n",
              "      <td>0.5</td>\n",
              "    </tr>\n",
              "    <tr>\n",
              "      <th>374</th>\n",
              "      <td>Afro-Asiatic</td>\n",
              "      <td>(WILD ANIMAL, MEAT)</td>\n",
              "      <td>1</td>\n",
              "      <td>0.5</td>\n",
              "    </tr>\n",
              "    <tr>\n",
              "      <th>375</th>\n",
              "      <td>Afro-Asiatic</td>\n",
              "      <td>(WILD CAT, CAT)</td>\n",
              "      <td>1</td>\n",
              "      <td>0.5</td>\n",
              "    </tr>\n",
              "    <tr>\n",
              "      <th>376</th>\n",
              "      <td>Afro-Asiatic</td>\n",
              "      <td>(WORK (LABOUR), ARRANGE)</td>\n",
              "      <td>1</td>\n",
              "      <td>0.5</td>\n",
              "    </tr>\n",
              "  </tbody>\n",
              "</table>\n",
              "<p>91 rows × 4 columns</p>\n",
              "</div>"
            ],
            "text/plain": [
              "              fam                       col  rep  mean\n",
              "286  Afro-Asiatic             (ARM, FRIEND)    1   0.5\n",
              "287  Afro-Asiatic             (ATOP, SEIZE)    1   0.5\n",
              "288  Afro-Asiatic             (AXE, SICKLE)    1   0.5\n",
              "289  Afro-Asiatic  (BAOBAB TREE, CHAMELEON)    1   0.5\n",
              "290  Afro-Asiatic             (BITE, SHOOT)    1   0.5\n",
              "..            ...                       ...  ...   ...\n",
              "372  Afro-Asiatic               (WHEN, MAN)    1   0.5\n",
              "373  Afro-Asiatic      (WILD ANIMAL, FLESH)    1   0.5\n",
              "374  Afro-Asiatic       (WILD ANIMAL, MEAT)    1   0.5\n",
              "375  Afro-Asiatic           (WILD CAT, CAT)    1   0.5\n",
              "376  Afro-Asiatic  (WORK (LABOUR), ARRANGE)    1   0.5\n",
              "\n",
              "[91 rows x 4 columns]"
            ]
          },
          "metadata": {
            "tags": []
          },
          "execution_count": 34
        }
      ]
    },
    {
      "cell_type": "markdown",
      "metadata": {
        "id": "_hPj9TIz7C0B"
      },
      "source": [
        "primera version: is it correct? we don't think so, but what is it then??\r\n",
        "\r\n",
        "### how frequent is colexification among all the families"
      ]
    },
    {
      "cell_type": "code",
      "metadata": {
        "colab": {
          "base_uri": "https://localhost:8080/"
        },
        "id": "-xzXWZ-PEG0u",
        "outputId": "176c4223-7dad-421c-a6b8-a63fc540ceb7"
      },
      "source": [
        "len(set(df_colex_ok['Family']))"
      ],
      "execution_count": 23,
      "outputs": [
        {
          "output_type": "execute_result",
          "data": {
            "text/plain": [
              "186"
            ]
          },
          "metadata": {
            "tags": []
          },
          "execution_count": 23
        }
      ]
    },
    {
      "cell_type": "code",
      "metadata": {
        "id": "OIWtYTqQDRYr"
      },
      "source": [
        "suppDfMean = []\r\n",
        "def colex_mean2(x):\r\n",
        "  # x = dataframe with only one colexification, different families\r\n",
        "  med = x['rep'].sum() / 186 # being 186 the number of families\r\n",
        "  suppDfMean.append([x['col'].iloc[0], med])"
      ],
      "execution_count": 24,
      "outputs": []
    },
    {
      "cell_type": "code",
      "metadata": {
        "colab": {
          "base_uri": "https://localhost:8080/",
          "height": 32
        },
        "id": "qEBaLfejC85K",
        "outputId": "1110989f-45c2-4656-b2e3-b2216b4148d1"
      },
      "source": [
        "df_sum.groupby('col').apply(lambda x: colex_mean2(x))"
      ],
      "execution_count": 25,
      "outputs": [
        {
          "output_type": "execute_result",
          "data": {
            "text/html": [
              "<div>\n",
              "<style scoped>\n",
              "    .dataframe tbody tr th:only-of-type {\n",
              "        vertical-align: middle;\n",
              "    }\n",
              "\n",
              "    .dataframe tbody tr th {\n",
              "        vertical-align: top;\n",
              "    }\n",
              "\n",
              "    .dataframe thead th {\n",
              "        text-align: right;\n",
              "    }\n",
              "</style>\n",
              "<table border=\"1\" class=\"dataframe\">\n",
              "  <thead>\n",
              "    <tr style=\"text-align: right;\">\n",
              "      <th></th>\n",
              "    </tr>\n",
              "  </thead>\n",
              "  <tbody>\n",
              "  </tbody>\n",
              "</table>\n",
              "</div>"
            ],
            "text/plain": [
              "Empty DataFrame\n",
              "Columns: []\n",
              "Index: []"
            ]
          },
          "metadata": {
            "tags": []
          },
          "execution_count": 25
        }
      ]
    },
    {
      "cell_type": "code",
      "metadata": {
        "id": "1xN-qxSYEkNa"
      },
      "source": [
        "df_mean = pd.DataFrame(suppDfMean, columns=['col', 'mean'])\r\n",
        "# mean of languages per family"
      ],
      "execution_count": 26,
      "outputs": []
    },
    {
      "cell_type": "code",
      "metadata": {
        "colab": {
          "base_uri": "https://localhost:8080/",
          "height": 419
        },
        "id": "kxyqzDrQE7-V",
        "outputId": "f96803b5-ad58-4a71-bd7b-b6c9dc32942b"
      },
      "source": [
        "df_mean\r\n",
        "# on average, how many languages per family show that colexification"
      ],
      "execution_count": 27,
      "outputs": [
        {
          "output_type": "execute_result",
          "data": {
            "text/html": [
              "<div>\n",
              "<style scoped>\n",
              "    .dataframe tbody tr th:only-of-type {\n",
              "        vertical-align: middle;\n",
              "    }\n",
              "\n",
              "    .dataframe tbody tr th {\n",
              "        vertical-align: top;\n",
              "    }\n",
              "\n",
              "    .dataframe thead th {\n",
              "        text-align: right;\n",
              "    }\n",
              "</style>\n",
              "<table border=\"1\" class=\"dataframe\">\n",
              "  <thead>\n",
              "    <tr style=\"text-align: right;\">\n",
              "      <th></th>\n",
              "      <th>col</th>\n",
              "      <th>mean</th>\n",
              "    </tr>\n",
              "  </thead>\n",
              "  <tbody>\n",
              "    <tr>\n",
              "      <th>0</th>\n",
              "      <td>(ABOVE, BELOW OR UNDER)</td>\n",
              "      <td>0.005376</td>\n",
              "    </tr>\n",
              "    <tr>\n",
              "      <th>1</th>\n",
              "      <td>(ABOVE, CART)</td>\n",
              "      <td>0.005376</td>\n",
              "    </tr>\n",
              "    <tr>\n",
              "      <th>2</th>\n",
              "      <td>(ABOVE, CIRCLE)</td>\n",
              "      <td>0.005376</td>\n",
              "    </tr>\n",
              "    <tr>\n",
              "      <th>3</th>\n",
              "      <td>(ABOVE, DEER)</td>\n",
              "      <td>0.005376</td>\n",
              "    </tr>\n",
              "    <tr>\n",
              "      <th>4</th>\n",
              "      <td>(ABOVE, DIG)</td>\n",
              "      <td>0.010753</td>\n",
              "    </tr>\n",
              "    <tr>\n",
              "      <th>...</th>\n",
              "      <td>...</td>\n",
              "      <td>...</td>\n",
              "    </tr>\n",
              "    <tr>\n",
              "      <th>35217</th>\n",
              "      <td>(YOUNGER SISTER, YOUNGER BROTHER)</td>\n",
              "      <td>0.026882</td>\n",
              "    </tr>\n",
              "    <tr>\n",
              "      <th>35218</th>\n",
              "      <td>(YOUNGER SISTER, YOUNGER SIBLING)</td>\n",
              "      <td>0.021505</td>\n",
              "    </tr>\n",
              "    <tr>\n",
              "      <th>35219</th>\n",
              "      <td>(YOUNGER SISTER (OF WOMAN), YOUNGER BROTHER)</td>\n",
              "      <td>0.021505</td>\n",
              "    </tr>\n",
              "    <tr>\n",
              "      <th>35220</th>\n",
              "      <td>(YOUNGER SISTER (OF WOMAN), YOUNGER SIBLING)</td>\n",
              "      <td>0.021505</td>\n",
              "    </tr>\n",
              "    <tr>\n",
              "      <th>35221</th>\n",
              "      <td>(YOUR (SINGULAR), HIS (GENITIVE OF HE))</td>\n",
              "      <td>0.010753</td>\n",
              "    </tr>\n",
              "  </tbody>\n",
              "</table>\n",
              "<p>35222 rows × 2 columns</p>\n",
              "</div>"
            ],
            "text/plain": [
              "                                                col      mean\n",
              "0                           (ABOVE, BELOW OR UNDER)  0.005376\n",
              "1                                     (ABOVE, CART)  0.005376\n",
              "2                                   (ABOVE, CIRCLE)  0.005376\n",
              "3                                     (ABOVE, DEER)  0.005376\n",
              "4                                      (ABOVE, DIG)  0.010753\n",
              "...                                             ...       ...\n",
              "35217             (YOUNGER SISTER, YOUNGER BROTHER)  0.026882\n",
              "35218             (YOUNGER SISTER, YOUNGER SIBLING)  0.021505\n",
              "35219  (YOUNGER SISTER (OF WOMAN), YOUNGER BROTHER)  0.021505\n",
              "35220  (YOUNGER SISTER (OF WOMAN), YOUNGER SIBLING)  0.021505\n",
              "35221       (YOUR (SINGULAR), HIS (GENITIVE OF HE))  0.010753\n",
              "\n",
              "[35222 rows x 2 columns]"
            ]
          },
          "metadata": {
            "tags": []
          },
          "execution_count": 27
        }
      ]
    },
    {
      "cell_type": "code",
      "metadata": {
        "id": "FpOEq1gbFU3p",
        "colab": {
          "base_uri": "https://localhost:8080/"
        },
        "outputId": "e540d0e7-b509-4a08-e376-cc8d402aaad2"
      },
      "source": [
        "# mean of means:\r\n",
        "df_mean['mean'].mean()"
      ],
      "execution_count": 28,
      "outputs": [
        {
          "output_type": "execute_result",
          "data": {
            "text/plain": [
              "0.010343150633489393"
            ]
          },
          "metadata": {
            "tags": []
          },
          "execution_count": 28
        }
      ]
    }
  ]
}