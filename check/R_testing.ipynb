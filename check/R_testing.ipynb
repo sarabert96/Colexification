{
  "nbformat": 4,
  "nbformat_minor": 0,
  "metadata": {
    "colab": {
      "name": "R_testing.ipynb",
      "provenance": [],
      "authorship_tag": "ABX9TyMcW3cjEh7Ao8bEIiWgK7sh",
      "include_colab_link": true
    },
    "kernelspec": {
      "name": "python3",
      "display_name": "Python 3"
    }
  },
  "cells": [
    {
      "cell_type": "markdown",
      "metadata": {
        "id": "view-in-github",
        "colab_type": "text"
      },
      "source": [
        "<a href=\"https://colab.research.google.com/github/sarabert96/Colexification/blob/main/check/R_testing.ipynb\" target=\"_parent\"><img src=\"https://colab.research.google.com/assets/colab-badge.svg\" alt=\"Open In Colab\"/></a>"
      ]
    },
    {
      "cell_type": "code",
      "metadata": {
        "colab": {
          "base_uri": "https://localhost:8080/"
        },
        "id": "eDs-77FkNoZQ",
        "outputId": "0223e8af-8c2e-49da-e40b-b5cf39caefbd"
      },
      "source": [
        "%load_ext rpy2.ipython"
      ],
      "execution_count": 1,
      "outputs": [
        {
          "output_type": "stream",
          "text": [
            "/usr/local/lib/python3.6/dist-packages/rpy2/robjects/pandas2ri.py:14: FutureWarning: pandas.core.index is deprecated and will be removed in a future version.  The public classes are available in the top-level namespace.\n",
            "  from pandas.core.index import Index as PandasIndex\n",
            "/usr/local/lib/python3.6/dist-packages/rpy2/robjects/pandas2ri.py:34: UserWarning: pandas >= 1.0 is not supported.\n",
            "  warnings.warn('pandas >= 1.0 is not supported.')\n"
          ],
          "name": "stderr"
        }
      ]
    },
    {
      "cell_type": "code",
      "metadata": {
        "id": "U3QxAKi2NprN"
      },
      "source": [
        "import pandas as pd"
      ],
      "execution_count": 2,
      "outputs": []
    },
    {
      "cell_type": "code",
      "metadata": {
        "colab": {
          "base_uri": "https://localhost:8080/"
        },
        "id": "9ujQyeHfMGSb",
        "outputId": "3b601103-35c7-476f-e935-3b7e72ed85dd"
      },
      "source": [
        "!gdown --id 1EySPG8ZDMfMTvhUQaw8w1k6NgywI4N4S #df_all_raw\r\n",
        "df_all = pd.read_csv('df_all_raw.csv')"
      ],
      "execution_count": 3,
      "outputs": [
        {
          "output_type": "stream",
          "text": [
            "Downloading...\n",
            "From: https://drive.google.com/uc?id=1EySPG8ZDMfMTvhUQaw8w1k6NgywI4N4S\n",
            "To: /content/df_all_raw.csv\n",
            "244MB [00:01, 138MB/s]\n"
          ],
          "name": "stdout"
        },
        {
          "output_type": "stream",
          "text": [
            "/usr/local/lib/python3.6/dist-packages/IPython/core/interactiveshell.py:2718: DtypeWarning: Columns (4) have mixed types.Specify dtype option on import or set low_memory=False.\n",
            "  interactivity=interactivity, compiler=compiler, result=result)\n"
          ],
          "name": "stderr"
        }
      ]
    },
    {
      "cell_type": "markdown",
      "metadata": {
        "id": "j-VM4uJHRlwu"
      },
      "source": [
        "### NB the df_all to start should be the cleaned one. We use this to check if R code works"
      ]
    },
    {
      "cell_type": "code",
      "metadata": {
        "colab": {
          "base_uri": "https://localhost:8080/"
        },
        "id": "KnbfSK2-LE15",
        "outputId": "4e7771ea-9441-4d34-9a68-e606ee306bc8"
      },
      "source": [
        "%%R # to run R on colab\r\n",
        "#This script creates a data frame of colexifications based on the raw CLICS data.\r\n",
        "#It then joins this data with d_cosines, a dataframe containing two columns of words/glosses and another one with their cosine_similarity\r\n",
        "#Rows for which there is no cosine_sim value are dropped  (e.g., multi-word expressions or those that are OOV)\r\n",
        "library(dplyr)\r\n",
        "library(readr)\r\n",
        "library(tidyr)\r\n",
        "\r\n",
        "\r\n",
        "#if (!file.exists(\"df_colexifications_new.csv\")){ #if the file doesnt exist: compute it\r\n",
        "  df <- read_csv('df_all_raw.csv') #original raw CLICS file\r\n",
        "  d_colex <- df %>%\r\n",
        "    select(clics_form,Concepticon_ID,Glottocode,Concepticon_Gloss,Family,variety) %>% #--> added fam and var\r\n",
        "    drop_na() %>%\r\n",
        "    unique()\r\n",
        "\r\n",
        "  dd <- inner_join(d_colex,d_colex,by=c(\"clics_form\",\"Glottocode\",\"Family\",\"variety\")) %>% #--> added fam and var\r\n",
        "    filter(Concepticon_ID.x != Concepticon_ID.y) %>% # find rows/cases where conditions are true\r\n",
        "    unique() # remove duplicates\r\n",
        "  d_colex <- dd[!duplicated(lapply(as.data.frame(t(dd), stringsAsFactors=FALSE), sort)),]  \r\n",
        "  #remove rows where Concepticon_ID1 and Concepticon_ID2 are permutations of each other \r\n",
        "\r\n",
        "  #Code colefixications with 1\r\n",
        "  #d_colex$colex <- rep(1,nrow((d_colex)))\r\n",
        "\r\n",
        "  write_csv(d_colex,'df_colexifications_new.csv')\r\n",
        "#} else { #if it exists: load it\r\n",
        "# print('Loading pre-processed colexification df')\r\n",
        "  #d_colex <- read_csv('df_colexifications.csv')\r\n",
        "#}"
      ],
      "execution_count": 12,
      "outputs": [
        {
          "output_type": "stream",
          "text": [
            "R[write to console]: \n",
            "── Column specification ────────────────────────────────────────────────────────\n",
            "cols(\n",
            "  .default = col_character(),\n",
            "  Concepticon_ID = col_double(),\n",
            "  Latitude = col_double(),\n",
            "  Longitude = col_double(),\n",
            "  AGE_OF_ACQUISITION = col_double(),\n",
            "  CONCRETENESS = col_double(),\n",
            "  FAMILIARITY = col_double(),\n",
            "  IMAGABILITY = col_double(),\n",
            "  KUCERA_FRANCIS_FREQUENCY = col_double()\n",
            ")\n",
            "ℹ Use `spec()` for the full column specifications.\n",
            "\n",
            "\n"
          ],
          "name": "stderr"
        }
      ]
    },
    {
      "cell_type": "code",
      "metadata": {
        "colab": {
          "base_uri": "https://localhost:8080/"
        },
        "id": "eYOyR8S3YIDZ",
        "outputId": "6e8e402e-2a42-4ead-cc04-6855ba0ffe9a"
      },
      "source": [
        "%%R\r\n",
        "d_colex"
      ],
      "execution_count": 9,
      "outputs": [
        {
          "output_type": "stream",
          "text": [
            "# A tibble: 224,576 x 10\n",
            "   clics_form Concepticon_ID.x Glottocode Concepticon_Glo… Family.x variety.x\n",
            "   <chr>                 <dbl> <chr>      <chr>            <chr>    <chr>    \n",
            " 1 s@                     1369 hrus1242   GOLD             Hruso    Hruso Ak…\n",
            " 2 s@                     1369 hrus1242   GOLD             Hruso    Hruso Ak…\n",
            " 3 avir@                  1035 miji1239   GOOD             Sino-Ti… Dammai D…\n",
            " 4 jang                   1425 chug1252   GREEN            Sino-Ti… Chug Par…\n",
            " 5 dzju                   1425 hrus1242   GREEN            Hruso    Hruso Ak…\n",
            " 6 tsam                   2648 kala1376   HAIR (HEAD)      Sino-Ti… Monpa Ba…\n",
            " 7 tsam                   2648 kala1376   HAIR (HEAD)      Sino-Ti… Monpa Ba…\n",
            " 8 khra                   2648 dakp1242   HAIR (HEAD)      Sino-Ti… Monpa Ch…\n",
            " 9 khra                   2648 dakp1242   HAIR (HEAD)      Sino-Ti… Monpa Ch…\n",
            "10 khra                   2648 dakp1242   HAIR (HEAD)      Sino-Ti… Monpa Ch…\n",
            "# … with 224,566 more rows, and 4 more variables: Concepticon_ID.y <dbl>,\n",
            "#   Concepticon_Gloss.y <chr>, Family.y <chr>, variety.y <chr>\n"
          ],
          "name": "stdout"
        }
      ]
    },
    {
      "cell_type": "code",
      "metadata": {
        "colab": {
          "base_uri": "https://localhost:8080/"
        },
        "id": "wuasnZM1kdPM",
        "outputId": "4127d5e6-7d90-4863-9933-015b7520e930"
      },
      "source": [
        "%%R\r\n",
        "dd"
      ],
      "execution_count": null,
      "outputs": [
        {
          "output_type": "stream",
          "text": [
            "# A tibble: 351,398 x 8\n",
            "   clics_form Concepticon_ID.x Glottocode Concepticon_Glo… Family variety\n",
            "   <chr>                 <dbl> <chr>      <chr>            <chr>  <chr>  \n",
            " 1 s@                     1369 hrus1242   GOLD             Hruso  Hruso …\n",
            " 2 s@                     1369 hrus1242   GOLD             Hruso  Hruso …\n",
            " 3 avir@                  1035 miji1239   GOOD             Sino-… Dammai…\n",
            " 4 dzju                   1425 hrus1242   GREEN            Hruso  Hruso …\n",
            " 5 tsam                   2648 kala1376   HAIR (HEAD)      Sino-… Monpa …\n",
            " 6 khra                   2648 dakp1242   HAIR (HEAD)      Sino-… Monpa …\n",
            " 7 khra                   2648 dakp1242   HAIR (HEAD)      Sino-… Monpa …\n",
            " 8 tsam                   2648 kala1376   HAIR (HEAD)      Sino-… Monpa …\n",
            " 9 khra                   2648 dakp1242   HAIR (HEAD)      Sino-… Monpa …\n",
            "10 lah                    1277 dakp1242   HAND             Sino-… Monpa …\n",
            "# … with 351,388 more rows, and 2 more variables: Concepticon_ID.y <dbl>,\n",
            "#   Concepticon_Gloss.y <chr>\n"
          ],
          "name": "stdout"
        }
      ]
    },
    {
      "cell_type": "markdown",
      "metadata": {
        "id": "xxDEJA3ERE38"
      },
      "source": [
        "following code is not useful now"
      ]
    },
    {
      "cell_type": "code",
      "metadata": {
        "id": "bFLVlbrYM2YV"
      },
      "source": [
        "d_cosines <- read_csv('cosines.csv')\r\n",
        "\r\n",
        "d_colex <- d_colex %>%\r\n",
        "      mutate(Concepticon_Gloss.x = tolower(Concepticon_Gloss.x), #lowering glosses to match to pre-processing done for fasttext\r\n",
        "      \t     Concepticon_Gloss.y = tolower(Concepticon_Gloss.y)) %>%\r\n",
        "      left_join(d_cosines, by=c('Concepticon_Gloss.x' = 'Concepticon_Gloss', #matching to fasttext\r\n",
        "      \t                       'Concepticon_Gloss.y' = 'Concepticon_Gloss_2')) %>%\r\n",
        "      drop_na() #drop rows for which there is no cosine similarity (e.g., multi-word expressions or those that are OOV)\r\n",
        "\r\n",
        "write_csv(d_colex,'df_colex_and_cosine.csv')"
      ],
      "execution_count": null,
      "outputs": []
    },
    {
      "cell_type": "code",
      "metadata": {
        "id": "TM_qBSDvOMYu"
      },
      "source": [
        "df_colex = pd.read_csv('df_colexifications_new.csv')\r\n"
      ],
      "execution_count": 10,
      "outputs": []
    },
    {
      "cell_type": "code",
      "metadata": {
        "id": "FUul7BjGORLY",
        "colab": {
          "base_uri": "https://localhost:8080/",
          "height": 204
        },
        "outputId": "1f739a83-1f22-425d-c8a8-5719381798d1"
      },
      "source": [
        "df_colex.head()"
      ],
      "execution_count": 11,
      "outputs": [
        {
          "output_type": "execute_result",
          "data": {
            "text/html": [
              "<div>\n",
              "<style scoped>\n",
              "    .dataframe tbody tr th:only-of-type {\n",
              "        vertical-align: middle;\n",
              "    }\n",
              "\n",
              "    .dataframe tbody tr th {\n",
              "        vertical-align: top;\n",
              "    }\n",
              "\n",
              "    .dataframe thead th {\n",
              "        text-align: right;\n",
              "    }\n",
              "</style>\n",
              "<table border=\"1\" class=\"dataframe\">\n",
              "  <thead>\n",
              "    <tr style=\"text-align: right;\">\n",
              "      <th></th>\n",
              "      <th>clics_form</th>\n",
              "      <th>Concepticon_ID.x</th>\n",
              "      <th>Glottocode</th>\n",
              "      <th>Concepticon_Gloss.x</th>\n",
              "      <th>Family.x</th>\n",
              "      <th>variety.x</th>\n",
              "      <th>Concepticon_ID.y</th>\n",
              "      <th>Concepticon_Gloss.y</th>\n",
              "      <th>Family.y</th>\n",
              "      <th>variety.y</th>\n",
              "    </tr>\n",
              "  </thead>\n",
              "  <tbody>\n",
              "    <tr>\n",
              "      <th>0</th>\n",
              "      <td>s@</td>\n",
              "      <td>1369</td>\n",
              "      <td>hrus1242</td>\n",
              "      <td>GOLD</td>\n",
              "      <td>Hruso</td>\n",
              "      <td>Hruso Aka Jamiri</td>\n",
              "      <td>1927</td>\n",
              "      <td>BAMBOO</td>\n",
              "      <td>Hruso</td>\n",
              "      <td>Hruso Aka Jamiri</td>\n",
              "    </tr>\n",
              "    <tr>\n",
              "      <th>1</th>\n",
              "      <td>s@</td>\n",
              "      <td>1369</td>\n",
              "      <td>hrus1242</td>\n",
              "      <td>GOLD</td>\n",
              "      <td>Hruso</td>\n",
              "      <td>Hruso Aka Jamiri</td>\n",
              "      <td>946</td>\n",
              "      <td>BLOOD</td>\n",
              "      <td>Hruso</td>\n",
              "      <td>Hruso Aka Jamiri</td>\n",
              "    </tr>\n",
              "    <tr>\n",
              "      <th>2</th>\n",
              "      <td>avir@</td>\n",
              "      <td>1035</td>\n",
              "      <td>miji1239</td>\n",
              "      <td>GOOD</td>\n",
              "      <td>Sino-Tibetan</td>\n",
              "      <td>Dammai Dibin</td>\n",
              "      <td>923</td>\n",
              "      <td>LOVE</td>\n",
              "      <td>Sino-Tibetan</td>\n",
              "      <td>Dammai Dibin</td>\n",
              "    </tr>\n",
              "    <tr>\n",
              "      <th>3</th>\n",
              "      <td>jang</td>\n",
              "      <td>1425</td>\n",
              "      <td>chug1252</td>\n",
              "      <td>GREEN</td>\n",
              "      <td>Sino-Tibetan</td>\n",
              "      <td>Chug Parchu</td>\n",
              "      <td>847</td>\n",
              "      <td>THIRSTY</td>\n",
              "      <td>Sino-Tibetan</td>\n",
              "      <td>Duhumbi</td>\n",
              "    </tr>\n",
              "    <tr>\n",
              "      <th>4</th>\n",
              "      <td>dzju</td>\n",
              "      <td>1425</td>\n",
              "      <td>hrus1242</td>\n",
              "      <td>GREEN</td>\n",
              "      <td>Hruso</td>\n",
              "      <td>Hruso Aka Jamiri</td>\n",
              "      <td>1424</td>\n",
              "      <td>YELLOW</td>\n",
              "      <td>Hruso</td>\n",
              "      <td>Hruso Aka Jamiri</td>\n",
              "    </tr>\n",
              "  </tbody>\n",
              "</table>\n",
              "</div>"
            ],
            "text/plain": [
              "  clics_form  Concepticon_ID.x  ...      Family.y         variety.y\n",
              "0         s@              1369  ...         Hruso  Hruso Aka Jamiri\n",
              "1         s@              1369  ...         Hruso  Hruso Aka Jamiri\n",
              "2      avir@              1035  ...  Sino-Tibetan      Dammai Dibin\n",
              "3       jang              1425  ...  Sino-Tibetan           Duhumbi\n",
              "4       dzju              1425  ...         Hruso  Hruso Aka Jamiri\n",
              "\n",
              "[5 rows x 10 columns]"
            ]
          },
          "metadata": {
            "tags": []
          },
          "execution_count": 11
        }
      ]
    },
    {
      "cell_type": "code",
      "metadata": {
        "colab": {
          "base_uri": "https://localhost:8080/"
        },
        "id": "0rrKuf5uPAJn",
        "outputId": "ef26c52c-feba-43ae-8e0e-f142cddbaaa4"
      },
      "source": [
        "df_colex.info"
      ],
      "execution_count": null,
      "outputs": [
        {
          "output_type": "execute_result",
          "data": {
            "text/plain": [
              "<bound method DataFrame.info of        clics_form  Concepticon_ID.x  ... Concepticon_ID.y Concepticon_Gloss.y\n",
              "0              s@              1369  ...             1927              BAMBOO\n",
              "1              s@              1369  ...              946               BLOOD\n",
              "2           avir@              1035  ...              923                LOVE\n",
              "3            dzju              1425  ...             1424              YELLOW\n",
              "4            tsam              2648  ...              492               THREE\n",
              "...           ...               ...  ...              ...                 ...\n",
              "175694        wus               763  ...               51                SORE\n",
              "175695      mping              2458  ...             1257                WING\n",
              "175696         su                51  ...             1257                WING\n",
              "175697         ib              1040  ...              675  FAECES (EXCREMENT)\n",
              "175698       kuji              1222  ...             1837               VULVA\n",
              "\n",
              "[175699 rows x 8 columns]>"
            ]
          },
          "metadata": {
            "tags": []
          },
          "execution_count": 60
        }
      ]
    },
    {
      "cell_type": "code",
      "metadata": {
        "colab": {
          "base_uri": "https://localhost:8080/"
        },
        "id": "oLF0vK_TN2Kd",
        "outputId": "b0eb659b-6305-4806-cfb7-65a6f4da40a4"
      },
      "source": [
        "!gdown --id 1a-Bnhiwo3TArMAKKABETdie4flLTF5C1\r\n",
        "df_colex_original = pd.read_csv('df_colexifications.csv')"
      ],
      "execution_count": 5,
      "outputs": [
        {
          "output_type": "stream",
          "text": [
            "Downloading...\n",
            "From: https://drive.google.com/uc?id=1a-Bnhiwo3TArMAKKABETdie4flLTF5C1\n",
            "To: /content/df_colexifications.csv\n",
            "7.64MB [00:00, 46.5MB/s]\n"
          ],
          "name": "stdout"
        }
      ]
    },
    {
      "cell_type": "code",
      "metadata": {
        "colab": {
          "base_uri": "https://localhost:8080/",
          "height": 204
        },
        "id": "Ikt-nVHPN30x",
        "outputId": "35abf908-bf77-4421-c2dc-1a50fe978c89"
      },
      "source": [
        "df_colex_original.head()"
      ],
      "execution_count": null,
      "outputs": [
        {
          "output_type": "execute_result",
          "data": {
            "text/html": [
              "<div>\n",
              "<style scoped>\n",
              "    .dataframe tbody tr th:only-of-type {\n",
              "        vertical-align: middle;\n",
              "    }\n",
              "\n",
              "    .dataframe tbody tr th {\n",
              "        vertical-align: top;\n",
              "    }\n",
              "\n",
              "    .dataframe thead th {\n",
              "        text-align: right;\n",
              "    }\n",
              "</style>\n",
              "<table border=\"1\" class=\"dataframe\">\n",
              "  <thead>\n",
              "    <tr style=\"text-align: right;\">\n",
              "      <th></th>\n",
              "      <th>clics_form</th>\n",
              "      <th>Concepticon_ID.x</th>\n",
              "      <th>Glottocode</th>\n",
              "      <th>Concepticon_Gloss.x</th>\n",
              "      <th>Concepticon_ID.y</th>\n",
              "      <th>Concepticon_Gloss.y</th>\n",
              "      <th>colex</th>\n",
              "    </tr>\n",
              "  </thead>\n",
              "  <tbody>\n",
              "    <tr>\n",
              "      <th>0</th>\n",
              "      <td>s@</td>\n",
              "      <td>1369</td>\n",
              "      <td>hrus1242</td>\n",
              "      <td>GOLD</td>\n",
              "      <td>1927</td>\n",
              "      <td>BAMBOO</td>\n",
              "      <td>1</td>\n",
              "    </tr>\n",
              "    <tr>\n",
              "      <th>1</th>\n",
              "      <td>s@</td>\n",
              "      <td>1369</td>\n",
              "      <td>hrus1242</td>\n",
              "      <td>GOLD</td>\n",
              "      <td>946</td>\n",
              "      <td>BLOOD</td>\n",
              "      <td>1</td>\n",
              "    </tr>\n",
              "    <tr>\n",
              "      <th>2</th>\n",
              "      <td>avir@</td>\n",
              "      <td>1035</td>\n",
              "      <td>miji1239</td>\n",
              "      <td>GOOD</td>\n",
              "      <td>923</td>\n",
              "      <td>LOVE</td>\n",
              "      <td>1</td>\n",
              "    </tr>\n",
              "    <tr>\n",
              "      <th>3</th>\n",
              "      <td>jang</td>\n",
              "      <td>1425</td>\n",
              "      <td>chug1252</td>\n",
              "      <td>GREEN</td>\n",
              "      <td>847</td>\n",
              "      <td>THIRSTY</td>\n",
              "      <td>1</td>\n",
              "    </tr>\n",
              "    <tr>\n",
              "      <th>4</th>\n",
              "      <td>dzju</td>\n",
              "      <td>1425</td>\n",
              "      <td>hrus1242</td>\n",
              "      <td>GREEN</td>\n",
              "      <td>1424</td>\n",
              "      <td>YELLOW</td>\n",
              "      <td>1</td>\n",
              "    </tr>\n",
              "  </tbody>\n",
              "</table>\n",
              "</div>"
            ],
            "text/plain": [
              "  clics_form  Concepticon_ID.x  ... Concepticon_Gloss.y colex\n",
              "0         s@              1369  ...              BAMBOO     1\n",
              "1         s@              1369  ...               BLOOD     1\n",
              "2      avir@              1035  ...                LOVE     1\n",
              "3       jang              1425  ...             THIRSTY     1\n",
              "4       dzju              1425  ...              YELLOW     1\n",
              "\n",
              "[5 rows x 7 columns]"
            ]
          },
          "metadata": {
            "tags": []
          },
          "execution_count": 24
        }
      ]
    },
    {
      "cell_type": "code",
      "metadata": {
        "colab": {
          "base_uri": "https://localhost:8080/"
        },
        "id": "-da_zz6VPGFN",
        "outputId": "3e912869-4d3e-4e8f-d19c-bf2c3e71f9f0"
      },
      "source": [
        "df_colex_original.info"
      ],
      "execution_count": 7,
      "outputs": [
        {
          "output_type": "execute_result",
          "data": {
            "text/plain": [
              "<bound method DataFrame.info of        clics_form  Concepticon_ID.x  ... Concepticon_Gloss.y colex\n",
              "0              s@              1369  ...              BAMBOO     1\n",
              "1              s@              1369  ...               BLOOD     1\n",
              "2           avir@              1035  ...                LOVE     1\n",
              "3            jang              1425  ...             THIRSTY     1\n",
              "4            dzju              1425  ...              YELLOW     1\n",
              "...           ...               ...  ...                 ...   ...\n",
              "182063          n              2473  ...               CHILD     1\n",
              "182064         kv              2400  ...                 OUR     1\n",
              "182065       kura              2112  ...               BELLY     1\n",
              "182066          i               780  ...                  ME     1\n",
              "182067       nono              2099  ...         CALF OF LEG     1\n",
              "\n",
              "[182068 rows x 7 columns]>"
            ]
          },
          "metadata": {
            "tags": []
          },
          "execution_count": 7
        }
      ]
    },
    {
      "cell_type": "markdown",
      "metadata": {
        "id": "3_gz-HnrRXV2"
      },
      "source": [
        "PROBLEM: the number of rows from the original df_colexification and the modified one is different, why??\r\n",
        "even if we run the code without modifications, the number changes\r\n",
        "\r\n",
        "we found that the number of varieties is different with the number of glottocode: problem with inner_join?"
      ]
    }
  ]
}