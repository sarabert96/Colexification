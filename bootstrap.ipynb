{
  "nbformat": 4,
  "nbformat_minor": 0,
  "metadata": {
    "colab": {
      "name": "bootstrap.ipynb",
      "provenance": [],
      "include_colab_link": true
    },
    "kernelspec": {
      "name": "python3",
      "display_name": "Python 3"
    }
  },
  "cells": [
    {
      "cell_type": "markdown",
      "metadata": {
        "id": "view-in-github",
        "colab_type": "text"
      },
      "source": [
        "<a href=\"https://colab.research.google.com/github/sarabert96/Colexification/blob/main/bootstrap.ipynb\" target=\"_parent\"><img src=\"https://colab.research.google.com/assets/colab-badge.svg\" alt=\"Open In Colab\"/></a>"
      ]
    },
    {
      "cell_type": "code",
      "metadata": {
        "id": "vDsky5weNdWc"
      },
      "source": [
        "import pandas as pd\r\n",
        "import numpy as np\r\n",
        "from collections import Counter"
      ],
      "execution_count": 4,
      "outputs": []
    },
    {
      "cell_type": "markdown",
      "metadata": {
        "id": "98ftwWluMeKe"
      },
      "source": [
        "Import cleaned version of colexification dataframe"
      ]
    },
    {
      "cell_type": "code",
      "metadata": {
        "colab": {
          "base_uri": "https://localhost:8080/"
        },
        "id": "CioJyGVUNpuF",
        "outputId": "e2c697a5-f05b-4707-f6b6-c767bdfb4775"
      },
      "source": [
        "!gdown --id 1NB1f6mV51wf9P40SCO8WtouAAy6g1Ub4\r\n",
        "df_colex = pd.read_csv('df_colexifications_new.csv')"
      ],
      "execution_count": 5,
      "outputs": [
        {
          "output_type": "stream",
          "text": [
            "Downloading...\n",
            "From: https://drive.google.com/uc?id=1NB1f6mV51wf9P40SCO8WtouAAy6g1Ub4\n",
            "To: /content/df_colexifications_new.csv\n",
            "\r0.00B [00:00, ?B/s]\r8.15MB [00:00, 71.6MB/s]\n"
          ],
          "name": "stdout"
        }
      ]
    },
    {
      "cell_type": "markdown",
      "metadata": {
        "id": "O2Y-6AUCO5Bg"
      },
      "source": [
        "**knowing the data**: 183 linguistic fam"
      ]
    },
    {
      "cell_type": "code",
      "metadata": {
        "colab": {
          "base_uri": "https://localhost:8080/"
        },
        "id": "_Wx2t5AQN_-P",
        "outputId": "246f38cb-0061-409f-998e-c84ceaea1b4f"
      },
      "source": [
        "df_colex.groupby('Family').size()"
      ],
      "execution_count": 3,
      "outputs": [
        {
          "output_type": "execute_result",
          "data": {
            "text/plain": [
              "Family\n",
              "Abkhaz-Adyge     321\n",
              "Abun               3\n",
              "Afro-Asiatic    2736\n",
              "Aikanã            21\n",
              "Ainu              74\n",
              "                ... \n",
              "Yuat               7\n",
              "Yukaghir         177\n",
              "Yámana           142\n",
              "Zamucoan         191\n",
              "Zuni             153\n",
              "Length: 183, dtype: int64"
            ]
          },
          "metadata": {
            "tags": []
          },
          "execution_count": 3
        }
      ]
    },
    {
      "cell_type": "markdown",
      "metadata": {
        "id": "xKxI42YbCbA8"
      },
      "source": [
        "Add concepticon_pair column for future purposes"
      ]
    },
    {
      "cell_type": "code",
      "metadata": {
        "id": "n6n0VNd0CaQi"
      },
      "source": [
        "df_colex['Concepticon_pair']=list(zip(df_colex['Concepticon_Gloss.x'],df_colex['Concepticon_Gloss.y']))"
      ],
      "execution_count": 6,
      "outputs": []
    },
    {
      "cell_type": "code",
      "metadata": {
        "colab": {
          "base_uri": "https://localhost:8080/",
          "height": 572
        },
        "id": "WpdnLuj1CoTP",
        "outputId": "febcd9b5-0652-45dd-8162-5d8f599057f6"
      },
      "source": [
        "df_colex"
      ],
      "execution_count": 5,
      "outputs": [
        {
          "output_type": "execute_result",
          "data": {
            "text/html": [
              "<div>\n",
              "<style scoped>\n",
              "    .dataframe tbody tr th:only-of-type {\n",
              "        vertical-align: middle;\n",
              "    }\n",
              "\n",
              "    .dataframe tbody tr th {\n",
              "        vertical-align: top;\n",
              "    }\n",
              "\n",
              "    .dataframe thead th {\n",
              "        text-align: right;\n",
              "    }\n",
              "</style>\n",
              "<table border=\"1\" class=\"dataframe\">\n",
              "  <thead>\n",
              "    <tr style=\"text-align: right;\">\n",
              "      <th></th>\n",
              "      <th>clics_form</th>\n",
              "      <th>Concepticon_ID.x</th>\n",
              "      <th>Glottocode</th>\n",
              "      <th>Concepticon_Gloss.x</th>\n",
              "      <th>Family</th>\n",
              "      <th>variety</th>\n",
              "      <th>Concepticon_ID.y</th>\n",
              "      <th>Concepticon_Gloss.y</th>\n",
              "      <th>Concepticon_pair</th>\n",
              "    </tr>\n",
              "  </thead>\n",
              "  <tbody>\n",
              "    <tr>\n",
              "      <th>0</th>\n",
              "      <td>s@</td>\n",
              "      <td>1369</td>\n",
              "      <td>hrus1242</td>\n",
              "      <td>GOLD</td>\n",
              "      <td>Hruso</td>\n",
              "      <td>Hruso Aka Jamiri</td>\n",
              "      <td>1927</td>\n",
              "      <td>BAMBOO</td>\n",
              "      <td>(GOLD, BAMBOO)</td>\n",
              "    </tr>\n",
              "    <tr>\n",
              "      <th>1</th>\n",
              "      <td>s@</td>\n",
              "      <td>1369</td>\n",
              "      <td>hrus1242</td>\n",
              "      <td>GOLD</td>\n",
              "      <td>Hruso</td>\n",
              "      <td>Hruso Aka Jamiri</td>\n",
              "      <td>946</td>\n",
              "      <td>BLOOD</td>\n",
              "      <td>(GOLD, BLOOD)</td>\n",
              "    </tr>\n",
              "    <tr>\n",
              "      <th>2</th>\n",
              "      <td>avir@</td>\n",
              "      <td>1035</td>\n",
              "      <td>miji1239</td>\n",
              "      <td>GOOD</td>\n",
              "      <td>Sino-Tibetan</td>\n",
              "      <td>Dammai Dibin</td>\n",
              "      <td>923</td>\n",
              "      <td>LOVE</td>\n",
              "      <td>(GOOD, LOVE)</td>\n",
              "    </tr>\n",
              "    <tr>\n",
              "      <th>3</th>\n",
              "      <td>dzju</td>\n",
              "      <td>1425</td>\n",
              "      <td>hrus1242</td>\n",
              "      <td>GREEN</td>\n",
              "      <td>Hruso</td>\n",
              "      <td>Hruso Aka Jamiri</td>\n",
              "      <td>1424</td>\n",
              "      <td>YELLOW</td>\n",
              "      <td>(GREEN, YELLOW)</td>\n",
              "    </tr>\n",
              "    <tr>\n",
              "      <th>4</th>\n",
              "      <td>lah</td>\n",
              "      <td>1277</td>\n",
              "      <td>dakp1242</td>\n",
              "      <td>HAND</td>\n",
              "      <td>Sino-Tibetan</td>\n",
              "      <td>Monpa Changprong</td>\n",
              "      <td>639</td>\n",
              "      <td>MOUNTAIN</td>\n",
              "      <td>(HAND, MOUNTAIN)</td>\n",
              "    </tr>\n",
              "    <tr>\n",
              "      <th>...</th>\n",
              "      <td>...</td>\n",
              "      <td>...</td>\n",
              "      <td>...</td>\n",
              "      <td>...</td>\n",
              "      <td>...</td>\n",
              "      <td>...</td>\n",
              "      <td>...</td>\n",
              "      <td>...</td>\n",
              "      <td>...</td>\n",
              "    </tr>\n",
              "    <tr>\n",
              "      <th>132622</th>\n",
              "      <td>eni</td>\n",
              "      <td>763</td>\n",
              "      <td>gira1247</td>\n",
              "      <td>SKIN</td>\n",
              "      <td>Nuclear Trans New Guinea</td>\n",
              "      <td>girawa</td>\n",
              "      <td>1405</td>\n",
              "      <td>NAME</td>\n",
              "      <td>(SKIN, NAME)</td>\n",
              "    </tr>\n",
              "    <tr>\n",
              "      <th>132623</th>\n",
              "      <td>wus</td>\n",
              "      <td>763</td>\n",
              "      <td>payn1244</td>\n",
              "      <td>SKIN</td>\n",
              "      <td>Nuclear Trans New Guinea</td>\n",
              "      <td>paynamar</td>\n",
              "      <td>51</td>\n",
              "      <td>SORE</td>\n",
              "      <td>(SKIN, SORE)</td>\n",
              "    </tr>\n",
              "    <tr>\n",
              "      <th>132624</th>\n",
              "      <td>mping</td>\n",
              "      <td>2458</td>\n",
              "      <td>nend1239</td>\n",
              "      <td>PERSPIRE OR SWEAT</td>\n",
              "      <td>Nuclear Trans New Guinea</td>\n",
              "      <td>nend</td>\n",
              "      <td>1257</td>\n",
              "      <td>WING</td>\n",
              "      <td>(PERSPIRE OR SWEAT, WING)</td>\n",
              "    </tr>\n",
              "    <tr>\n",
              "      <th>132625</th>\n",
              "      <td>su</td>\n",
              "      <td>51</td>\n",
              "      <td>kein1239</td>\n",
              "      <td>SORE</td>\n",
              "      <td>Nuclear Trans New Guinea</td>\n",
              "      <td>kein</td>\n",
              "      <td>1257</td>\n",
              "      <td>WING</td>\n",
              "      <td>(SORE, WING)</td>\n",
              "    </tr>\n",
              "    <tr>\n",
              "      <th>132626</th>\n",
              "      <td>kuji</td>\n",
              "      <td>1222</td>\n",
              "      <td>jili1241</td>\n",
              "      <td>PENIS</td>\n",
              "      <td>Nuclear Trans New Guinea</td>\n",
              "      <td>jilim</td>\n",
              "      <td>1837</td>\n",
              "      <td>VULVA</td>\n",
              "      <td>(PENIS, VULVA)</td>\n",
              "    </tr>\n",
              "  </tbody>\n",
              "</table>\n",
              "<p>132627 rows × 9 columns</p>\n",
              "</div>"
            ],
            "text/plain": [
              "       clics_form  ...           Concepticon_pair\n",
              "0              s@  ...             (GOLD, BAMBOO)\n",
              "1              s@  ...              (GOLD, BLOOD)\n",
              "2           avir@  ...               (GOOD, LOVE)\n",
              "3            dzju  ...            (GREEN, YELLOW)\n",
              "4             lah  ...           (HAND, MOUNTAIN)\n",
              "...           ...  ...                        ...\n",
              "132622        eni  ...               (SKIN, NAME)\n",
              "132623        wus  ...               (SKIN, SORE)\n",
              "132624      mping  ...  (PERSPIRE OR SWEAT, WING)\n",
              "132625         su  ...               (SORE, WING)\n",
              "132626       kuji  ...             (PENIS, VULVA)\n",
              "\n",
              "[132627 rows x 9 columns]"
            ]
          },
          "metadata": {
            "tags": []
          },
          "execution_count": 5
        }
      ]
    },
    {
      "cell_type": "code",
      "metadata": {
        "id": "GoboIrrZOvvN"
      },
      "source": [
        "# df_fam --> df with families and varieties\r\n",
        "df_fam = df_colex[['Family','Glottocode']].copy()"
      ],
      "execution_count": 7,
      "outputs": []
    },
    {
      "cell_type": "code",
      "metadata": {
        "id": "K6UIXfBcOxku"
      },
      "source": [
        "df_fam=df_fam.drop_duplicates()\r\n"
      ],
      "execution_count": 8,
      "outputs": []
    },
    {
      "cell_type": "code",
      "metadata": {
        "colab": {
          "base_uri": "https://localhost:8080/"
        },
        "id": "iKcTT7BajOef",
        "outputId": "4d05ad3d-de78-416b-c8eb-7cbbcbccee5b"
      },
      "source": [
        "df_fam.groupby(['Family']).size()"
      ],
      "execution_count": 8,
      "outputs": [
        {
          "output_type": "execute_result",
          "data": {
            "text/plain": [
              "Family\n",
              "Abkhaz-Adyge     5\n",
              "Abun             2\n",
              "Afro-Asiatic    61\n",
              "Aikanã           1\n",
              "Ainu             1\n",
              "                ..\n",
              "Yuat             1\n",
              "Yukaghir         2\n",
              "Yámana           1\n",
              "Zamucoan         1\n",
              "Zuni             1\n",
              "Length: 183, dtype: int64"
            ]
          },
          "metadata": {
            "tags": []
          },
          "execution_count": 8
        }
      ]
    },
    {
      "cell_type": "code",
      "metadata": {
        "id": "DaxRcOzCkdZo"
      },
      "source": [
        "dicFam = df_fam.groupby(['Family']).size().to_dict() # dictionary with number of variety for future purposes"
      ],
      "execution_count": 9,
      "outputs": []
    },
    {
      "cell_type": "markdown",
      "metadata": {
        "id": "ClxMSHnMPAvG"
      },
      "source": [
        "**BOOTSTRAP**"
      ]
    },
    {
      "cell_type": "markdown",
      "metadata": {
        "id": "AyyZ71LVPEgr"
      },
      "source": [
        "use the df_fam as support to choose the varieties"
      ]
    },
    {
      "cell_type": "code",
      "metadata": {
        "id": "JTvxx3SnS8Tw"
      },
      "source": [
        "new_df_fam = df_fam.groupby(['Family']).apply(lambda x: x.sample(n=(len(x['Glottocode'])), replace=True)).reset_index(drop = True)"
      ],
      "execution_count": 10,
      "outputs": []
    },
    {
      "cell_type": "code",
      "metadata": {
        "colab": {
          "base_uri": "https://localhost:8080/"
        },
        "id": "1KxSw27tWivE",
        "outputId": "4a0cce2b-184e-424d-b56d-459a9a44a2ac"
      },
      "source": [
        "new_df_fam.Family.value_counts() # check"
      ],
      "execution_count": 11,
      "outputs": [
        {
          "output_type": "execute_result",
          "data": {
            "text/plain": [
              "Austronesian                339\n",
              "Nuclear Trans New Guinea    283\n",
              "Sino-Tibetan                177\n",
              "Pama-Nyungan                165\n",
              "Atlantic-Congo              133\n",
              "                           ... \n",
              "Seri                          1\n",
              "Movima                        1\n",
              "Tsimshian                     1\n",
              "Yuat                          1\n",
              "Aymaran                       1\n",
              "Name: Family, Length: 183, dtype: int64"
            ]
          },
          "metadata": {
            "tags": []
          },
          "execution_count": 11
        }
      ]
    },
    {
      "cell_type": "code",
      "metadata": {
        "id": "nUnYZjQM-27K"
      },
      "source": [
        "# version 1\r\n",
        "#new_df_fam = df_fam.groupby(['Family']).apply(lambda x: x.sample(n=2, replace=True)).reset_index(drop = True)\r\n",
        "# take n=2 rows for every family\r\n",
        "#new_df_fam.Family.value_counts() # check"
      ],
      "execution_count": 12,
      "outputs": []
    },
    {
      "cell_type": "code",
      "metadata": {
        "id": "YcxIXUPc_NbP"
      },
      "source": [
        "# create list with varieties chosen\r\n",
        "listVar=new_df_fam.Glottocode.tolist()"
      ],
      "execution_count": 13,
      "outputs": []
    },
    {
      "cell_type": "code",
      "metadata": {
        "id": "va8nngbk_RlV"
      },
      "source": [
        "boot_df = pd.DataFrame()\r\n",
        "\r\n",
        "for v in listVar:\r\n",
        "  # for every variety, take all colexification and put them into boot_df\r\n",
        "  boot_df=boot_df.append(df_colex.loc[df_colex['Glottocode'] == v], ignore_index = True)\r\n"
      ],
      "execution_count": 14,
      "outputs": []
    },
    {
      "cell_type": "code",
      "metadata": {
        "colab": {
          "base_uri": "https://localhost:8080/",
          "height": 521
        },
        "id": "dhmpQmQY_aag",
        "outputId": "d92d6e1a-71b3-404d-a207-482ef74335fd"
      },
      "source": [
        "boot_df"
      ],
      "execution_count": 15,
      "outputs": [
        {
          "output_type": "execute_result",
          "data": {
            "text/html": [
              "<div>\n",
              "<style scoped>\n",
              "    .dataframe tbody tr th:only-of-type {\n",
              "        vertical-align: middle;\n",
              "    }\n",
              "\n",
              "    .dataframe tbody tr th {\n",
              "        vertical-align: top;\n",
              "    }\n",
              "\n",
              "    .dataframe thead th {\n",
              "        text-align: right;\n",
              "    }\n",
              "</style>\n",
              "<table border=\"1\" class=\"dataframe\">\n",
              "  <thead>\n",
              "    <tr style=\"text-align: right;\">\n",
              "      <th></th>\n",
              "      <th>clics_form</th>\n",
              "      <th>Concepticon_ID.x</th>\n",
              "      <th>Glottocode</th>\n",
              "      <th>Concepticon_Gloss.x</th>\n",
              "      <th>Family</th>\n",
              "      <th>variety</th>\n",
              "      <th>Concepticon_ID.y</th>\n",
              "      <th>Concepticon_Gloss.y</th>\n",
              "      <th>Concepticon_pair</th>\n",
              "    </tr>\n",
              "  </thead>\n",
              "  <tbody>\n",
              "    <tr>\n",
              "      <th>0</th>\n",
              "      <td>chw@</td>\n",
              "      <td>1008</td>\n",
              "      <td>abaz1241</td>\n",
              "      <td>BULL</td>\n",
              "      <td>Abkhaz-Adyge</td>\n",
              "      <td>Abaza</td>\n",
              "      <td>1169</td>\n",
              "      <td>OX</td>\n",
              "      <td>(BULL, OX)</td>\n",
              "    </tr>\n",
              "    <tr>\n",
              "      <th>1</th>\n",
              "      <td>hwa</td>\n",
              "      <td>1337</td>\n",
              "      <td>abaz1241</td>\n",
              "      <td>PIG</td>\n",
              "      <td>Abkhaz-Adyge</td>\n",
              "      <td>Abaza</td>\n",
              "      <td>3154</td>\n",
              "      <td>WILD BOAR</td>\n",
              "      <td>(PIG, WILD BOAR)</td>\n",
              "    </tr>\n",
              "    <tr>\n",
              "      <th>2</th>\n",
              "      <td>wasa</td>\n",
              "      <td>1344</td>\n",
              "      <td>abaz1241</td>\n",
              "      <td>RAM</td>\n",
              "      <td>Abkhaz-Adyge</td>\n",
              "      <td>Abaza</td>\n",
              "      <td>1331</td>\n",
              "      <td>SHEEP</td>\n",
              "      <td>(RAM, SHEEP)</td>\n",
              "    </tr>\n",
              "    <tr>\n",
              "      <th>3</th>\n",
              "      <td>xr@x@ch</td>\n",
              "      <td>977</td>\n",
              "      <td>abaz1241</td>\n",
              "      <td>ARROW</td>\n",
              "      <td>Abkhaz-Adyge</td>\n",
              "      <td>Abaza</td>\n",
              "      <td>994</td>\n",
              "      <td>BOW</td>\n",
              "      <td>(ARROW, BOW)</td>\n",
              "    </tr>\n",
              "    <tr>\n",
              "      <th>4</th>\n",
              "      <td>kwaga</td>\n",
              "      <td>677</td>\n",
              "      <td>abaz1241</td>\n",
              "      <td>AXE</td>\n",
              "      <td>Abkhaz-Adyge</td>\n",
              "      <td>Abaza</td>\n",
              "      <td>386</td>\n",
              "      <td>BATTLE-AXE</td>\n",
              "      <td>(AXE, BATTLE-AXE)</td>\n",
              "    </tr>\n",
              "    <tr>\n",
              "      <th>...</th>\n",
              "      <td>...</td>\n",
              "      <td>...</td>\n",
              "      <td>...</td>\n",
              "      <td>...</td>\n",
              "      <td>...</td>\n",
              "      <td>...</td>\n",
              "      <td>...</td>\n",
              "      <td>...</td>\n",
              "      <td>...</td>\n",
              "    </tr>\n",
              "    <tr>\n",
              "      <th>134458</th>\n",
              "      <td>kum</td>\n",
              "      <td>281</td>\n",
              "      <td>zuni1245</td>\n",
              "      <td>POST</td>\n",
              "      <td>Zuni</td>\n",
              "      <td>Zuni</td>\n",
              "      <td>344</td>\n",
              "      <td>TREE TRUNK</td>\n",
              "      <td>(POST, TREE TRUNK)</td>\n",
              "    </tr>\n",
              "    <tr>\n",
              "      <th>134459</th>\n",
              "      <td>hele</td>\n",
              "      <td>1176</td>\n",
              "      <td>zuni1245</td>\n",
              "      <td>SPADE</td>\n",
              "      <td>Zuni</td>\n",
              "      <td>Zuni</td>\n",
              "      <td>1901</td>\n",
              "      <td>SHOVEL</td>\n",
              "      <td>(SPADE, SHOVEL)</td>\n",
              "    </tr>\n",
              "    <tr>\n",
              "      <th>134460</th>\n",
              "      <td>koyaci</td>\n",
              "      <td>337</td>\n",
              "      <td>zuni1245</td>\n",
              "      <td>PITCHFORK</td>\n",
              "      <td>Zuni</td>\n",
              "      <td>Zuni</td>\n",
              "      <td>409</td>\n",
              "      <td>FORKED BRANCH</td>\n",
              "      <td>(PITCHFORK, FORKED BRANCH)</td>\n",
              "    </tr>\n",
              "    <tr>\n",
              "      <th>134461</th>\n",
              "      <td>asa</td>\n",
              "      <td>2575</td>\n",
              "      <td>zuni1245</td>\n",
              "      <td>DO OR MAKE</td>\n",
              "      <td>Zuni</td>\n",
              "      <td>Zuni</td>\n",
              "      <td>1840</td>\n",
              "      <td>BUILD</td>\n",
              "      <td>(DO OR MAKE, BUILD)</td>\n",
              "    </tr>\n",
              "    <tr>\n",
              "      <th>134462</th>\n",
              "      <td>hecu</td>\n",
              "      <td>1913</td>\n",
              "      <td>zuni1245</td>\n",
              "      <td>PRESS</td>\n",
              "      <td>Zuni</td>\n",
              "      <td>Zuni</td>\n",
              "      <td>1414</td>\n",
              "      <td>SQUEEZE</td>\n",
              "      <td>(PRESS, SQUEEZE)</td>\n",
              "    </tr>\n",
              "  </tbody>\n",
              "</table>\n",
              "<p>134463 rows × 9 columns</p>\n",
              "</div>"
            ],
            "text/plain": [
              "       clics_form  ...            Concepticon_pair\n",
              "0            chw@  ...                  (BULL, OX)\n",
              "1             hwa  ...            (PIG, WILD BOAR)\n",
              "2            wasa  ...                (RAM, SHEEP)\n",
              "3         xr@x@ch  ...                (ARROW, BOW)\n",
              "4           kwaga  ...           (AXE, BATTLE-AXE)\n",
              "...           ...  ...                         ...\n",
              "134458        kum  ...          (POST, TREE TRUNK)\n",
              "134459       hele  ...             (SPADE, SHOVEL)\n",
              "134460     koyaci  ...  (PITCHFORK, FORKED BRANCH)\n",
              "134461        asa  ...         (DO OR MAKE, BUILD)\n",
              "134462       hecu  ...            (PRESS, SQUEEZE)\n",
              "\n",
              "[134463 rows x 9 columns]"
            ]
          },
          "metadata": {
            "tags": []
          },
          "execution_count": 15
        }
      ]
    },
    {
      "cell_type": "code",
      "metadata": {
        "id": "ZUCYJZMqBiLA"
      },
      "source": [
        "#df_mean = pd.DataFrame() # dataframe with family and mean per family\r\n",
        "#df_sum = pd.DataFrame(columns=['fam', 'col', 'rep'])\r\n",
        "suppDf = []\r\n",
        "\r\n",
        "def concept_sum(x):\r\n",
        "  # x = df divided by concepticon inside only one family\r\n",
        "\r\n",
        "  #totLang = len(set(x['variety'])) # how many languages have that colexification --> SET\r\n",
        "  totLang = len(x['Glottocode']) # how many languages have that colexification faking to have different families from bootstrap --> NO SET\r\n",
        "  # NB we don't have repetitions of Concepticon_pair in a variety, if we have it, it's just because we did the bootstrap with replacement\r\n",
        "  \r\n",
        "  newEl = [x['Family'].iloc[0], x['Concepticon_pair'].iloc[0], totLang]\r\n",
        "  suppDf.append(newEl)\r\n",
        "\r\n",
        "def colex_rep(x):\r\n",
        "  # x = df divided by family\r\n",
        "  x.groupby('Concepticon_pair').apply(lambda y: concept_sum(y))"
      ],
      "execution_count": 16,
      "outputs": []
    },
    {
      "cell_type": "code",
      "metadata": {
        "id": "x_Kxn9ra0qaz"
      },
      "source": [
        "# 1: how many times COL1 repetes in FAM1, FAM2...\r\n",
        "# 2: sum of all the times for COL1\r\n",
        "# 3: divide the sum by the tot FAMs"
      ],
      "execution_count": 17,
      "outputs": []
    },
    {
      "cell_type": "code",
      "metadata": {
        "id": "8XUnG9ylA3uc"
      },
      "source": [
        "# not very clear: \r\n",
        "# n of languages that shows that colexification divided by total number of languages --> percentage\r\n",
        "# mean per family: sum of number of languages that shows that colexification divided by total number of colexifications --> x languages per colexification"
      ],
      "execution_count": 18,
      "outputs": []
    },
    {
      "cell_type": "code",
      "metadata": {
        "colab": {
          "base_uri": "https://localhost:8080/",
          "height": 32
        },
        "id": "LMDI71zs_riV",
        "outputId": "3df31348-6bb5-48d2-c82d-c5dcb9c7e02e"
      },
      "source": [
        "boot_df.groupby(['Family']).apply(lambda x: colex_rep(x))"
      ],
      "execution_count": 19,
      "outputs": [
        {
          "output_type": "execute_result",
          "data": {
            "text/html": [
              "<div>\n",
              "<style scoped>\n",
              "    .dataframe tbody tr th:only-of-type {\n",
              "        vertical-align: middle;\n",
              "    }\n",
              "\n",
              "    .dataframe tbody tr th {\n",
              "        vertical-align: top;\n",
              "    }\n",
              "\n",
              "    .dataframe thead th {\n",
              "        text-align: right;\n",
              "    }\n",
              "</style>\n",
              "<table border=\"1\" class=\"dataframe\">\n",
              "  <thead>\n",
              "    <tr style=\"text-align: right;\">\n",
              "      <th></th>\n",
              "    </tr>\n",
              "  </thead>\n",
              "  <tbody>\n",
              "  </tbody>\n",
              "</table>\n",
              "</div>"
            ],
            "text/plain": [
              "Empty DataFrame\n",
              "Columns: []\n",
              "Index: []"
            ]
          },
          "metadata": {
            "tags": []
          },
          "execution_count": 19
        }
      ]
    },
    {
      "cell_type": "code",
      "metadata": {
        "id": "occiBUrl_Y86"
      },
      "source": [
        "\r\n",
        "df_sum = pd.DataFrame(suppDf, columns=['Family', 'Colex_pair', 'Var_rep'])"
      ],
      "execution_count": 20,
      "outputs": []
    },
    {
      "cell_type": "code",
      "metadata": {
        "colab": {
          "base_uri": "https://localhost:8080/",
          "height": 419
        },
        "id": "QpVnVhHK-DCt",
        "outputId": "e10ad77c-aa75-4de4-f133-aa35939aec68"
      },
      "source": [
        "df_sum[df_sum['Var_rep']>1] # check"
      ],
      "execution_count": 21,
      "outputs": [
        {
          "output_type": "execute_result",
          "data": {
            "text/html": [
              "<div>\n",
              "<style scoped>\n",
              "    .dataframe tbody tr th:only-of-type {\n",
              "        vertical-align: middle;\n",
              "    }\n",
              "\n",
              "    .dataframe tbody tr th {\n",
              "        vertical-align: top;\n",
              "    }\n",
              "\n",
              "    .dataframe thead th {\n",
              "        text-align: right;\n",
              "    }\n",
              "</style>\n",
              "<table border=\"1\" class=\"dataframe\">\n",
              "  <thead>\n",
              "    <tr style=\"text-align: right;\">\n",
              "      <th></th>\n",
              "      <th>Family</th>\n",
              "      <th>Colex_pair</th>\n",
              "      <th>Var_rep</th>\n",
              "    </tr>\n",
              "  </thead>\n",
              "  <tbody>\n",
              "    <tr>\n",
              "      <th>4</th>\n",
              "      <td>Abkhaz-Adyge</td>\n",
              "      <td>(ARROW, BOW)</td>\n",
              "      <td>3</td>\n",
              "    </tr>\n",
              "    <tr>\n",
              "      <th>5</th>\n",
              "      <td>Abkhaz-Adyge</td>\n",
              "      <td>(AXE, BATTLE-AXE)</td>\n",
              "      <td>4</td>\n",
              "    </tr>\n",
              "    <tr>\n",
              "      <th>26</th>\n",
              "      <td>Abkhaz-Adyge</td>\n",
              "      <td>(BRANCH, TWIG)</td>\n",
              "      <td>2</td>\n",
              "    </tr>\n",
              "    <tr>\n",
              "      <th>30</th>\n",
              "      <td>Abkhaz-Adyge</td>\n",
              "      <td>(BULL, OX)</td>\n",
              "      <td>3</td>\n",
              "    </tr>\n",
              "    <tr>\n",
              "      <th>39</th>\n",
              "      <td>Abkhaz-Adyge</td>\n",
              "      <td>(COME, ARRIVE)</td>\n",
              "      <td>2</td>\n",
              "    </tr>\n",
              "    <tr>\n",
              "      <th>...</th>\n",
              "      <td>...</td>\n",
              "      <td>...</td>\n",
              "      <td>...</td>\n",
              "    </tr>\n",
              "    <tr>\n",
              "      <th>62185</th>\n",
              "      <td>Zamucoan</td>\n",
              "      <td>(YOUNG, UNRIPE)</td>\n",
              "      <td>2</td>\n",
              "    </tr>\n",
              "    <tr>\n",
              "      <th>62231</th>\n",
              "      <td>Zuni</td>\n",
              "      <td>(GRANDMOTHER, GRANDDAUGHTER)</td>\n",
              "      <td>2</td>\n",
              "    </tr>\n",
              "    <tr>\n",
              "      <th>62237</th>\n",
              "      <td>Zuni</td>\n",
              "      <td>(HOUSE, ROOM)</td>\n",
              "      <td>2</td>\n",
              "    </tr>\n",
              "    <tr>\n",
              "      <th>62238</th>\n",
              "      <td>Zuni</td>\n",
              "      <td>(HOW, WHAT)</td>\n",
              "      <td>2</td>\n",
              "    </tr>\n",
              "    <tr>\n",
              "      <th>62265</th>\n",
              "      <td>Zuni</td>\n",
              "      <td>(NEPHEW, NIECE)</td>\n",
              "      <td>2</td>\n",
              "    </tr>\n",
              "  </tbody>\n",
              "</table>\n",
              "<p>25044 rows × 3 columns</p>\n",
              "</div>"
            ],
            "text/plain": [
              "             Family                    Colex_pair  Var_rep\n",
              "4      Abkhaz-Adyge                  (ARROW, BOW)        3\n",
              "5      Abkhaz-Adyge             (AXE, BATTLE-AXE)        4\n",
              "26     Abkhaz-Adyge                (BRANCH, TWIG)        2\n",
              "30     Abkhaz-Adyge                    (BULL, OX)        3\n",
              "39     Abkhaz-Adyge                (COME, ARRIVE)        2\n",
              "...             ...                           ...      ...\n",
              "62185      Zamucoan               (YOUNG, UNRIPE)        2\n",
              "62231          Zuni  (GRANDMOTHER, GRANDDAUGHTER)        2\n",
              "62237          Zuni                 (HOUSE, ROOM)        2\n",
              "62238          Zuni                   (HOW, WHAT)        2\n",
              "62265          Zuni               (NEPHEW, NIECE)        2\n",
              "\n",
              "[25044 rows x 3 columns]"
            ]
          },
          "metadata": {
            "tags": []
          },
          "execution_count": 21
        }
      ]
    },
    {
      "cell_type": "markdown",
      "metadata": {
        "id": "DJLhwlN6-Bir"
      },
      "source": [
        "segunda parte: colexification frequency within each family"
      ]
    },
    {
      "cell_type": "code",
      "metadata": {
        "id": "GL40RDoL-HlN"
      },
      "source": [
        "#df_sum['mean']=df_sum['rep'].apply(lambda x: x/2) # divided by 2 because we took only 2 varieties --> change if necessary"
      ],
      "execution_count": 22,
      "outputs": []
    },
    {
      "cell_type": "code",
      "metadata": {
        "id": "bQk_iZqWizbx"
      },
      "source": [
        "df_sum['Num_var']='' # new empty column"
      ],
      "execution_count": 23,
      "outputs": []
    },
    {
      "cell_type": "code",
      "metadata": {
        "colab": {
          "base_uri": "https://localhost:8080/"
        },
        "id": "jlc6lgE7gYOd",
        "outputId": "acd0a2cd-ad13-4ede-92a0-469f98079b96"
      },
      "source": [
        "for i in range(len(df_sum['Colex_pair'])):\r\n",
        "  fam = df_sum['Family'].iloc[i] # take the family for the row\r\n",
        "  rep = df_sum['Var_rep'].iloc[i] # take var rep\r\n",
        "  div = rep / dicFam[fam]\r\n",
        "  df_sum['Num_var'].iloc[i] = div"
      ],
      "execution_count": 24,
      "outputs": [
        {
          "output_type": "stream",
          "text": [
            "/usr/local/lib/python3.6/dist-packages/pandas/core/indexing.py:670: SettingWithCopyWarning: \n",
            "A value is trying to be set on a copy of a slice from a DataFrame\n",
            "\n",
            "See the caveats in the documentation: https://pandas.pydata.org/pandas-docs/stable/user_guide/indexing.html#returning-a-view-versus-a-copy\n",
            "  iloc._setitem_with_indexer(indexer, value)\n"
          ],
          "name": "stderr"
        }
      ]
    },
    {
      "cell_type": "code",
      "metadata": {
        "colab": {
          "base_uri": "https://localhost:8080/",
          "height": 419
        },
        "id": "klIs_G2o-XL2",
        "outputId": "b9fd7c7f-a80e-4bd2-be99-2990851e1a9f"
      },
      "source": [
        "df_sum"
      ],
      "execution_count": 25,
      "outputs": [
        {
          "output_type": "execute_result",
          "data": {
            "text/html": [
              "<div>\n",
              "<style scoped>\n",
              "    .dataframe tbody tr th:only-of-type {\n",
              "        vertical-align: middle;\n",
              "    }\n",
              "\n",
              "    .dataframe tbody tr th {\n",
              "        vertical-align: top;\n",
              "    }\n",
              "\n",
              "    .dataframe thead th {\n",
              "        text-align: right;\n",
              "    }\n",
              "</style>\n",
              "<table border=\"1\" class=\"dataframe\">\n",
              "  <thead>\n",
              "    <tr style=\"text-align: right;\">\n",
              "      <th></th>\n",
              "      <th>Family</th>\n",
              "      <th>Colex_pair</th>\n",
              "      <th>Var_rep</th>\n",
              "      <th>Num_var</th>\n",
              "    </tr>\n",
              "  </thead>\n",
              "  <tbody>\n",
              "    <tr>\n",
              "      <th>0</th>\n",
              "      <td>Abkhaz-Adyge</td>\n",
              "      <td>(ALL, FULL)</td>\n",
              "      <td>1</td>\n",
              "      <td>0.2</td>\n",
              "    </tr>\n",
              "    <tr>\n",
              "      <th>1</th>\n",
              "      <td>Abkhaz-Adyge</td>\n",
              "      <td>(APPLE, BARK)</td>\n",
              "      <td>1</td>\n",
              "      <td>0.2</td>\n",
              "    </tr>\n",
              "    <tr>\n",
              "      <th>2</th>\n",
              "      <td>Abkhaz-Adyge</td>\n",
              "      <td>(APPLE, BEESWAX)</td>\n",
              "      <td>1</td>\n",
              "      <td>0.2</td>\n",
              "    </tr>\n",
              "    <tr>\n",
              "      <th>3</th>\n",
              "      <td>Abkhaz-Adyge</td>\n",
              "      <td>(APPLE, LEATHER)</td>\n",
              "      <td>1</td>\n",
              "      <td>0.2</td>\n",
              "    </tr>\n",
              "    <tr>\n",
              "      <th>4</th>\n",
              "      <td>Abkhaz-Adyge</td>\n",
              "      <td>(ARROW, BOW)</td>\n",
              "      <td>3</td>\n",
              "      <td>0.6</td>\n",
              "    </tr>\n",
              "    <tr>\n",
              "      <th>...</th>\n",
              "      <td>...</td>\n",
              "      <td>...</td>\n",
              "      <td>...</td>\n",
              "      <td>...</td>\n",
              "    </tr>\n",
              "    <tr>\n",
              "      <th>62330</th>\n",
              "      <td>Zuni</td>\n",
              "      <td>(WIND, BREATH OR BREATHE)</td>\n",
              "      <td>1</td>\n",
              "      <td>1</td>\n",
              "    </tr>\n",
              "    <tr>\n",
              "      <th>62331</th>\n",
              "      <td>Zuni</td>\n",
              "      <td>(WING, SILVER)</td>\n",
              "      <td>1</td>\n",
              "      <td>1</td>\n",
              "    </tr>\n",
              "    <tr>\n",
              "      <th>62332</th>\n",
              "      <td>Zuni</td>\n",
              "      <td>(WOOD, FIREWOOD)</td>\n",
              "      <td>1</td>\n",
              "      <td>1</td>\n",
              "    </tr>\n",
              "    <tr>\n",
              "      <th>62333</th>\n",
              "      <td>Zuni</td>\n",
              "      <td>(YES, YOUNG WOMAN)</td>\n",
              "      <td>1</td>\n",
              "      <td>1</td>\n",
              "    </tr>\n",
              "    <tr>\n",
              "      <th>62334</th>\n",
              "      <td>Zuni</td>\n",
              "      <td>(YOUNGER BROTHER, YOUNGER SISTER)</td>\n",
              "      <td>1</td>\n",
              "      <td>1</td>\n",
              "    </tr>\n",
              "  </tbody>\n",
              "</table>\n",
              "<p>62335 rows × 4 columns</p>\n",
              "</div>"
            ],
            "text/plain": [
              "             Family                         Colex_pair  Var_rep Num_var\n",
              "0      Abkhaz-Adyge                        (ALL, FULL)        1     0.2\n",
              "1      Abkhaz-Adyge                      (APPLE, BARK)        1     0.2\n",
              "2      Abkhaz-Adyge                   (APPLE, BEESWAX)        1     0.2\n",
              "3      Abkhaz-Adyge                   (APPLE, LEATHER)        1     0.2\n",
              "4      Abkhaz-Adyge                       (ARROW, BOW)        3     0.6\n",
              "...             ...                                ...      ...     ...\n",
              "62330          Zuni          (WIND, BREATH OR BREATHE)        1       1\n",
              "62331          Zuni                     (WING, SILVER)        1       1\n",
              "62332          Zuni                   (WOOD, FIREWOOD)        1       1\n",
              "62333          Zuni                 (YES, YOUNG WOMAN)        1       1\n",
              "62334          Zuni  (YOUNGER BROTHER, YOUNGER SISTER)        1       1\n",
              "\n",
              "[62335 rows x 4 columns]"
            ]
          },
          "metadata": {
            "tags": []
          },
          "execution_count": 25
        }
      ]
    },
    {
      "cell_type": "markdown",
      "metadata": {
        "id": "L_YIrUpVaGgY"
      },
      "source": [
        "the next step would be to sum over them"
      ]
    },
    {
      "cell_type": "code",
      "metadata": {
        "id": "tAjjqpYHmRkv"
      },
      "source": [
        "suppDf = []\r\n",
        "\r\n",
        "def colex_freq(x):\r\n",
        "  # x = df of only one colex_pair\r\n",
        "  sumNumVar = sum(x['Num_var'])\r\n",
        "  div = sumNumVar / 183\r\n",
        "  newEl = [x['Colex_pair'].iloc[0], div]\r\n",
        "  suppDf.append(newEl)"
      ],
      "execution_count": 26,
      "outputs": []
    },
    {
      "cell_type": "code",
      "metadata": {
        "colab": {
          "base_uri": "https://localhost:8080/",
          "height": 32
        },
        "id": "jeeu1RZxlhPU",
        "outputId": "e76ff423-d1a0-42cf-f9d5-63dd75e66cc0"
      },
      "source": [
        "df_sum.groupby(['Colex_pair']).apply(lambda x: colex_freq(x))"
      ],
      "execution_count": 27,
      "outputs": [
        {
          "output_type": "execute_result",
          "data": {
            "text/html": [
              "<div>\n",
              "<style scoped>\n",
              "    .dataframe tbody tr th:only-of-type {\n",
              "        vertical-align: middle;\n",
              "    }\n",
              "\n",
              "    .dataframe tbody tr th {\n",
              "        vertical-align: top;\n",
              "    }\n",
              "\n",
              "    .dataframe thead th {\n",
              "        text-align: right;\n",
              "    }\n",
              "</style>\n",
              "<table border=\"1\" class=\"dataframe\">\n",
              "  <thead>\n",
              "    <tr style=\"text-align: right;\">\n",
              "      <th></th>\n",
              "    </tr>\n",
              "  </thead>\n",
              "  <tbody>\n",
              "  </tbody>\n",
              "</table>\n",
              "</div>"
            ],
            "text/plain": [
              "Empty DataFrame\n",
              "Columns: []\n",
              "Index: []"
            ]
          },
          "metadata": {
            "tags": []
          },
          "execution_count": 27
        }
      ]
    },
    {
      "cell_type": "code",
      "metadata": {
        "id": "SovVYEPVnwTs"
      },
      "source": [
        "df_colex_freq = pd.DataFrame(suppDf, columns=['Colex_pair', 'Freq'])"
      ],
      "execution_count": 28,
      "outputs": []
    },
    {
      "cell_type": "code",
      "metadata": {
        "colab": {
          "base_uri": "https://localhost:8080/",
          "height": 419
        },
        "id": "sSt2Vl-Tn32L",
        "outputId": "c0e86aff-428c-47d3-be6f-eb310c75e549"
      },
      "source": [
        "df_colex_freq"
      ],
      "execution_count": 29,
      "outputs": [
        {
          "output_type": "execute_result",
          "data": {
            "text/html": [
              "<div>\n",
              "<style scoped>\n",
              "    .dataframe tbody tr th:only-of-type {\n",
              "        vertical-align: middle;\n",
              "    }\n",
              "\n",
              "    .dataframe tbody tr th {\n",
              "        vertical-align: top;\n",
              "    }\n",
              "\n",
              "    .dataframe thead th {\n",
              "        text-align: right;\n",
              "    }\n",
              "</style>\n",
              "<table border=\"1\" class=\"dataframe\">\n",
              "  <thead>\n",
              "    <tr style=\"text-align: right;\">\n",
              "      <th></th>\n",
              "      <th>Colex_pair</th>\n",
              "      <th>Freq</th>\n",
              "    </tr>\n",
              "  </thead>\n",
              "  <tbody>\n",
              "    <tr>\n",
              "      <th>0</th>\n",
              "      <td>(A LITTLE, WHAT)</td>\n",
              "      <td>0.000042</td>\n",
              "    </tr>\n",
              "    <tr>\n",
              "      <th>1</th>\n",
              "      <td>(ABOVE, BELOW OR UNDER)</td>\n",
              "      <td>0.003643</td>\n",
              "    </tr>\n",
              "    <tr>\n",
              "      <th>2</th>\n",
              "      <td>(ABOVE, BLACK)</td>\n",
              "      <td>0.000039</td>\n",
              "    </tr>\n",
              "    <tr>\n",
              "      <th>3</th>\n",
              "      <td>(ABOVE, CART)</td>\n",
              "      <td>0.002732</td>\n",
              "    </tr>\n",
              "    <tr>\n",
              "      <th>4</th>\n",
              "      <td>(ABOVE, CIRCLE)</td>\n",
              "      <td>0.002732</td>\n",
              "    </tr>\n",
              "    <tr>\n",
              "      <th>...</th>\n",
              "      <td>...</td>\n",
              "      <td>...</td>\n",
              "    </tr>\n",
              "    <tr>\n",
              "      <th>45775</th>\n",
              "      <td>(YOUNGER SISTER, SELL)</td>\n",
              "      <td>0.002732</td>\n",
              "    </tr>\n",
              "    <tr>\n",
              "      <th>45776</th>\n",
              "      <td>(YOUNGER SISTER, SIBLING)</td>\n",
              "      <td>0.003328</td>\n",
              "    </tr>\n",
              "    <tr>\n",
              "      <th>45777</th>\n",
              "      <td>(YOUNGER SISTER, STEPDAUGHTER)</td>\n",
              "      <td>0.000228</td>\n",
              "    </tr>\n",
              "    <tr>\n",
              "      <th>45778</th>\n",
              "      <td>(YOUNGER SISTER, YOUNGER BROTHER)</td>\n",
              "      <td>0.011027</td>\n",
              "    </tr>\n",
              "    <tr>\n",
              "      <th>45779</th>\n",
              "      <td>(YOUNGER SISTER, YOUNGER SIBLING)</td>\n",
              "      <td>0.005638</td>\n",
              "    </tr>\n",
              "  </tbody>\n",
              "</table>\n",
              "<p>45780 rows × 2 columns</p>\n",
              "</div>"
            ],
            "text/plain": [
              "                              Colex_pair      Freq\n",
              "0                       (A LITTLE, WHAT)  0.000042\n",
              "1                (ABOVE, BELOW OR UNDER)  0.003643\n",
              "2                         (ABOVE, BLACK)  0.000039\n",
              "3                          (ABOVE, CART)  0.002732\n",
              "4                        (ABOVE, CIRCLE)  0.002732\n",
              "...                                  ...       ...\n",
              "45775             (YOUNGER SISTER, SELL)  0.002732\n",
              "45776          (YOUNGER SISTER, SIBLING)  0.003328\n",
              "45777     (YOUNGER SISTER, STEPDAUGHTER)  0.000228\n",
              "45778  (YOUNGER SISTER, YOUNGER BROTHER)  0.011027\n",
              "45779  (YOUNGER SISTER, YOUNGER SIBLING)  0.005638\n",
              "\n",
              "[45780 rows x 2 columns]"
            ]
          },
          "metadata": {
            "tags": []
          },
          "execution_count": 29
        }
      ]
    },
    {
      "cell_type": "markdown",
      "metadata": {
        "id": "5dntRnNJokxm"
      },
      "source": [
        "TO DO \r\n",
        "\r\n",
        "create SOMETHING to repeat bootstrap 3 (x) veces"
      ]
    },
    {
      "cell_type": "markdown",
      "metadata": {
        "id": "9dcrjRtd1JHw"
      },
      "source": [
        "### BOOTSTRAP function"
      ]
    },
    {
      "cell_type": "code",
      "metadata": {
        "id": "6-HPMjzd1Unj"
      },
      "source": [
        "import time\r\n",
        "\r\n",
        "def colex_freq(x, suppDf):\r\n",
        "  # x = df of only one colex_pair\r\n",
        "  sumNumVar = sum(x['Num_var'])\r\n",
        "  div = sumNumVar / 183\r\n",
        "  newEl = [x['Colex_pair'].iloc[0], div]\r\n",
        "  suppDf.append(newEl)\r\n",
        "\r\n",
        "\r\n",
        "def concept_sum(x, suppDf):\r\n",
        "  # x = df divided by concepticon inside only one family\r\n",
        "  totLang = len(x['Glottocode']) # how many languages have that colexification faking to have different families from bootstrap --> NO SET\r\n",
        "  # NB we don't have repetitions of Concepticon_pair in a variety, if we have it, it's just because we did the bootstrap with replacement\r\n",
        "  newEl = [x['Family'].iloc[0], x['Concepticon_pair'].iloc[0], totLang]\r\n",
        "  suppDf.append(newEl)\r\n",
        "\r\n",
        "\r\n",
        "def colex_rep(x, suppDf):\r\n",
        "  # x = df divided by family\r\n",
        "  x.groupby('Concepticon_pair').apply(lambda y: concept_sum(y, suppDf))\r\n",
        "\r\n",
        "\r\n",
        "def bootstrapping(cicle):\r\n",
        "  print (\"Running bootstrapping function\")\r\n",
        "  start_time = time.time()\r\n",
        "\r\n",
        "  listBoot = []\r\n",
        "  # cicle = number of repetitions\r\n",
        "  for k in range (cicle):\r\n",
        "    # create new df with random varieties\r\n",
        "    new_df_fam = df_fam.groupby(['Family']).apply(lambda x: x.sample(n=(len(x['Glottocode'])), replace=True)).reset_index(drop = True)\r\n",
        "    # create list with varieties chosen\r\n",
        "    listVar=new_df_fam.Glottocode.tolist()\r\n",
        "    print(\"List of linguistic varieties chosen\")\r\n",
        "    # new df\r\n",
        "    boot_df = pd.DataFrame()\r\n",
        "\r\n",
        "    for v in listVar:\r\n",
        "      # for every variety, take all colexification and put them into boot_df\r\n",
        "      boot_df=boot_df.append(df_colex.loc[df_colex['Glottocode'] == v], ignore_index = True)\r\n",
        "\r\n",
        "    suppDf = [] # new empty list\r\n",
        "\r\n",
        "    print(\"Taking families grouped by concepticon pair and counting number of varieties with the same colexification\")\r\n",
        "\r\n",
        "    boot_df.groupby(['Family']).apply(lambda x: colex_rep(x, suppDf))\r\n",
        "    print(\"Created dataframe with colexification from chosen varieties\")\r\n",
        "    # new df from list obtained by functions\r\n",
        "    df_sum = pd.DataFrame(suppDf, columns=['Family', 'Colex_pair', 'Var_rep'])\r\n",
        "\r\n",
        "    df_sum['Num_var']='' # new empty column\r\n",
        "\r\n",
        "    for i in range(len(df_sum['Colex_pair'])):\r\n",
        "      fam = df_sum['Family'].iloc[i] # take the family for the row\r\n",
        "      rep = df_sum['Var_rep'].iloc[i] # take var rep\r\n",
        "      div = rep / dicFam[fam]\r\n",
        "      df_sum['Num_var'].iloc[i] = div\r\n",
        "\r\n",
        "    suppDf = [] # empty the list\r\n",
        "\r\n",
        "    print(\"Counting colex frequency among all families\")\r\n",
        "    df_sum.groupby(['Colex_pair']).apply(lambda x: colex_freq(x, suppDf))\r\n",
        "\r\n",
        "    listBoot.append(suppDf) # add list to list of bootstrap\r\n",
        "    # df_colex_freq = pd.DataFrame(suppDf, columns=['Colex_pair', 'Freq']) # to save in df\r\n",
        "    print(\"Finished cicle number\", k)\r\n",
        "  print(\"--- %s seconds ---\" % (time.time() - start_time))\r\n",
        "  return listBoot\r\n"
      ],
      "execution_count": 15,
      "outputs": []
    },
    {
      "cell_type": "code",
      "metadata": {
        "colab": {
          "base_uri": "https://localhost:8080/"
        },
        "id": "Mdo3DQ9j9tk2",
        "outputId": "791f659f-33e1-4d26-96eb-7773cee09cc2"
      },
      "source": [
        "lBoot = bootstrapping(3)"
      ],
      "execution_count": 23,
      "outputs": [
        {
          "output_type": "stream",
          "text": [
            "Running bootstrapping function\n",
            "List of linguistic varieties chosen\n",
            "Taking families grouped by concepticon pair and counting number of varieties with the same colexification\n",
            "Created dataframe with colexification from chosen varieties\n"
          ],
          "name": "stdout"
        },
        {
          "output_type": "stream",
          "text": [
            "/usr/local/lib/python3.6/dist-packages/pandas/core/indexing.py:670: SettingWithCopyWarning: \n",
            "A value is trying to be set on a copy of a slice from a DataFrame\n",
            "\n",
            "See the caveats in the documentation: https://pandas.pydata.org/pandas-docs/stable/user_guide/indexing.html#returning-a-view-versus-a-copy\n",
            "  iloc._setitem_with_indexer(indexer, value)\n"
          ],
          "name": "stderr"
        },
        {
          "output_type": "stream",
          "text": [
            "Counting colex frequency among all families\n",
            "Finished cicle number 0\n",
            "List of linguistic varieties chosen\n",
            "Taking families grouped by concepticon pair and counting number of varieties with the same colexification\n",
            "Created dataframe with colexification from chosen varieties\n",
            "Counting colex frequency among all families\n",
            "Finished cicle number 1\n",
            "List of linguistic varieties chosen\n",
            "Taking families grouped by concepticon pair and counting number of varieties with the same colexification\n",
            "Created dataframe with colexification from chosen varieties\n",
            "Counting colex frequency among all families\n",
            "Finished cicle number 2\n",
            "--- 285.95579767227173 seconds ---\n"
          ],
          "name": "stdout"
        }
      ]
    },
    {
      "cell_type": "code",
      "metadata": {
        "colab": {
          "base_uri": "https://localhost:8080/"
        },
        "id": "Jl3Wh0VJAQo7",
        "outputId": "7fe5896a-13ab-4883-9774-cce8c11ef735"
      },
      "source": [
        "len(lBoot)"
      ],
      "execution_count": 24,
      "outputs": [
        {
          "output_type": "execute_result",
          "data": {
            "text/plain": [
              "3"
            ]
          },
          "metadata": {
            "tags": []
          },
          "execution_count": 24
        }
      ]
    },
    {
      "cell_type": "code",
      "metadata": {
        "id": "91mZIf9pBpqN"
      },
      "source": [
        "df_colex_freq = pd.DataFrame(lBoot[2], columns=['Colex_pair', 'Freq']) # to save in df\r\n"
      ],
      "execution_count": 25,
      "outputs": []
    },
    {
      "cell_type": "code",
      "metadata": {
        "colab": {
          "base_uri": "https://localhost:8080/",
          "height": 419
        },
        "id": "yNN_7PxyBxFK",
        "outputId": "5e94fb12-503f-40d9-c38f-2ef371595178"
      },
      "source": [
        "df_colex_freq"
      ],
      "execution_count": 26,
      "outputs": [
        {
          "output_type": "execute_result",
          "data": {
            "text/html": [
              "<div>\n",
              "<style scoped>\n",
              "    .dataframe tbody tr th:only-of-type {\n",
              "        vertical-align: middle;\n",
              "    }\n",
              "\n",
              "    .dataframe tbody tr th {\n",
              "        vertical-align: top;\n",
              "    }\n",
              "\n",
              "    .dataframe thead th {\n",
              "        text-align: right;\n",
              "    }\n",
              "</style>\n",
              "<table border=\"1\" class=\"dataframe\">\n",
              "  <thead>\n",
              "    <tr style=\"text-align: right;\">\n",
              "      <th></th>\n",
              "      <th>Colex_pair</th>\n",
              "      <th>Freq</th>\n",
              "    </tr>\n",
              "  </thead>\n",
              "  <tbody>\n",
              "    <tr>\n",
              "      <th>0</th>\n",
              "      <td>(A LITTLE, WHAT)</td>\n",
              "      <td>0.000042</td>\n",
              "    </tr>\n",
              "    <tr>\n",
              "      <th>1</th>\n",
              "      <td>(ABOVE, BELOW OR UNDER)</td>\n",
              "      <td>0.005464</td>\n",
              "    </tr>\n",
              "    <tr>\n",
              "      <th>2</th>\n",
              "      <td>(ABOVE, BLACK)</td>\n",
              "      <td>0.000151</td>\n",
              "    </tr>\n",
              "    <tr>\n",
              "      <th>3</th>\n",
              "      <td>(ABOVE, CART)</td>\n",
              "      <td>0.005464</td>\n",
              "    </tr>\n",
              "    <tr>\n",
              "      <th>4</th>\n",
              "      <td>(ABOVE, CIRCLE)</td>\n",
              "      <td>0.005464</td>\n",
              "    </tr>\n",
              "    <tr>\n",
              "      <th>...</th>\n",
              "      <td>...</td>\n",
              "      <td>...</td>\n",
              "    </tr>\n",
              "    <tr>\n",
              "      <th>40561</th>\n",
              "      <td>(YOUNGER SISTER, SON)</td>\n",
              "      <td>0.000031</td>\n",
              "    </tr>\n",
              "    <tr>\n",
              "      <th>40562</th>\n",
              "      <td>(YOUNGER SISTER, STEPDAUGHTER)</td>\n",
              "      <td>0.000455</td>\n",
              "    </tr>\n",
              "    <tr>\n",
              "      <th>40563</th>\n",
              "      <td>(YOUNGER SISTER, THEN)</td>\n",
              "      <td>0.000031</td>\n",
              "    </tr>\n",
              "    <tr>\n",
              "      <th>40564</th>\n",
              "      <td>(YOUNGER SISTER, YOUNGER BROTHER)</td>\n",
              "      <td>0.011142</td>\n",
              "    </tr>\n",
              "    <tr>\n",
              "      <th>40565</th>\n",
              "      <td>(YOUNGER SISTER, YOUNGER SIBLING)</td>\n",
              "      <td>0.008518</td>\n",
              "    </tr>\n",
              "  </tbody>\n",
              "</table>\n",
              "<p>40566 rows × 2 columns</p>\n",
              "</div>"
            ],
            "text/plain": [
              "                              Colex_pair      Freq\n",
              "0                       (A LITTLE, WHAT)  0.000042\n",
              "1                (ABOVE, BELOW OR UNDER)  0.005464\n",
              "2                         (ABOVE, BLACK)  0.000151\n",
              "3                          (ABOVE, CART)  0.005464\n",
              "4                        (ABOVE, CIRCLE)  0.005464\n",
              "...                                  ...       ...\n",
              "40561              (YOUNGER SISTER, SON)  0.000031\n",
              "40562     (YOUNGER SISTER, STEPDAUGHTER)  0.000455\n",
              "40563             (YOUNGER SISTER, THEN)  0.000031\n",
              "40564  (YOUNGER SISTER, YOUNGER BROTHER)  0.011142\n",
              "40565  (YOUNGER SISTER, YOUNGER SIBLING)  0.008518\n",
              "\n",
              "[40566 rows x 2 columns]"
            ]
          },
          "metadata": {
            "tags": []
          },
          "execution_count": 26
        }
      ]
    }
  ]
}