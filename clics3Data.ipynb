{
  "nbformat": 4,
  "nbformat_minor": 0,
  "metadata": {
    "colab": {
      "name": "clics3Data.ipynb",
      "provenance": [],
      "authorship_tag": "ABX9TyMEaskFsQ5t7oNy4m4qdOqr",
      "include_colab_link": true
    },
    "kernelspec": {
      "name": "python3",
      "display_name": "Python 3"
    }
  },
  "cells": [
    {
      "cell_type": "markdown",
      "metadata": {
        "id": "view-in-github",
        "colab_type": "text"
      },
      "source": [
        "<a href=\"https://colab.research.google.com/github/sarabert96/Colexification/blob/main/clics3Data.ipynb\" target=\"_parent\"><img src=\"https://colab.research.google.com/assets/colab-badge.svg\" alt=\"Open In Colab\"/></a>"
      ]
    },
    {
      "cell_type": "code",
      "metadata": {
        "id": "1bCmA2t_DkRM"
      },
      "source": [
        "import numpy as np\n",
        "import pandas as pd"
      ],
      "execution_count": 1,
      "outputs": []
    },
    {
      "cell_type": "markdown",
      "metadata": {
        "id": "hrchs348Lgva"
      },
      "source": [
        "Create the dataframe from csv file"
      ]
    },
    {
      "cell_type": "code",
      "metadata": {
        "id": "wM4cPVE_Io62",
        "outputId": "39ad8034-7ba3-44d4-d4cd-fb65a1e41fd8",
        "colab": {
          "base_uri": "https://localhost:8080/"
        }
      },
      "source": [
        "df = pd.read_csv('df_all_raw.csv')"
      ],
      "execution_count": 2,
      "outputs": [
        {
          "output_type": "stream",
          "text": [
            "/usr/local/lib/python3.6/dist-packages/IPython/core/interactiveshell.py:2718: DtypeWarning: Columns (4) have mixed types.Specify dtype option on import or set low_memory=False.\n",
            "  interactivity=interactivity, compiler=compiler, result=result)\n"
          ],
          "name": "stderr"
        }
      ]
    },
    {
      "cell_type": "code",
      "metadata": {
        "id": "fCkhwxDSJe81",
        "outputId": "4bc33326-0189-4e6a-ba3d-c611c85078bf",
        "colab": {
          "base_uri": "https://localhost:8080/",
          "height": 309
        }
      },
      "source": [
        "df.head()"
      ],
      "execution_count": 3,
      "outputs": [
        {
          "output_type": "execute_result",
          "data": {
            "text/html": [
              "<div>\n",
              "<style scoped>\n",
              "    .dataframe tbody tr th:only-of-type {\n",
              "        vertical-align: middle;\n",
              "    }\n",
              "\n",
              "    .dataframe tbody tr th {\n",
              "        vertical-align: top;\n",
              "    }\n",
              "\n",
              "    .dataframe thead th {\n",
              "        text-align: right;\n",
              "    }\n",
              "</style>\n",
              "<table border=\"1\" class=\"dataframe\">\n",
              "  <thead>\n",
              "    <tr style=\"text-align: right;\">\n",
              "      <th></th>\n",
              "      <th>dataset_ID</th>\n",
              "      <th>Form_ID</th>\n",
              "      <th>Form</th>\n",
              "      <th>clics_form</th>\n",
              "      <th>gloss_in_source</th>\n",
              "      <th>Concepticon_ID</th>\n",
              "      <th>Concepticon_Gloss</th>\n",
              "      <th>Ontological_Category</th>\n",
              "      <th>Semantic_Field</th>\n",
              "      <th>variety</th>\n",
              "      <th>Glottocode</th>\n",
              "      <th>ISO639P3code</th>\n",
              "      <th>Macroarea</th>\n",
              "      <th>Family</th>\n",
              "      <th>Latitude</th>\n",
              "      <th>Longitude</th>\n",
              "      <th>MRC_WORD</th>\n",
              "      <th>AGE_OF_ACQUISITION</th>\n",
              "      <th>CONCRETENESS</th>\n",
              "      <th>FAMILIARITY</th>\n",
              "      <th>IMAGABILITY</th>\n",
              "      <th>KUCERA_FRANCIS_FREQUENCY</th>\n",
              "    </tr>\n",
              "  </thead>\n",
              "  <tbody>\n",
              "    <tr>\n",
              "      <th>0</th>\n",
              "      <td>abrahammonpa</td>\n",
              "      <td>BugunBichom-100_gold-1</td>\n",
              "      <td>san</td>\n",
              "      <td>san</td>\n",
              "      <td>gold</td>\n",
              "      <td>1369</td>\n",
              "      <td>GOLD</td>\n",
              "      <td>Person/Thing</td>\n",
              "      <td>Basic actions and technology</td>\n",
              "      <td>Bugun Bichom</td>\n",
              "      <td>bich1234</td>\n",
              "      <td>NaN</td>\n",
              "      <td>NaN</td>\n",
              "      <td>Sino-Tibetan</td>\n",
              "      <td>NaN</td>\n",
              "      <td>NaN</td>\n",
              "      <td>GOLD</td>\n",
              "      <td>NaN</td>\n",
              "      <td>576.0</td>\n",
              "      <td>550.0</td>\n",
              "      <td>594.0</td>\n",
              "      <td>52.0</td>\n",
              "    </tr>\n",
              "    <tr>\n",
              "      <th>1</th>\n",
              "      <td>abrahammonpa</td>\n",
              "      <td>BugunKaspi-100_gold-1</td>\n",
              "      <td>san</td>\n",
              "      <td>san</td>\n",
              "      <td>gold</td>\n",
              "      <td>1369</td>\n",
              "      <td>GOLD</td>\n",
              "      <td>Person/Thing</td>\n",
              "      <td>Basic actions and technology</td>\n",
              "      <td>Bugun Kaspi</td>\n",
              "      <td>kasp1234</td>\n",
              "      <td>NaN</td>\n",
              "      <td>NaN</td>\n",
              "      <td>Sino-Tibetan</td>\n",
              "      <td>NaN</td>\n",
              "      <td>NaN</td>\n",
              "      <td>GOLD</td>\n",
              "      <td>NaN</td>\n",
              "      <td>576.0</td>\n",
              "      <td>550.0</td>\n",
              "      <td>594.0</td>\n",
              "      <td>52.0</td>\n",
              "    </tr>\n",
              "    <tr>\n",
              "      <th>2</th>\n",
              "      <td>abrahammonpa</td>\n",
              "      <td>BugunNamphri-100_gold-1</td>\n",
              "      <td>san</td>\n",
              "      <td>san</td>\n",
              "      <td>gold</td>\n",
              "      <td>1369</td>\n",
              "      <td>GOLD</td>\n",
              "      <td>Person/Thing</td>\n",
              "      <td>Basic actions and technology</td>\n",
              "      <td>Bugun Namphri</td>\n",
              "      <td>namp1239</td>\n",
              "      <td>NaN</td>\n",
              "      <td>NaN</td>\n",
              "      <td>Sino-Tibetan</td>\n",
              "      <td>NaN</td>\n",
              "      <td>NaN</td>\n",
              "      <td>GOLD</td>\n",
              "      <td>NaN</td>\n",
              "      <td>576.0</td>\n",
              "      <td>550.0</td>\n",
              "      <td>594.0</td>\n",
              "      <td>52.0</td>\n",
              "    </tr>\n",
              "    <tr>\n",
              "      <th>3</th>\n",
              "      <td>abrahammonpa</td>\n",
              "      <td>BugunSingchung-100_gold-1</td>\n",
              "      <td>san</td>\n",
              "      <td>san</td>\n",
              "      <td>gold</td>\n",
              "      <td>1369</td>\n",
              "      <td>GOLD</td>\n",
              "      <td>Person/Thing</td>\n",
              "      <td>Basic actions and technology</td>\n",
              "      <td>Bugun Singchung</td>\n",
              "      <td>sing1271</td>\n",
              "      <td>NaN</td>\n",
              "      <td>NaN</td>\n",
              "      <td>Sino-Tibetan</td>\n",
              "      <td>NaN</td>\n",
              "      <td>NaN</td>\n",
              "      <td>GOLD</td>\n",
              "      <td>NaN</td>\n",
              "      <td>576.0</td>\n",
              "      <td>550.0</td>\n",
              "      <td>594.0</td>\n",
              "      <td>52.0</td>\n",
              "    </tr>\n",
              "    <tr>\n",
              "      <th>4</th>\n",
              "      <td>abrahammonpa</td>\n",
              "      <td>BugunWangho-100_gold-1</td>\n",
              "      <td>san</td>\n",
              "      <td>san</td>\n",
              "      <td>gold</td>\n",
              "      <td>1369</td>\n",
              "      <td>GOLD</td>\n",
              "      <td>Person/Thing</td>\n",
              "      <td>Basic actions and technology</td>\n",
              "      <td>Bugun Wangho</td>\n",
              "      <td>wang1301</td>\n",
              "      <td>NaN</td>\n",
              "      <td>NaN</td>\n",
              "      <td>Sino-Tibetan</td>\n",
              "      <td>NaN</td>\n",
              "      <td>NaN</td>\n",
              "      <td>GOLD</td>\n",
              "      <td>NaN</td>\n",
              "      <td>576.0</td>\n",
              "      <td>550.0</td>\n",
              "      <td>594.0</td>\n",
              "      <td>52.0</td>\n",
              "    </tr>\n",
              "  </tbody>\n",
              "</table>\n",
              "</div>"
            ],
            "text/plain": [
              "     dataset_ID  ... KUCERA_FRANCIS_FREQUENCY\n",
              "0  abrahammonpa  ...                     52.0\n",
              "1  abrahammonpa  ...                     52.0\n",
              "2  abrahammonpa  ...                     52.0\n",
              "3  abrahammonpa  ...                     52.0\n",
              "4  abrahammonpa  ...                     52.0\n",
              "\n",
              "[5 rows x 22 columns]"
            ]
          },
          "metadata": {
            "tags": []
          },
          "execution_count": 3
        }
      ]
    },
    {
      "cell_type": "markdown",
      "metadata": {
        "id": "zH-l5IskYOyt"
      },
      "source": [
        "Let's create a new dataframe with only relevant columns"
      ]
    },
    {
      "cell_type": "code",
      "metadata": {
        "id": "XYri3TYnJ-Hz"
      },
      "source": [
        "# keep only relevant columns --> new df\n",
        "df_concept = df[['Concepticon_ID','Concepticon_Gloss']].copy()"
      ],
      "execution_count": 4,
      "outputs": []
    },
    {
      "cell_type": "code",
      "metadata": {
        "id": "DRb0S0tEO_B3",
        "outputId": "ea4378e1-fef7-4cf0-9f07-ea6a50605ae9",
        "colab": {
          "base_uri": "https://localhost:8080/"
        }
      },
      "source": [
        "df_concept['Concepticon_ID'].isnull().values.any()"
      ],
      "execution_count": 5,
      "outputs": [
        {
          "output_type": "execute_result",
          "data": {
            "text/plain": [
              "False"
            ]
          },
          "metadata": {
            "tags": []
          },
          "execution_count": 5
        }
      ]
    },
    {
      "cell_type": "code",
      "metadata": {
        "id": "lhpZZeYxW2nR",
        "outputId": "cfd812e0-f76d-41eb-d556-29b3175c2fd5",
        "colab": {
          "base_uri": "https://localhost:8080/"
        }
      },
      "source": [
        "df_concept['Concepticon_Gloss'].isnull().values.any()"
      ],
      "execution_count": 6,
      "outputs": [
        {
          "output_type": "execute_result",
          "data": {
            "text/plain": [
              "False"
            ]
          },
          "metadata": {
            "tags": []
          },
          "execution_count": 6
        }
      ]
    },
    {
      "cell_type": "markdown",
      "metadata": {
        "id": "hjQYP_cmRhdJ"
      },
      "source": [
        "The dataframe doesn't contains null values"
      ]
    },
    {
      "cell_type": "code",
      "metadata": {
        "id": "wBxv92bvYZ4O",
        "outputId": "e2e85791-fc02-4714-a289-c1c0d986746d",
        "colab": {
          "base_uri": "https://localhost:8080/"
        }
      },
      "source": [
        "df_concept.info"
      ],
      "execution_count": 7,
      "outputs": [
        {
          "output_type": "execute_result",
          "data": {
            "text/plain": [
              "<bound method DataFrame.info of          Concepticon_ID Concepticon_Gloss\n",
              "0                  1369              GOLD\n",
              "1                  1369              GOLD\n",
              "2                  1369              GOLD\n",
              "3                  1369              GOLD\n",
              "4                  1369              GOLD\n",
              "...                 ...               ...\n",
              "1390589            1366               BOY\n",
              "1390590            1366               BOY\n",
              "1390591            1366               BOY\n",
              "1390592            1366               BOY\n",
              "1390593            1366               BOY\n",
              "\n",
              "[1390594 rows x 2 columns]>"
            ]
          },
          "metadata": {
            "tags": []
          },
          "execution_count": 7
        }
      ]
    },
    {
      "cell_type": "markdown",
      "metadata": {
        "id": "1im09ySNHhp4"
      },
      "source": [
        "We can see that there are many duplicates. We want to remove them:"
      ]
    },
    {
      "cell_type": "code",
      "metadata": {
        "id": "8GhBThEKakY_"
      },
      "source": [
        "# remove duplicates\n",
        "df_concept=df_concept.drop_duplicates()\n",
        "# reset index\n",
        "df_concept = df_concept.reset_index(drop=True)"
      ],
      "execution_count": 8,
      "outputs": []
    },
    {
      "cell_type": "code",
      "metadata": {
        "id": "7lgCWbkEa7CP",
        "outputId": "e2c2abe4-1c6e-4ba2-ae84-5007d611721a",
        "colab": {
          "base_uri": "https://localhost:8080/"
        }
      },
      "source": [
        "df_concept.info"
      ],
      "execution_count": 9,
      "outputs": [
        {
          "output_type": "execute_result",
          "data": {
            "text/plain": [
              "<bound method DataFrame.info of       Concepticon_ID     Concepticon_Gloss\n",
              "0               1369                  GOLD\n",
              "1               1035                  GOOD\n",
              "2               1425                 GREEN\n",
              "3               2648           HAIR (HEAD)\n",
              "4               1481                HAMMER\n",
              "...              ...                   ...\n",
              "2914            2033               DELIVER\n",
              "2915            3288                  WEED\n",
              "2916            2529               BLESSED\n",
              "2917            3305        INSIDE A HOUSE\n",
              "2918            2473  HIS (GENITIVE OF HE)\n",
              "\n",
              "[2919 rows x 2 columns]>"
            ]
          },
          "metadata": {
            "tags": []
          },
          "execution_count": 9
        }
      ]
    },
    {
      "cell_type": "markdown",
      "metadata": {
        "id": "TQviHZO5Yash"
      },
      "source": [
        "Let's remove multiword Concepticon rows"
      ]
    },
    {
      "cell_type": "code",
      "metadata": {
        "id": "Fpte0A2sYg2o",
        "outputId": "c14dd739-db9f-4fcd-d0f8-9ec8eefc5bb3",
        "colab": {
          "base_uri": "https://localhost:8080/",
          "height": 214
        }
      },
      "source": [
        "nWords = df_concept['Concepticon_Gloss'].str.count(' ') + 1\n",
        "for i in len(nWords):\n",
        "  if nWords(i) > 1:\n",
        "    df_concept.drop([i])"
      ],
      "execution_count": 16,
      "outputs": [
        {
          "output_type": "error",
          "ename": "TypeError",
          "evalue": "ignored",
          "traceback": [
            "\u001b[0;31m---------------------------------------------------------------------------\u001b[0m",
            "\u001b[0;31mTypeError\u001b[0m                                 Traceback (most recent call last)",
            "\u001b[0;32m<ipython-input-16-cce173611636>\u001b[0m in \u001b[0;36m<module>\u001b[0;34m()\u001b[0m\n\u001b[1;32m      1\u001b[0m \u001b[0mnWords\u001b[0m \u001b[0;34m=\u001b[0m \u001b[0mdf_concept\u001b[0m\u001b[0;34m[\u001b[0m\u001b[0;34m'Concepticon_Gloss'\u001b[0m\u001b[0;34m]\u001b[0m\u001b[0;34m.\u001b[0m\u001b[0mstr\u001b[0m\u001b[0;34m.\u001b[0m\u001b[0mcount\u001b[0m\u001b[0;34m(\u001b[0m\u001b[0;34m' '\u001b[0m\u001b[0;34m)\u001b[0m \u001b[0;34m+\u001b[0m \u001b[0;36m1\u001b[0m\u001b[0;34m\u001b[0m\u001b[0;34m\u001b[0m\u001b[0m\n\u001b[0;32m----> 2\u001b[0;31m \u001b[0;32mfor\u001b[0m \u001b[0mi\u001b[0m \u001b[0;32min\u001b[0m \u001b[0mlen\u001b[0m\u001b[0;34m(\u001b[0m\u001b[0mnWords\u001b[0m\u001b[0;34m)\u001b[0m\u001b[0;34m:\u001b[0m\u001b[0;34m\u001b[0m\u001b[0;34m\u001b[0m\u001b[0m\n\u001b[0m\u001b[1;32m      3\u001b[0m   \u001b[0;32mif\u001b[0m \u001b[0mnWords\u001b[0m\u001b[0;34m(\u001b[0m\u001b[0mi\u001b[0m\u001b[0;34m)\u001b[0m \u001b[0;34m>\u001b[0m \u001b[0;36m1\u001b[0m\u001b[0;34m:\u001b[0m\u001b[0;34m\u001b[0m\u001b[0;34m\u001b[0m\u001b[0m\n\u001b[1;32m      4\u001b[0m     \u001b[0mdf_concept\u001b[0m\u001b[0;34m.\u001b[0m\u001b[0mdrop\u001b[0m\u001b[0;34m(\u001b[0m\u001b[0;34m[\u001b[0m\u001b[0mi\u001b[0m\u001b[0;34m]\u001b[0m\u001b[0;34m)\u001b[0m\u001b[0;34m\u001b[0m\u001b[0;34m\u001b[0m\u001b[0m\n",
            "\u001b[0;31mTypeError\u001b[0m: 'int' object is not iterable"
          ]
        }
      ]
    },
    {
      "cell_type": "code",
      "metadata": {
        "id": "mFL43dNKcOYX"
      },
      "source": [
        "# create column with word count\n",
        "df_concept['totalwords'] = df_concept['Concepticon_Gloss'].str.count(' ') + 1\n",
        "# delete columns with more than one word\n",
        "df_concept = df_concept.drop(df_concept[df_concept.totalwords > 1].index)\n",
        "# delete column with word count\n",
        "del df_concept['totalwords']"
      ],
      "execution_count": 26,
      "outputs": []
    },
    {
      "cell_type": "code",
      "metadata": {
        "id": "_ITeDU3xZfV3",
        "outputId": "144b06ca-065b-404f-fa0c-e3cf9c3b9628",
        "colab": {
          "base_uri": "https://localhost:8080/",
          "height": 204
        }
      },
      "source": [
        "df_concept.head()"
      ],
      "execution_count": 27,
      "outputs": [
        {
          "output_type": "execute_result",
          "data": {
            "text/html": [
              "<div>\n",
              "<style scoped>\n",
              "    .dataframe tbody tr th:only-of-type {\n",
              "        vertical-align: middle;\n",
              "    }\n",
              "\n",
              "    .dataframe tbody tr th {\n",
              "        vertical-align: top;\n",
              "    }\n",
              "\n",
              "    .dataframe thead th {\n",
              "        text-align: right;\n",
              "    }\n",
              "</style>\n",
              "<table border=\"1\" class=\"dataframe\">\n",
              "  <thead>\n",
              "    <tr style=\"text-align: right;\">\n",
              "      <th></th>\n",
              "      <th>Concepticon_ID</th>\n",
              "      <th>Concepticon_Gloss</th>\n",
              "    </tr>\n",
              "  </thead>\n",
              "  <tbody>\n",
              "    <tr>\n",
              "      <th>0</th>\n",
              "      <td>1369</td>\n",
              "      <td>GOLD</td>\n",
              "    </tr>\n",
              "    <tr>\n",
              "      <th>1</th>\n",
              "      <td>1035</td>\n",
              "      <td>GOOD</td>\n",
              "    </tr>\n",
              "    <tr>\n",
              "      <th>2</th>\n",
              "      <td>1425</td>\n",
              "      <td>GREEN</td>\n",
              "    </tr>\n",
              "    <tr>\n",
              "      <th>4</th>\n",
              "      <td>1481</td>\n",
              "      <td>HAMMER</td>\n",
              "    </tr>\n",
              "    <tr>\n",
              "      <th>5</th>\n",
              "      <td>1277</td>\n",
              "      <td>HAND</td>\n",
              "    </tr>\n",
              "  </tbody>\n",
              "</table>\n",
              "</div>"
            ],
            "text/plain": [
              "   Concepticon_ID Concepticon_Gloss\n",
              "0            1369              GOLD\n",
              "1            1035              GOOD\n",
              "2            1425             GREEN\n",
              "4            1481            HAMMER\n",
              "5            1277              HAND"
            ]
          },
          "metadata": {
            "tags": []
          },
          "execution_count": 27
        }
      ]
    },
    {
      "cell_type": "markdown",
      "metadata": {
        "id": "I7N3gxN2HvTW"
      },
      "source": [
        "For testing, we take only 10 rows"
      ]
    },
    {
      "cell_type": "code",
      "metadata": {
        "id": "BIp3XAENXQDq"
      },
      "source": [
        "df_concept_small=df_concept[:10]"
      ],
      "execution_count": 28,
      "outputs": []
    },
    {
      "cell_type": "code",
      "metadata": {
        "id": "s8physSlazvQ",
        "outputId": "cf623631-d023-4a4f-84d2-841f829e545d",
        "colab": {
          "base_uri": "https://localhost:8080/",
          "height": 359
        }
      },
      "source": [
        "df_concept_small"
      ],
      "execution_count": 29,
      "outputs": [
        {
          "output_type": "execute_result",
          "data": {
            "text/html": [
              "<div>\n",
              "<style scoped>\n",
              "    .dataframe tbody tr th:only-of-type {\n",
              "        vertical-align: middle;\n",
              "    }\n",
              "\n",
              "    .dataframe tbody tr th {\n",
              "        vertical-align: top;\n",
              "    }\n",
              "\n",
              "    .dataframe thead th {\n",
              "        text-align: right;\n",
              "    }\n",
              "</style>\n",
              "<table border=\"1\" class=\"dataframe\">\n",
              "  <thead>\n",
              "    <tr style=\"text-align: right;\">\n",
              "      <th></th>\n",
              "      <th>Concepticon_ID</th>\n",
              "      <th>Concepticon_Gloss</th>\n",
              "    </tr>\n",
              "  </thead>\n",
              "  <tbody>\n",
              "    <tr>\n",
              "      <th>0</th>\n",
              "      <td>1369</td>\n",
              "      <td>GOLD</td>\n",
              "    </tr>\n",
              "    <tr>\n",
              "      <th>1</th>\n",
              "      <td>1035</td>\n",
              "      <td>GOOD</td>\n",
              "    </tr>\n",
              "    <tr>\n",
              "      <th>2</th>\n",
              "      <td>1425</td>\n",
              "      <td>GREEN</td>\n",
              "    </tr>\n",
              "    <tr>\n",
              "      <th>4</th>\n",
              "      <td>1481</td>\n",
              "      <td>HAMMER</td>\n",
              "    </tr>\n",
              "    <tr>\n",
              "      <th>5</th>\n",
              "      <td>1277</td>\n",
              "      <td>HAND</td>\n",
              "    </tr>\n",
              "    <tr>\n",
              "      <th>6</th>\n",
              "      <td>1256</td>\n",
              "      <td>HEAD</td>\n",
              "    </tr>\n",
              "    <tr>\n",
              "      <th>7</th>\n",
              "      <td>1223</td>\n",
              "      <td>HEART</td>\n",
              "    </tr>\n",
              "    <tr>\n",
              "      <th>8</th>\n",
              "      <td>1210</td>\n",
              "      <td>HEAVY</td>\n",
              "    </tr>\n",
              "    <tr>\n",
              "      <th>10</th>\n",
              "      <td>1741</td>\n",
              "      <td>ABOVE</td>\n",
              "    </tr>\n",
              "    <tr>\n",
              "      <th>11</th>\n",
              "      <td>1286</td>\n",
              "      <td>HOT</td>\n",
              "    </tr>\n",
              "  </tbody>\n",
              "</table>\n",
              "</div>"
            ],
            "text/plain": [
              "    Concepticon_ID Concepticon_Gloss\n",
              "0             1369              GOLD\n",
              "1             1035              GOOD\n",
              "2             1425             GREEN\n",
              "4             1481            HAMMER\n",
              "5             1277              HAND\n",
              "6             1256              HEAD\n",
              "7             1223             HEART\n",
              "8             1210             HEAVY\n",
              "10            1741             ABOVE\n",
              "11            1286               HOT"
            ]
          },
          "metadata": {
            "tags": []
          },
          "execution_count": 29
        }
      ]
    },
    {
      "cell_type": "markdown",
      "metadata": {
        "id": "UKfCKEseLxE9"
      },
      "source": [
        "### Create df with combinations\n",
        "\n",
        "NB: permutation when the order of selection is a factor, combination when order is not a factor\n",
        "\n",
        "For example, if the original data frame has the following gloss/ID rows:\n",
        "  * dog, 5\n",
        "  * cat, 7\n",
        "  * chair, 23\n",
        "  \n",
        "  The new one would have the following gloss_x / ID_x / gloss_y / ID_y rows:\n",
        "  * dog, 5, cat, 7\n",
        "  * dog, 5, chair, 23\n",
        "  * cat, 7, chair 23"
      ]
    },
    {
      "cell_type": "code",
      "metadata": {
        "id": "nPho38AlLL92"
      },
      "source": [
        "import itertools\n",
        "# create list of combinations\n",
        "comb=list(itertools.combinations(df_concept_small['Concepticon_Gloss'], 2))"
      ],
      "execution_count": 30,
      "outputs": []
    },
    {
      "cell_type": "code",
      "metadata": {
        "id": "crW-3P_DeG0O",
        "outputId": "1212fce8-af4c-4f1c-fdee-5b805ad0f48b",
        "colab": {
          "base_uri": "https://localhost:8080/"
        }
      },
      "source": [
        "print(comb)\n",
        "print(len(comb))"
      ],
      "execution_count": 31,
      "outputs": [
        {
          "output_type": "stream",
          "text": [
            "[('GOLD', 'GOOD'), ('GOLD', 'GREEN'), ('GOLD', 'HAMMER'), ('GOLD', 'HAND'), ('GOLD', 'HEAD'), ('GOLD', 'HEART'), ('GOLD', 'HEAVY'), ('GOLD', 'ABOVE'), ('GOLD', 'HOT'), ('GOOD', 'GREEN'), ('GOOD', 'HAMMER'), ('GOOD', 'HAND'), ('GOOD', 'HEAD'), ('GOOD', 'HEART'), ('GOOD', 'HEAVY'), ('GOOD', 'ABOVE'), ('GOOD', 'HOT'), ('GREEN', 'HAMMER'), ('GREEN', 'HAND'), ('GREEN', 'HEAD'), ('GREEN', 'HEART'), ('GREEN', 'HEAVY'), ('GREEN', 'ABOVE'), ('GREEN', 'HOT'), ('HAMMER', 'HAND'), ('HAMMER', 'HEAD'), ('HAMMER', 'HEART'), ('HAMMER', 'HEAVY'), ('HAMMER', 'ABOVE'), ('HAMMER', 'HOT'), ('HAND', 'HEAD'), ('HAND', 'HEART'), ('HAND', 'HEAVY'), ('HAND', 'ABOVE'), ('HAND', 'HOT'), ('HEAD', 'HEART'), ('HEAD', 'HEAVY'), ('HEAD', 'ABOVE'), ('HEAD', 'HOT'), ('HEART', 'HEAVY'), ('HEART', 'ABOVE'), ('HEART', 'HOT'), ('HEAVY', 'ABOVE'), ('HEAVY', 'HOT'), ('ABOVE', 'HOT')]\n",
            "45\n"
          ],
          "name": "stdout"
        }
      ]
    },
    {
      "cell_type": "code",
      "metadata": {
        "id": "pPTt_2kDeZwh",
        "outputId": "72c76858-7aec-460c-92a4-15687d9cfcfc",
        "colab": {
          "base_uri": "https://localhost:8080/"
        }
      },
      "source": [
        "# check if total number is correct\n",
        "# n! / (r! (n -- r)!)\n",
        "import math\n",
        "n = len(df_concept_small['Concepticon_Gloss'])\n",
        "r = 2\n",
        "tot = math.factorial(n)/(math.factorial(r) * math.factorial(n -r))\n",
        "print(tot)"
      ],
      "execution_count": 32,
      "outputs": [
        {
          "output_type": "stream",
          "text": [
            "45.0\n"
          ],
          "name": "stdout"
        }
      ]
    },
    {
      "cell_type": "code",
      "metadata": {
        "id": "0ISCriMI3EqP"
      },
      "source": [
        "# create df with combinations\n",
        "df_comb=pd.DataFrame()\n",
        "df_comb[['Concepticon_Gloss_1', 'Concepticon_Gloss_2']]= pd.DataFrame(comb)"
      ],
      "execution_count": 33,
      "outputs": []
    },
    {
      "cell_type": "code",
      "metadata": {
        "id": "urpUFNmEWGDd"
      },
      "source": [
        "# add ID 1 column\n",
        "df_comb=df_comb.join ( df_concept_small.set_index( [ 'Concepticon_Gloss' ], verify_integrity=True ),\n",
        "               on=[ 'Concepticon_Gloss_1' ], how='left' )\n",
        "# rename ID 1 column\n",
        "df_comb.rename(columns={'Concepticon_ID':'Concepticon_ID_1'}, inplace=True)\n",
        "\n",
        "# add ID 2 column\n",
        "df_comb=df_comb.join ( df_concept_small.set_index( [ 'Concepticon_Gloss' ], verify_integrity=True ),\n",
        "               on=[ 'Concepticon_Gloss_2' ], how='left' )\n",
        "# rename ID 2 column\n",
        "df_comb.rename(columns={'Concepticon_ID':'Concepticon_ID_2'}, inplace=True)"
      ],
      "execution_count": 34,
      "outputs": []
    },
    {
      "cell_type": "code",
      "metadata": {
        "id": "7V9cBtYRUOex",
        "outputId": "ef113aba-be7c-4afe-8d4d-0db7bdcbe7d8",
        "colab": {
          "base_uri": "https://localhost:8080/",
          "height": 204
        }
      },
      "source": [
        "df_comb.head()"
      ],
      "execution_count": 35,
      "outputs": [
        {
          "output_type": "execute_result",
          "data": {
            "text/html": [
              "<div>\n",
              "<style scoped>\n",
              "    .dataframe tbody tr th:only-of-type {\n",
              "        vertical-align: middle;\n",
              "    }\n",
              "\n",
              "    .dataframe tbody tr th {\n",
              "        vertical-align: top;\n",
              "    }\n",
              "\n",
              "    .dataframe thead th {\n",
              "        text-align: right;\n",
              "    }\n",
              "</style>\n",
              "<table border=\"1\" class=\"dataframe\">\n",
              "  <thead>\n",
              "    <tr style=\"text-align: right;\">\n",
              "      <th></th>\n",
              "      <th>Concepticon_Gloss_1</th>\n",
              "      <th>Concepticon_Gloss_2</th>\n",
              "      <th>Concepticon_ID_1</th>\n",
              "      <th>Concepticon_ID_2</th>\n",
              "    </tr>\n",
              "  </thead>\n",
              "  <tbody>\n",
              "    <tr>\n",
              "      <th>0</th>\n",
              "      <td>GOLD</td>\n",
              "      <td>GOOD</td>\n",
              "      <td>1369</td>\n",
              "      <td>1035</td>\n",
              "    </tr>\n",
              "    <tr>\n",
              "      <th>1</th>\n",
              "      <td>GOLD</td>\n",
              "      <td>GREEN</td>\n",
              "      <td>1369</td>\n",
              "      <td>1425</td>\n",
              "    </tr>\n",
              "    <tr>\n",
              "      <th>2</th>\n",
              "      <td>GOLD</td>\n",
              "      <td>HAMMER</td>\n",
              "      <td>1369</td>\n",
              "      <td>1481</td>\n",
              "    </tr>\n",
              "    <tr>\n",
              "      <th>3</th>\n",
              "      <td>GOLD</td>\n",
              "      <td>HAND</td>\n",
              "      <td>1369</td>\n",
              "      <td>1277</td>\n",
              "    </tr>\n",
              "    <tr>\n",
              "      <th>4</th>\n",
              "      <td>GOLD</td>\n",
              "      <td>HEAD</td>\n",
              "      <td>1369</td>\n",
              "      <td>1256</td>\n",
              "    </tr>\n",
              "  </tbody>\n",
              "</table>\n",
              "</div>"
            ],
            "text/plain": [
              "  Concepticon_Gloss_1 Concepticon_Gloss_2  Concepticon_ID_1  Concepticon_ID_2\n",
              "0                GOLD                GOOD              1369              1035\n",
              "1                GOLD               GREEN              1369              1425\n",
              "2                GOLD              HAMMER              1369              1481\n",
              "3                GOLD                HAND              1369              1277\n",
              "4                GOLD                HEAD              1369              1256"
            ]
          },
          "metadata": {
            "tags": []
          },
          "execution_count": 35
        }
      ]
    }
  ]
}