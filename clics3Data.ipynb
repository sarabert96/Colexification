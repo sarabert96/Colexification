{
  "nbformat": 4,
  "nbformat_minor": 0,
  "metadata": {
    "colab": {
      "name": "clics3Data.ipynb",
      "provenance": [],
      "toc_visible": true,
      "authorship_tag": "ABX9TyM5ELncA8oDeEULppQDissa",
      "include_colab_link": true
    },
    "kernelspec": {
      "name": "python3",
      "display_name": "Python 3"
    }
  },
  "cells": [
    {
      "cell_type": "markdown",
      "metadata": {
        "id": "view-in-github",
        "colab_type": "text"
      },
      "source": [
        "<a href=\"https://colab.research.google.com/github/sarabert96/Colexification/blob/main/clics3Data.ipynb\" target=\"_parent\"><img src=\"https://colab.research.google.com/assets/colab-badge.svg\" alt=\"Open In Colab\"/></a>"
      ]
    },
    {
      "cell_type": "code",
      "metadata": {
        "id": "1bCmA2t_DkRM"
      },
      "source": [
        "import numpy as np\n",
        "import pandas as pd"
      ],
      "execution_count": 1,
      "outputs": []
    },
    {
      "cell_type": "markdown",
      "metadata": {
        "id": "YMTnQxoMqXdx"
      },
      "source": [
        "Get csv from Drive folder"
      ]
    },
    {
      "cell_type": "code",
      "metadata": {
        "colab": {
          "base_uri": "https://localhost:8080/"
        },
        "id": "4aM1FbsDqc5n",
        "outputId": "f2de5a4c-22e1-48c0-9093-8568fbaec68a"
      },
      "source": [
        "!gdown --id 1Ik2Efop-bYXNwVtRw7zBoDqG4_77SBUI"
      ],
      "execution_count": 2,
      "outputs": [
        {
          "output_type": "stream",
          "text": [
            "Downloading...\n",
            "From: https://drive.google.com/uc?id=1Ik2Efop-bYXNwVtRw7zBoDqG4_77SBUI\n",
            "To: /content/df_all_raw.csv\n",
            "244MB [00:01, 200MB/s]\n"
          ],
          "name": "stdout"
        }
      ]
    },
    {
      "cell_type": "markdown",
      "metadata": {
        "id": "hrchs348Lgva"
      },
      "source": [
        "Create the dataframe from csv file"
      ]
    },
    {
      "cell_type": "code",
      "metadata": {
        "id": "wM4cPVE_Io62",
        "colab": {
          "base_uri": "https://localhost:8080/"
        },
        "outputId": "a419033a-eefa-4a9e-c8d5-0b6c0fda6aa8"
      },
      "source": [
        "df = pd.read_csv('df_all_raw.csv')"
      ],
      "execution_count": 3,
      "outputs": [
        {
          "output_type": "stream",
          "text": [
            "/usr/local/lib/python3.6/dist-packages/IPython/core/interactiveshell.py:2718: DtypeWarning: Columns (4) have mixed types.Specify dtype option on import or set low_memory=False.\n",
            "  interactivity=interactivity, compiler=compiler, result=result)\n"
          ],
          "name": "stderr"
        }
      ]
    },
    {
      "cell_type": "code",
      "metadata": {
        "id": "fCkhwxDSJe81",
        "colab": {
          "base_uri": "https://localhost:8080/",
          "height": 309
        },
        "outputId": "3e906719-7f5f-42f4-db2e-1dcb0c5bc9ea"
      },
      "source": [
        "df.head()"
      ],
      "execution_count": 4,
      "outputs": [
        {
          "output_type": "execute_result",
          "data": {
            "text/html": [
              "<div>\n",
              "<style scoped>\n",
              "    .dataframe tbody tr th:only-of-type {\n",
              "        vertical-align: middle;\n",
              "    }\n",
              "\n",
              "    .dataframe tbody tr th {\n",
              "        vertical-align: top;\n",
              "    }\n",
              "\n",
              "    .dataframe thead th {\n",
              "        text-align: right;\n",
              "    }\n",
              "</style>\n",
              "<table border=\"1\" class=\"dataframe\">\n",
              "  <thead>\n",
              "    <tr style=\"text-align: right;\">\n",
              "      <th></th>\n",
              "      <th>dataset_ID</th>\n",
              "      <th>Form_ID</th>\n",
              "      <th>Form</th>\n",
              "      <th>clics_form</th>\n",
              "      <th>gloss_in_source</th>\n",
              "      <th>Concepticon_ID</th>\n",
              "      <th>Concepticon_Gloss</th>\n",
              "      <th>Ontological_Category</th>\n",
              "      <th>Semantic_Field</th>\n",
              "      <th>variety</th>\n",
              "      <th>Glottocode</th>\n",
              "      <th>ISO639P3code</th>\n",
              "      <th>Macroarea</th>\n",
              "      <th>Family</th>\n",
              "      <th>Latitude</th>\n",
              "      <th>Longitude</th>\n",
              "      <th>MRC_WORD</th>\n",
              "      <th>AGE_OF_ACQUISITION</th>\n",
              "      <th>CONCRETENESS</th>\n",
              "      <th>FAMILIARITY</th>\n",
              "      <th>IMAGABILITY</th>\n",
              "      <th>KUCERA_FRANCIS_FREQUENCY</th>\n",
              "    </tr>\n",
              "  </thead>\n",
              "  <tbody>\n",
              "    <tr>\n",
              "      <th>0</th>\n",
              "      <td>abrahammonpa</td>\n",
              "      <td>BugunBichom-100_gold-1</td>\n",
              "      <td>san</td>\n",
              "      <td>san</td>\n",
              "      <td>gold</td>\n",
              "      <td>1369</td>\n",
              "      <td>GOLD</td>\n",
              "      <td>Person/Thing</td>\n",
              "      <td>Basic actions and technology</td>\n",
              "      <td>Bugun Bichom</td>\n",
              "      <td>bich1234</td>\n",
              "      <td>NaN</td>\n",
              "      <td>NaN</td>\n",
              "      <td>Sino-Tibetan</td>\n",
              "      <td>NaN</td>\n",
              "      <td>NaN</td>\n",
              "      <td>GOLD</td>\n",
              "      <td>NaN</td>\n",
              "      <td>576.0</td>\n",
              "      <td>550.0</td>\n",
              "      <td>594.0</td>\n",
              "      <td>52.0</td>\n",
              "    </tr>\n",
              "    <tr>\n",
              "      <th>1</th>\n",
              "      <td>abrahammonpa</td>\n",
              "      <td>BugunKaspi-100_gold-1</td>\n",
              "      <td>san</td>\n",
              "      <td>san</td>\n",
              "      <td>gold</td>\n",
              "      <td>1369</td>\n",
              "      <td>GOLD</td>\n",
              "      <td>Person/Thing</td>\n",
              "      <td>Basic actions and technology</td>\n",
              "      <td>Bugun Kaspi</td>\n",
              "      <td>kasp1234</td>\n",
              "      <td>NaN</td>\n",
              "      <td>NaN</td>\n",
              "      <td>Sino-Tibetan</td>\n",
              "      <td>NaN</td>\n",
              "      <td>NaN</td>\n",
              "      <td>GOLD</td>\n",
              "      <td>NaN</td>\n",
              "      <td>576.0</td>\n",
              "      <td>550.0</td>\n",
              "      <td>594.0</td>\n",
              "      <td>52.0</td>\n",
              "    </tr>\n",
              "    <tr>\n",
              "      <th>2</th>\n",
              "      <td>abrahammonpa</td>\n",
              "      <td>BugunNamphri-100_gold-1</td>\n",
              "      <td>san</td>\n",
              "      <td>san</td>\n",
              "      <td>gold</td>\n",
              "      <td>1369</td>\n",
              "      <td>GOLD</td>\n",
              "      <td>Person/Thing</td>\n",
              "      <td>Basic actions and technology</td>\n",
              "      <td>Bugun Namphri</td>\n",
              "      <td>namp1239</td>\n",
              "      <td>NaN</td>\n",
              "      <td>NaN</td>\n",
              "      <td>Sino-Tibetan</td>\n",
              "      <td>NaN</td>\n",
              "      <td>NaN</td>\n",
              "      <td>GOLD</td>\n",
              "      <td>NaN</td>\n",
              "      <td>576.0</td>\n",
              "      <td>550.0</td>\n",
              "      <td>594.0</td>\n",
              "      <td>52.0</td>\n",
              "    </tr>\n",
              "    <tr>\n",
              "      <th>3</th>\n",
              "      <td>abrahammonpa</td>\n",
              "      <td>BugunSingchung-100_gold-1</td>\n",
              "      <td>san</td>\n",
              "      <td>san</td>\n",
              "      <td>gold</td>\n",
              "      <td>1369</td>\n",
              "      <td>GOLD</td>\n",
              "      <td>Person/Thing</td>\n",
              "      <td>Basic actions and technology</td>\n",
              "      <td>Bugun Singchung</td>\n",
              "      <td>sing1271</td>\n",
              "      <td>NaN</td>\n",
              "      <td>NaN</td>\n",
              "      <td>Sino-Tibetan</td>\n",
              "      <td>NaN</td>\n",
              "      <td>NaN</td>\n",
              "      <td>GOLD</td>\n",
              "      <td>NaN</td>\n",
              "      <td>576.0</td>\n",
              "      <td>550.0</td>\n",
              "      <td>594.0</td>\n",
              "      <td>52.0</td>\n",
              "    </tr>\n",
              "    <tr>\n",
              "      <th>4</th>\n",
              "      <td>abrahammonpa</td>\n",
              "      <td>BugunWangho-100_gold-1</td>\n",
              "      <td>san</td>\n",
              "      <td>san</td>\n",
              "      <td>gold</td>\n",
              "      <td>1369</td>\n",
              "      <td>GOLD</td>\n",
              "      <td>Person/Thing</td>\n",
              "      <td>Basic actions and technology</td>\n",
              "      <td>Bugun Wangho</td>\n",
              "      <td>wang1301</td>\n",
              "      <td>NaN</td>\n",
              "      <td>NaN</td>\n",
              "      <td>Sino-Tibetan</td>\n",
              "      <td>NaN</td>\n",
              "      <td>NaN</td>\n",
              "      <td>GOLD</td>\n",
              "      <td>NaN</td>\n",
              "      <td>576.0</td>\n",
              "      <td>550.0</td>\n",
              "      <td>594.0</td>\n",
              "      <td>52.0</td>\n",
              "    </tr>\n",
              "  </tbody>\n",
              "</table>\n",
              "</div>"
            ],
            "text/plain": [
              "     dataset_ID  ... KUCERA_FRANCIS_FREQUENCY\n",
              "0  abrahammonpa  ...                     52.0\n",
              "1  abrahammonpa  ...                     52.0\n",
              "2  abrahammonpa  ...                     52.0\n",
              "3  abrahammonpa  ...                     52.0\n",
              "4  abrahammonpa  ...                     52.0\n",
              "\n",
              "[5 rows x 22 columns]"
            ]
          },
          "metadata": {
            "tags": []
          },
          "execution_count": 4
        }
      ]
    },
    {
      "cell_type": "markdown",
      "metadata": {
        "id": "zH-l5IskYOyt"
      },
      "source": [
        "Let's create a new dataframe with only relevant columns"
      ]
    },
    {
      "cell_type": "code",
      "metadata": {
        "id": "XYri3TYnJ-Hz"
      },
      "source": [
        "# keep only relevant columns --> new df\n",
        "df_concept = df[['Concepticon_ID','Concepticon_Gloss']].copy()"
      ],
      "execution_count": 5,
      "outputs": []
    },
    {
      "cell_type": "code",
      "metadata": {
        "id": "DRb0S0tEO_B3",
        "colab": {
          "base_uri": "https://localhost:8080/"
        },
        "outputId": "4b600804-7912-4076-f8f5-16a328372ade"
      },
      "source": [
        "df_concept['Concepticon_ID'].isnull().values.any()"
      ],
      "execution_count": 6,
      "outputs": [
        {
          "output_type": "execute_result",
          "data": {
            "text/plain": [
              "False"
            ]
          },
          "metadata": {
            "tags": []
          },
          "execution_count": 6
        }
      ]
    },
    {
      "cell_type": "code",
      "metadata": {
        "id": "lhpZZeYxW2nR",
        "colab": {
          "base_uri": "https://localhost:8080/"
        },
        "outputId": "e3de7826-0daf-40fa-d1f8-e18fb61846d5"
      },
      "source": [
        "df_concept['Concepticon_Gloss'].isnull().values.any()"
      ],
      "execution_count": 7,
      "outputs": [
        {
          "output_type": "execute_result",
          "data": {
            "text/plain": [
              "False"
            ]
          },
          "metadata": {
            "tags": []
          },
          "execution_count": 7
        }
      ]
    },
    {
      "cell_type": "markdown",
      "metadata": {
        "id": "hjQYP_cmRhdJ"
      },
      "source": [
        "The dataframe doesn't contains null values"
      ]
    },
    {
      "cell_type": "code",
      "metadata": {
        "id": "wBxv92bvYZ4O",
        "colab": {
          "base_uri": "https://localhost:8080/"
        },
        "outputId": "fe115871-9502-4587-e915-14f4e9bd0fcd"
      },
      "source": [
        "df_concept.info"
      ],
      "execution_count": 8,
      "outputs": [
        {
          "output_type": "execute_result",
          "data": {
            "text/plain": [
              "<bound method DataFrame.info of          Concepticon_ID Concepticon_Gloss\n",
              "0                  1369              GOLD\n",
              "1                  1369              GOLD\n",
              "2                  1369              GOLD\n",
              "3                  1369              GOLD\n",
              "4                  1369              GOLD\n",
              "...                 ...               ...\n",
              "1390589            1366               BOY\n",
              "1390590            1366               BOY\n",
              "1390591            1366               BOY\n",
              "1390592            1366               BOY\n",
              "1390593            1366               BOY\n",
              "\n",
              "[1390594 rows x 2 columns]>"
            ]
          },
          "metadata": {
            "tags": []
          },
          "execution_count": 8
        }
      ]
    },
    {
      "cell_type": "markdown",
      "metadata": {
        "id": "1im09ySNHhp4"
      },
      "source": [
        "We can see that there are many duplicates. We want to remove them:"
      ]
    },
    {
      "cell_type": "code",
      "metadata": {
        "id": "8GhBThEKakY_"
      },
      "source": [
        "# remove duplicates\n",
        "df_concept=df_concept.drop_duplicates()\n",
        "# reset index\n",
        "df_concept = df_concept.reset_index(drop=True)"
      ],
      "execution_count": 9,
      "outputs": []
    },
    {
      "cell_type": "code",
      "metadata": {
        "id": "7lgCWbkEa7CP",
        "colab": {
          "base_uri": "https://localhost:8080/"
        },
        "outputId": "babea852-b853-4e5d-a714-f835579d4853"
      },
      "source": [
        "df_concept.info"
      ],
      "execution_count": 10,
      "outputs": [
        {
          "output_type": "execute_result",
          "data": {
            "text/plain": [
              "<bound method DataFrame.info of       Concepticon_ID     Concepticon_Gloss\n",
              "0               1369                  GOLD\n",
              "1               1035                  GOOD\n",
              "2               1425                 GREEN\n",
              "3               2648           HAIR (HEAD)\n",
              "4               1481                HAMMER\n",
              "...              ...                   ...\n",
              "2914            2033               DELIVER\n",
              "2915            3288                  WEED\n",
              "2916            2529               BLESSED\n",
              "2917            3305        INSIDE A HOUSE\n",
              "2918            2473  HIS (GENITIVE OF HE)\n",
              "\n",
              "[2919 rows x 2 columns]>"
            ]
          },
          "metadata": {
            "tags": []
          },
          "execution_count": 10
        }
      ]
    },
    {
      "cell_type": "markdown",
      "metadata": {
        "id": "TQviHZO5Yash"
      },
      "source": [
        "Let's remove multiword Concepticon rows"
      ]
    },
    {
      "cell_type": "code",
      "metadata": {
        "id": "mFL43dNKcOYX"
      },
      "source": [
        "# create column with word count\n",
        "df_concept['totalwords'] = df_concept['Concepticon_Gloss'].str.count(' ') + 1\n",
        "# delete columns with more than one word\n",
        "df_concept = df_concept.drop(df_concept[df_concept.totalwords > 1].index)\n",
        "# delete column with word count\n",
        "del df_concept['totalwords']"
      ],
      "execution_count": 11,
      "outputs": []
    },
    {
      "cell_type": "code",
      "metadata": {
        "id": "_ITeDU3xZfV3",
        "colab": {
          "base_uri": "https://localhost:8080/",
          "height": 204
        },
        "outputId": "a9c341fc-6645-466f-c794-8e210f6533d4"
      },
      "source": [
        "df_concept.head()"
      ],
      "execution_count": 12,
      "outputs": [
        {
          "output_type": "execute_result",
          "data": {
            "text/html": [
              "<div>\n",
              "<style scoped>\n",
              "    .dataframe tbody tr th:only-of-type {\n",
              "        vertical-align: middle;\n",
              "    }\n",
              "\n",
              "    .dataframe tbody tr th {\n",
              "        vertical-align: top;\n",
              "    }\n",
              "\n",
              "    .dataframe thead th {\n",
              "        text-align: right;\n",
              "    }\n",
              "</style>\n",
              "<table border=\"1\" class=\"dataframe\">\n",
              "  <thead>\n",
              "    <tr style=\"text-align: right;\">\n",
              "      <th></th>\n",
              "      <th>Concepticon_ID</th>\n",
              "      <th>Concepticon_Gloss</th>\n",
              "    </tr>\n",
              "  </thead>\n",
              "  <tbody>\n",
              "    <tr>\n",
              "      <th>0</th>\n",
              "      <td>1369</td>\n",
              "      <td>GOLD</td>\n",
              "    </tr>\n",
              "    <tr>\n",
              "      <th>1</th>\n",
              "      <td>1035</td>\n",
              "      <td>GOOD</td>\n",
              "    </tr>\n",
              "    <tr>\n",
              "      <th>2</th>\n",
              "      <td>1425</td>\n",
              "      <td>GREEN</td>\n",
              "    </tr>\n",
              "    <tr>\n",
              "      <th>4</th>\n",
              "      <td>1481</td>\n",
              "      <td>HAMMER</td>\n",
              "    </tr>\n",
              "    <tr>\n",
              "      <th>5</th>\n",
              "      <td>1277</td>\n",
              "      <td>HAND</td>\n",
              "    </tr>\n",
              "  </tbody>\n",
              "</table>\n",
              "</div>"
            ],
            "text/plain": [
              "   Concepticon_ID Concepticon_Gloss\n",
              "0            1369              GOLD\n",
              "1            1035              GOOD\n",
              "2            1425             GREEN\n",
              "4            1481            HAMMER\n",
              "5            1277              HAND"
            ]
          },
          "metadata": {
            "tags": []
          },
          "execution_count": 12
        }
      ]
    },
    {
      "cell_type": "markdown",
      "metadata": {
        "id": "-nbk0t1ZrPhW"
      },
      "source": [
        "Let's make everything lowercase"
      ]
    },
    {
      "cell_type": "code",
      "metadata": {
        "id": "mORLUWTwrR6X"
      },
      "source": [
        "df_concept['Concepticon_Gloss'] = df_concept['Concepticon_Gloss'].str.lower()"
      ],
      "execution_count": 31,
      "outputs": []
    },
    {
      "cell_type": "markdown",
      "metadata": {
        "id": "I7N3gxN2HvTW"
      },
      "source": [
        "For testing, we take only 10 rows"
      ]
    },
    {
      "cell_type": "code",
      "metadata": {
        "id": "BIp3XAENXQDq"
      },
      "source": [
        "df_concept_small=df_concept[:10]"
      ],
      "execution_count": 32,
      "outputs": []
    },
    {
      "cell_type": "code",
      "metadata": {
        "id": "s8physSlazvQ",
        "colab": {
          "base_uri": "https://localhost:8080/",
          "height": 359
        },
        "outputId": "1e0c19ab-0a08-41a8-9f66-8c65918b6ffd"
      },
      "source": [
        "df_concept_small"
      ],
      "execution_count": 33,
      "outputs": [
        {
          "output_type": "execute_result",
          "data": {
            "text/html": [
              "<div>\n",
              "<style scoped>\n",
              "    .dataframe tbody tr th:only-of-type {\n",
              "        vertical-align: middle;\n",
              "    }\n",
              "\n",
              "    .dataframe tbody tr th {\n",
              "        vertical-align: top;\n",
              "    }\n",
              "\n",
              "    .dataframe thead th {\n",
              "        text-align: right;\n",
              "    }\n",
              "</style>\n",
              "<table border=\"1\" class=\"dataframe\">\n",
              "  <thead>\n",
              "    <tr style=\"text-align: right;\">\n",
              "      <th></th>\n",
              "      <th>Concepticon_ID</th>\n",
              "      <th>Concepticon_Gloss</th>\n",
              "    </tr>\n",
              "  </thead>\n",
              "  <tbody>\n",
              "    <tr>\n",
              "      <th>0</th>\n",
              "      <td>1369</td>\n",
              "      <td>gold</td>\n",
              "    </tr>\n",
              "    <tr>\n",
              "      <th>1</th>\n",
              "      <td>1035</td>\n",
              "      <td>good</td>\n",
              "    </tr>\n",
              "    <tr>\n",
              "      <th>2</th>\n",
              "      <td>1425</td>\n",
              "      <td>green</td>\n",
              "    </tr>\n",
              "    <tr>\n",
              "      <th>4</th>\n",
              "      <td>1481</td>\n",
              "      <td>hammer</td>\n",
              "    </tr>\n",
              "    <tr>\n",
              "      <th>5</th>\n",
              "      <td>1277</td>\n",
              "      <td>hand</td>\n",
              "    </tr>\n",
              "    <tr>\n",
              "      <th>6</th>\n",
              "      <td>1256</td>\n",
              "      <td>head</td>\n",
              "    </tr>\n",
              "    <tr>\n",
              "      <th>7</th>\n",
              "      <td>1223</td>\n",
              "      <td>heart</td>\n",
              "    </tr>\n",
              "    <tr>\n",
              "      <th>8</th>\n",
              "      <td>1210</td>\n",
              "      <td>heavy</td>\n",
              "    </tr>\n",
              "    <tr>\n",
              "      <th>10</th>\n",
              "      <td>1741</td>\n",
              "      <td>above</td>\n",
              "    </tr>\n",
              "    <tr>\n",
              "      <th>11</th>\n",
              "      <td>1286</td>\n",
              "      <td>hot</td>\n",
              "    </tr>\n",
              "  </tbody>\n",
              "</table>\n",
              "</div>"
            ],
            "text/plain": [
              "    Concepticon_ID Concepticon_Gloss\n",
              "0             1369              gold\n",
              "1             1035              good\n",
              "2             1425             green\n",
              "4             1481            hammer\n",
              "5             1277              hand\n",
              "6             1256              head\n",
              "7             1223             heart\n",
              "8             1210             heavy\n",
              "10            1741             above\n",
              "11            1286               hot"
            ]
          },
          "metadata": {
            "tags": []
          },
          "execution_count": 33
        }
      ]
    },
    {
      "cell_type": "markdown",
      "metadata": {
        "id": "UKfCKEseLxE9"
      },
      "source": [
        "### Create df with combinations\n",
        "\n",
        "NB: permutation when the order of selection is a factor, combination when order is not a factor\n",
        "\n",
        "For example, if the original data frame has the following gloss/ID rows:\n",
        "  * dog, 5\n",
        "  * cat, 7\n",
        "  * chair, 23\n",
        "  \n",
        "  The new one would have the following gloss_x / ID_x / gloss_y / ID_y rows:\n",
        "  * dog, 5, cat, 7\n",
        "  * dog, 5, chair, 23\n",
        "  * cat, 7, chair 23"
      ]
    },
    {
      "cell_type": "code",
      "metadata": {
        "id": "nPho38AlLL92"
      },
      "source": [
        "import itertools\n",
        "# create list of combinations\n",
        "comb=list(itertools.combinations(df_concept_small['Concepticon_Gloss'], 2))"
      ],
      "execution_count": 34,
      "outputs": []
    },
    {
      "cell_type": "code",
      "metadata": {
        "id": "crW-3P_DeG0O",
        "colab": {
          "base_uri": "https://localhost:8080/"
        },
        "outputId": "b34a415c-860f-4882-cb55-a845f29bfc92"
      },
      "source": [
        "print(comb)\n",
        "print(len(comb))"
      ],
      "execution_count": 35,
      "outputs": [
        {
          "output_type": "stream",
          "text": [
            "[('gold', 'good'), ('gold', 'green'), ('gold', 'hammer'), ('gold', 'hand'), ('gold', 'head'), ('gold', 'heart'), ('gold', 'heavy'), ('gold', 'above'), ('gold', 'hot'), ('good', 'green'), ('good', 'hammer'), ('good', 'hand'), ('good', 'head'), ('good', 'heart'), ('good', 'heavy'), ('good', 'above'), ('good', 'hot'), ('green', 'hammer'), ('green', 'hand'), ('green', 'head'), ('green', 'heart'), ('green', 'heavy'), ('green', 'above'), ('green', 'hot'), ('hammer', 'hand'), ('hammer', 'head'), ('hammer', 'heart'), ('hammer', 'heavy'), ('hammer', 'above'), ('hammer', 'hot'), ('hand', 'head'), ('hand', 'heart'), ('hand', 'heavy'), ('hand', 'above'), ('hand', 'hot'), ('head', 'heart'), ('head', 'heavy'), ('head', 'above'), ('head', 'hot'), ('heart', 'heavy'), ('heart', 'above'), ('heart', 'hot'), ('heavy', 'above'), ('heavy', 'hot'), ('above', 'hot')]\n",
            "45\n"
          ],
          "name": "stdout"
        }
      ]
    },
    {
      "cell_type": "code",
      "metadata": {
        "id": "pPTt_2kDeZwh",
        "colab": {
          "base_uri": "https://localhost:8080/"
        },
        "outputId": "a4ff55ea-54df-4a1f-ae1f-080e50ed196c"
      },
      "source": [
        "# check if total number is correct\n",
        "# n! / (r! (n -- r)!)\n",
        "import math\n",
        "n = len(df_concept_small['Concepticon_Gloss'])\n",
        "r = 2\n",
        "tot = math.factorial(n)/(math.factorial(r) * math.factorial(n -r))\n",
        "print(tot)"
      ],
      "execution_count": 36,
      "outputs": [
        {
          "output_type": "stream",
          "text": [
            "45.0\n"
          ],
          "name": "stdout"
        }
      ]
    },
    {
      "cell_type": "code",
      "metadata": {
        "id": "0ISCriMI3EqP"
      },
      "source": [
        "# create df with combinations\n",
        "df_comb=pd.DataFrame()\n",
        "df_comb[['Concepticon_Gloss_1', 'Concepticon_Gloss_2']]= pd.DataFrame(comb)"
      ],
      "execution_count": 37,
      "outputs": []
    },
    {
      "cell_type": "code",
      "metadata": {
        "id": "urpUFNmEWGDd"
      },
      "source": [
        "# add ID 1 column\n",
        "df_comb=df_comb.join ( df_concept_small.set_index( [ 'Concepticon_Gloss' ], verify_integrity=True ),\n",
        "               on=[ 'Concepticon_Gloss_1' ], how='left' )\n",
        "# rename ID 1 column\n",
        "df_comb.rename(columns={'Concepticon_ID':'Concepticon_ID_1'}, inplace=True)\n",
        "\n",
        "# add ID 2 column\n",
        "df_comb=df_comb.join ( df_concept_small.set_index( [ 'Concepticon_Gloss' ], verify_integrity=True ),\n",
        "               on=[ 'Concepticon_Gloss_2' ], how='left' )\n",
        "# rename ID 2 column\n",
        "df_comb.rename(columns={'Concepticon_ID':'Concepticon_ID_2'}, inplace=True)"
      ],
      "execution_count": 38,
      "outputs": []
    },
    {
      "cell_type": "code",
      "metadata": {
        "id": "7V9cBtYRUOex",
        "colab": {
          "base_uri": "https://localhost:8080/",
          "height": 204
        },
        "outputId": "5ef713a4-8928-4fd5-e7a4-84932d714c7b"
      },
      "source": [
        "df_comb.head()"
      ],
      "execution_count": 39,
      "outputs": [
        {
          "output_type": "execute_result",
          "data": {
            "text/html": [
              "<div>\n",
              "<style scoped>\n",
              "    .dataframe tbody tr th:only-of-type {\n",
              "        vertical-align: middle;\n",
              "    }\n",
              "\n",
              "    .dataframe tbody tr th {\n",
              "        vertical-align: top;\n",
              "    }\n",
              "\n",
              "    .dataframe thead th {\n",
              "        text-align: right;\n",
              "    }\n",
              "</style>\n",
              "<table border=\"1\" class=\"dataframe\">\n",
              "  <thead>\n",
              "    <tr style=\"text-align: right;\">\n",
              "      <th></th>\n",
              "      <th>Concepticon_Gloss_1</th>\n",
              "      <th>Concepticon_Gloss_2</th>\n",
              "      <th>Concepticon_ID_1</th>\n",
              "      <th>Concepticon_ID_2</th>\n",
              "    </tr>\n",
              "  </thead>\n",
              "  <tbody>\n",
              "    <tr>\n",
              "      <th>0</th>\n",
              "      <td>gold</td>\n",
              "      <td>good</td>\n",
              "      <td>1369</td>\n",
              "      <td>1035</td>\n",
              "    </tr>\n",
              "    <tr>\n",
              "      <th>1</th>\n",
              "      <td>gold</td>\n",
              "      <td>green</td>\n",
              "      <td>1369</td>\n",
              "      <td>1425</td>\n",
              "    </tr>\n",
              "    <tr>\n",
              "      <th>2</th>\n",
              "      <td>gold</td>\n",
              "      <td>hammer</td>\n",
              "      <td>1369</td>\n",
              "      <td>1481</td>\n",
              "    </tr>\n",
              "    <tr>\n",
              "      <th>3</th>\n",
              "      <td>gold</td>\n",
              "      <td>hand</td>\n",
              "      <td>1369</td>\n",
              "      <td>1277</td>\n",
              "    </tr>\n",
              "    <tr>\n",
              "      <th>4</th>\n",
              "      <td>gold</td>\n",
              "      <td>head</td>\n",
              "      <td>1369</td>\n",
              "      <td>1256</td>\n",
              "    </tr>\n",
              "  </tbody>\n",
              "</table>\n",
              "</div>"
            ],
            "text/plain": [
              "  Concepticon_Gloss_1 Concepticon_Gloss_2  Concepticon_ID_1  Concepticon_ID_2\n",
              "0                gold                good              1369              1035\n",
              "1                gold               green              1369              1425\n",
              "2                gold              hammer              1369              1481\n",
              "3                gold                hand              1369              1277\n",
              "4                gold                head              1369              1256"
            ]
          },
          "metadata": {
            "tags": []
          },
          "execution_count": 39
        }
      ]
    },
    {
      "cell_type": "markdown",
      "metadata": {
        "id": "cpxeoyPtxrjH"
      },
      "source": [
        "Let's save the obtained dataframe "
      ]
    },
    {
      "cell_type": "code",
      "metadata": {
        "id": "sUQOkEftwA3X"
      },
      "source": [
        "df_comb.to_csv('df_combinations.csv', index=False)"
      ],
      "execution_count": 42,
      "outputs": []
    },
    {
      "cell_type": "code",
      "metadata": {
        "colab": {
          "base_uri": "https://localhost:8080/",
          "height": 17
        },
        "id": "vIH3ReAJxkkn",
        "outputId": "f09117d0-5345-4664-d4d8-186a90d86236"
      },
      "source": [
        "files.download('df_combinations.csv')"
      ],
      "execution_count": 47,
      "outputs": [
        {
          "output_type": "display_data",
          "data": {
            "application/javascript": [
              "\n",
              "    async function download(id, filename, size) {\n",
              "      if (!google.colab.kernel.accessAllowed) {\n",
              "        return;\n",
              "      }\n",
              "      const div = document.createElement('div');\n",
              "      const label = document.createElement('label');\n",
              "      label.textContent = `Downloading \"${filename}\": `;\n",
              "      div.appendChild(label);\n",
              "      const progress = document.createElement('progress');\n",
              "      progress.max = size;\n",
              "      div.appendChild(progress);\n",
              "      document.body.appendChild(div);\n",
              "\n",
              "      const buffers = [];\n",
              "      let downloaded = 0;\n",
              "\n",
              "      const channel = await google.colab.kernel.comms.open(id);\n",
              "      // Send a message to notify the kernel that we're ready.\n",
              "      channel.send({})\n",
              "\n",
              "      for await (const message of channel.messages) {\n",
              "        // Send a message to notify the kernel that we're ready.\n",
              "        channel.send({})\n",
              "        if (message.buffers) {\n",
              "          for (const buffer of message.buffers) {\n",
              "            buffers.push(buffer);\n",
              "            downloaded += buffer.byteLength;\n",
              "            progress.value = downloaded;\n",
              "          }\n",
              "        }\n",
              "      }\n",
              "      const blob = new Blob(buffers, {type: 'application/binary'});\n",
              "      const a = document.createElement('a');\n",
              "      a.href = window.URL.createObjectURL(blob);\n",
              "      a.download = filename;\n",
              "      div.appendChild(a);\n",
              "      a.click();\n",
              "      div.remove();\n",
              "    }\n",
              "  "
            ],
            "text/plain": [
              "<IPython.core.display.Javascript object>"
            ]
          },
          "metadata": {
            "tags": []
          }
        },
        {
          "output_type": "display_data",
          "data": {
            "application/javascript": [
              "download(\"download_97f15146-066c-48a6-a890-f1787cb6244b\", \"df_combinations.csv\", 1019)"
            ],
            "text/plain": [
              "<IPython.core.display.Javascript object>"
            ]
          },
          "metadata": {
            "tags": []
          }
        }
      ]
    }
  ]
}