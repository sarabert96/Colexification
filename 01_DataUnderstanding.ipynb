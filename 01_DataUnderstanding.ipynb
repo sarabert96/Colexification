{
  "nbformat": 4,
  "nbformat_minor": 0,
  "metadata": {
    "colab": {
      "name": "01_DataUnderstanding.ipynb",
      "provenance": [],
      "toc_visible": true,
      "authorship_tag": "ABX9TyPp1AWqUfLT9pMu3+gKUkxp",
      "include_colab_link": true
    },
    "kernelspec": {
      "name": "python3",
      "display_name": "Python 3"
    }
  },
  "cells": [
    {
      "cell_type": "markdown",
      "metadata": {
        "id": "view-in-github",
        "colab_type": "text"
      },
      "source": [
        "<a href=\"https://colab.research.google.com/github/sarabert96/Colexification/blob/main/01_DataUnderstanding.ipynb\" target=\"_parent\"><img src=\"https://colab.research.google.com/assets/colab-badge.svg\" alt=\"Open In Colab\"/></a>"
      ]
    },
    {
      "cell_type": "markdown",
      "metadata": {
        "id": "lmPG_i4MWh1E"
      },
      "source": [
        "# CLICS 3 Data Understanding"
      ]
    },
    {
      "cell_type": "markdown",
      "metadata": {
        "id": "JF146xPNWtlK"
      },
      "source": [
        "Import libraries"
      ]
    },
    {
      "cell_type": "code",
      "metadata": {
        "colab": {
          "base_uri": "https://localhost:8080/"
        },
        "id": "DGdmsiVjWUF8",
        "outputId": "2a57c59d-b1f1-487d-f7b2-1073483d0116"
      },
      "source": [
        "import pandas as pd\r\n",
        "from google.colab import files\r\n",
        "import nltk\r\n",
        "nltk.download('punkt')"
      ],
      "execution_count": 1,
      "outputs": [
        {
          "output_type": "stream",
          "text": [
            "[nltk_data] Downloading package punkt to /root/nltk_data...\n",
            "[nltk_data]   Unzipping tokenizers/punkt.zip.\n"
          ],
          "name": "stdout"
        },
        {
          "output_type": "execute_result",
          "data": {
            "text/plain": [
              "True"
            ]
          },
          "metadata": {
            "tags": []
          },
          "execution_count": 1
        }
      ]
    },
    {
      "cell_type": "markdown",
      "metadata": {
        "id": "WMmJ84JXZZLU"
      },
      "source": [
        "Obtaining raw dataframe from Google Drive"
      ]
    },
    {
      "cell_type": "code",
      "metadata": {
        "colab": {
          "base_uri": "https://localhost:8080/"
        },
        "id": "EGIUY4dqW09G",
        "outputId": "910d7bec-7fca-4ad8-8e1b-3c3321081f5c"
      },
      "source": [
        "!gdown --id 1EySPG8ZDMfMTvhUQaw8w1k6NgywI4N4S #df_all_raw"
      ],
      "execution_count": 2,
      "outputs": [
        {
          "output_type": "stream",
          "text": [
            "Downloading...\n",
            "From: https://drive.google.com/uc?id=1EySPG8ZDMfMTvhUQaw8w1k6NgywI4N4S\n",
            "To: /content/df_all_raw.csv\n",
            "244MB [00:01, 199MB/s]\n"
          ],
          "name": "stdout"
        }
      ]
    },
    {
      "cell_type": "code",
      "metadata": {
        "colab": {
          "base_uri": "https://localhost:8080/"
        },
        "id": "OkcXX1Wht5Eb",
        "outputId": "f69151a8-31c2-4f78-96e5-3185b249c37a"
      },
      "source": [
        "df = pd.read_csv('df_all_raw.csv')"
      ],
      "execution_count": 3,
      "outputs": [
        {
          "output_type": "stream",
          "text": [
            "/usr/local/lib/python3.6/dist-packages/IPython/core/interactiveshell.py:2718: DtypeWarning: Columns (4) have mixed types.Specify dtype option on import or set low_memory=False.\n",
            "  interactivity=interactivity, compiler=compiler, result=result)\n"
          ],
          "name": "stderr"
        }
      ]
    },
    {
      "cell_type": "code",
      "metadata": {
        "colab": {
          "base_uri": "https://localhost:8080/"
        },
        "id": "QMxErwuatDMe",
        "outputId": "0fd85fb2-45ad-48a1-a9e2-b3d489af4127"
      },
      "source": [
        "df.info"
      ],
      "execution_count": 9,
      "outputs": [
        {
          "output_type": "execute_result",
          "data": {
            "text/plain": [
              "<bound method DataFrame.info of              dataset_ID  ... KUCERA_FRANCIS_FREQUENCY\n",
              "0          abrahammonpa  ...                     52.0\n",
              "1          abrahammonpa  ...                     52.0\n",
              "2          abrahammonpa  ...                     52.0\n",
              "3          abrahammonpa  ...                     52.0\n",
              "4          abrahammonpa  ...                     52.0\n",
              "...                 ...  ...                      ...\n",
              "1390589  zgraggenmadang  ...                    242.0\n",
              "1390590  zgraggenmadang  ...                    242.0\n",
              "1390591  zgraggenmadang  ...                    242.0\n",
              "1390592  zgraggenmadang  ...                    242.0\n",
              "1390593  zgraggenmadang  ...                    242.0\n",
              "\n",
              "[1390594 rows x 22 columns]>"
            ]
          },
          "metadata": {
            "tags": []
          },
          "execution_count": 9
        }
      ]
    },
    {
      "cell_type": "code",
      "metadata": {
        "colab": {
          "base_uri": "https://localhost:8080/",
          "height": 309
        },
        "id": "SrZlw6QPuRXL",
        "outputId": "44aeea96-99c3-4894-efad-4cb422fc6d04"
      },
      "source": [
        "df.head()"
      ],
      "execution_count": 10,
      "outputs": [
        {
          "output_type": "execute_result",
          "data": {
            "text/html": [
              "<div>\n",
              "<style scoped>\n",
              "    .dataframe tbody tr th:only-of-type {\n",
              "        vertical-align: middle;\n",
              "    }\n",
              "\n",
              "    .dataframe tbody tr th {\n",
              "        vertical-align: top;\n",
              "    }\n",
              "\n",
              "    .dataframe thead th {\n",
              "        text-align: right;\n",
              "    }\n",
              "</style>\n",
              "<table border=\"1\" class=\"dataframe\">\n",
              "  <thead>\n",
              "    <tr style=\"text-align: right;\">\n",
              "      <th></th>\n",
              "      <th>dataset_ID</th>\n",
              "      <th>Form_ID</th>\n",
              "      <th>Form</th>\n",
              "      <th>clics_form</th>\n",
              "      <th>gloss_in_source</th>\n",
              "      <th>Concepticon_ID</th>\n",
              "      <th>Concepticon_Gloss</th>\n",
              "      <th>Ontological_Category</th>\n",
              "      <th>Semantic_Field</th>\n",
              "      <th>variety</th>\n",
              "      <th>Glottocode</th>\n",
              "      <th>ISO639P3code</th>\n",
              "      <th>Macroarea</th>\n",
              "      <th>Family</th>\n",
              "      <th>Latitude</th>\n",
              "      <th>Longitude</th>\n",
              "      <th>MRC_WORD</th>\n",
              "      <th>AGE_OF_ACQUISITION</th>\n",
              "      <th>CONCRETENESS</th>\n",
              "      <th>FAMILIARITY</th>\n",
              "      <th>IMAGABILITY</th>\n",
              "      <th>KUCERA_FRANCIS_FREQUENCY</th>\n",
              "    </tr>\n",
              "  </thead>\n",
              "  <tbody>\n",
              "    <tr>\n",
              "      <th>0</th>\n",
              "      <td>abrahammonpa</td>\n",
              "      <td>BugunBichom-100_gold-1</td>\n",
              "      <td>san</td>\n",
              "      <td>san</td>\n",
              "      <td>gold</td>\n",
              "      <td>1369</td>\n",
              "      <td>GOLD</td>\n",
              "      <td>Person/Thing</td>\n",
              "      <td>Basic actions and technology</td>\n",
              "      <td>Bugun Bichom</td>\n",
              "      <td>bich1234</td>\n",
              "      <td>NaN</td>\n",
              "      <td>NaN</td>\n",
              "      <td>Sino-Tibetan</td>\n",
              "      <td>NaN</td>\n",
              "      <td>NaN</td>\n",
              "      <td>GOLD</td>\n",
              "      <td>NaN</td>\n",
              "      <td>576.0</td>\n",
              "      <td>550.0</td>\n",
              "      <td>594.0</td>\n",
              "      <td>52.0</td>\n",
              "    </tr>\n",
              "    <tr>\n",
              "      <th>1</th>\n",
              "      <td>abrahammonpa</td>\n",
              "      <td>BugunKaspi-100_gold-1</td>\n",
              "      <td>san</td>\n",
              "      <td>san</td>\n",
              "      <td>gold</td>\n",
              "      <td>1369</td>\n",
              "      <td>GOLD</td>\n",
              "      <td>Person/Thing</td>\n",
              "      <td>Basic actions and technology</td>\n",
              "      <td>Bugun Kaspi</td>\n",
              "      <td>kasp1234</td>\n",
              "      <td>NaN</td>\n",
              "      <td>NaN</td>\n",
              "      <td>Sino-Tibetan</td>\n",
              "      <td>NaN</td>\n",
              "      <td>NaN</td>\n",
              "      <td>GOLD</td>\n",
              "      <td>NaN</td>\n",
              "      <td>576.0</td>\n",
              "      <td>550.0</td>\n",
              "      <td>594.0</td>\n",
              "      <td>52.0</td>\n",
              "    </tr>\n",
              "    <tr>\n",
              "      <th>2</th>\n",
              "      <td>abrahammonpa</td>\n",
              "      <td>BugunNamphri-100_gold-1</td>\n",
              "      <td>san</td>\n",
              "      <td>san</td>\n",
              "      <td>gold</td>\n",
              "      <td>1369</td>\n",
              "      <td>GOLD</td>\n",
              "      <td>Person/Thing</td>\n",
              "      <td>Basic actions and technology</td>\n",
              "      <td>Bugun Namphri</td>\n",
              "      <td>namp1239</td>\n",
              "      <td>NaN</td>\n",
              "      <td>NaN</td>\n",
              "      <td>Sino-Tibetan</td>\n",
              "      <td>NaN</td>\n",
              "      <td>NaN</td>\n",
              "      <td>GOLD</td>\n",
              "      <td>NaN</td>\n",
              "      <td>576.0</td>\n",
              "      <td>550.0</td>\n",
              "      <td>594.0</td>\n",
              "      <td>52.0</td>\n",
              "    </tr>\n",
              "    <tr>\n",
              "      <th>3</th>\n",
              "      <td>abrahammonpa</td>\n",
              "      <td>BugunSingchung-100_gold-1</td>\n",
              "      <td>san</td>\n",
              "      <td>san</td>\n",
              "      <td>gold</td>\n",
              "      <td>1369</td>\n",
              "      <td>GOLD</td>\n",
              "      <td>Person/Thing</td>\n",
              "      <td>Basic actions and technology</td>\n",
              "      <td>Bugun Singchung</td>\n",
              "      <td>sing1271</td>\n",
              "      <td>NaN</td>\n",
              "      <td>NaN</td>\n",
              "      <td>Sino-Tibetan</td>\n",
              "      <td>NaN</td>\n",
              "      <td>NaN</td>\n",
              "      <td>GOLD</td>\n",
              "      <td>NaN</td>\n",
              "      <td>576.0</td>\n",
              "      <td>550.0</td>\n",
              "      <td>594.0</td>\n",
              "      <td>52.0</td>\n",
              "    </tr>\n",
              "    <tr>\n",
              "      <th>4</th>\n",
              "      <td>abrahammonpa</td>\n",
              "      <td>BugunWangho-100_gold-1</td>\n",
              "      <td>san</td>\n",
              "      <td>san</td>\n",
              "      <td>gold</td>\n",
              "      <td>1369</td>\n",
              "      <td>GOLD</td>\n",
              "      <td>Person/Thing</td>\n",
              "      <td>Basic actions and technology</td>\n",
              "      <td>Bugun Wangho</td>\n",
              "      <td>wang1301</td>\n",
              "      <td>NaN</td>\n",
              "      <td>NaN</td>\n",
              "      <td>Sino-Tibetan</td>\n",
              "      <td>NaN</td>\n",
              "      <td>NaN</td>\n",
              "      <td>GOLD</td>\n",
              "      <td>NaN</td>\n",
              "      <td>576.0</td>\n",
              "      <td>550.0</td>\n",
              "      <td>594.0</td>\n",
              "      <td>52.0</td>\n",
              "    </tr>\n",
              "  </tbody>\n",
              "</table>\n",
              "</div>"
            ],
            "text/plain": [
              "     dataset_ID  ... KUCERA_FRANCIS_FREQUENCY\n",
              "0  abrahammonpa  ...                     52.0\n",
              "1  abrahammonpa  ...                     52.0\n",
              "2  abrahammonpa  ...                     52.0\n",
              "3  abrahammonpa  ...                     52.0\n",
              "4  abrahammonpa  ...                     52.0\n",
              "\n",
              "[5 rows x 22 columns]"
            ]
          },
          "metadata": {
            "tags": []
          },
          "execution_count": 10
        }
      ]
    },
    {
      "cell_type": "code",
      "metadata": {
        "colab": {
          "base_uri": "https://localhost:8080/"
        },
        "id": "oKmbFPs4yiQ7",
        "outputId": "9917200d-9c10-4922-b77a-092a7aa7ef2f"
      },
      "source": [
        "len(df.groupby('clics_form'))"
      ],
      "execution_count": 16,
      "outputs": [
        {
          "output_type": "execute_result",
          "data": {
            "text/plain": [
              "706169"
            ]
          },
          "metadata": {
            "tags": []
          },
          "execution_count": 16
        }
      ]
    },
    {
      "cell_type": "code",
      "metadata": {
        "colab": {
          "base_uri": "https://localhost:8080/"
        },
        "id": "5xWTkvqcyNCH",
        "outputId": "14be988d-8dc1-4921-95d1-7cb360b4bfbe"
      },
      "source": [
        "len(df.groupby('Concepticon_Gloss'))"
      ],
      "execution_count": 14,
      "outputs": [
        {
          "output_type": "execute_result",
          "data": {
            "text/plain": [
              "2919"
            ]
          },
          "metadata": {
            "tags": []
          },
          "execution_count": 14
        }
      ]
    },
    {
      "cell_type": "code",
      "metadata": {
        "colab": {
          "base_uri": "https://localhost:8080/"
        },
        "id": "Bsu0dU5kwZyH",
        "outputId": "2346267c-5576-49da-df41-48cd70e3b295"
      },
      "source": [
        "len(df.groupby('variety'))"
      ],
      "execution_count": 12,
      "outputs": [
        {
          "output_type": "execute_result",
          "data": {
            "text/plain": [
              "3050"
            ]
          },
          "metadata": {
            "tags": []
          },
          "execution_count": 12
        }
      ]
    },
    {
      "cell_type": "code",
      "metadata": {
        "colab": {
          "base_uri": "https://localhost:8080/"
        },
        "id": "UZpb6IKvxTY3",
        "outputId": "160e3525-2f6c-4b3b-de73-93bd9a4b2ea4"
      },
      "source": [
        "len(df.groupby('Glottocode'))"
      ],
      "execution_count": 13,
      "outputs": [
        {
          "output_type": "execute_result",
          "data": {
            "text/plain": [
              "2279"
            ]
          },
          "metadata": {
            "tags": []
          },
          "execution_count": 13
        }
      ]
    },
    {
      "cell_type": "code",
      "metadata": {
        "colab": {
          "base_uri": "https://localhost:8080/"
        },
        "id": "lh2qT6dfyTxo",
        "outputId": "07693d53-d386-4bc9-aaf0-d7999add1c83"
      },
      "source": [
        "len(df.groupby('Family'))"
      ],
      "execution_count": 15,
      "outputs": [
        {
          "output_type": "execute_result",
          "data": {
            "text/plain": [
              "201"
            ]
          },
          "metadata": {
            "tags": []
          },
          "execution_count": 15
        }
      ]
    },
    {
      "cell_type": "code",
      "metadata": {
        "colab": {
          "base_uri": "https://localhost:8080/"
        },
        "id": "B8Bh5Q2UzJ4F",
        "outputId": "95816711-0816-4102-c0b5-578f24677fbd"
      },
      "source": [
        "df.isna().sum()"
      ],
      "execution_count": 23,
      "outputs": [
        {
          "output_type": "execute_result",
          "data": {
            "text/plain": [
              "dataset_ID                        0\n",
              "Form_ID                           0\n",
              "Form                             87\n",
              "clics_form                      441\n",
              "gloss_in_source               64676\n",
              "Concepticon_ID                    0\n",
              "Concepticon_Gloss                 0\n",
              "Ontological_Category              0\n",
              "Semantic_Field                  108\n",
              "variety                           0\n",
              "Glottocode                    19627\n",
              "ISO639P3code                 206325\n",
              "Macroarea                     87845\n",
              "Family                        22090\n",
              "Latitude                     226992\n",
              "Longitude                    226992\n",
              "MRC_WORD                     220322\n",
              "AGE_OF_ACQUISITION          1060434\n",
              "CONCRETENESS                 467034\n",
              "FAMILIARITY                  423700\n",
              "IMAGABILITY                  431767\n",
              "KUCERA_FRANCIS_FREQUENCY     232552\n",
              "dtype: int64"
            ]
          },
          "metadata": {
            "tags": []
          },
          "execution_count": 23
        }
      ]
    },
    {
      "cell_type": "markdown",
      "metadata": {
        "id": "xO2FeA_dc9tn"
      },
      "source": [
        "Adding tokenized column for a deeper analysis"
      ]
    },
    {
      "cell_type": "code",
      "metadata": {
        "id": "oallmJvtdCXq"
      },
      "source": [
        "df['tk_variety']=df['variety'].apply(nltk.tokenize.word_tokenize)\r\n"
      ],
      "execution_count": 4,
      "outputs": []
    },
    {
      "cell_type": "markdown",
      "metadata": {
        "id": "BvaxVBsThEwL"
      },
      "source": [
        "As soon as we find a diachronic variety, this is printed and the for stopped"
      ]
    },
    {
      "cell_type": "code",
      "metadata": {
        "colab": {
          "base_uri": "https://localhost:8080/"
        },
        "id": "3pkzYTYhg3zt",
        "outputId": "ea934318-8aa8-46a9-97e8-318b60b5431e"
      },
      "source": [
        "for i in range(len(df['tk_variety'])):\r\n",
        "  r = df['tk_variety'].iloc[i]\r\n",
        "  if any((v == \"Modern\") for v in r): # change key word\r\n",
        "    print (r)\r\n",
        "    break"
      ],
      "execution_count": 16,
      "outputs": [
        {
          "output_type": "stream",
          "text": [
            "['Modern', 'Armenian']\n"
          ],
          "name": "stdout"
        }
      ]
    },
    {
      "cell_type": "markdown",
      "metadata": {
        "id": "_pnoAS1mhKRN"
      },
      "source": [
        "Count how many specific varieties contains..."
      ]
    },
    {
      "cell_type": "code",
      "metadata": {
        "colab": {
          "base_uri": "https://localhost:8080/"
        },
        "id": "JD5ZBMG1dvwh",
        "outputId": "9875401d-5c5a-4fda-a31c-e72c41a3f1a6"
      },
      "source": [
        "c = 0\r\n",
        "for i in range(len(df['tk_variety'])):\r\n",
        "  r = df['tk_variety'].iloc[i]\r\n",
        "  if any((v == \"Modern\") for v in r): # change key word\r\n",
        "    c+=1\r\n",
        "print (c)"
      ],
      "execution_count": 23,
      "outputs": [
        {
          "output_type": "stream",
          "text": [
            "4256\n"
          ],
          "name": "stdout"
        }
      ]
    }
  ]
}