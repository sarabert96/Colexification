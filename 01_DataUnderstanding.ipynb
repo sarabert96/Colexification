{
  "nbformat": 4,
  "nbformat_minor": 0,
  "metadata": {
    "colab": {
      "name": "01_DataUnderstanding.ipynb",
      "provenance": [],
      "toc_visible": true,
      "authorship_tag": "ABX9TyN3h8ZGCnIQI54exnCYXNhc",
      "include_colab_link": true
    },
    "kernelspec": {
      "name": "python3",
      "display_name": "Python 3"
    }
  },
  "cells": [
    {
      "cell_type": "markdown",
      "metadata": {
        "id": "view-in-github",
        "colab_type": "text"
      },
      "source": [
        "<a href=\"https://colab.research.google.com/github/sarabert96/Colexification/blob/main/01_DataUnderstanding.ipynb\" target=\"_parent\"><img src=\"https://colab.research.google.com/assets/colab-badge.svg\" alt=\"Open In Colab\"/></a>"
      ]
    },
    {
      "cell_type": "markdown",
      "metadata": {
        "id": "lmPG_i4MWh1E"
      },
      "source": [
        "# CLICS 3 Data Understanding"
      ]
    },
    {
      "cell_type": "markdown",
      "metadata": {
        "id": "JF146xPNWtlK"
      },
      "source": [
        "Import libraries"
      ]
    },
    {
      "cell_type": "code",
      "metadata": {
        "id": "DGdmsiVjWUF8"
      },
      "source": [
        "import pandas as pd\n",
        "from google.colab import files\n",
        "import matplotlib.pyplot as plt"
      ],
      "execution_count": 8,
      "outputs": []
    },
    {
      "cell_type": "markdown",
      "metadata": {
        "id": "WMmJ84JXZZLU"
      },
      "source": [
        "Obtaining raw dataframe from Google Drive"
      ]
    },
    {
      "cell_type": "code",
      "metadata": {
        "colab": {
          "base_uri": "https://localhost:8080/"
        },
        "id": "EGIUY4dqW09G",
        "outputId": "b2485d61-25d2-4001-dd81-eba763379780"
      },
      "source": [
        "!gdown --id 1O4Ofd0xX6I1eGcYPOQ0ET2_w-MEB5ybR #df_all_raw"
      ],
      "execution_count": 2,
      "outputs": [
        {
          "output_type": "stream",
          "text": [
            "Downloading...\n",
            "From: https://drive.google.com/uc?id=1O4Ofd0xX6I1eGcYPOQ0ET2_w-MEB5ybR\n",
            "To: /content/df_all_raw.csv\n",
            "212MB [00:01, 117MB/s]\n"
          ],
          "name": "stdout"
        }
      ]
    },
    {
      "cell_type": "code",
      "metadata": {
        "colab": {
          "base_uri": "https://localhost:8080/"
        },
        "id": "OkcXX1Wht5Eb",
        "outputId": "51d60440-3cdb-4745-dbbc-d71aaa07fbe2"
      },
      "source": [
        "df = pd.read_csv('df_all_raw.csv')"
      ],
      "execution_count": 3,
      "outputs": [
        {
          "output_type": "stream",
          "text": [
            "/usr/local/lib/python3.7/dist-packages/IPython/core/interactiveshell.py:2718: DtypeWarning: Columns (4) have mixed types.Specify dtype option on import or set low_memory=False.\n",
            "  interactivity=interactivity, compiler=compiler, result=result)\n"
          ],
          "name": "stderr"
        }
      ]
    },
    {
      "cell_type": "code",
      "metadata": {
        "colab": {
          "base_uri": "https://localhost:8080/"
        },
        "id": "QMxErwuatDMe",
        "outputId": "8b1d4dfe-ee93-4b6a-edcc-c858933ed6e1"
      },
      "source": [
        "df.shape"
      ],
      "execution_count": null,
      "outputs": [
        {
          "output_type": "execute_result",
          "data": {
            "text/plain": [
              "(1390594, 16)"
            ]
          },
          "metadata": {
            "tags": []
          },
          "execution_count": 6
        }
      ]
    },
    {
      "cell_type": "code",
      "metadata": {
        "colab": {
          "base_uri": "https://localhost:8080/",
          "height": 309
        },
        "id": "SrZlw6QPuRXL",
        "outputId": "36e8ba4c-8425-4b6c-af5c-ddf751292673"
      },
      "source": [
        "df.head()"
      ],
      "execution_count": null,
      "outputs": [
        {
          "output_type": "execute_result",
          "data": {
            "text/html": [
              "<div>\n",
              "<style scoped>\n",
              "    .dataframe tbody tr th:only-of-type {\n",
              "        vertical-align: middle;\n",
              "    }\n",
              "\n",
              "    .dataframe tbody tr th {\n",
              "        vertical-align: top;\n",
              "    }\n",
              "\n",
              "    .dataframe thead th {\n",
              "        text-align: right;\n",
              "    }\n",
              "</style>\n",
              "<table border=\"1\" class=\"dataframe\">\n",
              "  <thead>\n",
              "    <tr style=\"text-align: right;\">\n",
              "      <th></th>\n",
              "      <th>dataset_ID</th>\n",
              "      <th>Form_ID</th>\n",
              "      <th>Form</th>\n",
              "      <th>clics_form</th>\n",
              "      <th>gloss_in_source</th>\n",
              "      <th>Concepticon_ID</th>\n",
              "      <th>Concepticon_Gloss</th>\n",
              "      <th>Ontological_Category</th>\n",
              "      <th>Semantic_Field</th>\n",
              "      <th>variety</th>\n",
              "      <th>Glottocode</th>\n",
              "      <th>ISO639P3code</th>\n",
              "      <th>Macroarea</th>\n",
              "      <th>Family</th>\n",
              "      <th>Latitude</th>\n",
              "      <th>Longitude</th>\n",
              "    </tr>\n",
              "  </thead>\n",
              "  <tbody>\n",
              "    <tr>\n",
              "      <th>0</th>\n",
              "      <td>abrahammonpa</td>\n",
              "      <td>BugunBichom-100_gold-1</td>\n",
              "      <td>san</td>\n",
              "      <td>san</td>\n",
              "      <td>gold</td>\n",
              "      <td>1369</td>\n",
              "      <td>GOLD</td>\n",
              "      <td>Person/Thing</td>\n",
              "      <td>Basic actions and technology</td>\n",
              "      <td>Bugun Bichom</td>\n",
              "      <td>bich1234</td>\n",
              "      <td>NaN</td>\n",
              "      <td>NaN</td>\n",
              "      <td>Sino-Tibetan</td>\n",
              "      <td>NaN</td>\n",
              "      <td>NaN</td>\n",
              "    </tr>\n",
              "    <tr>\n",
              "      <th>1</th>\n",
              "      <td>abrahammonpa</td>\n",
              "      <td>BugunKaspi-100_gold-1</td>\n",
              "      <td>san</td>\n",
              "      <td>san</td>\n",
              "      <td>gold</td>\n",
              "      <td>1369</td>\n",
              "      <td>GOLD</td>\n",
              "      <td>Person/Thing</td>\n",
              "      <td>Basic actions and technology</td>\n",
              "      <td>Bugun Kaspi</td>\n",
              "      <td>kasp1234</td>\n",
              "      <td>NaN</td>\n",
              "      <td>NaN</td>\n",
              "      <td>Sino-Tibetan</td>\n",
              "      <td>NaN</td>\n",
              "      <td>NaN</td>\n",
              "    </tr>\n",
              "    <tr>\n",
              "      <th>2</th>\n",
              "      <td>abrahammonpa</td>\n",
              "      <td>BugunNamphri-100_gold-1</td>\n",
              "      <td>san</td>\n",
              "      <td>san</td>\n",
              "      <td>gold</td>\n",
              "      <td>1369</td>\n",
              "      <td>GOLD</td>\n",
              "      <td>Person/Thing</td>\n",
              "      <td>Basic actions and technology</td>\n",
              "      <td>Bugun Namphri</td>\n",
              "      <td>namp1239</td>\n",
              "      <td>NaN</td>\n",
              "      <td>NaN</td>\n",
              "      <td>Sino-Tibetan</td>\n",
              "      <td>NaN</td>\n",
              "      <td>NaN</td>\n",
              "    </tr>\n",
              "    <tr>\n",
              "      <th>3</th>\n",
              "      <td>abrahammonpa</td>\n",
              "      <td>BugunSingchung-100_gold-1</td>\n",
              "      <td>san</td>\n",
              "      <td>san</td>\n",
              "      <td>gold</td>\n",
              "      <td>1369</td>\n",
              "      <td>GOLD</td>\n",
              "      <td>Person/Thing</td>\n",
              "      <td>Basic actions and technology</td>\n",
              "      <td>Bugun Singchung</td>\n",
              "      <td>sing1271</td>\n",
              "      <td>NaN</td>\n",
              "      <td>NaN</td>\n",
              "      <td>Sino-Tibetan</td>\n",
              "      <td>NaN</td>\n",
              "      <td>NaN</td>\n",
              "    </tr>\n",
              "    <tr>\n",
              "      <th>4</th>\n",
              "      <td>abrahammonpa</td>\n",
              "      <td>BugunWangho-100_gold-1</td>\n",
              "      <td>san</td>\n",
              "      <td>san</td>\n",
              "      <td>gold</td>\n",
              "      <td>1369</td>\n",
              "      <td>GOLD</td>\n",
              "      <td>Person/Thing</td>\n",
              "      <td>Basic actions and technology</td>\n",
              "      <td>Bugun Wangho</td>\n",
              "      <td>wang1301</td>\n",
              "      <td>NaN</td>\n",
              "      <td>NaN</td>\n",
              "      <td>Sino-Tibetan</td>\n",
              "      <td>NaN</td>\n",
              "      <td>NaN</td>\n",
              "    </tr>\n",
              "  </tbody>\n",
              "</table>\n",
              "</div>"
            ],
            "text/plain": [
              "     dataset_ID                    Form_ID  ... Latitude Longitude\n",
              "0  abrahammonpa     BugunBichom-100_gold-1  ...      NaN       NaN\n",
              "1  abrahammonpa      BugunKaspi-100_gold-1  ...      NaN       NaN\n",
              "2  abrahammonpa    BugunNamphri-100_gold-1  ...      NaN       NaN\n",
              "3  abrahammonpa  BugunSingchung-100_gold-1  ...      NaN       NaN\n",
              "4  abrahammonpa     BugunWangho-100_gold-1  ...      NaN       NaN\n",
              "\n",
              "[5 rows x 16 columns]"
            ]
          },
          "metadata": {
            "tags": []
          },
          "execution_count": 5
        }
      ]
    },
    {
      "cell_type": "code",
      "metadata": {
        "colab": {
          "base_uri": "https://localhost:8080/",
          "height": 626
        },
        "id": "11n5tJeaG6FV",
        "outputId": "b51e6030-0467-4257-8524-70f26b348ae9"
      },
      "source": [
        "df[df['variety']==\"Italian\"]"
      ],
      "execution_count": null,
      "outputs": [
        {
          "output_type": "execute_result",
          "data": {
            "text/html": [
              "<div>\n",
              "<style scoped>\n",
              "    .dataframe tbody tr th:only-of-type {\n",
              "        vertical-align: middle;\n",
              "    }\n",
              "\n",
              "    .dataframe tbody tr th {\n",
              "        vertical-align: top;\n",
              "    }\n",
              "\n",
              "    .dataframe thead th {\n",
              "        text-align: right;\n",
              "    }\n",
              "</style>\n",
              "<table border=\"1\" class=\"dataframe\">\n",
              "  <thead>\n",
              "    <tr style=\"text-align: right;\">\n",
              "      <th></th>\n",
              "      <th>dataset_ID</th>\n",
              "      <th>Form_ID</th>\n",
              "      <th>Form</th>\n",
              "      <th>clics_form</th>\n",
              "      <th>gloss_in_source</th>\n",
              "      <th>Concepticon_ID</th>\n",
              "      <th>Concepticon_Gloss</th>\n",
              "      <th>Ontological_Category</th>\n",
              "      <th>Semantic_Field</th>\n",
              "      <th>variety</th>\n",
              "      <th>Glottocode</th>\n",
              "      <th>ISO639P3code</th>\n",
              "      <th>Macroarea</th>\n",
              "      <th>Family</th>\n",
              "      <th>Latitude</th>\n",
              "      <th>Longitude</th>\n",
              "    </tr>\n",
              "  </thead>\n",
              "  <tbody>\n",
              "    <tr>\n",
              "      <th>108675</th>\n",
              "      <td>diacl</td>\n",
              "      <td>53500-100_many-1</td>\n",
              "      <td>molto</td>\n",
              "      <td>molto</td>\n",
              "      <td>NaN</td>\n",
              "      <td>1198</td>\n",
              "      <td>MANY</td>\n",
              "      <td>Other</td>\n",
              "      <td>Quantity</td>\n",
              "      <td>Italian</td>\n",
              "      <td>ital1282</td>\n",
              "      <td>ita</td>\n",
              "      <td>Eurasia</td>\n",
              "      <td>Indo-European</td>\n",
              "      <td>43.0464</td>\n",
              "      <td>12.6489</td>\n",
              "    </tr>\n",
              "    <tr>\n",
              "      <th>108958</th>\n",
              "      <td>diacl</td>\n",
              "      <td>53500-101_meatflesh-1</td>\n",
              "      <td>carne</td>\n",
              "      <td>carne</td>\n",
              "      <td>NaN</td>\n",
              "      <td>2615</td>\n",
              "      <td>FLESH OR MEAT</td>\n",
              "      <td>Person/Thing</td>\n",
              "      <td>The body</td>\n",
              "      <td>Italian</td>\n",
              "      <td>ital1282</td>\n",
              "      <td>ita</td>\n",
              "      <td>Eurasia</td>\n",
              "      <td>Indo-European</td>\n",
              "      <td>43.0464</td>\n",
              "      <td>12.6489</td>\n",
              "    </tr>\n",
              "    <tr>\n",
              "      <th>109488</th>\n",
              "      <td>diacl</td>\n",
              "      <td>53500-105_mouth-1</td>\n",
              "      <td>bocca</td>\n",
              "      <td>bocca</td>\n",
              "      <td>NaN</td>\n",
              "      <td>674</td>\n",
              "      <td>MOUTH</td>\n",
              "      <td>Person/Thing</td>\n",
              "      <td>The body</td>\n",
              "      <td>Italian</td>\n",
              "      <td>ital1282</td>\n",
              "      <td>ita</td>\n",
              "      <td>Eurasia</td>\n",
              "      <td>Indo-European</td>\n",
              "      <td>43.0464</td>\n",
              "      <td>12.6489</td>\n",
              "    </tr>\n",
              "    <tr>\n",
              "      <th>109754</th>\n",
              "      <td>diacl</td>\n",
              "      <td>53500-106_name-1</td>\n",
              "      <td>nome</td>\n",
              "      <td>nome</td>\n",
              "      <td>NaN</td>\n",
              "      <td>1405</td>\n",
              "      <td>NAME</td>\n",
              "      <td>Person/Thing</td>\n",
              "      <td>Speech and language</td>\n",
              "      <td>Italian</td>\n",
              "      <td>ital1282</td>\n",
              "      <td>ita</td>\n",
              "      <td>Eurasia</td>\n",
              "      <td>Indo-European</td>\n",
              "      <td>43.0464</td>\n",
              "      <td>12.6489</td>\n",
              "    </tr>\n",
              "    <tr>\n",
              "      <th>110235</th>\n",
              "      <td>diacl</td>\n",
              "      <td>53500-109_neck-1</td>\n",
              "      <td>collo</td>\n",
              "      <td>collo</td>\n",
              "      <td>NaN</td>\n",
              "      <td>1333</td>\n",
              "      <td>NECK</td>\n",
              "      <td>Person/Thing</td>\n",
              "      <td>The body</td>\n",
              "      <td>Italian</td>\n",
              "      <td>ital1282</td>\n",
              "      <td>ita</td>\n",
              "      <td>Eurasia</td>\n",
              "      <td>Indo-European</td>\n",
              "      <td>43.0464</td>\n",
              "      <td>12.6489</td>\n",
              "    </tr>\n",
              "    <tr>\n",
              "      <th>...</th>\n",
              "      <td>...</td>\n",
              "      <td>...</td>\n",
              "      <td>...</td>\n",
              "      <td>...</td>\n",
              "      <td>...</td>\n",
              "      <td>...</td>\n",
              "      <td>...</td>\n",
              "      <td>...</td>\n",
              "      <td>...</td>\n",
              "      <td>...</td>\n",
              "      <td>...</td>\n",
              "      <td>...</td>\n",
              "      <td>...</td>\n",
              "      <td>...</td>\n",
              "      <td>...</td>\n",
              "      <td>...</td>\n",
              "    </tr>\n",
              "    <tr>\n",
              "      <th>953863</th>\n",
              "      <td>northeuralex</td>\n",
              "      <td>ita-999_learn-1</td>\n",
              "      <td>imparare</td>\n",
              "      <td>imparare</td>\n",
              "      <td>learn</td>\n",
              "      <td>504</td>\n",
              "      <td>LEARN</td>\n",
              "      <td>Action/Process</td>\n",
              "      <td>Cognition</td>\n",
              "      <td>Italian</td>\n",
              "      <td>ital1282</td>\n",
              "      <td>ita</td>\n",
              "      <td>Eurasia</td>\n",
              "      <td>Indo-European</td>\n",
              "      <td>43.0464</td>\n",
              "      <td>12.6489</td>\n",
              "    </tr>\n",
              "    <tr>\n",
              "      <th>953864</th>\n",
              "      <td>northeuralex</td>\n",
              "      <td>ita-999_learn-2</td>\n",
              "      <td>apːrɛndere</td>\n",
              "      <td>aprendere</td>\n",
              "      <td>learn</td>\n",
              "      <td>504</td>\n",
              "      <td>LEARN</td>\n",
              "      <td>Action/Process</td>\n",
              "      <td>Cognition</td>\n",
              "      <td>Italian</td>\n",
              "      <td>ital1282</td>\n",
              "      <td>ita</td>\n",
              "      <td>Eurasia</td>\n",
              "      <td>Indo-European</td>\n",
              "      <td>43.0464</td>\n",
              "      <td>12.6489</td>\n",
              "    </tr>\n",
              "    <tr>\n",
              "      <th>953989</th>\n",
              "      <td>northeuralex</td>\n",
              "      <td>ita-99_slope-1</td>\n",
              "      <td>pendio</td>\n",
              "      <td>pendio</td>\n",
              "      <td>slope</td>\n",
              "      <td>3076</td>\n",
              "      <td>SLOPE</td>\n",
              "      <td>Person/Thing</td>\n",
              "      <td>The physical world</td>\n",
              "      <td>Italian</td>\n",
              "      <td>ital1282</td>\n",
              "      <td>ita</td>\n",
              "      <td>Eurasia</td>\n",
              "      <td>Indo-European</td>\n",
              "      <td>43.0464</td>\n",
              "      <td>12.6489</td>\n",
              "    </tr>\n",
              "    <tr>\n",
              "      <th>954116</th>\n",
              "      <td>northeuralex</td>\n",
              "      <td>ita-9_face-1</td>\n",
              "      <td>vizo</td>\n",
              "      <td>vizo</td>\n",
              "      <td>face</td>\n",
              "      <td>1560</td>\n",
              "      <td>FACE</td>\n",
              "      <td>Person/Thing</td>\n",
              "      <td>The body</td>\n",
              "      <td>Italian</td>\n",
              "      <td>ital1282</td>\n",
              "      <td>ita</td>\n",
              "      <td>Eurasia</td>\n",
              "      <td>Indo-European</td>\n",
              "      <td>43.0464</td>\n",
              "      <td>12.6489</td>\n",
              "    </tr>\n",
              "    <tr>\n",
              "      <th>954117</th>\n",
              "      <td>northeuralex</td>\n",
              "      <td>ita-9_face-2</td>\n",
              "      <td>fatt͡ʃa</td>\n",
              "      <td>fattsa</td>\n",
              "      <td>face</td>\n",
              "      <td>1560</td>\n",
              "      <td>FACE</td>\n",
              "      <td>Person/Thing</td>\n",
              "      <td>The body</td>\n",
              "      <td>Italian</td>\n",
              "      <td>ital1282</td>\n",
              "      <td>ita</td>\n",
              "      <td>Eurasia</td>\n",
              "      <td>Indo-European</td>\n",
              "      <td>43.0464</td>\n",
              "      <td>12.6489</td>\n",
              "    </tr>\n",
              "  </tbody>\n",
              "</table>\n",
              "<p>3015 rows × 16 columns</p>\n",
              "</div>"
            ],
            "text/plain": [
              "          dataset_ID                Form_ID  ... Latitude Longitude\n",
              "108675         diacl       53500-100_many-1  ...  43.0464   12.6489\n",
              "108958         diacl  53500-101_meatflesh-1  ...  43.0464   12.6489\n",
              "109488         diacl      53500-105_mouth-1  ...  43.0464   12.6489\n",
              "109754         diacl       53500-106_name-1  ...  43.0464   12.6489\n",
              "110235         diacl       53500-109_neck-1  ...  43.0464   12.6489\n",
              "...              ...                    ...  ...      ...       ...\n",
              "953863  northeuralex        ita-999_learn-1  ...  43.0464   12.6489\n",
              "953864  northeuralex        ita-999_learn-2  ...  43.0464   12.6489\n",
              "953989  northeuralex         ita-99_slope-1  ...  43.0464   12.6489\n",
              "954116  northeuralex           ita-9_face-1  ...  43.0464   12.6489\n",
              "954117  northeuralex           ita-9_face-2  ...  43.0464   12.6489\n",
              "\n",
              "[3015 rows x 16 columns]"
            ]
          },
          "metadata": {
            "tags": []
          },
          "execution_count": 5
        }
      ]
    },
    {
      "cell_type": "code",
      "metadata": {
        "id": "3zupYYlkeTO0"
      },
      "source": [
        "dfna = df.dropna()"
      ],
      "execution_count": 4,
      "outputs": []
    },
    {
      "cell_type": "code",
      "metadata": {
        "colab": {
          "base_uri": "https://localhost:8080/",
          "height": 660
        },
        "id": "7ZpKRF-qekjW",
        "outputId": "46d241d4-9443-494f-dc71-2271a8360b7c"
      },
      "source": [
        "dfna[dfna['variety']=='Italian']"
      ],
      "execution_count": null,
      "outputs": [
        {
          "output_type": "execute_result",
          "data": {
            "text/html": [
              "<div>\n",
              "<style scoped>\n",
              "    .dataframe tbody tr th:only-of-type {\n",
              "        vertical-align: middle;\n",
              "    }\n",
              "\n",
              "    .dataframe tbody tr th {\n",
              "        vertical-align: top;\n",
              "    }\n",
              "\n",
              "    .dataframe thead th {\n",
              "        text-align: right;\n",
              "    }\n",
              "</style>\n",
              "<table border=\"1\" class=\"dataframe\">\n",
              "  <thead>\n",
              "    <tr style=\"text-align: right;\">\n",
              "      <th></th>\n",
              "      <th>dataset_ID</th>\n",
              "      <th>Form_ID</th>\n",
              "      <th>Form</th>\n",
              "      <th>clics_form</th>\n",
              "      <th>gloss_in_source</th>\n",
              "      <th>Concepticon_ID</th>\n",
              "      <th>Concepticon_Gloss</th>\n",
              "      <th>Ontological_Category</th>\n",
              "      <th>Semantic_Field</th>\n",
              "      <th>variety</th>\n",
              "      <th>Glottocode</th>\n",
              "      <th>ISO639P3code</th>\n",
              "      <th>Macroarea</th>\n",
              "      <th>Family</th>\n",
              "      <th>Latitude</th>\n",
              "      <th>Longitude</th>\n",
              "    </tr>\n",
              "  </thead>\n",
              "  <tbody>\n",
              "    <tr>\n",
              "      <th>208056</th>\n",
              "      <td>ids</td>\n",
              "      <td>170-1-100-1</td>\n",
              "      <td>mondo</td>\n",
              "      <td>mondo</td>\n",
              "      <td>world</td>\n",
              "      <td>965</td>\n",
              "      <td>WORLD</td>\n",
              "      <td>Person/Thing</td>\n",
              "      <td>The physical world</td>\n",
              "      <td>Italian</td>\n",
              "      <td>ital1282</td>\n",
              "      <td>ita</td>\n",
              "      <td>Eurasia</td>\n",
              "      <td>Indo-European</td>\n",
              "      <td>43.0464</td>\n",
              "      <td>12.6489</td>\n",
              "    </tr>\n",
              "    <tr>\n",
              "      <th>208433</th>\n",
              "      <td>ids</td>\n",
              "      <td>170-1-210-1</td>\n",
              "      <td>terra</td>\n",
              "      <td>terra</td>\n",
              "      <td>earth, land</td>\n",
              "      <td>626</td>\n",
              "      <td>LAND</td>\n",
              "      <td>Person/Thing</td>\n",
              "      <td>The physical world</td>\n",
              "      <td>Italian</td>\n",
              "      <td>ital1282</td>\n",
              "      <td>ita</td>\n",
              "      <td>Eurasia</td>\n",
              "      <td>Indo-European</td>\n",
              "      <td>43.0464</td>\n",
              "      <td>12.6489</td>\n",
              "    </tr>\n",
              "    <tr>\n",
              "      <th>208928</th>\n",
              "      <td>ids</td>\n",
              "      <td>170-1-212-1</td>\n",
              "      <td>terreno</td>\n",
              "      <td>terreno</td>\n",
              "      <td>earth=ground, soil</td>\n",
              "      <td>1228</td>\n",
              "      <td>EARTH (SOIL)</td>\n",
              "      <td>Person/Thing</td>\n",
              "      <td>The physical world</td>\n",
              "      <td>Italian</td>\n",
              "      <td>ital1282</td>\n",
              "      <td>ita</td>\n",
              "      <td>Eurasia</td>\n",
              "      <td>Indo-European</td>\n",
              "      <td>43.0464</td>\n",
              "      <td>12.6489</td>\n",
              "    </tr>\n",
              "    <tr>\n",
              "      <th>208929</th>\n",
              "      <td>ids</td>\n",
              "      <td>170-1-212-2</td>\n",
              "      <td>suolo</td>\n",
              "      <td>suolo</td>\n",
              "      <td>earth=ground, soil</td>\n",
              "      <td>1228</td>\n",
              "      <td>EARTH (SOIL)</td>\n",
              "      <td>Person/Thing</td>\n",
              "      <td>The physical world</td>\n",
              "      <td>Italian</td>\n",
              "      <td>ital1282</td>\n",
              "      <td>ita</td>\n",
              "      <td>Eurasia</td>\n",
              "      <td>Indo-European</td>\n",
              "      <td>43.0464</td>\n",
              "      <td>12.6489</td>\n",
              "    </tr>\n",
              "    <tr>\n",
              "      <th>209371</th>\n",
              "      <td>ids</td>\n",
              "      <td>170-1-213-1</td>\n",
              "      <td>polvere</td>\n",
              "      <td>polvere</td>\n",
              "      <td>dust</td>\n",
              "      <td>2</td>\n",
              "      <td>DUST</td>\n",
              "      <td>Person/Thing</td>\n",
              "      <td>The physical world</td>\n",
              "      <td>Italian</td>\n",
              "      <td>ital1282</td>\n",
              "      <td>ita</td>\n",
              "      <td>Eurasia</td>\n",
              "      <td>Indo-European</td>\n",
              "      <td>43.0464</td>\n",
              "      <td>12.6489</td>\n",
              "    </tr>\n",
              "    <tr>\n",
              "      <th>...</th>\n",
              "      <td>...</td>\n",
              "      <td>...</td>\n",
              "      <td>...</td>\n",
              "      <td>...</td>\n",
              "      <td>...</td>\n",
              "      <td>...</td>\n",
              "      <td>...</td>\n",
              "      <td>...</td>\n",
              "      <td>...</td>\n",
              "      <td>...</td>\n",
              "      <td>...</td>\n",
              "      <td>...</td>\n",
              "      <td>...</td>\n",
              "      <td>...</td>\n",
              "      <td>...</td>\n",
              "      <td>...</td>\n",
              "    </tr>\n",
              "    <tr>\n",
              "      <th>953863</th>\n",
              "      <td>northeuralex</td>\n",
              "      <td>ita-999_learn-1</td>\n",
              "      <td>imparare</td>\n",
              "      <td>imparare</td>\n",
              "      <td>learn</td>\n",
              "      <td>504</td>\n",
              "      <td>LEARN</td>\n",
              "      <td>Action/Process</td>\n",
              "      <td>Cognition</td>\n",
              "      <td>Italian</td>\n",
              "      <td>ital1282</td>\n",
              "      <td>ita</td>\n",
              "      <td>Eurasia</td>\n",
              "      <td>Indo-European</td>\n",
              "      <td>43.0464</td>\n",
              "      <td>12.6489</td>\n",
              "    </tr>\n",
              "    <tr>\n",
              "      <th>953864</th>\n",
              "      <td>northeuralex</td>\n",
              "      <td>ita-999_learn-2</td>\n",
              "      <td>apːrɛndere</td>\n",
              "      <td>aprendere</td>\n",
              "      <td>learn</td>\n",
              "      <td>504</td>\n",
              "      <td>LEARN</td>\n",
              "      <td>Action/Process</td>\n",
              "      <td>Cognition</td>\n",
              "      <td>Italian</td>\n",
              "      <td>ital1282</td>\n",
              "      <td>ita</td>\n",
              "      <td>Eurasia</td>\n",
              "      <td>Indo-European</td>\n",
              "      <td>43.0464</td>\n",
              "      <td>12.6489</td>\n",
              "    </tr>\n",
              "    <tr>\n",
              "      <th>953989</th>\n",
              "      <td>northeuralex</td>\n",
              "      <td>ita-99_slope-1</td>\n",
              "      <td>pendio</td>\n",
              "      <td>pendio</td>\n",
              "      <td>slope</td>\n",
              "      <td>3076</td>\n",
              "      <td>SLOPE</td>\n",
              "      <td>Person/Thing</td>\n",
              "      <td>The physical world</td>\n",
              "      <td>Italian</td>\n",
              "      <td>ital1282</td>\n",
              "      <td>ita</td>\n",
              "      <td>Eurasia</td>\n",
              "      <td>Indo-European</td>\n",
              "      <td>43.0464</td>\n",
              "      <td>12.6489</td>\n",
              "    </tr>\n",
              "    <tr>\n",
              "      <th>954116</th>\n",
              "      <td>northeuralex</td>\n",
              "      <td>ita-9_face-1</td>\n",
              "      <td>vizo</td>\n",
              "      <td>vizo</td>\n",
              "      <td>face</td>\n",
              "      <td>1560</td>\n",
              "      <td>FACE</td>\n",
              "      <td>Person/Thing</td>\n",
              "      <td>The body</td>\n",
              "      <td>Italian</td>\n",
              "      <td>ital1282</td>\n",
              "      <td>ita</td>\n",
              "      <td>Eurasia</td>\n",
              "      <td>Indo-European</td>\n",
              "      <td>43.0464</td>\n",
              "      <td>12.6489</td>\n",
              "    </tr>\n",
              "    <tr>\n",
              "      <th>954117</th>\n",
              "      <td>northeuralex</td>\n",
              "      <td>ita-9_face-2</td>\n",
              "      <td>fatt͡ʃa</td>\n",
              "      <td>fattsa</td>\n",
              "      <td>face</td>\n",
              "      <td>1560</td>\n",
              "      <td>FACE</td>\n",
              "      <td>Person/Thing</td>\n",
              "      <td>The body</td>\n",
              "      <td>Italian</td>\n",
              "      <td>ital1282</td>\n",
              "      <td>ita</td>\n",
              "      <td>Eurasia</td>\n",
              "      <td>Indo-European</td>\n",
              "      <td>43.0464</td>\n",
              "      <td>12.6489</td>\n",
              "    </tr>\n",
              "  </tbody>\n",
              "</table>\n",
              "<p>2716 rows × 16 columns</p>\n",
              "</div>"
            ],
            "text/plain": [
              "          dataset_ID          Form_ID  ... Latitude Longitude\n",
              "208056           ids      170-1-100-1  ...  43.0464   12.6489\n",
              "208433           ids      170-1-210-1  ...  43.0464   12.6489\n",
              "208928           ids      170-1-212-1  ...  43.0464   12.6489\n",
              "208929           ids      170-1-212-2  ...  43.0464   12.6489\n",
              "209371           ids      170-1-213-1  ...  43.0464   12.6489\n",
              "...              ...              ...  ...      ...       ...\n",
              "953863  northeuralex  ita-999_learn-1  ...  43.0464   12.6489\n",
              "953864  northeuralex  ita-999_learn-2  ...  43.0464   12.6489\n",
              "953989  northeuralex   ita-99_slope-1  ...  43.0464   12.6489\n",
              "954116  northeuralex     ita-9_face-1  ...  43.0464   12.6489\n",
              "954117  northeuralex     ita-9_face-2  ...  43.0464   12.6489\n",
              "\n",
              "[2716 rows x 16 columns]"
            ]
          },
          "metadata": {
            "tags": []
          },
          "execution_count": 9
        }
      ]
    },
    {
      "cell_type": "code",
      "metadata": {
        "colab": {
          "base_uri": "https://localhost:8080/"
        },
        "id": "DeUaH0_3Drph",
        "outputId": "c4cad9fc-b788-4d56-e648-bfdda981e7c7"
      },
      "source": [
        "df['Macroarea'].value_counts()"
      ],
      "execution_count": null,
      "outputs": [
        {
          "output_type": "execute_result",
          "data": {
            "text/plain": [
              "Eurasia          630764\n",
              "Papunesia        340588\n",
              "Africa           149941\n",
              "South America    117593\n",
              "Australia         41036\n",
              "North America     22827\n",
              "Name: Macroarea, dtype: int64"
            ]
          },
          "metadata": {
            "tags": []
          },
          "execution_count": 4
        }
      ]
    },
    {
      "cell_type": "markdown",
      "metadata": {
        "id": "kPyKRvc6FTHc"
      },
      "source": [
        "Count unique values per column"
      ]
    },
    {
      "cell_type": "code",
      "metadata": {
        "colab": {
          "base_uri": "https://localhost:8080/"
        },
        "id": "EDqg8JuqE16h",
        "outputId": "2408f1c5-bd9e-4f60-9335-c25c32fa8c99"
      },
      "source": [
        "df.nunique()"
      ],
      "execution_count": null,
      "outputs": [
        {
          "output_type": "execute_result",
          "data": {
            "text/plain": [
              "dataset_ID                   30\n",
              "Form_ID                 1390584\n",
              "Form                     913591\n",
              "clics_form               706169\n",
              "gloss_in_source            7260\n",
              "Concepticon_ID             2919\n",
              "Concepticon_Gloss          2919\n",
              "Ontological_Category          6\n",
              "Semantic_Field               24\n",
              "variety                    3050\n",
              "Glottocode                 2279\n",
              "ISO639P3code               1845\n",
              "Macroarea                     6\n",
              "Family                      201\n",
              "Latitude                   1850\n",
              "Longitude                  1835\n",
              "dtype: int64"
            ]
          },
          "metadata": {
            "tags": []
          },
          "execution_count": 7
        }
      ]
    },
    {
      "cell_type": "markdown",
      "metadata": {
        "id": "mwcUvV8NPJwd"
      },
      "source": [
        "Distribution of concepts per family"
      ]
    },
    {
      "cell_type": "code",
      "metadata": {
        "colab": {
          "base_uri": "https://localhost:8080/"
        },
        "id": "IYal3aBlOXEG",
        "outputId": "d6fbfd32-0534-4313-a84c-adbc7ec3d296"
      },
      "source": [
        "df.groupby('Family').size().describe()"
      ],
      "execution_count": null,
      "outputs": [
        {
          "output_type": "execute_result",
          "data": {
            "text/plain": [
              "count       201.000000\n",
              "mean       6808.477612\n",
              "std       24539.735747\n",
              "min           4.000000\n",
              "25%         201.000000\n",
              "50%         895.000000\n",
              "75%        1776.000000\n",
              "max      181678.000000\n",
              "dtype: float64"
            ]
          },
          "metadata": {
            "tags": []
          },
          "execution_count": 8
        }
      ]
    },
    {
      "cell_type": "code",
      "metadata": {
        "colab": {
          "base_uri": "https://localhost:8080/"
        },
        "id": "JbQ7VhgJPSTM",
        "outputId": "39923c3c-7e9c-4997-ea00-7efe6d68d04c"
      },
      "source": [
        "df.groupby('Family').size().sort_values(ascending=True)"
      ],
      "execution_count": null,
      "outputs": [
        {
          "output_type": "execute_result",
          "data": {
            "text/plain": [
              "Family\n",
              "Pahoturi                         4\n",
              "Leco                             7\n",
              "Yuracaré                         7\n",
              "Chiquitano                       7\n",
              "Kwaza                           13\n",
              "                             ...  \n",
              "Nuclear Trans New Guinea    109788\n",
              "Sino-Tibetan                133819\n",
              "Nakh-Daghestanian           137145\n",
              "Austronesian                156014\n",
              "Indo-European               181678\n",
              "Length: 201, dtype: int64"
            ]
          },
          "metadata": {
            "tags": []
          },
          "execution_count": 9
        }
      ]
    },
    {
      "cell_type": "code",
      "metadata": {
        "id": "39OfINMSrpyz"
      },
      "source": [
        "concept_in_fam = list(df.groupby('Family').size())"
      ],
      "execution_count": 34,
      "outputs": []
    },
    {
      "cell_type": "code",
      "metadata": {
        "colab": {
          "base_uri": "https://localhost:8080/",
          "height": 295
        },
        "id": "pcv5XP9Nro6M",
        "outputId": "e28a1ac5-2025-4ba4-9b97-ed4c6be65ee8"
      },
      "source": [
        "plt.plot(sorted(concept_in_fam))\n",
        "plt.title(\"Distribution of concepts per family\")\n",
        "plt.ylabel('Number of concepts')\n",
        "plt.xlabel(\"Families' index\")\n",
        "plt.show()"
      ],
      "execution_count": 35,
      "outputs": [
        {
          "output_type": "display_data",
          "data": {
            "image/png": "[encoded data removed]",
            "text/plain": [
              "<Figure size 432x288 with 1 Axes>"
            ]
          },
          "metadata": {
            "tags": [],
            "needs_background": "light"
          }
        }
      ]
    },
    {
      "cell_type": "markdown",
      "metadata": {
        "id": "zOjvDYILOXi2"
      },
      "source": [
        "Analysis on the distribution of glottocode per family"
      ]
    },
    {
      "cell_type": "code",
      "metadata": {
        "id": "TZrV8QrhDjSE"
      },
      "source": [
        "df_fam = df[['Family','Glottocode']].copy()"
      ],
      "execution_count": 5,
      "outputs": []
    },
    {
      "cell_type": "code",
      "metadata": {
        "id": "KyydAwqYDsIH"
      },
      "source": [
        "df_fam=df_fam.drop_duplicates()"
      ],
      "execution_count": 7,
      "outputs": []
    },
    {
      "cell_type": "code",
      "metadata": {
        "colab": {
          "base_uri": "https://localhost:8080/",
          "height": 111
        },
        "id": "lpmaS2uVDvC5",
        "outputId": "859b883a-8a26-4fc6-930d-05164242adcb"
      },
      "source": [
        "df_fam.head(2)"
      ],
      "execution_count": 17,
      "outputs": [
        {
          "output_type": "execute_result",
          "data": {
            "text/html": [
              "<div>\n",
              "<style scoped>\n",
              "    .dataframe tbody tr th:only-of-type {\n",
              "        vertical-align: middle;\n",
              "    }\n",
              "\n",
              "    .dataframe tbody tr th {\n",
              "        vertical-align: top;\n",
              "    }\n",
              "\n",
              "    .dataframe thead th {\n",
              "        text-align: right;\n",
              "    }\n",
              "</style>\n",
              "<table border=\"1\" class=\"dataframe\">\n",
              "  <thead>\n",
              "    <tr style=\"text-align: right;\">\n",
              "      <th></th>\n",
              "      <th>Family</th>\n",
              "      <th>Glottocode</th>\n",
              "    </tr>\n",
              "  </thead>\n",
              "  <tbody>\n",
              "    <tr>\n",
              "      <th>0</th>\n",
              "      <td>Sino-Tibetan</td>\n",
              "      <td>bich1234</td>\n",
              "    </tr>\n",
              "    <tr>\n",
              "      <th>1</th>\n",
              "      <td>Sino-Tibetan</td>\n",
              "      <td>kasp1234</td>\n",
              "    </tr>\n",
              "  </tbody>\n",
              "</table>\n",
              "</div>"
            ],
            "text/plain": [
              "         Family Glottocode\n",
              "0  Sino-Tibetan   bich1234\n",
              "1  Sino-Tibetan   kasp1234"
            ]
          },
          "metadata": {
            "tags": []
          },
          "execution_count": 17
        }
      ]
    },
    {
      "cell_type": "code",
      "metadata": {
        "colab": {
          "base_uri": "https://localhost:8080/"
        },
        "id": "CHXJSkqIC65V",
        "outputId": "eb315e26-c85d-415d-b9aa-47646d738032"
      },
      "source": [
        "df_fam.groupby('Family').size().describe()"
      ],
      "execution_count": null,
      "outputs": [
        {
          "output_type": "execute_result",
          "data": {
            "text/plain": [
              "count    201.000000\n",
              "mean      11.318408\n",
              "std       42.064452\n",
              "min        1.000000\n",
              "25%        1.000000\n",
              "50%        2.000000\n",
              "75%        4.000000\n",
              "max      395.000000\n",
              "dtype: float64"
            ]
          },
          "metadata": {
            "tags": []
          },
          "execution_count": 13
        }
      ]
    },
    {
      "cell_type": "code",
      "metadata": {
        "colab": {
          "base_uri": "https://localhost:8080/"
        },
        "id": "1cfJm1cVR_qc",
        "outputId": "064fb62f-2b34-4834-a4e2-177c49bd409b"
      },
      "source": [
        "df_fam.groupby('Family').size().sort_values(ascending=True)"
      ],
      "execution_count": null,
      "outputs": [
        {
          "output_type": "execute_result",
          "data": {
            "text/plain": [
              "Family\n",
              "Zuni                          1\n",
              "Karok                         1\n",
              "Kapori                        1\n",
              "Pawaia                        1\n",
              "Peba-Yagua                    1\n",
              "                           ... \n",
              "Pama-Nyungan                172\n",
              "Indo-European               173\n",
              "Sino-Tibetan                184\n",
              "Nuclear Trans New Guinea    307\n",
              "Austronesian                395\n",
              "Length: 201, dtype: int64"
            ]
          },
          "metadata": {
            "tags": []
          },
          "execution_count": 14
        }
      ]
    },
    {
      "cell_type": "code",
      "metadata": {
        "id": "3d-Dv7xUmA_8"
      },
      "source": [
        "glot_in_fam = list(df_fam.groupby('Family').size())"
      ],
      "execution_count": 31,
      "outputs": []
    },
    {
      "cell_type": "code",
      "metadata": {
        "colab": {
          "base_uri": "https://localhost:8080/",
          "height": 295
        },
        "id": "yncw_139ngHU",
        "outputId": "d237853a-f061-46a0-ea5d-57c8a0b422f4"
      },
      "source": [
        "plt.plot(sorted(glot_in_fam))\n",
        "plt.title(\"Distribution of languages per family\")\n",
        "plt.ylabel('Number of languages')\n",
        "plt.xlabel(\"Families' index\")\n",
        "plt.show()"
      ],
      "execution_count": 33,
      "outputs": [
        {
          "output_type": "display_data",
          "data": {
            "image/png": "[encoded data removed]",
            "text/plain": [
              "<Figure size 432x288 with 1 Axes>"
            ]
          },
          "metadata": {
            "tags": [],
            "needs_background": "light"
          }
        }
      ]
    },
    {
      "cell_type": "markdown",
      "metadata": {
        "id": "RDysCZDWOcdC"
      },
      "source": [
        "null values"
      ]
    },
    {
      "cell_type": "code",
      "metadata": {
        "colab": {
          "base_uri": "https://localhost:8080/"
        },
        "id": "B8Bh5Q2UzJ4F",
        "outputId": "22f484d8-6502-4a92-c1cf-62d4aa8e80f8"
      },
      "source": [
        "df.isna().sum()"
      ],
      "execution_count": null,
      "outputs": [
        {
          "output_type": "execute_result",
          "data": {
            "text/plain": [
              "dataset_ID                   0\n",
              "Form_ID                      0\n",
              "Form                        87\n",
              "clics_form                 441\n",
              "gloss_in_source          64676\n",
              "Concepticon_ID               0\n",
              "Concepticon_Gloss            0\n",
              "Ontological_Category         0\n",
              "Semantic_Field             108\n",
              "variety                      0\n",
              "Glottocode               19627\n",
              "ISO639P3code            206325\n",
              "Macroarea                87845\n",
              "Family                   22090\n",
              "Latitude                226992\n",
              "Longitude               226992\n",
              "dtype: int64"
            ]
          },
          "metadata": {
            "tags": []
          },
          "execution_count": 15
        }
      ]
    },
    {
      "cell_type": "markdown",
      "metadata": {
        "id": "xO2FeA_dc9tn"
      },
      "source": [
        "Adding tokenized column for a deeper analysis"
      ]
    },
    {
      "cell_type": "code",
      "metadata": {
        "id": "oallmJvtdCXq"
      },
      "source": [
        "df['tk_variety']=df['variety'].apply(nltk.tokenize.word_tokenize)\n"
      ],
      "execution_count": null,
      "outputs": []
    },
    {
      "cell_type": "markdown",
      "metadata": {
        "id": "BvaxVBsThEwL"
      },
      "source": [
        "As soon as we find a diachronic variety, this is printed and the for stopped"
      ]
    },
    {
      "cell_type": "code",
      "metadata": {
        "colab": {
          "base_uri": "https://localhost:8080/"
        },
        "id": "3pkzYTYhg3zt",
        "outputId": "0633c735-08e8-4a98-d115-c8ac3537d6b6"
      },
      "source": [
        "for i in range(len(df['tk_variety'])):\n",
        "  r = df['tk_variety'].iloc[i]\n",
        "  if any((v == \"Gothic\") for v in r): # change key word\n",
        "    print (r)\n",
        "    break"
      ],
      "execution_count": null,
      "outputs": [
        {
          "output_type": "stream",
          "text": [
            "['Gothic']\n"
          ],
          "name": "stdout"
        }
      ]
    },
    {
      "cell_type": "markdown",
      "metadata": {
        "id": "_pnoAS1mhKRN"
      },
      "source": [
        "Count how many entries' varieties contains..."
      ]
    },
    {
      "cell_type": "code",
      "metadata": {
        "id": "JD5ZBMG1dvwh"
      },
      "source": [
        "c = 0\n",
        "for i in range(len(df['tk_variety'])):\n",
        "  r = df['tk_variety'].iloc[i]\n",
        "  if any((v == \"Gothic\") for v in r): # change key word\n",
        "    c+=1\n",
        "print (c)"
      ],
      "execution_count": null,
      "outputs": []
    },
    {
      "cell_type": "markdown",
      "metadata": {
        "id": "h26J6FYO65cb"
      },
      "source": [
        "Check for duplicated rows"
      ]
    },
    {
      "cell_type": "code",
      "metadata": {
        "colab": {
          "base_uri": "https://localhost:8080/",
          "height": 779
        },
        "id": "0kl6IOCp1dN5",
        "outputId": "6e9c568a-7008-400f-e6c2-af666abbbfb5"
      },
      "source": [
        "df.loc[df.astype(str).drop_duplicates().index]"
      ],
      "execution_count": null,
      "outputs": [
        {
          "output_type": "execute_result",
          "data": {
            "text/html": [
              "<div>\n",
              "<style scoped>\n",
              "    .dataframe tbody tr th:only-of-type {\n",
              "        vertical-align: middle;\n",
              "    }\n",
              "\n",
              "    .dataframe tbody tr th {\n",
              "        vertical-align: top;\n",
              "    }\n",
              "\n",
              "    .dataframe thead th {\n",
              "        text-align: right;\n",
              "    }\n",
              "</style>\n",
              "<table border=\"1\" class=\"dataframe\">\n",
              "  <thead>\n",
              "    <tr style=\"text-align: right;\">\n",
              "      <th></th>\n",
              "      <th>dataset_ID</th>\n",
              "      <th>Form_ID</th>\n",
              "      <th>Form</th>\n",
              "      <th>clics_form</th>\n",
              "      <th>gloss_in_source</th>\n",
              "      <th>Concepticon_ID</th>\n",
              "      <th>Concepticon_Gloss</th>\n",
              "      <th>Ontological_Category</th>\n",
              "      <th>Semantic_Field</th>\n",
              "      <th>variety</th>\n",
              "      <th>Glottocode</th>\n",
              "      <th>ISO639P3code</th>\n",
              "      <th>Macroarea</th>\n",
              "      <th>Family</th>\n",
              "      <th>Latitude</th>\n",
              "      <th>Longitude</th>\n",
              "      <th>tk_variety</th>\n",
              "    </tr>\n",
              "  </thead>\n",
              "  <tbody>\n",
              "    <tr>\n",
              "      <th>0</th>\n",
              "      <td>abrahammonpa</td>\n",
              "      <td>BugunBichom-100_gold-1</td>\n",
              "      <td>san</td>\n",
              "      <td>san</td>\n",
              "      <td>gold</td>\n",
              "      <td>1369</td>\n",
              "      <td>GOLD</td>\n",
              "      <td>Person/Thing</td>\n",
              "      <td>Basic actions and technology</td>\n",
              "      <td>Bugun Bichom</td>\n",
              "      <td>bich1234</td>\n",
              "      <td>NaN</td>\n",
              "      <td>NaN</td>\n",
              "      <td>Sino-Tibetan</td>\n",
              "      <td>NaN</td>\n",
              "      <td>NaN</td>\n",
              "      <td>[Bugun, Bichom]</td>\n",
              "    </tr>\n",
              "    <tr>\n",
              "      <th>1</th>\n",
              "      <td>abrahammonpa</td>\n",
              "      <td>BugunKaspi-100_gold-1</td>\n",
              "      <td>san</td>\n",
              "      <td>san</td>\n",
              "      <td>gold</td>\n",
              "      <td>1369</td>\n",
              "      <td>GOLD</td>\n",
              "      <td>Person/Thing</td>\n",
              "      <td>Basic actions and technology</td>\n",
              "      <td>Bugun Kaspi</td>\n",
              "      <td>kasp1234</td>\n",
              "      <td>NaN</td>\n",
              "      <td>NaN</td>\n",
              "      <td>Sino-Tibetan</td>\n",
              "      <td>NaN</td>\n",
              "      <td>NaN</td>\n",
              "      <td>[Bugun, Kaspi]</td>\n",
              "    </tr>\n",
              "    <tr>\n",
              "      <th>2</th>\n",
              "      <td>abrahammonpa</td>\n",
              "      <td>BugunNamphri-100_gold-1</td>\n",
              "      <td>san</td>\n",
              "      <td>san</td>\n",
              "      <td>gold</td>\n",
              "      <td>1369</td>\n",
              "      <td>GOLD</td>\n",
              "      <td>Person/Thing</td>\n",
              "      <td>Basic actions and technology</td>\n",
              "      <td>Bugun Namphri</td>\n",
              "      <td>namp1239</td>\n",
              "      <td>NaN</td>\n",
              "      <td>NaN</td>\n",
              "      <td>Sino-Tibetan</td>\n",
              "      <td>NaN</td>\n",
              "      <td>NaN</td>\n",
              "      <td>[Bugun, Namphri]</td>\n",
              "    </tr>\n",
              "    <tr>\n",
              "      <th>3</th>\n",
              "      <td>abrahammonpa</td>\n",
              "      <td>BugunSingchung-100_gold-1</td>\n",
              "      <td>san</td>\n",
              "      <td>san</td>\n",
              "      <td>gold</td>\n",
              "      <td>1369</td>\n",
              "      <td>GOLD</td>\n",
              "      <td>Person/Thing</td>\n",
              "      <td>Basic actions and technology</td>\n",
              "      <td>Bugun Singchung</td>\n",
              "      <td>sing1271</td>\n",
              "      <td>NaN</td>\n",
              "      <td>NaN</td>\n",
              "      <td>Sino-Tibetan</td>\n",
              "      <td>NaN</td>\n",
              "      <td>NaN</td>\n",
              "      <td>[Bugun, Singchung]</td>\n",
              "    </tr>\n",
              "    <tr>\n",
              "      <th>4</th>\n",
              "      <td>abrahammonpa</td>\n",
              "      <td>BugunWangho-100_gold-1</td>\n",
              "      <td>san</td>\n",
              "      <td>san</td>\n",
              "      <td>gold</td>\n",
              "      <td>1369</td>\n",
              "      <td>GOLD</td>\n",
              "      <td>Person/Thing</td>\n",
              "      <td>Basic actions and technology</td>\n",
              "      <td>Bugun Wangho</td>\n",
              "      <td>wang1301</td>\n",
              "      <td>NaN</td>\n",
              "      <td>NaN</td>\n",
              "      <td>Sino-Tibetan</td>\n",
              "      <td>NaN</td>\n",
              "      <td>NaN</td>\n",
              "      <td>[Bugun, Wangho]</td>\n",
              "    </tr>\n",
              "    <tr>\n",
              "      <th>...</th>\n",
              "      <td>...</td>\n",
              "      <td>...</td>\n",
              "      <td>...</td>\n",
              "      <td>...</td>\n",
              "      <td>...</td>\n",
              "      <td>...</td>\n",
              "      <td>...</td>\n",
              "      <td>...</td>\n",
              "      <td>...</td>\n",
              "      <td>...</td>\n",
              "      <td>...</td>\n",
              "      <td>...</td>\n",
              "      <td>...</td>\n",
              "      <td>...</td>\n",
              "      <td>...</td>\n",
              "      <td>...</td>\n",
              "      <td>...</td>\n",
              "    </tr>\n",
              "    <tr>\n",
              "      <th>1390589</th>\n",
              "      <td>zgraggenmadang</td>\n",
              "      <td>yaben-9_boy-1</td>\n",
              "      <td>waw moya</td>\n",
              "      <td>wawmoya</td>\n",
              "      <td>boy</td>\n",
              "      <td>1366</td>\n",
              "      <td>BOY</td>\n",
              "      <td>Person/Thing</td>\n",
              "      <td>Kinship</td>\n",
              "      <td>yaben</td>\n",
              "      <td>yabe1255</td>\n",
              "      <td>ybm</td>\n",
              "      <td>Papunesia</td>\n",
              "      <td>Nuclear Trans New Guinea</td>\n",
              "      <td>-4.90868</td>\n",
              "      <td>145.361</td>\n",
              "      <td>[yaben]</td>\n",
              "    </tr>\n",
              "    <tr>\n",
              "      <th>1390590</th>\n",
              "      <td>zgraggenmadang</td>\n",
              "      <td>yangulam-9_boy-1</td>\n",
              "      <td>ilaŋgum</td>\n",
              "      <td>ilanggum</td>\n",
              "      <td>boy</td>\n",
              "      <td>1366</td>\n",
              "      <td>BOY</td>\n",
              "      <td>Person/Thing</td>\n",
              "      <td>Kinship</td>\n",
              "      <td>yangulam</td>\n",
              "      <td>yang1298</td>\n",
              "      <td>ynl</td>\n",
              "      <td>Papunesia</td>\n",
              "      <td>Nuclear Trans New Guinea</td>\n",
              "      <td>-5.52697</td>\n",
              "      <td>145.858</td>\n",
              "      <td>[yangulam]</td>\n",
              "    </tr>\n",
              "    <tr>\n",
              "      <th>1390591</th>\n",
              "      <td>zgraggenmadang</td>\n",
              "      <td>yangulam-9_boy-2</td>\n",
              "      <td>monaguru</td>\n",
              "      <td>monaguru</td>\n",
              "      <td>boy</td>\n",
              "      <td>1366</td>\n",
              "      <td>BOY</td>\n",
              "      <td>Person/Thing</td>\n",
              "      <td>Kinship</td>\n",
              "      <td>yangulam</td>\n",
              "      <td>yang1298</td>\n",
              "      <td>ynl</td>\n",
              "      <td>Papunesia</td>\n",
              "      <td>Nuclear Trans New Guinea</td>\n",
              "      <td>-5.52697</td>\n",
              "      <td>145.858</td>\n",
              "      <td>[yangulam]</td>\n",
              "    </tr>\n",
              "    <tr>\n",
              "      <th>1390592</th>\n",
              "      <td>zgraggenmadang</td>\n",
              "      <td>yarawata-9_boy-1</td>\n",
              "      <td>wa tamana</td>\n",
              "      <td>watamana</td>\n",
              "      <td>boy</td>\n",
              "      <td>1366</td>\n",
              "      <td>BOY</td>\n",
              "      <td>Person/Thing</td>\n",
              "      <td>Kinship</td>\n",
              "      <td>yarawata</td>\n",
              "      <td>yara1250</td>\n",
              "      <td>yrw</td>\n",
              "      <td>Papunesia</td>\n",
              "      <td>Nuclear Trans New Guinea</td>\n",
              "      <td>-4.93943</td>\n",
              "      <td>145.454</td>\n",
              "      <td>[yarawata]</td>\n",
              "    </tr>\n",
              "    <tr>\n",
              "      <th>1390593</th>\n",
              "      <td>zgraggenmadang</td>\n",
              "      <td>yoidik-9_boy-1</td>\n",
              "      <td>nahal pusaʔ</td>\n",
              "      <td>nahalpusa</td>\n",
              "      <td>boy</td>\n",
              "      <td>1366</td>\n",
              "      <td>BOY</td>\n",
              "      <td>Person/Thing</td>\n",
              "      <td>Kinship</td>\n",
              "      <td>yoidik</td>\n",
              "      <td>yoid1240</td>\n",
              "      <td>ydk</td>\n",
              "      <td>Papunesia</td>\n",
              "      <td>Nuclear Trans New Guinea</td>\n",
              "      <td>-4.94044</td>\n",
              "      <td>145.758</td>\n",
              "      <td>[yoidik]</td>\n",
              "    </tr>\n",
              "  </tbody>\n",
              "</table>\n",
              "<p>1390594 rows × 17 columns</p>\n",
              "</div>"
            ],
            "text/plain": [
              "             dataset_ID  ...          tk_variety\n",
              "0          abrahammonpa  ...     [Bugun, Bichom]\n",
              "1          abrahammonpa  ...      [Bugun, Kaspi]\n",
              "2          abrahammonpa  ...    [Bugun, Namphri]\n",
              "3          abrahammonpa  ...  [Bugun, Singchung]\n",
              "4          abrahammonpa  ...     [Bugun, Wangho]\n",
              "...                 ...  ...                 ...\n",
              "1390589  zgraggenmadang  ...             [yaben]\n",
              "1390590  zgraggenmadang  ...          [yangulam]\n",
              "1390591  zgraggenmadang  ...          [yangulam]\n",
              "1390592  zgraggenmadang  ...          [yarawata]\n",
              "1390593  zgraggenmadang  ...            [yoidik]\n",
              "\n",
              "[1390594 rows x 17 columns]"
            ]
          },
          "metadata": {
            "tags": []
          },
          "execution_count": 19
        }
      ]
    },
    {
      "cell_type": "markdown",
      "metadata": {
        "id": "JDMSTthY4OX9"
      },
      "source": [
        "Using a flag column, check concepticon with multiword, parentheses and OR"
      ]
    },
    {
      "cell_type": "code",
      "metadata": {
        "id": "dBQJhx9B8q3Y"
      },
      "source": [
        "# create column with word count: flag > 0 if multiword\n",
        "df['flag'] = df['Concepticon_Gloss'].str.count(' ')"
      ],
      "execution_count": null,
      "outputs": []
    },
    {
      "cell_type": "code",
      "metadata": {
        "colab": {
          "base_uri": "https://localhost:8080/"
        },
        "id": "zvyrhEKD8tML",
        "outputId": "b6bc3355-e96e-44a3-f92f-005e84e17ea4"
      },
      "source": [
        "symb=set('(-&')\n",
        "for i in range(len(df['Concepticon_Gloss'])):\n",
        "  r = df['Concepticon_Gloss'].iloc[i]\n",
        "  if any((s in symb) for s in r):\n",
        "    df['flag'].iloc[i]+=1"
      ],
      "execution_count": null,
      "outputs": [
        {
          "output_type": "stream",
          "text": [
            "/usr/local/lib/python3.6/dist-packages/pandas/core/indexing.py:670: SettingWithCopyWarning: \n",
            "A value is trying to be set on a copy of a slice from a DataFrame\n",
            "\n",
            "See the caveats in the documentation: https://pandas.pydata.org/pandas-docs/stable/user_guide/indexing.html#returning-a-view-versus-a-copy\n",
            "  iloc._setitem_with_indexer(indexer, value)\n"
          ],
          "name": "stderr"
        }
      ]
    },
    {
      "cell_type": "code",
      "metadata": {
        "id": "AjuKtXS78wzW"
      },
      "source": [
        "l=[]\n",
        "for i in range(len(df['Concepticon_Gloss'])):\n",
        "  r = df['Concepticon_Gloss'].iloc[i]\n",
        "  n = df['flag'].iloc[i]\n",
        "  if n > 0:\n",
        "    l.append(r)"
      ],
      "execution_count": null,
      "outputs": []
    },
    {
      "cell_type": "code",
      "metadata": {
        "id": "I4YMbAT_9Q66"
      },
      "source": [
        "l=set(l)"
      ],
      "execution_count": null,
      "outputs": []
    },
    {
      "cell_type": "code",
      "metadata": {
        "id": "55B66oHu9YQc",
        "colab": {
          "base_uri": "https://localhost:8080/"
        },
        "outputId": "fcf29b57-c5bf-44f6-fd68-82bd5f35845a"
      },
      "source": [
        "len(l)"
      ],
      "execution_count": null,
      "outputs": [
        {
          "output_type": "execute_result",
          "data": {
            "text/plain": [
              "908"
            ]
          },
          "metadata": {
            "tags": []
          },
          "execution_count": 24
        }
      ]
    },
    {
      "cell_type": "code",
      "metadata": {
        "id": "slutdBI79Ftl"
      },
      "source": [
        "# save in a txt file\n",
        "l= sorted(l)\n",
        "with open('multiWConcepts.txt', 'w') as f:\n",
        "    for item in l:\n",
        "        f.write(\"%s\\n\" % item)"
      ],
      "execution_count": null,
      "outputs": []
    }
  ]
}