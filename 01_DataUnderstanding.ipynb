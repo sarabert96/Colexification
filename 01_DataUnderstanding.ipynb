{
  "nbformat": 4,
  "nbformat_minor": 0,
  "metadata": {
    "colab": {
      "name": "01_DataUnderstanding.ipynb",
      "provenance": [],
      "toc_visible": true,
      "authorship_tag": "ABX9TyM+4BShoK10+yAfWdgbeOP1",
      "include_colab_link": true
    },
    "kernelspec": {
      "name": "python3",
      "display_name": "Python 3"
    }
  },
  "cells": [
    {
      "cell_type": "markdown",
      "metadata": {
        "id": "view-in-github",
        "colab_type": "text"
      },
      "source": [
        "<a href=\"https://colab.research.google.com/github/sarabert96/Colexification/blob/main/01_DataUnderstanding.ipynb\" target=\"_parent\"><img src=\"https://colab.research.google.com/assets/colab-badge.svg\" alt=\"Open In Colab\"/></a>"
      ]
    },
    {
      "cell_type": "markdown",
      "metadata": {
        "id": "lmPG_i4MWh1E"
      },
      "source": [
        "# CLICS 3 Data Understanding"
      ]
    },
    {
      "cell_type": "markdown",
      "metadata": {
        "id": "JF146xPNWtlK"
      },
      "source": [
        "Import libraries"
      ]
    },
    {
      "cell_type": "code",
      "metadata": {
        "colab": {
          "base_uri": "https://localhost:8080/"
        },
        "id": "DGdmsiVjWUF8",
        "outputId": "c8ec3c77-6f4b-4cff-8709-f3c889bd2557"
      },
      "source": [
        "import pandas as pd\r\n",
        "from google.colab import files\r\n",
        "import nltk\r\n",
        "nltk.download('punkt')"
      ],
      "execution_count": 1,
      "outputs": [
        {
          "output_type": "stream",
          "text": [
            "[nltk_data] Downloading package punkt to /root/nltk_data...\n",
            "[nltk_data]   Unzipping tokenizers/punkt.zip.\n"
          ],
          "name": "stdout"
        },
        {
          "output_type": "execute_result",
          "data": {
            "text/plain": [
              "True"
            ]
          },
          "metadata": {
            "tags": []
          },
          "execution_count": 1
        }
      ]
    },
    {
      "cell_type": "markdown",
      "metadata": {
        "id": "WMmJ84JXZZLU"
      },
      "source": [
        "Obtaining raw dataframe from Google Drive"
      ]
    },
    {
      "cell_type": "code",
      "metadata": {
        "colab": {
          "base_uri": "https://localhost:8080/"
        },
        "id": "EGIUY4dqW09G",
        "outputId": "542f1eb8-7d2b-42cf-a17d-613925ff0936"
      },
      "source": [
        "!gdown --id 1O4Ofd0xX6I1eGcYPOQ0ET2_w-MEB5ybR #df_all_raw"
      ],
      "execution_count": 2,
      "outputs": [
        {
          "output_type": "stream",
          "text": [
            "Downloading...\n",
            "From: https://drive.google.com/uc?id=1O4Ofd0xX6I1eGcYPOQ0ET2_w-MEB5ybR\n",
            "To: /content/df_all_raw.csv\n",
            "212MB [00:01, 127MB/s]\n"
          ],
          "name": "stdout"
        }
      ]
    },
    {
      "cell_type": "code",
      "metadata": {
        "colab": {
          "base_uri": "https://localhost:8080/"
        },
        "id": "OkcXX1Wht5Eb",
        "outputId": "bad303bc-8d7b-4009-80fe-3391098e62bf"
      },
      "source": [
        "df = pd.read_csv('df_all_raw.csv')"
      ],
      "execution_count": 3,
      "outputs": [
        {
          "output_type": "stream",
          "text": [
            "/usr/local/lib/python3.6/dist-packages/IPython/core/interactiveshell.py:2718: DtypeWarning: Columns (4) have mixed types.Specify dtype option on import or set low_memory=False.\n",
            "  interactivity=interactivity, compiler=compiler, result=result)\n"
          ],
          "name": "stderr"
        }
      ]
    },
    {
      "cell_type": "code",
      "metadata": {
        "colab": {
          "base_uri": "https://localhost:8080/"
        },
        "id": "QMxErwuatDMe",
        "outputId": "27864452-84d8-42ca-bf6b-feaa78faa645"
      },
      "source": [
        "df.shape"
      ],
      "execution_count": 5,
      "outputs": [
        {
          "output_type": "execute_result",
          "data": {
            "text/plain": [
              "(1390594, 16)"
            ]
          },
          "metadata": {
            "tags": []
          },
          "execution_count": 5
        }
      ]
    },
    {
      "cell_type": "code",
      "metadata": {
        "colab": {
          "base_uri": "https://localhost:8080/",
          "height": 289
        },
        "id": "SrZlw6QPuRXL",
        "outputId": "0f34dde2-7b8f-4c64-89df-bed5ce617acf"
      },
      "source": [
        "df.head()"
      ],
      "execution_count": 6,
      "outputs": [
        {
          "output_type": "execute_result",
          "data": {
            "text/html": [
              "<div>\n",
              "<style scoped>\n",
              "    .dataframe tbody tr th:only-of-type {\n",
              "        vertical-align: middle;\n",
              "    }\n",
              "\n",
              "    .dataframe tbody tr th {\n",
              "        vertical-align: top;\n",
              "    }\n",
              "\n",
              "    .dataframe thead th {\n",
              "        text-align: right;\n",
              "    }\n",
              "</style>\n",
              "<table border=\"1\" class=\"dataframe\">\n",
              "  <thead>\n",
              "    <tr style=\"text-align: right;\">\n",
              "      <th></th>\n",
              "      <th>dataset_ID</th>\n",
              "      <th>Form_ID</th>\n",
              "      <th>Form</th>\n",
              "      <th>clics_form</th>\n",
              "      <th>gloss_in_source</th>\n",
              "      <th>Concepticon_ID</th>\n",
              "      <th>Concepticon_Gloss</th>\n",
              "      <th>Ontological_Category</th>\n",
              "      <th>Semantic_Field</th>\n",
              "      <th>variety</th>\n",
              "      <th>Glottocode</th>\n",
              "      <th>ISO639P3code</th>\n",
              "      <th>Macroarea</th>\n",
              "      <th>Family</th>\n",
              "      <th>Latitude</th>\n",
              "      <th>Longitude</th>\n",
              "    </tr>\n",
              "  </thead>\n",
              "  <tbody>\n",
              "    <tr>\n",
              "      <th>0</th>\n",
              "      <td>abrahammonpa</td>\n",
              "      <td>BugunBichom-100_gold-1</td>\n",
              "      <td>san</td>\n",
              "      <td>san</td>\n",
              "      <td>gold</td>\n",
              "      <td>1369</td>\n",
              "      <td>GOLD</td>\n",
              "      <td>Person/Thing</td>\n",
              "      <td>Basic actions and technology</td>\n",
              "      <td>Bugun Bichom</td>\n",
              "      <td>bich1234</td>\n",
              "      <td>NaN</td>\n",
              "      <td>NaN</td>\n",
              "      <td>Sino-Tibetan</td>\n",
              "      <td>NaN</td>\n",
              "      <td>NaN</td>\n",
              "    </tr>\n",
              "    <tr>\n",
              "      <th>1</th>\n",
              "      <td>abrahammonpa</td>\n",
              "      <td>BugunKaspi-100_gold-1</td>\n",
              "      <td>san</td>\n",
              "      <td>san</td>\n",
              "      <td>gold</td>\n",
              "      <td>1369</td>\n",
              "      <td>GOLD</td>\n",
              "      <td>Person/Thing</td>\n",
              "      <td>Basic actions and technology</td>\n",
              "      <td>Bugun Kaspi</td>\n",
              "      <td>kasp1234</td>\n",
              "      <td>NaN</td>\n",
              "      <td>NaN</td>\n",
              "      <td>Sino-Tibetan</td>\n",
              "      <td>NaN</td>\n",
              "      <td>NaN</td>\n",
              "    </tr>\n",
              "    <tr>\n",
              "      <th>2</th>\n",
              "      <td>abrahammonpa</td>\n",
              "      <td>BugunNamphri-100_gold-1</td>\n",
              "      <td>san</td>\n",
              "      <td>san</td>\n",
              "      <td>gold</td>\n",
              "      <td>1369</td>\n",
              "      <td>GOLD</td>\n",
              "      <td>Person/Thing</td>\n",
              "      <td>Basic actions and technology</td>\n",
              "      <td>Bugun Namphri</td>\n",
              "      <td>namp1239</td>\n",
              "      <td>NaN</td>\n",
              "      <td>NaN</td>\n",
              "      <td>Sino-Tibetan</td>\n",
              "      <td>NaN</td>\n",
              "      <td>NaN</td>\n",
              "    </tr>\n",
              "    <tr>\n",
              "      <th>3</th>\n",
              "      <td>abrahammonpa</td>\n",
              "      <td>BugunSingchung-100_gold-1</td>\n",
              "      <td>san</td>\n",
              "      <td>san</td>\n",
              "      <td>gold</td>\n",
              "      <td>1369</td>\n",
              "      <td>GOLD</td>\n",
              "      <td>Person/Thing</td>\n",
              "      <td>Basic actions and technology</td>\n",
              "      <td>Bugun Singchung</td>\n",
              "      <td>sing1271</td>\n",
              "      <td>NaN</td>\n",
              "      <td>NaN</td>\n",
              "      <td>Sino-Tibetan</td>\n",
              "      <td>NaN</td>\n",
              "      <td>NaN</td>\n",
              "    </tr>\n",
              "    <tr>\n",
              "      <th>4</th>\n",
              "      <td>abrahammonpa</td>\n",
              "      <td>BugunWangho-100_gold-1</td>\n",
              "      <td>san</td>\n",
              "      <td>san</td>\n",
              "      <td>gold</td>\n",
              "      <td>1369</td>\n",
              "      <td>GOLD</td>\n",
              "      <td>Person/Thing</td>\n",
              "      <td>Basic actions and technology</td>\n",
              "      <td>Bugun Wangho</td>\n",
              "      <td>wang1301</td>\n",
              "      <td>NaN</td>\n",
              "      <td>NaN</td>\n",
              "      <td>Sino-Tibetan</td>\n",
              "      <td>NaN</td>\n",
              "      <td>NaN</td>\n",
              "    </tr>\n",
              "  </tbody>\n",
              "</table>\n",
              "</div>"
            ],
            "text/plain": [
              "     dataset_ID                    Form_ID  ... Latitude Longitude\n",
              "0  abrahammonpa     BugunBichom-100_gold-1  ...      NaN       NaN\n",
              "1  abrahammonpa      BugunKaspi-100_gold-1  ...      NaN       NaN\n",
              "2  abrahammonpa    BugunNamphri-100_gold-1  ...      NaN       NaN\n",
              "3  abrahammonpa  BugunSingchung-100_gold-1  ...      NaN       NaN\n",
              "4  abrahammonpa     BugunWangho-100_gold-1  ...      NaN       NaN\n",
              "\n",
              "[5 rows x 16 columns]"
            ]
          },
          "metadata": {
            "tags": []
          },
          "execution_count": 6
        }
      ]
    },
    {
      "cell_type": "markdown",
      "metadata": {
        "id": "kPyKRvc6FTHc"
      },
      "source": [
        "Count unique values per column"
      ]
    },
    {
      "cell_type": "code",
      "metadata": {
        "colab": {
          "base_uri": "https://localhost:8080/"
        },
        "id": "EDqg8JuqE16h",
        "outputId": "2408f1c5-bd9e-4f60-9335-c25c32fa8c99"
      },
      "source": [
        "df.nunique()"
      ],
      "execution_count": 7,
      "outputs": [
        {
          "output_type": "execute_result",
          "data": {
            "text/plain": [
              "dataset_ID                   30\n",
              "Form_ID                 1390584\n",
              "Form                     913591\n",
              "clics_form               706169\n",
              "gloss_in_source            7260\n",
              "Concepticon_ID             2919\n",
              "Concepticon_Gloss          2919\n",
              "Ontological_Category          6\n",
              "Semantic_Field               24\n",
              "variety                    3050\n",
              "Glottocode                 2279\n",
              "ISO639P3code               1845\n",
              "Macroarea                     6\n",
              "Family                      201\n",
              "Latitude                   1850\n",
              "Longitude                  1835\n",
              "dtype: int64"
            ]
          },
          "metadata": {
            "tags": []
          },
          "execution_count": 7
        }
      ]
    },
    {
      "cell_type": "markdown",
      "metadata": {
        "id": "mwcUvV8NPJwd"
      },
      "source": [
        "Distribution of concepts per family"
      ]
    },
    {
      "cell_type": "code",
      "metadata": {
        "colab": {
          "base_uri": "https://localhost:8080/"
        },
        "id": "IYal3aBlOXEG",
        "outputId": "d6fbfd32-0534-4313-a84c-adbc7ec3d296"
      },
      "source": [
        "df.groupby('Family').size().describe()"
      ],
      "execution_count": 8,
      "outputs": [
        {
          "output_type": "execute_result",
          "data": {
            "text/plain": [
              "count       201.000000\n",
              "mean       6808.477612\n",
              "std       24539.735747\n",
              "min           4.000000\n",
              "25%         201.000000\n",
              "50%         895.000000\n",
              "75%        1776.000000\n",
              "max      181678.000000\n",
              "dtype: float64"
            ]
          },
          "metadata": {
            "tags": []
          },
          "execution_count": 8
        }
      ]
    },
    {
      "cell_type": "code",
      "metadata": {
        "colab": {
          "base_uri": "https://localhost:8080/"
        },
        "id": "JbQ7VhgJPSTM",
        "outputId": "39923c3c-7e9c-4997-ea00-7efe6d68d04c"
      },
      "source": [
        "df.groupby('Family').size().sort_values(ascending=True)"
      ],
      "execution_count": 9,
      "outputs": [
        {
          "output_type": "execute_result",
          "data": {
            "text/plain": [
              "Family\n",
              "Pahoturi                         4\n",
              "Leco                             7\n",
              "Yuracaré                         7\n",
              "Chiquitano                       7\n",
              "Kwaza                           13\n",
              "                             ...  \n",
              "Nuclear Trans New Guinea    109788\n",
              "Sino-Tibetan                133819\n",
              "Nakh-Daghestanian           137145\n",
              "Austronesian                156014\n",
              "Indo-European               181678\n",
              "Length: 201, dtype: int64"
            ]
          },
          "metadata": {
            "tags": []
          },
          "execution_count": 9
        }
      ]
    },
    {
      "cell_type": "markdown",
      "metadata": {
        "id": "zOjvDYILOXi2"
      },
      "source": [
        "Analysis on the distribution of glottocode per family"
      ]
    },
    {
      "cell_type": "code",
      "metadata": {
        "id": "TZrV8QrhDjSE"
      },
      "source": [
        "df_fam = df[['Family','Glottocode']].copy()"
      ],
      "execution_count": 10,
      "outputs": []
    },
    {
      "cell_type": "code",
      "metadata": {
        "id": "KyydAwqYDsIH"
      },
      "source": [
        "df_fam=df_fam.drop_duplicates()"
      ],
      "execution_count": 11,
      "outputs": []
    },
    {
      "cell_type": "code",
      "metadata": {
        "colab": {
          "base_uri": "https://localhost:8080/",
          "height": 419
        },
        "id": "lpmaS2uVDvC5",
        "outputId": "836fc8a7-f35f-4486-eb61-26e1060d26d5"
      },
      "source": [
        "df_fam"
      ],
      "execution_count": 12,
      "outputs": [
        {
          "output_type": "execute_result",
          "data": {
            "text/html": [
              "<div>\n",
              "<style scoped>\n",
              "    .dataframe tbody tr th:only-of-type {\n",
              "        vertical-align: middle;\n",
              "    }\n",
              "\n",
              "    .dataframe tbody tr th {\n",
              "        vertical-align: top;\n",
              "    }\n",
              "\n",
              "    .dataframe thead th {\n",
              "        text-align: right;\n",
              "    }\n",
              "</style>\n",
              "<table border=\"1\" class=\"dataframe\">\n",
              "  <thead>\n",
              "    <tr style=\"text-align: right;\">\n",
              "      <th></th>\n",
              "      <th>Family</th>\n",
              "      <th>Glottocode</th>\n",
              "    </tr>\n",
              "  </thead>\n",
              "  <tbody>\n",
              "    <tr>\n",
              "      <th>0</th>\n",
              "      <td>Sino-Tibetan</td>\n",
              "      <td>bich1234</td>\n",
              "    </tr>\n",
              "    <tr>\n",
              "      <th>1</th>\n",
              "      <td>Sino-Tibetan</td>\n",
              "      <td>kasp1234</td>\n",
              "    </tr>\n",
              "    <tr>\n",
              "      <th>2</th>\n",
              "      <td>Sino-Tibetan</td>\n",
              "      <td>namp1239</td>\n",
              "    </tr>\n",
              "    <tr>\n",
              "      <th>3</th>\n",
              "      <td>Sino-Tibetan</td>\n",
              "      <td>sing1271</td>\n",
              "    </tr>\n",
              "    <tr>\n",
              "      <th>4</th>\n",
              "      <td>Sino-Tibetan</td>\n",
              "      <td>wang1301</td>\n",
              "    </tr>\n",
              "    <tr>\n",
              "      <th>...</th>\n",
              "      <td>...</td>\n",
              "      <td>...</td>\n",
              "    </tr>\n",
              "    <tr>\n",
              "      <th>1350361</th>\n",
              "      <td>Sino-Tibetan</td>\n",
              "      <td>ekaa1234</td>\n",
              "    </tr>\n",
              "    <tr>\n",
              "      <th>1350362</th>\n",
              "      <td>Sino-Tibetan</td>\n",
              "      <td>dong1286</td>\n",
              "    </tr>\n",
              "    <tr>\n",
              "      <th>1357954</th>\n",
              "      <td>Nuclear Trans New Guinea</td>\n",
              "      <td>pila1246</td>\n",
              "    </tr>\n",
              "    <tr>\n",
              "      <th>1357955</th>\n",
              "      <td>NaN</td>\n",
              "      <td>sali1249</td>\n",
              "    </tr>\n",
              "    <tr>\n",
              "      <th>1357982</th>\n",
              "      <td>NaN</td>\n",
              "      <td>para1207</td>\n",
              "    </tr>\n",
              "  </tbody>\n",
              "</table>\n",
              "<p>2282 rows × 2 columns</p>\n",
              "</div>"
            ],
            "text/plain": [
              "                           Family Glottocode\n",
              "0                    Sino-Tibetan   bich1234\n",
              "1                    Sino-Tibetan   kasp1234\n",
              "2                    Sino-Tibetan   namp1239\n",
              "3                    Sino-Tibetan   sing1271\n",
              "4                    Sino-Tibetan   wang1301\n",
              "...                           ...        ...\n",
              "1350361              Sino-Tibetan   ekaa1234\n",
              "1350362              Sino-Tibetan   dong1286\n",
              "1357954  Nuclear Trans New Guinea   pila1246\n",
              "1357955                       NaN   sali1249\n",
              "1357982                       NaN   para1207\n",
              "\n",
              "[2282 rows x 2 columns]"
            ]
          },
          "metadata": {
            "tags": []
          },
          "execution_count": 12
        }
      ]
    },
    {
      "cell_type": "code",
      "metadata": {
        "colab": {
          "base_uri": "https://localhost:8080/"
        },
        "id": "CHXJSkqIC65V",
        "outputId": "eb315e26-c85d-415d-b9aa-47646d738032"
      },
      "source": [
        "df_fam.groupby('Family').size().describe()"
      ],
      "execution_count": 13,
      "outputs": [
        {
          "output_type": "execute_result",
          "data": {
            "text/plain": [
              "count    201.000000\n",
              "mean      11.318408\n",
              "std       42.064452\n",
              "min        1.000000\n",
              "25%        1.000000\n",
              "50%        2.000000\n",
              "75%        4.000000\n",
              "max      395.000000\n",
              "dtype: float64"
            ]
          },
          "metadata": {
            "tags": []
          },
          "execution_count": 13
        }
      ]
    },
    {
      "cell_type": "code",
      "metadata": {
        "colab": {
          "base_uri": "https://localhost:8080/"
        },
        "id": "1cfJm1cVR_qc",
        "outputId": "064fb62f-2b34-4834-a4e2-177c49bd409b"
      },
      "source": [
        "df_fam.groupby('Family').size().sort_values(ascending=True)"
      ],
      "execution_count": 14,
      "outputs": [
        {
          "output_type": "execute_result",
          "data": {
            "text/plain": [
              "Family\n",
              "Zuni                          1\n",
              "Karok                         1\n",
              "Kapori                        1\n",
              "Pawaia                        1\n",
              "Peba-Yagua                    1\n",
              "                           ... \n",
              "Pama-Nyungan                172\n",
              "Indo-European               173\n",
              "Sino-Tibetan                184\n",
              "Nuclear Trans New Guinea    307\n",
              "Austronesian                395\n",
              "Length: 201, dtype: int64"
            ]
          },
          "metadata": {
            "tags": []
          },
          "execution_count": 14
        }
      ]
    },
    {
      "cell_type": "markdown",
      "metadata": {
        "id": "RDysCZDWOcdC"
      },
      "source": [
        "null values"
      ]
    },
    {
      "cell_type": "code",
      "metadata": {
        "colab": {
          "base_uri": "https://localhost:8080/"
        },
        "id": "B8Bh5Q2UzJ4F",
        "outputId": "22f484d8-6502-4a92-c1cf-62d4aa8e80f8"
      },
      "source": [
        "df.isna().sum()"
      ],
      "execution_count": 15,
      "outputs": [
        {
          "output_type": "execute_result",
          "data": {
            "text/plain": [
              "dataset_ID                   0\n",
              "Form_ID                      0\n",
              "Form                        87\n",
              "clics_form                 441\n",
              "gloss_in_source          64676\n",
              "Concepticon_ID               0\n",
              "Concepticon_Gloss            0\n",
              "Ontological_Category         0\n",
              "Semantic_Field             108\n",
              "variety                      0\n",
              "Glottocode               19627\n",
              "ISO639P3code            206325\n",
              "Macroarea                87845\n",
              "Family                   22090\n",
              "Latitude                226992\n",
              "Longitude               226992\n",
              "dtype: int64"
            ]
          },
          "metadata": {
            "tags": []
          },
          "execution_count": 15
        }
      ]
    },
    {
      "cell_type": "markdown",
      "metadata": {
        "id": "xO2FeA_dc9tn"
      },
      "source": [
        "Adding tokenized column for a deeper analysis"
      ]
    },
    {
      "cell_type": "code",
      "metadata": {
        "id": "oallmJvtdCXq"
      },
      "source": [
        "df['tk_variety']=df['variety'].apply(nltk.tokenize.word_tokenize)\r\n"
      ],
      "execution_count": 16,
      "outputs": []
    },
    {
      "cell_type": "markdown",
      "metadata": {
        "id": "BvaxVBsThEwL"
      },
      "source": [
        "As soon as we find a diachronic variety, this is printed and the for stopped"
      ]
    },
    {
      "cell_type": "code",
      "metadata": {
        "colab": {
          "base_uri": "https://localhost:8080/"
        },
        "id": "3pkzYTYhg3zt",
        "outputId": "078ee021-52f4-4e96-a894-de6b73a4c49f"
      },
      "source": [
        "for i in range(len(df['tk_variety'])):\r\n",
        "  r = df['tk_variety'].iloc[i]\r\n",
        "  if any((v == \"Modern\") for v in r): # change key word\r\n",
        "    print (r)\r\n",
        "    break"
      ],
      "execution_count": 17,
      "outputs": [
        {
          "output_type": "stream",
          "text": [
            "['Modern', 'Armenian']\n"
          ],
          "name": "stdout"
        }
      ]
    },
    {
      "cell_type": "markdown",
      "metadata": {
        "id": "_pnoAS1mhKRN"
      },
      "source": [
        "Count how many entries' varieties contains..."
      ]
    },
    {
      "cell_type": "code",
      "metadata": {
        "colab": {
          "base_uri": "https://localhost:8080/"
        },
        "id": "JD5ZBMG1dvwh",
        "outputId": "9e9c423e-032e-4a8d-9053-d75fc0b6bc23"
      },
      "source": [
        "c = 0\r\n",
        "for i in range(len(df['tk_variety'])):\r\n",
        "  r = df['tk_variety'].iloc[i]\r\n",
        "  if any((v == \"Classical\") for v in r): # change key word\r\n",
        "    c+=1\r\n",
        "print (c)"
      ],
      "execution_count": 18,
      "outputs": [
        {
          "output_type": "stream",
          "text": [
            "663\n"
          ],
          "name": "stdout"
        }
      ]
    },
    {
      "cell_type": "markdown",
      "metadata": {
        "id": "h26J6FYO65cb"
      },
      "source": [
        "Check for duplicated rows"
      ]
    },
    {
      "cell_type": "code",
      "metadata": {
        "colab": {
          "base_uri": "https://localhost:8080/",
          "height": 779
        },
        "id": "0kl6IOCp1dN5",
        "outputId": "6e9c568a-7008-400f-e6c2-af666abbbfb5"
      },
      "source": [
        "df.loc[df.astype(str).drop_duplicates().index]"
      ],
      "execution_count": 19,
      "outputs": [
        {
          "output_type": "execute_result",
          "data": {
            "text/html": [
              "<div>\n",
              "<style scoped>\n",
              "    .dataframe tbody tr th:only-of-type {\n",
              "        vertical-align: middle;\n",
              "    }\n",
              "\n",
              "    .dataframe tbody tr th {\n",
              "        vertical-align: top;\n",
              "    }\n",
              "\n",
              "    .dataframe thead th {\n",
              "        text-align: right;\n",
              "    }\n",
              "</style>\n",
              "<table border=\"1\" class=\"dataframe\">\n",
              "  <thead>\n",
              "    <tr style=\"text-align: right;\">\n",
              "      <th></th>\n",
              "      <th>dataset_ID</th>\n",
              "      <th>Form_ID</th>\n",
              "      <th>Form</th>\n",
              "      <th>clics_form</th>\n",
              "      <th>gloss_in_source</th>\n",
              "      <th>Concepticon_ID</th>\n",
              "      <th>Concepticon_Gloss</th>\n",
              "      <th>Ontological_Category</th>\n",
              "      <th>Semantic_Field</th>\n",
              "      <th>variety</th>\n",
              "      <th>Glottocode</th>\n",
              "      <th>ISO639P3code</th>\n",
              "      <th>Macroarea</th>\n",
              "      <th>Family</th>\n",
              "      <th>Latitude</th>\n",
              "      <th>Longitude</th>\n",
              "      <th>tk_variety</th>\n",
              "    </tr>\n",
              "  </thead>\n",
              "  <tbody>\n",
              "    <tr>\n",
              "      <th>0</th>\n",
              "      <td>abrahammonpa</td>\n",
              "      <td>BugunBichom-100_gold-1</td>\n",
              "      <td>san</td>\n",
              "      <td>san</td>\n",
              "      <td>gold</td>\n",
              "      <td>1369</td>\n",
              "      <td>GOLD</td>\n",
              "      <td>Person/Thing</td>\n",
              "      <td>Basic actions and technology</td>\n",
              "      <td>Bugun Bichom</td>\n",
              "      <td>bich1234</td>\n",
              "      <td>NaN</td>\n",
              "      <td>NaN</td>\n",
              "      <td>Sino-Tibetan</td>\n",
              "      <td>NaN</td>\n",
              "      <td>NaN</td>\n",
              "      <td>[Bugun, Bichom]</td>\n",
              "    </tr>\n",
              "    <tr>\n",
              "      <th>1</th>\n",
              "      <td>abrahammonpa</td>\n",
              "      <td>BugunKaspi-100_gold-1</td>\n",
              "      <td>san</td>\n",
              "      <td>san</td>\n",
              "      <td>gold</td>\n",
              "      <td>1369</td>\n",
              "      <td>GOLD</td>\n",
              "      <td>Person/Thing</td>\n",
              "      <td>Basic actions and technology</td>\n",
              "      <td>Bugun Kaspi</td>\n",
              "      <td>kasp1234</td>\n",
              "      <td>NaN</td>\n",
              "      <td>NaN</td>\n",
              "      <td>Sino-Tibetan</td>\n",
              "      <td>NaN</td>\n",
              "      <td>NaN</td>\n",
              "      <td>[Bugun, Kaspi]</td>\n",
              "    </tr>\n",
              "    <tr>\n",
              "      <th>2</th>\n",
              "      <td>abrahammonpa</td>\n",
              "      <td>BugunNamphri-100_gold-1</td>\n",
              "      <td>san</td>\n",
              "      <td>san</td>\n",
              "      <td>gold</td>\n",
              "      <td>1369</td>\n",
              "      <td>GOLD</td>\n",
              "      <td>Person/Thing</td>\n",
              "      <td>Basic actions and technology</td>\n",
              "      <td>Bugun Namphri</td>\n",
              "      <td>namp1239</td>\n",
              "      <td>NaN</td>\n",
              "      <td>NaN</td>\n",
              "      <td>Sino-Tibetan</td>\n",
              "      <td>NaN</td>\n",
              "      <td>NaN</td>\n",
              "      <td>[Bugun, Namphri]</td>\n",
              "    </tr>\n",
              "    <tr>\n",
              "      <th>3</th>\n",
              "      <td>abrahammonpa</td>\n",
              "      <td>BugunSingchung-100_gold-1</td>\n",
              "      <td>san</td>\n",
              "      <td>san</td>\n",
              "      <td>gold</td>\n",
              "      <td>1369</td>\n",
              "      <td>GOLD</td>\n",
              "      <td>Person/Thing</td>\n",
              "      <td>Basic actions and technology</td>\n",
              "      <td>Bugun Singchung</td>\n",
              "      <td>sing1271</td>\n",
              "      <td>NaN</td>\n",
              "      <td>NaN</td>\n",
              "      <td>Sino-Tibetan</td>\n",
              "      <td>NaN</td>\n",
              "      <td>NaN</td>\n",
              "      <td>[Bugun, Singchung]</td>\n",
              "    </tr>\n",
              "    <tr>\n",
              "      <th>4</th>\n",
              "      <td>abrahammonpa</td>\n",
              "      <td>BugunWangho-100_gold-1</td>\n",
              "      <td>san</td>\n",
              "      <td>san</td>\n",
              "      <td>gold</td>\n",
              "      <td>1369</td>\n",
              "      <td>GOLD</td>\n",
              "      <td>Person/Thing</td>\n",
              "      <td>Basic actions and technology</td>\n",
              "      <td>Bugun Wangho</td>\n",
              "      <td>wang1301</td>\n",
              "      <td>NaN</td>\n",
              "      <td>NaN</td>\n",
              "      <td>Sino-Tibetan</td>\n",
              "      <td>NaN</td>\n",
              "      <td>NaN</td>\n",
              "      <td>[Bugun, Wangho]</td>\n",
              "    </tr>\n",
              "    <tr>\n",
              "      <th>...</th>\n",
              "      <td>...</td>\n",
              "      <td>...</td>\n",
              "      <td>...</td>\n",
              "      <td>...</td>\n",
              "      <td>...</td>\n",
              "      <td>...</td>\n",
              "      <td>...</td>\n",
              "      <td>...</td>\n",
              "      <td>...</td>\n",
              "      <td>...</td>\n",
              "      <td>...</td>\n",
              "      <td>...</td>\n",
              "      <td>...</td>\n",
              "      <td>...</td>\n",
              "      <td>...</td>\n",
              "      <td>...</td>\n",
              "      <td>...</td>\n",
              "    </tr>\n",
              "    <tr>\n",
              "      <th>1390589</th>\n",
              "      <td>zgraggenmadang</td>\n",
              "      <td>yaben-9_boy-1</td>\n",
              "      <td>waw moya</td>\n",
              "      <td>wawmoya</td>\n",
              "      <td>boy</td>\n",
              "      <td>1366</td>\n",
              "      <td>BOY</td>\n",
              "      <td>Person/Thing</td>\n",
              "      <td>Kinship</td>\n",
              "      <td>yaben</td>\n",
              "      <td>yabe1255</td>\n",
              "      <td>ybm</td>\n",
              "      <td>Papunesia</td>\n",
              "      <td>Nuclear Trans New Guinea</td>\n",
              "      <td>-4.90868</td>\n",
              "      <td>145.361</td>\n",
              "      <td>[yaben]</td>\n",
              "    </tr>\n",
              "    <tr>\n",
              "      <th>1390590</th>\n",
              "      <td>zgraggenmadang</td>\n",
              "      <td>yangulam-9_boy-1</td>\n",
              "      <td>ilaŋgum</td>\n",
              "      <td>ilanggum</td>\n",
              "      <td>boy</td>\n",
              "      <td>1366</td>\n",
              "      <td>BOY</td>\n",
              "      <td>Person/Thing</td>\n",
              "      <td>Kinship</td>\n",
              "      <td>yangulam</td>\n",
              "      <td>yang1298</td>\n",
              "      <td>ynl</td>\n",
              "      <td>Papunesia</td>\n",
              "      <td>Nuclear Trans New Guinea</td>\n",
              "      <td>-5.52697</td>\n",
              "      <td>145.858</td>\n",
              "      <td>[yangulam]</td>\n",
              "    </tr>\n",
              "    <tr>\n",
              "      <th>1390591</th>\n",
              "      <td>zgraggenmadang</td>\n",
              "      <td>yangulam-9_boy-2</td>\n",
              "      <td>monaguru</td>\n",
              "      <td>monaguru</td>\n",
              "      <td>boy</td>\n",
              "      <td>1366</td>\n",
              "      <td>BOY</td>\n",
              "      <td>Person/Thing</td>\n",
              "      <td>Kinship</td>\n",
              "      <td>yangulam</td>\n",
              "      <td>yang1298</td>\n",
              "      <td>ynl</td>\n",
              "      <td>Papunesia</td>\n",
              "      <td>Nuclear Trans New Guinea</td>\n",
              "      <td>-5.52697</td>\n",
              "      <td>145.858</td>\n",
              "      <td>[yangulam]</td>\n",
              "    </tr>\n",
              "    <tr>\n",
              "      <th>1390592</th>\n",
              "      <td>zgraggenmadang</td>\n",
              "      <td>yarawata-9_boy-1</td>\n",
              "      <td>wa tamana</td>\n",
              "      <td>watamana</td>\n",
              "      <td>boy</td>\n",
              "      <td>1366</td>\n",
              "      <td>BOY</td>\n",
              "      <td>Person/Thing</td>\n",
              "      <td>Kinship</td>\n",
              "      <td>yarawata</td>\n",
              "      <td>yara1250</td>\n",
              "      <td>yrw</td>\n",
              "      <td>Papunesia</td>\n",
              "      <td>Nuclear Trans New Guinea</td>\n",
              "      <td>-4.93943</td>\n",
              "      <td>145.454</td>\n",
              "      <td>[yarawata]</td>\n",
              "    </tr>\n",
              "    <tr>\n",
              "      <th>1390593</th>\n",
              "      <td>zgraggenmadang</td>\n",
              "      <td>yoidik-9_boy-1</td>\n",
              "      <td>nahal pusaʔ</td>\n",
              "      <td>nahalpusa</td>\n",
              "      <td>boy</td>\n",
              "      <td>1366</td>\n",
              "      <td>BOY</td>\n",
              "      <td>Person/Thing</td>\n",
              "      <td>Kinship</td>\n",
              "      <td>yoidik</td>\n",
              "      <td>yoid1240</td>\n",
              "      <td>ydk</td>\n",
              "      <td>Papunesia</td>\n",
              "      <td>Nuclear Trans New Guinea</td>\n",
              "      <td>-4.94044</td>\n",
              "      <td>145.758</td>\n",
              "      <td>[yoidik]</td>\n",
              "    </tr>\n",
              "  </tbody>\n",
              "</table>\n",
              "<p>1390594 rows × 17 columns</p>\n",
              "</div>"
            ],
            "text/plain": [
              "             dataset_ID  ...          tk_variety\n",
              "0          abrahammonpa  ...     [Bugun, Bichom]\n",
              "1          abrahammonpa  ...      [Bugun, Kaspi]\n",
              "2          abrahammonpa  ...    [Bugun, Namphri]\n",
              "3          abrahammonpa  ...  [Bugun, Singchung]\n",
              "4          abrahammonpa  ...     [Bugun, Wangho]\n",
              "...                 ...  ...                 ...\n",
              "1390589  zgraggenmadang  ...             [yaben]\n",
              "1390590  zgraggenmadang  ...          [yangulam]\n",
              "1390591  zgraggenmadang  ...          [yangulam]\n",
              "1390592  zgraggenmadang  ...          [yarawata]\n",
              "1390593  zgraggenmadang  ...            [yoidik]\n",
              "\n",
              "[1390594 rows x 17 columns]"
            ]
          },
          "metadata": {
            "tags": []
          },
          "execution_count": 19
        }
      ]
    },
    {
      "cell_type": "markdown",
      "metadata": {
        "id": "JDMSTthY4OX9"
      },
      "source": [
        "Using a flag column, check concepticon with multiword, parentheses and OR"
      ]
    },
    {
      "cell_type": "code",
      "metadata": {
        "id": "dBQJhx9B8q3Y"
      },
      "source": [
        "# create column with word count: flag > 0 if multiword\r\n",
        "df['flag'] = df['Concepticon_Gloss'].str.count(' ')"
      ],
      "execution_count": 20,
      "outputs": []
    },
    {
      "cell_type": "code",
      "metadata": {
        "colab": {
          "base_uri": "https://localhost:8080/"
        },
        "id": "zvyrhEKD8tML",
        "outputId": "b6bc3355-e96e-44a3-f92f-005e84e17ea4"
      },
      "source": [
        "symb=set('(-&')\r\n",
        "for i in range(len(df['Concepticon_Gloss'])):\r\n",
        "  r = df['Concepticon_Gloss'].iloc[i]\r\n",
        "  if any((s in symb) for s in r):\r\n",
        "    df['flag'].iloc[i]+=1"
      ],
      "execution_count": 21,
      "outputs": [
        {
          "output_type": "stream",
          "text": [
            "/usr/local/lib/python3.6/dist-packages/pandas/core/indexing.py:670: SettingWithCopyWarning: \n",
            "A value is trying to be set on a copy of a slice from a DataFrame\n",
            "\n",
            "See the caveats in the documentation: https://pandas.pydata.org/pandas-docs/stable/user_guide/indexing.html#returning-a-view-versus-a-copy\n",
            "  iloc._setitem_with_indexer(indexer, value)\n"
          ],
          "name": "stderr"
        }
      ]
    },
    {
      "cell_type": "code",
      "metadata": {
        "id": "AjuKtXS78wzW"
      },
      "source": [
        "l=[]\r\n",
        "for i in range(len(df['Concepticon_Gloss'])):\r\n",
        "  r = df['Concepticon_Gloss'].iloc[i]\r\n",
        "  n = df['flag'].iloc[i]\r\n",
        "  if n > 0:\r\n",
        "    l.append(r)"
      ],
      "execution_count": 22,
      "outputs": []
    },
    {
      "cell_type": "code",
      "metadata": {
        "id": "I4YMbAT_9Q66"
      },
      "source": [
        "l=set(l)"
      ],
      "execution_count": 23,
      "outputs": []
    },
    {
      "cell_type": "code",
      "metadata": {
        "id": "55B66oHu9YQc",
        "colab": {
          "base_uri": "https://localhost:8080/"
        },
        "outputId": "fcf29b57-c5bf-44f6-fd68-82bd5f35845a"
      },
      "source": [
        "len(l)"
      ],
      "execution_count": 24,
      "outputs": [
        {
          "output_type": "execute_result",
          "data": {
            "text/plain": [
              "908"
            ]
          },
          "metadata": {
            "tags": []
          },
          "execution_count": 24
        }
      ]
    },
    {
      "cell_type": "code",
      "metadata": {
        "id": "slutdBI79Ftl"
      },
      "source": [
        "# save in a txt file\r\n",
        "l= sorted(l)\r\n",
        "with open('badConcepts.txt', 'w') as f:\r\n",
        "    for item in l:\r\n",
        "        f.write(\"%s\\n\" % item)"
      ],
      "execution_count": 26,
      "outputs": []
    }
  ]
}