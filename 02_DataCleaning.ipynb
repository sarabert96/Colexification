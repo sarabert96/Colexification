{
  "nbformat": 4,
  "nbformat_minor": 0,
  "metadata": {
    "colab": {
      "name": "02_ DataCleaning",
      "provenance": [],
      "include_colab_link": true
    },
    "kernelspec": {
      "name": "python3",
      "display_name": "Python 3"
    }
  },
  "cells": [
    {
      "cell_type": "markdown",
      "metadata": {
        "id": "view-in-github",
        "colab_type": "text"
      },
      "source": [
        "<a href=\"https://colab.research.google.com/github/sarabert96/Colexification/blob/main/02_DataCleaning.ipynb\" target=\"_parent\"><img src=\"https://colab.research.google.com/assets/colab-badge.svg\" alt=\"Open In Colab\"/></a>"
      ]
    },
    {
      "cell_type": "markdown",
      "metadata": {
        "id": "B-O18rZDvpMF"
      },
      "source": [
        "# Cleaning Data"
      ]
    },
    {
      "cell_type": "code",
      "metadata": {
        "colab": {
          "base_uri": "https://localhost:8080/"
        },
        "id": "Culp7V1Hvoa4",
        "outputId": "b5f9c137-e3b2-48bc-bb7d-6b04f545bfd5"
      },
      "source": [
        "import pandas\r\n",
        "import numpy\r\n",
        "import nltk\r\n",
        "nltk.download('punkt')\r\n",
        "from collections import Counter\r\n",
        "from google.colab import files"
      ],
      "execution_count": 1,
      "outputs": [
        {
          "output_type": "stream",
          "text": [
            "[nltk_data] Downloading package punkt to /root/nltk_data...\n",
            "[nltk_data]   Unzipping tokenizers/punkt.zip.\n"
          ],
          "name": "stdout"
        }
      ]
    },
    {
      "cell_type": "markdown",
      "metadata": {
        "id": "AeCIZDLWvvGG"
      },
      "source": [
        "Download original dataframe from Drive"
      ]
    },
    {
      "cell_type": "code",
      "metadata": {
        "colab": {
          "base_uri": "https://localhost:8080/"
        },
        "id": "Ud-Yxvvkvs7T",
        "outputId": "b5d583b0-a43c-4785-9b00-46b529c01576"
      },
      "source": [
        "!gdown --id 1O4Ofd0xX6I1eGcYPOQ0ET2_w-MEB5ybR #df_all_raw"
      ],
      "execution_count": 2,
      "outputs": [
        {
          "output_type": "stream",
          "text": [
            "Downloading...\n",
            "From: https://drive.google.com/uc?id=1O4Ofd0xX6I1eGcYPOQ0ET2_w-MEB5ybR\n",
            "To: /content/df_all_raw.csv\n",
            "212MB [00:01, 199MB/s]\n"
          ],
          "name": "stdout"
        }
      ]
    },
    {
      "cell_type": "markdown",
      "metadata": {
        "id": "kFWURMjiscvq"
      },
      "source": [
        "Import libraries and data"
      ]
    },
    {
      "cell_type": "code",
      "metadata": {
        "colab": {
          "base_uri": "https://localhost:8080/",
          "height": 179
        },
        "id": "aJvT7K0hxeTl",
        "outputId": "e1353a50-3664-4853-b9a5-cc421cd37daa"
      },
      "source": [
        "df = pandas.read_csv('df_all_raw.csv')\r\n",
        "df.head(2)"
      ],
      "execution_count": 3,
      "outputs": [
        {
          "output_type": "stream",
          "text": [
            "/usr/local/lib/python3.6/dist-packages/IPython/core/interactiveshell.py:2718: DtypeWarning: Columns (4) have mixed types.Specify dtype option on import or set low_memory=False.\n",
            "  interactivity=interactivity, compiler=compiler, result=result)\n"
          ],
          "name": "stderr"
        },
        {
          "output_type": "execute_result",
          "data": {
            "text/html": [
              "<div>\n",
              "<style scoped>\n",
              "    .dataframe tbody tr th:only-of-type {\n",
              "        vertical-align: middle;\n",
              "    }\n",
              "\n",
              "    .dataframe tbody tr th {\n",
              "        vertical-align: top;\n",
              "    }\n",
              "\n",
              "    .dataframe thead th {\n",
              "        text-align: right;\n",
              "    }\n",
              "</style>\n",
              "<table border=\"1\" class=\"dataframe\">\n",
              "  <thead>\n",
              "    <tr style=\"text-align: right;\">\n",
              "      <th></th>\n",
              "      <th>dataset_ID</th>\n",
              "      <th>Form_ID</th>\n",
              "      <th>Form</th>\n",
              "      <th>clics_form</th>\n",
              "      <th>gloss_in_source</th>\n",
              "      <th>Concepticon_ID</th>\n",
              "      <th>Concepticon_Gloss</th>\n",
              "      <th>Ontological_Category</th>\n",
              "      <th>Semantic_Field</th>\n",
              "      <th>variety</th>\n",
              "      <th>Glottocode</th>\n",
              "      <th>ISO639P3code</th>\n",
              "      <th>Macroarea</th>\n",
              "      <th>Family</th>\n",
              "      <th>Latitude</th>\n",
              "      <th>Longitude</th>\n",
              "    </tr>\n",
              "  </thead>\n",
              "  <tbody>\n",
              "    <tr>\n",
              "      <th>0</th>\n",
              "      <td>abrahammonpa</td>\n",
              "      <td>BugunBichom-100_gold-1</td>\n",
              "      <td>san</td>\n",
              "      <td>san</td>\n",
              "      <td>gold</td>\n",
              "      <td>1369</td>\n",
              "      <td>GOLD</td>\n",
              "      <td>Person/Thing</td>\n",
              "      <td>Basic actions and technology</td>\n",
              "      <td>Bugun Bichom</td>\n",
              "      <td>bich1234</td>\n",
              "      <td>NaN</td>\n",
              "      <td>NaN</td>\n",
              "      <td>Sino-Tibetan</td>\n",
              "      <td>NaN</td>\n",
              "      <td>NaN</td>\n",
              "    </tr>\n",
              "    <tr>\n",
              "      <th>1</th>\n",
              "      <td>abrahammonpa</td>\n",
              "      <td>BugunKaspi-100_gold-1</td>\n",
              "      <td>san</td>\n",
              "      <td>san</td>\n",
              "      <td>gold</td>\n",
              "      <td>1369</td>\n",
              "      <td>GOLD</td>\n",
              "      <td>Person/Thing</td>\n",
              "      <td>Basic actions and technology</td>\n",
              "      <td>Bugun Kaspi</td>\n",
              "      <td>kasp1234</td>\n",
              "      <td>NaN</td>\n",
              "      <td>NaN</td>\n",
              "      <td>Sino-Tibetan</td>\n",
              "      <td>NaN</td>\n",
              "      <td>NaN</td>\n",
              "    </tr>\n",
              "  </tbody>\n",
              "</table>\n",
              "</div>"
            ],
            "text/plain": [
              "     dataset_ID                 Form_ID Form  ...        Family Latitude  Longitude\n",
              "0  abrahammonpa  BugunBichom-100_gold-1  san  ...  Sino-Tibetan      NaN        NaN\n",
              "1  abrahammonpa   BugunKaspi-100_gold-1  san  ...  Sino-Tibetan      NaN        NaN\n",
              "\n",
              "[2 rows x 16 columns]"
            ]
          },
          "metadata": {
            "tags": []
          },
          "execution_count": 3
        }
      ]
    },
    {
      "cell_type": "markdown",
      "metadata": {
        "id": "ZceRI4KitH0F"
      },
      "source": [
        "Remove diachronic varieties (middle, old, classic, ancient)"
      ]
    },
    {
      "cell_type": "code",
      "metadata": {
        "id": "0ZFP5bxhes5v"
      },
      "source": [
        "#tokenize variety --> new column\r\n",
        "df['tk_variety']=df['variety'].apply(nltk.tokenize.word_tokenize)"
      ],
      "execution_count": 4,
      "outputs": []
    },
    {
      "cell_type": "code",
      "metadata": {
        "id": "TQFuLaaTfUBc"
      },
      "source": [
        "df['flag']=0 # add flag column"
      ],
      "execution_count": 5,
      "outputs": []
    },
    {
      "cell_type": "code",
      "metadata": {
        "id": "i71IE9QzA9Vr",
        "colab": {
          "base_uri": "https://localhost:8080/"
        },
        "outputId": "314d3573-bfd5-434e-97a6-75af78cc909e"
      },
      "source": [
        "# flag non wanted varieties\r\n",
        "diachronic_varieties = ['Old', 'Middle', 'Classical', 'Ancient', 'English','Latin']\r\n",
        "for i in range(len(df['tk_variety'])):\r\n",
        "  r = df['tk_variety'].iloc[i]\r\n",
        "  if any((v in diachronic_varieties) for v in r):\r\n",
        "    df['flag'].iloc[i]+=1\r\n"
      ],
      "execution_count": 6,
      "outputs": [
        {
          "output_type": "stream",
          "text": [
            "/usr/local/lib/python3.6/dist-packages/pandas/core/indexing.py:670: SettingWithCopyWarning: \n",
            "A value is trying to be set on a copy of a slice from a DataFrame\n",
            "\n",
            "See the caveats in the documentation: https://pandas.pydata.org/pandas-docs/stable/user_guide/indexing.html#returning-a-view-versus-a-copy\n",
            "  iloc._setitem_with_indexer(indexer, value)\n"
          ],
          "name": "stderr"
        }
      ]
    },
    {
      "cell_type": "code",
      "metadata": {
        "id": "HE7BSgLcaWrf"
      },
      "source": [
        "# delete flagged columns with non wanted categories\r\n",
        "df= df.drop(df[df.flag > 0].index)"
      ],
      "execution_count": 7,
      "outputs": []
    },
    {
      "cell_type": "code",
      "metadata": {
        "colab": {
          "base_uri": "https://localhost:8080/"
        },
        "id": "uLqlRhfZdotJ",
        "outputId": "db816135-4952-4c98-bc47-f91b49ad7c60"
      },
      "source": [
        "df.shape"
      ],
      "execution_count": 8,
      "outputs": [
        {
          "output_type": "execute_result",
          "data": {
            "text/plain": [
              "(1354132, 18)"
            ]
          },
          "metadata": {
            "tags": []
          },
          "execution_count": 8
        }
      ]
    },
    {
      "cell_type": "markdown",
      "metadata": {
        "id": "_IrJmH3KAjnH"
      },
      "source": [
        "Now we have the original dataframe removed from unwanted varieties"
      ]
    },
    {
      "cell_type": "markdown",
      "metadata": {
        "id": "AJddY-zQNWuV"
      },
      "source": [
        "Remove also multiword concepticon: containing OR and/or parenthesis"
      ]
    },
    {
      "cell_type": "code",
      "metadata": {
        "id": "vaQr5dmIWf-Y"
      },
      "source": [
        "# modify column with word count: flag > 0 if multiword\r\n",
        "df['flag'] = df['Concepticon_Gloss'].str.count(' OR ')\r\n",
        "# delete flagged columns\r\n",
        "df = df.drop(df[df.flag > 0].index)\r\n",
        "df['flag'] = df['Concepticon_Gloss'].str.count(\"\\(\") # \\ symbol is for regex problem\r\n",
        "# delete flagged columns\r\n",
        "df = df.drop(df[df.flag > 0].index)"
      ],
      "execution_count": 9,
      "outputs": []
    },
    {
      "cell_type": "code",
      "metadata": {
        "id": "m4qjRc7eFckL"
      },
      "source": [
        "# delete flag column\r\n",
        "del df['flag']"
      ],
      "execution_count": 10,
      "outputs": []
    },
    {
      "cell_type": "code",
      "metadata": {
        "colab": {
          "base_uri": "https://localhost:8080/"
        },
        "id": "JOvWEVChyhmK",
        "outputId": "2a6391d9-2caa-4ada-b5a6-3df9271354a2"
      },
      "source": [
        "df.shape"
      ],
      "execution_count": 11,
      "outputs": [
        {
          "output_type": "execute_result",
          "data": {
            "text/plain": [
              "(1206262, 17)"
            ]
          },
          "metadata": {
            "tags": []
          },
          "execution_count": 11
        }
      ]
    },
    {
      "cell_type": "markdown",
      "metadata": {
        "id": "5WV1WZO3F0ZL"
      },
      "source": [
        "df is now without bad concepts (OR, bracket)"
      ]
    },
    {
      "cell_type": "markdown",
      "metadata": {
        "id": "rEP_1Ycnzhsz"
      },
      "source": [
        "Check for null values"
      ]
    },
    {
      "cell_type": "code",
      "metadata": {
        "colab": {
          "base_uri": "https://localhost:8080/"
        },
        "id": "WW2rtBTUGDYk",
        "outputId": "9e08ebdf-4595-4d1c-ea16-294ac46a3ed0"
      },
      "source": [
        "df['Concepticon_Gloss'].isna().values.any()"
      ],
      "execution_count": 15,
      "outputs": [
        {
          "output_type": "execute_result",
          "data": {
            "text/plain": [
              "False"
            ]
          },
          "metadata": {
            "tags": []
          },
          "execution_count": 15
        }
      ]
    },
    {
      "cell_type": "code",
      "metadata": {
        "id": "jFDF8Ey1JJdw"
      },
      "source": [
        "# reset index\r\n",
        "df = df.reset_index(drop=True)"
      ],
      "execution_count": 16,
      "outputs": []
    },
    {
      "cell_type": "markdown",
      "metadata": {
        "id": "gdbaL6U0IkLO"
      },
      "source": [
        "Save df on csv"
      ]
    },
    {
      "cell_type": "code",
      "metadata": {
        "id": "-DMAa37CI3SK"
      },
      "source": [
        "df.to_csv('df_all_ok.csv')"
      ],
      "execution_count": 17,
      "outputs": []
    },
    {
      "cell_type": "markdown",
      "metadata": {
        "id": "NVkqy6mLI5pk"
      },
      "source": [
        "Remember to download the csv"
      ]
    },
    {
      "cell_type": "code",
      "metadata": {
        "id": "mkBrkA_lJNPz",
        "colab": {
          "base_uri": "https://localhost:8080/",
          "height": 17
        },
        "outputId": "d626e804-2baa-48cc-ec8c-f1236c85e0f9"
      },
      "source": [
        "files.download('df_all_ok.csv')"
      ],
      "execution_count": 18,
      "outputs": [
        {
          "output_type": "display_data",
          "data": {
            "application/javascript": [
              "\n",
              "    async function download(id, filename, size) {\n",
              "      if (!google.colab.kernel.accessAllowed) {\n",
              "        return;\n",
              "      }\n",
              "      const div = document.createElement('div');\n",
              "      const label = document.createElement('label');\n",
              "      label.textContent = `Downloading \"${filename}\": `;\n",
              "      div.appendChild(label);\n",
              "      const progress = document.createElement('progress');\n",
              "      progress.max = size;\n",
              "      div.appendChild(progress);\n",
              "      document.body.appendChild(div);\n",
              "\n",
              "      const buffers = [];\n",
              "      let downloaded = 0;\n",
              "\n",
              "      const channel = await google.colab.kernel.comms.open(id);\n",
              "      // Send a message to notify the kernel that we're ready.\n",
              "      channel.send({})\n",
              "\n",
              "      for await (const message of channel.messages) {\n",
              "        // Send a message to notify the kernel that we're ready.\n",
              "        channel.send({})\n",
              "        if (message.buffers) {\n",
              "          for (const buffer of message.buffers) {\n",
              "            buffers.push(buffer);\n",
              "            downloaded += buffer.byteLength;\n",
              "            progress.value = downloaded;\n",
              "          }\n",
              "        }\n",
              "      }\n",
              "      const blob = new Blob(buffers, {type: 'application/binary'});\n",
              "      const a = document.createElement('a');\n",
              "      a.href = window.URL.createObjectURL(blob);\n",
              "      a.download = filename;\n",
              "      div.appendChild(a);\n",
              "      a.click();\n",
              "      div.remove();\n",
              "    }\n",
              "  "
            ],
            "text/plain": [
              "<IPython.core.display.Javascript object>"
            ]
          },
          "metadata": {
            "tags": []
          }
        },
        {
          "output_type": "display_data",
          "data": {
            "application/javascript": [
              "download(\"download_9ab505df-30a3-4218-99d7-b6d69190c681\", \"df_all_ok.csv\", 215591943)"
            ],
            "text/plain": [
              "<IPython.core.display.Javascript object>"
            ]
          },
          "metadata": {
            "tags": []
          }
        }
      ]
    }
  ]
}