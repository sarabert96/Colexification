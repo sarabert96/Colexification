{
  "nbformat": 4,
  "nbformat_minor": 0,
  "metadata": {
    "colab": {
      "name": "06_Analysis_Bootstrapped.ipynb",
      "provenance": [],
      "collapsed_sections": [],
      "authorship_tag": "ABX9TyO65fGxHtta4ZZ7pRj5mOPn",
      "include_colab_link": true
    },
    "kernelspec": {
      "name": "python3",
      "display_name": "Python 3"
    }
  },
  "cells": [
    {
      "cell_type": "markdown",
      "metadata": {
        "id": "view-in-github",
        "colab_type": "text"
      },
      "source": [
        "<a href=\"https://colab.research.google.com/github/sarabert96/Colexification/blob/main/06_Analysis_Bootstrapped.ipynb\" target=\"_parent\"><img src=\"https://colab.research.google.com/assets/colab-badge.svg\" alt=\"Open In Colab\"/></a>"
      ]
    },
    {
      "cell_type": "code",
      "metadata": {
        "id": "NHOmLRKcArMk"
      },
      "source": [
        "from google.colab import files\n",
        "import pickle\n",
        "import pandas as pd"
      ],
      "execution_count": null,
      "outputs": []
    },
    {
      "cell_type": "code",
      "metadata": {
        "colab": {
          "base_uri": "https://localhost:8080/"
        },
        "id": "WFhvCvsKAo2g",
        "outputId": "f2ee07b1-efac-4d28-e644-9558e8af3cab"
      },
      "source": [
        "!gdown --id 1tu36NAL3MyHMkajE7wEDffbF0OI5fidY #listBoot\n",
        "# bootstrappping with 3 as number of cicle"
      ],
      "execution_count": null,
      "outputs": [
        {
          "output_type": "stream",
          "text": [
            "Downloading...\n",
            "From: https://drive.google.com/uc?id=1tu36NAL3MyHMkajE7wEDffbF0OI5fidY\n",
            "To: /content/listBoot.txt\n",
            "6.36MB [00:00, 17.5MB/s]\n"
          ],
          "name": "stdout"
        }
      ]
    },
    {
      "cell_type": "code",
      "metadata": {
        "id": "-s3De5E697HO"
      },
      "source": [
        "with open(\"listBoot.txt\", \"rb\") as fp:   # Unpickling\n",
        "  lBoot = pickle.load(fp)"
      ],
      "execution_count": null,
      "outputs": []
    },
    {
      "cell_type": "code",
      "metadata": {
        "id": "91mZIf9pBpqN"
      },
      "source": [
        "df_colex_prob = pd.DataFrame(lBoot[0], columns=['Colex_pair', 'Prob']) # to save in df\n"
      ],
      "execution_count": null,
      "outputs": []
    },
    {
      "cell_type": "code",
      "metadata": {
        "colab": {
          "base_uri": "https://localhost:8080/",
          "height": 111
        },
        "id": "h-UOE6-n_055",
        "outputId": "29f245c1-f680-40ae-cb68-375efbe40fa3"
      },
      "source": [
        "df_colex_prob.head(2)"
      ],
      "execution_count": null,
      "outputs": [
        {
          "output_type": "execute_result",
          "data": {
            "text/html": [
              "<div>\n",
              "<style scoped>\n",
              "    .dataframe tbody tr th:only-of-type {\n",
              "        vertical-align: middle;\n",
              "    }\n",
              "\n",
              "    .dataframe tbody tr th {\n",
              "        vertical-align: top;\n",
              "    }\n",
              "\n",
              "    .dataframe thead th {\n",
              "        text-align: right;\n",
              "    }\n",
              "</style>\n",
              "<table border=\"1\" class=\"dataframe\">\n",
              "  <thead>\n",
              "    <tr style=\"text-align: right;\">\n",
              "      <th></th>\n",
              "      <th>Colex_pair</th>\n",
              "      <th>Prob</th>\n",
              "    </tr>\n",
              "  </thead>\n",
              "  <tbody>\n",
              "    <tr>\n",
              "      <th>0</th>\n",
              "      <td>(a little, what)</td>\n",
              "      <td>0.000131</td>\n",
              "    </tr>\n",
              "    <tr>\n",
              "      <th>1</th>\n",
              "      <td>(above, black)</td>\n",
              "      <td>0.000060</td>\n",
              "    </tr>\n",
              "  </tbody>\n",
              "</table>\n",
              "</div>"
            ],
            "text/plain": [
              "         Colex_pair      Prob\n",
              "0  (a little, what)  0.000131\n",
              "1    (above, black)  0.000060"
            ]
          },
          "metadata": {
            "tags": []
          },
          "execution_count": 5
        }
      ]
    },
    {
      "cell_type": "code",
      "metadata": {
        "colab": {
          "base_uri": "https://localhost:8080/"
        },
        "id": "Tj9NBD0qt2VH",
        "outputId": "cac061c0-7627-465c-dda7-cd98f29edcd6"
      },
      "source": [
        "df_colex_prob['Prob'].describe()"
      ],
      "execution_count": null,
      "outputs": [
        {
          "output_type": "execute_result",
          "data": {
            "text/plain": [
              "count    36904.000000\n",
              "mean         0.002031\n",
              "std          0.006255\n",
              "min          0.000016\n",
              "25%          0.000044\n",
              "50%          0.000197\n",
              "75%          0.001381\n",
              "max          0.189023\n",
              "Name: Prob, dtype: float64"
            ]
          },
          "metadata": {
            "tags": []
          },
          "execution_count": 101
        }
      ]
    },
    {
      "cell_type": "code",
      "metadata": {
        "id": "SLJk1oWgxgiH"
      },
      "source": [
        "df_colex_prob['Prob']=df_colex_prob['Prob']*100"
      ],
      "execution_count": null,
      "outputs": []
    },
    {
      "cell_type": "code",
      "metadata": {
        "id": "WxpoNHz2ygVT"
      },
      "source": [
        "df_colex_prob['Prob'] = round(df_colex_prob['Prob'], 3)"
      ],
      "execution_count": null,
      "outputs": []
    },
    {
      "cell_type": "code",
      "metadata": {
        "colab": {
          "base_uri": "https://localhost:8080/"
        },
        "id": "wI1TnCk8xm9f",
        "outputId": "969b4b21-8591-4d8f-89f1-8998889e333c"
      },
      "source": [
        "df_colex_prob['Prob'].describe()"
      ],
      "execution_count": null,
      "outputs": [
        {
          "output_type": "execute_result",
          "data": {
            "text/plain": [
              "count    36904.000000\n",
              "mean         0.202954\n",
              "std          0.625527\n",
              "min          0.002000\n",
              "25%          0.004000\n",
              "50%          0.020000\n",
              "75%          0.138000\n",
              "max         18.902000\n",
              "Name: Prob, dtype: float64"
            ]
          },
          "metadata": {
            "tags": []
          },
          "execution_count": 104
        }
      ]
    },
    {
      "cell_type": "code",
      "metadata": {
        "colab": {
          "base_uri": "https://localhost:8080/",
          "height": 265
        },
        "id": "B9iSemXBOVph",
        "outputId": "6646d6bd-6319-44ab-8842-6509a7285137"
      },
      "source": [
        "import matplotlib.pyplot as plt\n",
        "plt.plot(sorted(list(df_colex_prob['Prob'])))\n",
        "plt.ylabel('probabilities')\n",
        "plt.show()"
      ],
      "execution_count": null,
      "outputs": [
        {
          "output_type": "display_data",
          "data": {
            "image/png": "[encoded data removed]",
            "text/plain": [
              "<Figure size 432x288 with 1 Axes>"
            ]
          },
          "metadata": {
            "tags": [],
            "needs_background": "light"
          }
        }
      ]
    },
    {
      "cell_type": "code",
      "metadata": {
        "colab": {
          "base_uri": "https://localhost:8080/",
          "height": 265
        },
        "id": "25ME874VQtBQ",
        "outputId": "7f759d0c-35c6-4adc-aca7-0b37fe35cc32"
      },
      "source": [
        "ax = df_colex_prob.plot.box()"
      ],
      "execution_count": null,
      "outputs": [
        {
          "output_type": "display_data",
          "data": {
            "image/png": "[encoded data removed]",
            "text/plain": [
              "<Figure size 432x288 with 1 Axes>"
            ]
          },
          "metadata": {
            "tags": [],
            "needs_background": "light"
          }
        }
      ]
    },
    {
      "cell_type": "code",
      "metadata": {
        "id": "fMYkDE5JOC00"
      },
      "source": [
        "topTwenty = sorted(list(df_colex_prob['Prob']))[-20]"
      ],
      "execution_count": null,
      "outputs": []
    },
    {
      "cell_type": "markdown",
      "metadata": {
        "id": "LAlG7-UwFvA7"
      },
      "source": [
        "Obtaining the value of the top twenties colexifications"
      ]
    },
    {
      "cell_type": "code",
      "metadata": {
        "colab": {
          "base_uri": "https://localhost:8080/",
          "height": 638
        },
        "id": "FOYpze9Aw8R-",
        "outputId": "0ea91190-ad9d-49e2-9dc2-559a1dae5097"
      },
      "source": [
        "df_colex_prob[df_colex_prob['Prob']>topTwenty]"
      ],
      "execution_count": null,
      "outputs": [
        {
          "output_type": "execute_result",
          "data": {
            "text/html": [
              "<div>\n",
              "<style scoped>\n",
              "    .dataframe tbody tr th:only-of-type {\n",
              "        vertical-align: middle;\n",
              "    }\n",
              "\n",
              "    .dataframe tbody tr th {\n",
              "        vertical-align: top;\n",
              "    }\n",
              "\n",
              "    .dataframe thead th {\n",
              "        text-align: right;\n",
              "    }\n",
              "</style>\n",
              "<table border=\"1\" class=\"dataframe\">\n",
              "  <thead>\n",
              "    <tr style=\"text-align: right;\">\n",
              "      <th></th>\n",
              "      <th>Colex_pair</th>\n",
              "      <th>Prob</th>\n",
              "    </tr>\n",
              "  </thead>\n",
              "  <tbody>\n",
              "    <tr>\n",
              "      <th>682</th>\n",
              "      <td>(arm, hand)</td>\n",
              "      <td>14.249</td>\n",
              "    </tr>\n",
              "    <tr>\n",
              "      <th>3095</th>\n",
              "      <td>(blue, green)</td>\n",
              "      <td>12.462</td>\n",
              "    </tr>\n",
              "    <tr>\n",
              "      <th>8439</th>\n",
              "      <td>(dish, plate)</td>\n",
              "      <td>15.095</td>\n",
              "    </tr>\n",
              "    <tr>\n",
              "      <th>11102</th>\n",
              "      <td>(fingernail, claw)</td>\n",
              "      <td>14.304</td>\n",
              "    </tr>\n",
              "    <tr>\n",
              "      <th>11736</th>\n",
              "      <td>(flesh, meat)</td>\n",
              "      <td>16.309</td>\n",
              "    </tr>\n",
              "    <tr>\n",
              "      <th>12131</th>\n",
              "      <td>(foot, leg)</td>\n",
              "      <td>11.474</td>\n",
              "    </tr>\n",
              "    <tr>\n",
              "      <th>14007</th>\n",
              "      <td>(grandson, granddaughter)</td>\n",
              "      <td>16.717</td>\n",
              "    </tr>\n",
              "    <tr>\n",
              "      <th>15044</th>\n",
              "      <td>(hear, listen)</td>\n",
              "      <td>14.946</td>\n",
              "    </tr>\n",
              "    <tr>\n",
              "      <th>15347</th>\n",
              "      <td>(high, tall)</td>\n",
              "      <td>11.266</td>\n",
              "    </tr>\n",
              "    <tr>\n",
              "      <th>15976</th>\n",
              "      <td>(how many pieces, how much)</td>\n",
              "      <td>12.692</td>\n",
              "    </tr>\n",
              "    <tr>\n",
              "      <th>17614</th>\n",
              "      <td>(language, word)</td>\n",
              "      <td>15.001</td>\n",
              "    </tr>\n",
              "    <tr>\n",
              "      <th>18576</th>\n",
              "      <td>(long, tall)</td>\n",
              "      <td>11.993</td>\n",
              "    </tr>\n",
              "    <tr>\n",
              "      <th>19954</th>\n",
              "      <td>(moon, month)</td>\n",
              "      <td>18.902</td>\n",
              "    </tr>\n",
              "    <tr>\n",
              "      <th>26582</th>\n",
              "      <td>(sea, ocean)</td>\n",
              "      <td>12.603</td>\n",
              "    </tr>\n",
              "    <tr>\n",
              "      <th>28758</th>\n",
              "      <td>(skin, leather)</td>\n",
              "      <td>13.546</td>\n",
              "    </tr>\n",
              "    <tr>\n",
              "      <th>28835</th>\n",
              "      <td>(sky, heaven)</td>\n",
              "      <td>11.409</td>\n",
              "    </tr>\n",
              "    <tr>\n",
              "      <th>33635</th>\n",
              "      <td>(tree, wood)</td>\n",
              "      <td>18.079</td>\n",
              "    </tr>\n",
              "    <tr>\n",
              "      <th>34575</th>\n",
              "      <td>(walk, go)</td>\n",
              "      <td>12.090</td>\n",
              "    </tr>\n",
              "    <tr>\n",
              "      <th>36065</th>\n",
              "      <td>(woman, wife)</td>\n",
              "      <td>11.835</td>\n",
              "    </tr>\n",
              "  </tbody>\n",
              "</table>\n",
              "</div>"
            ],
            "text/plain": [
              "                        Colex_pair    Prob\n",
              "682                    (arm, hand)  14.249\n",
              "3095                 (blue, green)  12.462\n",
              "8439                 (dish, plate)  15.095\n",
              "11102           (fingernail, claw)  14.304\n",
              "11736                (flesh, meat)  16.309\n",
              "12131                  (foot, leg)  11.474\n",
              "14007    (grandson, granddaughter)  16.717\n",
              "15044               (hear, listen)  14.946\n",
              "15347                 (high, tall)  11.266\n",
              "15976  (how many pieces, how much)  12.692\n",
              "17614             (language, word)  15.001\n",
              "18576                 (long, tall)  11.993\n",
              "19954                (moon, month)  18.902\n",
              "26582                 (sea, ocean)  12.603\n",
              "28758              (skin, leather)  13.546\n",
              "28835                (sky, heaven)  11.409\n",
              "33635                 (tree, wood)  18.079\n",
              "34575                   (walk, go)  12.090\n",
              "36065                (woman, wife)  11.835"
            ]
          },
          "metadata": {
            "tags": []
          },
          "execution_count": 108
        }
      ]
    },
    {
      "cell_type": "markdown",
      "metadata": {
        "id": "Ss7lbqFE1up-"
      },
      "source": [
        "histogram with 5% fasce"
      ]
    },
    {
      "cell_type": "code",
      "metadata": {
        "id": "IXEmEy7JA9aD"
      },
      "source": [
        "import matplotlib.pyplot as plt"
      ],
      "execution_count": null,
      "outputs": []
    },
    {
      "cell_type": "code",
      "metadata": {
        "colab": {
          "base_uri": "https://localhost:8080/",
          "height": 367
        },
        "id": "XLGtHGtMZd2N",
        "outputId": "6297f860-18be-46e5-e215-590bb62fc6f9"
      },
      "source": [
        "plt.hist(data, log = True)"
      ],
      "execution_count": null,
      "outputs": [
        {
          "output_type": "execute_result",
          "data": {
            "text/plain": [
              "(array([3.6372e+04, 3.2900e+02, 1.1200e+02, 4.1000e+01, 2.3000e+01,\n",
              "        9.0000e+00, 8.0000e+00, 6.0000e+00, 2.0000e+00, 2.0000e+00]),\n",
              " array([2.0000e-03, 1.8920e+00, 3.7820e+00, 5.6720e+00, 7.5620e+00,\n",
              "        9.4520e+00, 1.1342e+01, 1.3232e+01, 1.5122e+01, 1.7012e+01,\n",
              "        1.8902e+01]),\n",
              " <a list of 10 Patch objects>)"
            ]
          },
          "metadata": {
            "tags": []
          },
          "execution_count": 111
        },
        {
          "output_type": "display_data",
          "data": {
            "image/png": "[encoded data removed]",
            "text/plain": [
              "<Figure size 432x288 with 1 Axes>"
            ]
          },
          "metadata": {
            "tags": [],
            "needs_background": "light"
          }
        }
      ]
    },
    {
      "cell_type": "code",
      "metadata": {
        "id": "wm7UcWHibA9K"
      },
      "source": [
        "# code by https://towardsdatascience.com/advanced-histogram-using-python-bceae288e715\n",
        "\n",
        "def smartHist (data):\n",
        "  import matplotlib.pyplot as plt\n",
        "  from matplotlib.patches import Rectangle\n",
        "  import numpy as np\n",
        "\n",
        "  # Take data\n",
        "  #data = df_colex_prob['Prob']\n",
        "\n",
        "  # Plot the Histogram from the data\n",
        "  fig, ax = plt.subplots(figsize=(8, 8))\n",
        "\n",
        "  '''\n",
        "  counts  = numpy.ndarray of count of data ponts for each bin/column in the histogram\n",
        "  bins    = numpy.ndarray of bin edge/range values\n",
        "  patches = a list of Patch objects.\n",
        "          each Patch object contains a Rectnagle object. \n",
        "          e.g. Rectangle(xy=(-2.51953, 0), width=0.501013, height=3, angle=0)\n",
        "  '''\n",
        "  counts, bins, patches = ax.hist(data, edgecolor='gray', log = True)\n",
        "\n",
        "\n",
        "  # Set the ticks to be at the edges of the bins.\n",
        "  ax.set_xticks(bins.round(2))\n",
        "  plt.xticks(rotation=70)\n",
        "\n",
        "  # Set the graph title and axes titles\n",
        "  plt.title('Distribution of probabilities', fontsize=20)\n",
        "  plt.ylabel('Count', fontsize=15)\n",
        "  plt.xlabel('Probabilities', fontsize=15)\n",
        "          \n",
        "  # Calculate bar centre to display the count of data points and %\n",
        "  #bin_x_centers = 0.5 * np.diff(bins) + bins[:-1]\n",
        "  #bin_y_centers = ax.get_yticks()[1] * 0.25\n",
        "  bin_x_centers = 0.75 * np.diff(bins) + bins[:-1]\n",
        "  bin_y_centers = ax.get_yticks()[1] * 5\n",
        "\n",
        "  # Display the the count of data points and % for each bar in histogram\n",
        "  for i in range(len(bins)-1):\n",
        "      bin_label = \"{0:,}\".format(counts[i]) + \"  ({0:,.2f}%)\".format((counts[i]/counts.sum())*100)\n",
        "      plt.text(bin_x_centers[i], bin_y_centers, bin_label, rotation=90, rotation_mode='anchor')\n",
        "\n",
        "  # Display the graph\n",
        "  plt.show()"
      ],
      "execution_count": null,
      "outputs": []
    },
    {
      "cell_type": "code",
      "metadata": {
        "colab": {
          "base_uri": "https://localhost:8080/",
          "height": 543
        },
        "id": "-WIvbVs2rG71",
        "outputId": "40ee777a-ee52-473f-a745-4ac87ebe1741"
      },
      "source": [
        "smartHist (df_colex_prob['Prob'])"
      ],
      "execution_count": null,
      "outputs": [
        {
          "output_type": "display_data",
          "data": {
            "image/png": "[encoded data removed]",
            "text/plain": [
              "<Figure size 576x576 with 1 Axes>"
            ]
          },
          "metadata": {
            "tags": [],
            "needs_background": "light"
          }
        }
      ]
    },
    {
      "cell_type": "markdown",
      "metadata": {
        "id": "KETYY8KTr0dw"
      },
      "source": [
        "Check visually whether to take 5 or 2%"
      ]
    },
    {
      "cell_type": "code",
      "metadata": {
        "id": "j9XqC9igrOrs"
      },
      "source": [
        "df_colex_prob1 = pd.DataFrame(lBoot[1], columns=['Colex_pair', 'Prob']) # to save in df\n",
        "df_colex_prob1['Prob']=df_colex_prob1['Prob']*100\n",
        "df_colex_prob1['Prob'] = round(df_colex_prob1['Prob'], 3)\n",
        "\n",
        "df_colex_prob2 = pd.DataFrame(lBoot[2], columns=['Colex_pair', 'Prob']) # to save in df\n",
        "df_colex_prob2['Prob']=df_colex_prob2['Prob']*100\n",
        "df_colex_prob2['Prob'] = round(df_colex_prob2['Prob'], 3)"
      ],
      "execution_count": null,
      "outputs": []
    },
    {
      "cell_type": "code",
      "metadata": {
        "colab": {
          "base_uri": "https://localhost:8080/",
          "height": 543
        },
        "id": "0wVThEpmrqhU",
        "outputId": "a5279463-abaa-410f-86dd-37d007118679"
      },
      "source": [
        "smartHist (df_colex_prob1['Prob'])"
      ],
      "execution_count": null,
      "outputs": [
        {
          "output_type": "display_data",
          "data": {
            "image/png": "[encoded data removed]",
            "text/plain": [
              "<Figure size 576x576 with 1 Axes>"
            ]
          },
          "metadata": {
            "tags": [],
            "needs_background": "light"
          }
        }
      ]
    },
    {
      "cell_type": "code",
      "metadata": {
        "colab": {
          "base_uri": "https://localhost:8080/",
          "height": 543
        },
        "id": "yoLmbQnEruqe",
        "outputId": "86ba65c4-5695-4487-dc72-57456f8f58dc"
      },
      "source": [
        "smartHist (df_colex_prob2['Prob'])"
      ],
      "execution_count": null,
      "outputs": [
        {
          "output_type": "display_data",
          "data": {
            "image/png": "[encoded data removed]",
            "text/plain": [
              "<Figure size 576x576 with 1 Axes>"
            ]
          },
          "metadata": {
            "tags": [],
            "needs_background": "light"
          }
        }
      ]
    },
    {
      "cell_type": "code",
      "metadata": {
        "id": "lzOy3Wduy3Nk",
        "colab": {
          "base_uri": "https://localhost:8080/"
        },
        "outputId": "487f1657-2569-4bd9-8f69-53e1f53806fb"
      },
      "source": [
        "!gdown --id 1vTgCbYTHUpEmKPfB8asRYCe-olek65i0 #df_colex_cosines"
      ],
      "execution_count": null,
      "outputs": [
        {
          "output_type": "stream",
          "text": [
            "Downloading...\n",
            "From: https://drive.google.com/uc?id=1vTgCbYTHUpEmKPfB8asRYCe-olek65i0\n",
            "To: /content/df_colex_cosines.csv\n",
            "13.4MB [00:00, 36.8MB/s]\n"
          ],
          "name": "stdout"
        }
      ]
    },
    {
      "cell_type": "code",
      "metadata": {
        "id": "ibr7F3oeW6KG"
      },
      "source": [
        "df_cosine = pd.read_csv('df_colex_cosines.csv')"
      ],
      "execution_count": null,
      "outputs": []
    },
    {
      "cell_type": "code",
      "metadata": {
        "colab": {
          "base_uri": "https://localhost:8080/",
          "height": 204
        },
        "id": "Trp2unF9GJXS",
        "outputId": "b40958b2-3da3-4fdc-8cbc-7a0d990a3f0e"
      },
      "source": [
        "df_colex_prob.head(5)"
      ],
      "execution_count": null,
      "outputs": [
        {
          "output_type": "execute_result",
          "data": {
            "text/html": [
              "<div>\n",
              "<style scoped>\n",
              "    .dataframe tbody tr th:only-of-type {\n",
              "        vertical-align: middle;\n",
              "    }\n",
              "\n",
              "    .dataframe tbody tr th {\n",
              "        vertical-align: top;\n",
              "    }\n",
              "\n",
              "    .dataframe thead th {\n",
              "        text-align: right;\n",
              "    }\n",
              "</style>\n",
              "<table border=\"1\" class=\"dataframe\">\n",
              "  <thead>\n",
              "    <tr style=\"text-align: right;\">\n",
              "      <th></th>\n",
              "      <th>Colex_pair</th>\n",
              "      <th>Prob</th>\n",
              "    </tr>\n",
              "  </thead>\n",
              "  <tbody>\n",
              "    <tr>\n",
              "      <th>0</th>\n",
              "      <td>(a little, what)</td>\n",
              "      <td>0.013</td>\n",
              "    </tr>\n",
              "    <tr>\n",
              "      <th>1</th>\n",
              "      <td>(above, black)</td>\n",
              "      <td>0.006</td>\n",
              "    </tr>\n",
              "    <tr>\n",
              "      <th>2</th>\n",
              "      <td>(above, cloud)</td>\n",
              "      <td>0.008</td>\n",
              "    </tr>\n",
              "    <tr>\n",
              "      <th>3</th>\n",
              "      <td>(above, deer)</td>\n",
              "      <td>0.046</td>\n",
              "    </tr>\n",
              "    <tr>\n",
              "      <th>4</th>\n",
              "      <td>(above, dig)</td>\n",
              "      <td>0.552</td>\n",
              "    </tr>\n",
              "  </tbody>\n",
              "</table>\n",
              "</div>"
            ],
            "text/plain": [
              "         Colex_pair   Prob\n",
              "0  (a little, what)  0.013\n",
              "1    (above, black)  0.006\n",
              "2    (above, cloud)  0.008\n",
              "3     (above, deer)  0.046\n",
              "4      (above, dig)  0.552"
            ]
          },
          "metadata": {
            "tags": []
          },
          "execution_count": 116
        }
      ]
    },
    {
      "cell_type": "code",
      "metadata": {
        "colab": {
          "base_uri": "https://localhost:8080/",
          "height": 326
        },
        "id": "yCweyN2zGM9j",
        "outputId": "b1b87d93-dca5-4708-ba67-3c85dcf75775"
      },
      "source": [
        "df_cosine.head(5)"
      ],
      "execution_count": null,
      "outputs": [
        {
          "output_type": "execute_result",
          "data": {
            "text/html": [
              "<div>\n",
              "<style scoped>\n",
              "    .dataframe tbody tr th:only-of-type {\n",
              "        vertical-align: middle;\n",
              "    }\n",
              "\n",
              "    .dataframe tbody tr th {\n",
              "        vertical-align: top;\n",
              "    }\n",
              "\n",
              "    .dataframe thead th {\n",
              "        text-align: right;\n",
              "    }\n",
              "</style>\n",
              "<table border=\"1\" class=\"dataframe\">\n",
              "  <thead>\n",
              "    <tr style=\"text-align: right;\">\n",
              "      <th></th>\n",
              "      <th>Unnamed: 0</th>\n",
              "      <th>clics_form</th>\n",
              "      <th>Concepticon_ID.x</th>\n",
              "      <th>Glottocode</th>\n",
              "      <th>Concepticon_Gloss.x</th>\n",
              "      <th>Family</th>\n",
              "      <th>variety</th>\n",
              "      <th>Concepticon_ID.y</th>\n",
              "      <th>Concepticon_Gloss.y</th>\n",
              "      <th>cosine_sim</th>\n",
              "      <th>Concepticon_pair</th>\n",
              "    </tr>\n",
              "  </thead>\n",
              "  <tbody>\n",
              "    <tr>\n",
              "      <th>0</th>\n",
              "      <td>0</td>\n",
              "      <td>s@</td>\n",
              "      <td>1369</td>\n",
              "      <td>hrus1242</td>\n",
              "      <td>gold</td>\n",
              "      <td>Hruso</td>\n",
              "      <td>Hruso Aka Jamiri</td>\n",
              "      <td>1927</td>\n",
              "      <td>bamboo</td>\n",
              "      <td>0.250825</td>\n",
              "      <td>('gold', 'bamboo')</td>\n",
              "    </tr>\n",
              "    <tr>\n",
              "      <th>1</th>\n",
              "      <td>1</td>\n",
              "      <td>s@</td>\n",
              "      <td>1369</td>\n",
              "      <td>hrus1242</td>\n",
              "      <td>gold</td>\n",
              "      <td>Hruso</td>\n",
              "      <td>Hruso Aka Jamiri</td>\n",
              "      <td>946</td>\n",
              "      <td>blood</td>\n",
              "      <td>0.244084</td>\n",
              "      <td>('gold', 'blood')</td>\n",
              "    </tr>\n",
              "    <tr>\n",
              "      <th>2</th>\n",
              "      <td>2</td>\n",
              "      <td>avir@</td>\n",
              "      <td>1035</td>\n",
              "      <td>miji1239</td>\n",
              "      <td>good</td>\n",
              "      <td>Sino-Tibetan</td>\n",
              "      <td>Dammai Dibin</td>\n",
              "      <td>923</td>\n",
              "      <td>love</td>\n",
              "      <td>0.321520</td>\n",
              "      <td>('good', 'love')</td>\n",
              "    </tr>\n",
              "    <tr>\n",
              "      <th>3</th>\n",
              "      <td>3</td>\n",
              "      <td>dzju</td>\n",
              "      <td>1425</td>\n",
              "      <td>hrus1242</td>\n",
              "      <td>green</td>\n",
              "      <td>Hruso</td>\n",
              "      <td>Hruso Aka Jamiri</td>\n",
              "      <td>1424</td>\n",
              "      <td>yellow</td>\n",
              "      <td>0.682016</td>\n",
              "      <td>('green', 'yellow')</td>\n",
              "    </tr>\n",
              "    <tr>\n",
              "      <th>4</th>\n",
              "      <td>4</td>\n",
              "      <td>lah</td>\n",
              "      <td>1277</td>\n",
              "      <td>dakp1242</td>\n",
              "      <td>hand</td>\n",
              "      <td>Sino-Tibetan</td>\n",
              "      <td>Monpa Changprong</td>\n",
              "      <td>639</td>\n",
              "      <td>mountain</td>\n",
              "      <td>0.093907</td>\n",
              "      <td>('hand', 'mountain')</td>\n",
              "    </tr>\n",
              "  </tbody>\n",
              "</table>\n",
              "</div>"
            ],
            "text/plain": [
              "   Unnamed: 0 clics_form  ...  cosine_sim      Concepticon_pair\n",
              "0           0         s@  ...    0.250825    ('gold', 'bamboo')\n",
              "1           1         s@  ...    0.244084     ('gold', 'blood')\n",
              "2           2      avir@  ...    0.321520      ('good', 'love')\n",
              "3           3       dzju  ...    0.682016   ('green', 'yellow')\n",
              "4           4        lah  ...    0.093907  ('hand', 'mountain')\n",
              "\n",
              "[5 rows x 11 columns]"
            ]
          },
          "metadata": {
            "tags": []
          },
          "execution_count": 117
        }
      ]
    },
    {
      "cell_type": "code",
      "metadata": {
        "id": "U3fqKvkZGDnn"
      },
      "source": [
        "df = df_colex_prob.copy()"
      ],
      "execution_count": null,
      "outputs": []
    },
    {
      "cell_type": "code",
      "metadata": {
        "colab": {
          "base_uri": "https://localhost:8080/",
          "height": 343
        },
        "id": "X_zH_awPMv3R",
        "outputId": "11bdfe86-af16-4fbd-e1ba-86f67659f658"
      },
      "source": [
        "df_cosine[df_cosine['Concepticon_pair']==\"('green', 'yellow')\"].head(5)\n",
        "# we see we have more than one row for a single pair"
      ],
      "execution_count": null,
      "outputs": [
        {
          "output_type": "execute_result",
          "data": {
            "text/html": [
              "<div>\n",
              "<style scoped>\n",
              "    .dataframe tbody tr th:only-of-type {\n",
              "        vertical-align: middle;\n",
              "    }\n",
              "\n",
              "    .dataframe tbody tr th {\n",
              "        vertical-align: top;\n",
              "    }\n",
              "\n",
              "    .dataframe thead th {\n",
              "        text-align: right;\n",
              "    }\n",
              "</style>\n",
              "<table border=\"1\" class=\"dataframe\">\n",
              "  <thead>\n",
              "    <tr style=\"text-align: right;\">\n",
              "      <th></th>\n",
              "      <th>Unnamed: 0</th>\n",
              "      <th>clics_form</th>\n",
              "      <th>Concepticon_ID.x</th>\n",
              "      <th>Glottocode</th>\n",
              "      <th>Concepticon_Gloss.x</th>\n",
              "      <th>Family</th>\n",
              "      <th>variety</th>\n",
              "      <th>Concepticon_ID.y</th>\n",
              "      <th>Concepticon_Gloss.y</th>\n",
              "      <th>cosine_sim</th>\n",
              "      <th>Concepticon_pair</th>\n",
              "    </tr>\n",
              "  </thead>\n",
              "  <tbody>\n",
              "    <tr>\n",
              "      <th>3</th>\n",
              "      <td>3</td>\n",
              "      <td>dzju</td>\n",
              "      <td>1425</td>\n",
              "      <td>hrus1242</td>\n",
              "      <td>green</td>\n",
              "      <td>Hruso</td>\n",
              "      <td>Hruso Aka Jamiri</td>\n",
              "      <td>1424</td>\n",
              "      <td>yellow</td>\n",
              "      <td>0.682016</td>\n",
              "      <td>('green', 'yellow')</td>\n",
              "    </tr>\n",
              "    <tr>\n",
              "      <th>9079</th>\n",
              "      <td>9079</td>\n",
              "      <td>madulaw</td>\n",
              "      <td>1425</td>\n",
              "      <td>cala1258</td>\n",
              "      <td>green</td>\n",
              "      <td>Austronesian</td>\n",
              "      <td>Kalamian</td>\n",
              "      <td>1424</td>\n",
              "      <td>yellow</td>\n",
              "      <td>0.682016</td>\n",
              "      <td>('green', 'yellow')</td>\n",
              "    </tr>\n",
              "    <tr>\n",
              "      <th>9080</th>\n",
              "      <td>9080</td>\n",
              "      <td>mkach</td>\n",
              "      <td>1425</td>\n",
              "      <td>babu1240</td>\n",
              "      <td>green</td>\n",
              "      <td>Austronesian</td>\n",
              "      <td>Favorlang</td>\n",
              "      <td>1424</td>\n",
              "      <td>yellow</td>\n",
              "      <td>0.682016</td>\n",
              "      <td>('green', 'yellow')</td>\n",
              "    </tr>\n",
              "    <tr>\n",
              "      <th>9081</th>\n",
              "      <td>9081</td>\n",
              "      <td>ghelh3</td>\n",
              "      <td>1425</td>\n",
              "      <td>indo1319</td>\n",
              "      <td>green</td>\n",
              "      <td>Indo-European</td>\n",
              "      <td>Proto-Indo-European</td>\n",
              "      <td>1424</td>\n",
              "      <td>yellow</td>\n",
              "      <td>0.682016</td>\n",
              "      <td>('green', 'yellow')</td>\n",
              "    </tr>\n",
              "    <tr>\n",
              "      <th>9082</th>\n",
              "      <td>9082</td>\n",
              "      <td>gheltos</td>\n",
              "      <td>1425</td>\n",
              "      <td>indo1319</td>\n",
              "      <td>green</td>\n",
              "      <td>Indo-European</td>\n",
              "      <td>Proto-Indo-European</td>\n",
              "      <td>1424</td>\n",
              "      <td>yellow</td>\n",
              "      <td>0.682016</td>\n",
              "      <td>('green', 'yellow')</td>\n",
              "    </tr>\n",
              "  </tbody>\n",
              "</table>\n",
              "</div>"
            ],
            "text/plain": [
              "      Unnamed: 0 clics_form  ...  cosine_sim     Concepticon_pair\n",
              "3              3       dzju  ...    0.682016  ('green', 'yellow')\n",
              "9079        9079    madulaw  ...    0.682016  ('green', 'yellow')\n",
              "9080        9080      mkach  ...    0.682016  ('green', 'yellow')\n",
              "9081        9081     ghelh3  ...    0.682016  ('green', 'yellow')\n",
              "9082        9082    gheltos  ...    0.682016  ('green', 'yellow')\n",
              "\n",
              "[5 rows x 11 columns]"
            ]
          },
          "metadata": {
            "tags": []
          },
          "execution_count": 119
        }
      ]
    },
    {
      "cell_type": "code",
      "metadata": {
        "id": "UGnJBBdhL1_l"
      },
      "source": [
        "cosines = []\n",
        "for c in df['Colex_pair']:\n",
        "  cosines.append(df_cosine[df_cosine['Concepticon_pair']==str(c)].cosine_sim.iloc[0])"
      ],
      "execution_count": null,
      "outputs": []
    },
    {
      "cell_type": "code",
      "metadata": {
        "id": "2nj59-2fNkuD",
        "colab": {
          "base_uri": "https://localhost:8080/"
        },
        "outputId": "0796fa36-9961-4be6-f727-a359766ff535"
      },
      "source": [
        "len(cosines)"
      ],
      "execution_count": null,
      "outputs": [
        {
          "output_type": "execute_result",
          "data": {
            "text/plain": [
              "36904"
            ]
          },
          "metadata": {
            "tags": []
          },
          "execution_count": 121
        }
      ]
    },
    {
      "cell_type": "code",
      "metadata": {
        "id": "KNsz4IlQSmS2",
        "colab": {
          "base_uri": "https://localhost:8080/"
        },
        "outputId": "f7db4239-d8b6-45e3-83fa-dcfcbbe803b3"
      },
      "source": [
        "df.info()"
      ],
      "execution_count": null,
      "outputs": [
        {
          "output_type": "stream",
          "text": [
            "<class 'pandas.core.frame.DataFrame'>\n",
            "RangeIndex: 36904 entries, 0 to 36903\n",
            "Data columns (total 2 columns):\n",
            " #   Column      Non-Null Count  Dtype  \n",
            "---  ------      --------------  -----  \n",
            " 0   Colex_pair  36904 non-null  object \n",
            " 1   Prob        36904 non-null  float64\n",
            "dtypes: float64(1), object(1)\n",
            "memory usage: 576.8+ KB\n"
          ],
          "name": "stdout"
        }
      ]
    },
    {
      "cell_type": "code",
      "metadata": {
        "id": "8v6vO8sVP6mV"
      },
      "source": [
        "df['Cosine']=cosines"
      ],
      "execution_count": null,
      "outputs": []
    },
    {
      "cell_type": "code",
      "metadata": {
        "id": "FN9S8-jbE71u"
      },
      "source": [
        "topTenProb = sorted(list(df['Prob']))[-10]"
      ],
      "execution_count": null,
      "outputs": []
    },
    {
      "cell_type": "code",
      "metadata": {
        "id": "0DlSyfV8TA9C",
        "colab": {
          "base_uri": "https://localhost:8080/",
          "height": 328
        },
        "outputId": "83531151-4f65-439d-8fc1-f2bdce8463bd"
      },
      "source": [
        "df[df['Prob']>topTenProb]"
      ],
      "execution_count": null,
      "outputs": [
        {
          "output_type": "execute_result",
          "data": {
            "text/html": [
              "<div>\n",
              "<style scoped>\n",
              "    .dataframe tbody tr th:only-of-type {\n",
              "        vertical-align: middle;\n",
              "    }\n",
              "\n",
              "    .dataframe tbody tr th {\n",
              "        vertical-align: top;\n",
              "    }\n",
              "\n",
              "    .dataframe thead th {\n",
              "        text-align: right;\n",
              "    }\n",
              "</style>\n",
              "<table border=\"1\" class=\"dataframe\">\n",
              "  <thead>\n",
              "    <tr style=\"text-align: right;\">\n",
              "      <th></th>\n",
              "      <th>Colex_pair</th>\n",
              "      <th>Prob</th>\n",
              "      <th>Cosine</th>\n",
              "    </tr>\n",
              "  </thead>\n",
              "  <tbody>\n",
              "    <tr>\n",
              "      <th>682</th>\n",
              "      <td>(arm, hand)</td>\n",
              "      <td>14.249</td>\n",
              "      <td>0.496065</td>\n",
              "    </tr>\n",
              "    <tr>\n",
              "      <th>8439</th>\n",
              "      <td>(dish, plate)</td>\n",
              "      <td>15.095</td>\n",
              "      <td>0.489088</td>\n",
              "    </tr>\n",
              "    <tr>\n",
              "      <th>11102</th>\n",
              "      <td>(fingernail, claw)</td>\n",
              "      <td>14.304</td>\n",
              "      <td>0.430682</td>\n",
              "    </tr>\n",
              "    <tr>\n",
              "      <th>11736</th>\n",
              "      <td>(flesh, meat)</td>\n",
              "      <td>16.309</td>\n",
              "      <td>0.501161</td>\n",
              "    </tr>\n",
              "    <tr>\n",
              "      <th>14007</th>\n",
              "      <td>(grandson, granddaughter)</td>\n",
              "      <td>16.717</td>\n",
              "      <td>0.858003</td>\n",
              "    </tr>\n",
              "    <tr>\n",
              "      <th>15044</th>\n",
              "      <td>(hear, listen)</td>\n",
              "      <td>14.946</td>\n",
              "      <td>0.689995</td>\n",
              "    </tr>\n",
              "    <tr>\n",
              "      <th>17614</th>\n",
              "      <td>(language, word)</td>\n",
              "      <td>15.001</td>\n",
              "      <td>0.437374</td>\n",
              "    </tr>\n",
              "    <tr>\n",
              "      <th>19954</th>\n",
              "      <td>(moon, month)</td>\n",
              "      <td>18.902</td>\n",
              "      <td>0.221915</td>\n",
              "    </tr>\n",
              "    <tr>\n",
              "      <th>33635</th>\n",
              "      <td>(tree, wood)</td>\n",
              "      <td>18.079</td>\n",
              "      <td>0.400885</td>\n",
              "    </tr>\n",
              "  </tbody>\n",
              "</table>\n",
              "</div>"
            ],
            "text/plain": [
              "                      Colex_pair    Prob    Cosine\n",
              "682                  (arm, hand)  14.249  0.496065\n",
              "8439               (dish, plate)  15.095  0.489088\n",
              "11102         (fingernail, claw)  14.304  0.430682\n",
              "11736              (flesh, meat)  16.309  0.501161\n",
              "14007  (grandson, granddaughter)  16.717  0.858003\n",
              "15044             (hear, listen)  14.946  0.689995\n",
              "17614           (language, word)  15.001  0.437374\n",
              "19954              (moon, month)  18.902  0.221915\n",
              "33635               (tree, wood)  18.079  0.400885"
            ]
          },
          "metadata": {
            "tags": []
          },
          "execution_count": 125
        }
      ]
    },
    {
      "cell_type": "code",
      "metadata": {
        "id": "H3susj5ZTNZ3"
      },
      "source": [
        "topTenCos = sorted(list(df['Cosine']))[-10]"
      ],
      "execution_count": null,
      "outputs": []
    },
    {
      "cell_type": "code",
      "metadata": {
        "id": "uYoxcTNfTcVu",
        "colab": {
          "base_uri": "https://localhost:8080/",
          "height": 328
        },
        "outputId": "23ef5fb9-46a8-41cf-d6bf-d5811f54fa83"
      },
      "source": [
        "df[df['Cosine']>topTenCos]"
      ],
      "execution_count": null,
      "outputs": [
        {
          "output_type": "execute_result",
          "data": {
            "text/html": [
              "<div>\n",
              "<style scoped>\n",
              "    .dataframe tbody tr th:only-of-type {\n",
              "        vertical-align: middle;\n",
              "    }\n",
              "\n",
              "    .dataframe tbody tr th {\n",
              "        vertical-align: top;\n",
              "    }\n",
              "\n",
              "    .dataframe thead th {\n",
              "        text-align: right;\n",
              "    }\n",
              "</style>\n",
              "<table border=\"1\" class=\"dataframe\">\n",
              "  <thead>\n",
              "    <tr style=\"text-align: right;\">\n",
              "      <th></th>\n",
              "      <th>Colex_pair</th>\n",
              "      <th>Prob</th>\n",
              "      <th>Cosine</th>\n",
              "    </tr>\n",
              "  </thead>\n",
              "  <tbody>\n",
              "    <tr>\n",
              "      <th>8224</th>\n",
              "      <td>(different-sex older sibling, different-sex yo...</td>\n",
              "      <td>0.004</td>\n",
              "      <td>0.965166</td>\n",
              "    </tr>\n",
              "    <tr>\n",
              "      <th>9437</th>\n",
              "      <td>(east, west)</td>\n",
              "      <td>0.027</td>\n",
              "      <td>0.965797</td>\n",
              "    </tr>\n",
              "    <tr>\n",
              "      <th>11553</th>\n",
              "      <td>(five, six)</td>\n",
              "      <td>0.002</td>\n",
              "      <td>0.963688</td>\n",
              "    </tr>\n",
              "    <tr>\n",
              "      <th>12438</th>\n",
              "      <td>(four, three)</td>\n",
              "      <td>0.572</td>\n",
              "      <td>0.977453</td>\n",
              "    </tr>\n",
              "    <tr>\n",
              "      <th>20183</th>\n",
              "      <td>(mother's brother, father's brother)</td>\n",
              "      <td>5.119</td>\n",
              "      <td>0.989379</td>\n",
              "    </tr>\n",
              "    <tr>\n",
              "      <th>20212</th>\n",
              "      <td>(mother's sister, father's sister)</td>\n",
              "      <td>3.835</td>\n",
              "      <td>0.989390</td>\n",
              "    </tr>\n",
              "    <tr>\n",
              "      <th>21283</th>\n",
              "      <td>(north, south)</td>\n",
              "      <td>2.112</td>\n",
              "      <td>0.978717</td>\n",
              "    </tr>\n",
              "    <tr>\n",
              "      <th>26168</th>\n",
              "      <td>(same-sex older sibling, same-sex younger sibl...</td>\n",
              "      <td>0.497</td>\n",
              "      <td>0.961543</td>\n",
              "    </tr>\n",
              "    <tr>\n",
              "      <th>32845</th>\n",
              "      <td>(three, four)</td>\n",
              "      <td>0.631</td>\n",
              "      <td>0.977453</td>\n",
              "    </tr>\n",
              "  </tbody>\n",
              "</table>\n",
              "</div>"
            ],
            "text/plain": [
              "                                              Colex_pair   Prob    Cosine\n",
              "8224   (different-sex older sibling, different-sex yo...  0.004  0.965166\n",
              "9437                                        (east, west)  0.027  0.965797\n",
              "11553                                        (five, six)  0.002  0.963688\n",
              "12438                                      (four, three)  0.572  0.977453\n",
              "20183               (mother's brother, father's brother)  5.119  0.989379\n",
              "20212                 (mother's sister, father's sister)  3.835  0.989390\n",
              "21283                                     (north, south)  2.112  0.978717\n",
              "26168  (same-sex older sibling, same-sex younger sibl...  0.497  0.961543\n",
              "32845                                      (three, four)  0.631  0.977453"
            ]
          },
          "metadata": {
            "tags": []
          },
          "execution_count": 127
        }
      ]
    },
    {
      "cell_type": "code",
      "metadata": {
        "id": "6Iyr9wFVGFHP"
      },
      "source": [
        "df.to_csv('df_prob_cos.csv')"
      ],
      "execution_count": null,
      "outputs": []
    },
    {
      "cell_type": "code",
      "metadata": {
        "colab": {
          "base_uri": "https://localhost:8080/",
          "height": 17
        },
        "id": "WX3nLmocGLZN",
        "outputId": "27586d4b-db98-491a-f4c1-2f963628a618"
      },
      "source": [
        "files.download('df_prob_cos.csv')"
      ],
      "execution_count": null,
      "outputs": [
        {
          "output_type": "display_data",
          "data": {
            "application/javascript": [
              "\n",
              "    async function download(id, filename, size) {\n",
              "      if (!google.colab.kernel.accessAllowed) {\n",
              "        return;\n",
              "      }\n",
              "      const div = document.createElement('div');\n",
              "      const label = document.createElement('label');\n",
              "      label.textContent = `Downloading \"${filename}\": `;\n",
              "      div.appendChild(label);\n",
              "      const progress = document.createElement('progress');\n",
              "      progress.max = size;\n",
              "      div.appendChild(progress);\n",
              "      document.body.appendChild(div);\n",
              "\n",
              "      const buffers = [];\n",
              "      let downloaded = 0;\n",
              "\n",
              "      const channel = await google.colab.kernel.comms.open(id);\n",
              "      // Send a message to notify the kernel that we're ready.\n",
              "      channel.send({})\n",
              "\n",
              "      for await (const message of channel.messages) {\n",
              "        // Send a message to notify the kernel that we're ready.\n",
              "        channel.send({})\n",
              "        if (message.buffers) {\n",
              "          for (const buffer of message.buffers) {\n",
              "            buffers.push(buffer);\n",
              "            downloaded += buffer.byteLength;\n",
              "            progress.value = downloaded;\n",
              "          }\n",
              "        }\n",
              "      }\n",
              "      const blob = new Blob(buffers, {type: 'application/binary'});\n",
              "      const a = document.createElement('a');\n",
              "      a.href = window.URL.createObjectURL(blob);\n",
              "      a.download = filename;\n",
              "      div.appendChild(a);\n",
              "      a.click();\n",
              "      div.remove();\n",
              "    }\n",
              "  "
            ],
            "text/plain": [
              "<IPython.core.display.Javascript object>"
            ]
          },
          "metadata": {
            "tags": []
          }
        },
        {
          "output_type": "display_data",
          "data": {
            "application/javascript": [
              "download(\"download_cbd7ffcf-1592-42b1-a700-d56a637f6eb6\", \"df_prob_cos.csv\", 1946239)"
            ],
            "text/plain": [
              "<IPython.core.display.Javascript object>"
            ]
          },
          "metadata": {
            "tags": []
          }
        }
      ]
    }
  ]
}